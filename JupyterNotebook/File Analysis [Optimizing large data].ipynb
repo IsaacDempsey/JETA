{
 "cells": [
  {
   "cell_type": "markdown",
   "metadata": {},
   "source": [
    "# Analysis of Dublin Bus Big Data [Optimizing Memory]"
   ]
  },
  {
   "cell_type": "code",
   "execution_count": 2,
   "metadata": {},
   "outputs": [],
   "source": [
    "import pandas as pd\n",
    "import matplotlib.pyplot as plt\n",
    "# import seaborn as sns"
   ]
  },
  {
   "cell_type": "markdown",
   "metadata": {},
   "source": [
    "## Reading RT_TRIPS DATA"
   ]
  },
  {
   "cell_type": "code",
   "execution_count": 3,
   "metadata": {},
   "outputs": [],
   "source": [
    "trips_df = pd.read_csv('rt_trips_full.csv')"
   ]
  },
  {
   "cell_type": "code",
   "execution_count": 4,
   "metadata": {},
   "outputs": [
    {
     "data": {
      "text/html": [
       "<div>\n",
       "<style scoped>\n",
       "    .dataframe tbody tr th:only-of-type {\n",
       "        vertical-align: middle;\n",
       "    }\n",
       "\n",
       "    .dataframe tbody tr th {\n",
       "        vertical-align: top;\n",
       "    }\n",
       "\n",
       "    .dataframe thead th {\n",
       "        text-align: right;\n",
       "    }\n",
       "</style>\n",
       "<table border=\"1\" class=\"dataframe\">\n",
       "  <thead>\n",
       "    <tr style=\"text-align: right;\">\n",
       "      <th></th>\n",
       "      <th>datasource</th>\n",
       "      <th>dayofservice</th>\n",
       "      <th>tripid</th>\n",
       "      <th>lineid</th>\n",
       "      <th>routeid</th>\n",
       "      <th>direction</th>\n",
       "      <th>plannedtime_arr</th>\n",
       "      <th>plannedtime_dep</th>\n",
       "      <th>actualtime_arr</th>\n",
       "      <th>actualtime_dep</th>\n",
       "      <th>basin</th>\n",
       "      <th>tenderlot</th>\n",
       "      <th>suppressed</th>\n",
       "      <th>justificationid</th>\n",
       "      <th>lastupdate</th>\n",
       "      <th>note</th>\n",
       "    </tr>\n",
       "  </thead>\n",
       "  <tbody>\n",
       "    <tr>\n",
       "      <th>0</th>\n",
       "      <td>DB</td>\n",
       "      <td>09-FEB-16 00:00:00</td>\n",
       "      <td>2824642</td>\n",
       "      <td>145</td>\n",
       "      <td>145_105</td>\n",
       "      <td>2</td>\n",
       "      <td>45668</td>\n",
       "      <td>40800</td>\n",
       "      <td>45375.0</td>\n",
       "      <td>40782.0</td>\n",
       "      <td>BasDef</td>\n",
       "      <td>NaN</td>\n",
       "      <td>NaN</td>\n",
       "      <td>NaN</td>\n",
       "      <td>12-APR-16 09:35:20</td>\n",
       "      <td>,2426901,</td>\n",
       "    </tr>\n",
       "    <tr>\n",
       "      <th>1</th>\n",
       "      <td>DB</td>\n",
       "      <td>09-FEB-16 00:00:00</td>\n",
       "      <td>2826717</td>\n",
       "      <td>9</td>\n",
       "      <td>9_7</td>\n",
       "      <td>2</td>\n",
       "      <td>65553</td>\n",
       "      <td>60600</td>\n",
       "      <td>66258.0</td>\n",
       "      <td>60582.0</td>\n",
       "      <td>BasDef</td>\n",
       "      <td>NaN</td>\n",
       "      <td>NaN</td>\n",
       "      <td>NaN</td>\n",
       "      <td>12-APR-16 09:35:20</td>\n",
       "      <td>,2589266,</td>\n",
       "    </tr>\n",
       "    <tr>\n",
       "      <th>2</th>\n",
       "      <td>DB</td>\n",
       "      <td>09-FEB-16 00:00:00</td>\n",
       "      <td>2826730</td>\n",
       "      <td>54A</td>\n",
       "      <td>54A_12</td>\n",
       "      <td>2</td>\n",
       "      <td>65951</td>\n",
       "      <td>62100</td>\n",
       "      <td>66053.0</td>\n",
       "      <td>62078.0</td>\n",
       "      <td>BasDef</td>\n",
       "      <td>NaN</td>\n",
       "      <td>NaN</td>\n",
       "      <td>NaN</td>\n",
       "      <td>12-APR-16 09:35:20</td>\n",
       "      <td>,1717180,</td>\n",
       "    </tr>\n",
       "    <tr>\n",
       "      <th>3</th>\n",
       "      <td>DB</td>\n",
       "      <td>09-FEB-16 00:00:00</td>\n",
       "      <td>2826743</td>\n",
       "      <td>7</td>\n",
       "      <td>7_51</td>\n",
       "      <td>1</td>\n",
       "      <td>54763</td>\n",
       "      <td>50400</td>\n",
       "      <td>54854.0</td>\n",
       "      <td>50383.0</td>\n",
       "      <td>BasDef</td>\n",
       "      <td>NaN</td>\n",
       "      <td>NaN</td>\n",
       "      <td>NaN</td>\n",
       "      <td>12-APR-16 09:35:20</td>\n",
       "      <td>,2057499,</td>\n",
       "    </tr>\n",
       "    <tr>\n",
       "      <th>4</th>\n",
       "      <td>DB</td>\n",
       "      <td>09-FEB-16 00:00:00</td>\n",
       "      <td>2812908</td>\n",
       "      <td>39</td>\n",
       "      <td>39_20</td>\n",
       "      <td>1</td>\n",
       "      <td>27375</td>\n",
       "      <td>22920</td>\n",
       "      <td>27318.0</td>\n",
       "      <td>22931.0</td>\n",
       "      <td>BasDef</td>\n",
       "      <td>NaN</td>\n",
       "      <td>NaN</td>\n",
       "      <td>NaN</td>\n",
       "      <td>12-APR-16 09:35:20</td>\n",
       "      <td>,2422848,</td>\n",
       "    </tr>\n",
       "    <tr>\n",
       "      <th>5</th>\n",
       "      <td>DB</td>\n",
       "      <td>09-FEB-16 00:00:00</td>\n",
       "      <td>2813717</td>\n",
       "      <td>56A</td>\n",
       "      <td>56A_30</td>\n",
       "      <td>2</td>\n",
       "      <td>65940</td>\n",
       "      <td>62100</td>\n",
       "      <td>66737.0</td>\n",
       "      <td>62486.0</td>\n",
       "      <td>BasDef</td>\n",
       "      <td>NaN</td>\n",
       "      <td>NaN</td>\n",
       "      <td>NaN</td>\n",
       "      <td>12-APR-16 09:35:20</td>\n",
       "      <td>,1724138,</td>\n",
       "    </tr>\n",
       "    <tr>\n",
       "      <th>6</th>\n",
       "      <td>DB</td>\n",
       "      <td>09-FEB-16 00:00:00</td>\n",
       "      <td>2815965</td>\n",
       "      <td>37</td>\n",
       "      <td>37_14</td>\n",
       "      <td>1</td>\n",
       "      <td>83363</td>\n",
       "      <td>80100</td>\n",
       "      <td>82954.0</td>\n",
       "      <td>80164.0</td>\n",
       "      <td>BasDef</td>\n",
       "      <td>NaN</td>\n",
       "      <td>NaN</td>\n",
       "      <td>NaN</td>\n",
       "      <td>12-APR-16 09:35:20</td>\n",
       "      <td>,2167457,</td>\n",
       "    </tr>\n",
       "    <tr>\n",
       "      <th>7</th>\n",
       "      <td>DB</td>\n",
       "      <td>09-FEB-16 00:00:00</td>\n",
       "      <td>2815967</td>\n",
       "      <td>11</td>\n",
       "      <td>11_40</td>\n",
       "      <td>1</td>\n",
       "      <td>31658</td>\n",
       "      <td>27000</td>\n",
       "      <td>33997.0</td>\n",
       "      <td>27009.0</td>\n",
       "      <td>BasDef</td>\n",
       "      <td>NaN</td>\n",
       "      <td>NaN</td>\n",
       "      <td>NaN</td>\n",
       "      <td>12-APR-16 09:35:20</td>\n",
       "      <td>,2426206,</td>\n",
       "    </tr>\n",
       "    <tr>\n",
       "      <th>8</th>\n",
       "      <td>DB</td>\n",
       "      <td>09-FEB-16 00:00:00</td>\n",
       "      <td>2815970</td>\n",
       "      <td>11</td>\n",
       "      <td>11_42</td>\n",
       "      <td>2</td>\n",
       "      <td>49346</td>\n",
       "      <td>44700</td>\n",
       "      <td>50104.0</td>\n",
       "      <td>44720.0</td>\n",
       "      <td>BasDef</td>\n",
       "      <td>NaN</td>\n",
       "      <td>NaN</td>\n",
       "      <td>NaN</td>\n",
       "      <td>12-APR-16 09:35:20</td>\n",
       "      <td>,2426209,</td>\n",
       "    </tr>\n",
       "    <tr>\n",
       "      <th>9</th>\n",
       "      <td>DB</td>\n",
       "      <td>09-FEB-16 00:00:00</td>\n",
       "      <td>2818038</td>\n",
       "      <td>63</td>\n",
       "      <td>63_18</td>\n",
       "      <td>1</td>\n",
       "      <td>81659</td>\n",
       "      <td>79800</td>\n",
       "      <td>82199.0</td>\n",
       "      <td>79802.0</td>\n",
       "      <td>BasDef</td>\n",
       "      <td>NaN</td>\n",
       "      <td>NaN</td>\n",
       "      <td>NaN</td>\n",
       "      <td>12-APR-16 09:35:20</td>\n",
       "      <td>,1749203,</td>\n",
       "    </tr>\n",
       "  </tbody>\n",
       "</table>\n",
       "</div>"
      ],
      "text/plain": [
       "  datasource        dayofservice   tripid lineid  routeid  direction  \\\n",
       "0         DB  09-FEB-16 00:00:00  2824642    145  145_105          2   \n",
       "1         DB  09-FEB-16 00:00:00  2826717      9      9_7          2   \n",
       "2         DB  09-FEB-16 00:00:00  2826730    54A   54A_12          2   \n",
       "3         DB  09-FEB-16 00:00:00  2826743      7     7_51          1   \n",
       "4         DB  09-FEB-16 00:00:00  2812908     39    39_20          1   \n",
       "5         DB  09-FEB-16 00:00:00  2813717    56A   56A_30          2   \n",
       "6         DB  09-FEB-16 00:00:00  2815965     37    37_14          1   \n",
       "7         DB  09-FEB-16 00:00:00  2815967     11    11_40          1   \n",
       "8         DB  09-FEB-16 00:00:00  2815970     11    11_42          2   \n",
       "9         DB  09-FEB-16 00:00:00  2818038     63    63_18          1   \n",
       "\n",
       "   plannedtime_arr  plannedtime_dep  actualtime_arr  actualtime_dep   basin  \\\n",
       "0            45668            40800         45375.0         40782.0  BasDef   \n",
       "1            65553            60600         66258.0         60582.0  BasDef   \n",
       "2            65951            62100         66053.0         62078.0  BasDef   \n",
       "3            54763            50400         54854.0         50383.0  BasDef   \n",
       "4            27375            22920         27318.0         22931.0  BasDef   \n",
       "5            65940            62100         66737.0         62486.0  BasDef   \n",
       "6            83363            80100         82954.0         80164.0  BasDef   \n",
       "7            31658            27000         33997.0         27009.0  BasDef   \n",
       "8            49346            44700         50104.0         44720.0  BasDef   \n",
       "9            81659            79800         82199.0         79802.0  BasDef   \n",
       "\n",
       "   tenderlot  suppressed  justificationid          lastupdate       note  \n",
       "0        NaN         NaN              NaN  12-APR-16 09:35:20  ,2426901,  \n",
       "1        NaN         NaN              NaN  12-APR-16 09:35:20  ,2589266,  \n",
       "2        NaN         NaN              NaN  12-APR-16 09:35:20  ,1717180,  \n",
       "3        NaN         NaN              NaN  12-APR-16 09:35:20  ,2057499,  \n",
       "4        NaN         NaN              NaN  12-APR-16 09:35:20  ,2422848,  \n",
       "5        NaN         NaN              NaN  12-APR-16 09:35:20  ,1724138,  \n",
       "6        NaN         NaN              NaN  12-APR-16 09:35:20  ,2167457,  \n",
       "7        NaN         NaN              NaN  12-APR-16 09:35:20  ,2426206,  \n",
       "8        NaN         NaN              NaN  12-APR-16 09:35:20  ,2426209,  \n",
       "9        NaN         NaN              NaN  12-APR-16 09:35:20  ,1749203,  "
      ]
     },
     "execution_count": 4,
     "metadata": {},
     "output_type": "execute_result"
    }
   ],
   "source": [
    "trips_df.head(10)"
   ]
  },
  {
   "cell_type": "code",
   "execution_count": 5,
   "metadata": {},
   "outputs": [
    {
     "name": "stdout",
     "output_type": "stream",
     "text": [
      "<class 'pandas.core.frame.DataFrame'>\n",
      "RangeIndex: 2041415 entries, 0 to 2041414\n",
      "Data columns (total 16 columns):\n",
      "datasource         object\n",
      "dayofservice       object\n",
      "tripid             int64\n",
      "lineid             object\n",
      "routeid            object\n",
      "direction          int64\n",
      "plannedtime_arr    int64\n",
      "plannedtime_dep    int64\n",
      "actualtime_arr     float64\n",
      "actualtime_dep     float64\n",
      "basin              object\n",
      "tenderlot          float64\n",
      "suppressed         float64\n",
      "justificationid    float64\n",
      "lastupdate         object\n",
      "note               object\n",
      "dtypes: float64(5), int64(4), object(7)\n",
      "memory usage: 1.0 GB\n"
     ]
    }
   ],
   "source": [
    "trips_df.info(memory_usage='deep')"
   ]
  },
  {
   "cell_type": "code",
   "execution_count": 6,
   "metadata": {},
   "outputs": [
    {
     "name": "stdout",
     "output_type": "stream",
     "text": [
      "Average memory usage for float columns: 12.98 MB\n",
      "Average memory usage for int64 columns: 12.46 MB\n",
      "Average memory usage for object columns: 111.99 MB\n"
     ]
    }
   ],
   "source": [
    "# Analysis of the memory usage by the data\n",
    "# sns.set_style(\"whitegrid\")\n",
    "dtype_df = pd.DataFrame()\n",
    "dttype=[]\n",
    "size_c = []\n",
    "for dtype in ['float','int64','object']:\n",
    "    selected_dtype = trips_df.select_dtypes(include=[dtype])\n",
    "    mean_usage_b = selected_dtype.memory_usage(deep=True).mean()\n",
    "    mean_usage_mb = mean_usage_b / 1024 ** 2\n",
    "    dttype.append(dtype)\n",
    "    size_c.append(mean_usage_mb)\n",
    "    print(\"Average memory usage for {} columns: {:03.2f} MB\".format(dtype,mean_usage_mb))\n",
    "dtype_df['Type']=dttype\n",
    "dtype_df['Size Consumed'] = size_c"
   ]
  },
  {
   "cell_type": "code",
   "execution_count": 7,
   "metadata": {},
   "outputs": [
    {
     "ename": "NameError",
     "evalue": "name 'sns' is not defined",
     "output_type": "error",
     "traceback": [
      "\u001b[1;31m---------------------------------------------------------------------------\u001b[0m",
      "\u001b[1;31mNameError\u001b[0m                                 Traceback (most recent call last)",
      "\u001b[1;32m<ipython-input-7-3add23e50918>\u001b[0m in \u001b[0;36m<module>\u001b[1;34m()\u001b[0m\n\u001b[1;32m----> 1\u001b[1;33m \u001b[0msns\u001b[0m\u001b[1;33m.\u001b[0m\u001b[0mbarplot\u001b[0m\u001b[1;33m(\u001b[0m\u001b[0mx\u001b[0m\u001b[1;33m=\u001b[0m\u001b[1;34m'Type'\u001b[0m\u001b[1;33m,\u001b[0m\u001b[0my\u001b[0m\u001b[1;33m=\u001b[0m\u001b[1;34m'Size Consumed'\u001b[0m\u001b[1;33m,\u001b[0m\u001b[0mdata\u001b[0m\u001b[1;33m=\u001b[0m\u001b[0mdtype_df\u001b[0m\u001b[1;33m)\u001b[0m\u001b[1;33m\u001b[0m\u001b[0m\n\u001b[0m\u001b[0;32m      2\u001b[0m \u001b[0mplt\u001b[0m\u001b[1;33m.\u001b[0m\u001b[0msavefig\u001b[0m\u001b[1;33m(\u001b[0m\u001b[1;34m'sizeConsumptionByType.png'\u001b[0m\u001b[1;33m,\u001b[0m\u001b[0mtransparent\u001b[0m\u001b[1;33m=\u001b[0m\u001b[1;32mTrue\u001b[0m\u001b[1;33m)\u001b[0m\u001b[1;33m\u001b[0m\u001b[0m\n",
      "\u001b[1;31mNameError\u001b[0m: name 'sns' is not defined"
     ]
    }
   ],
   "source": [
    "sns.barplot(x='Type',y='Size Consumed',data=dtype_df)\n",
    "plt.savefig('sizeConsumptionByType.png',transparent=True)"
   ]
  },
  {
   "cell_type": "markdown",
   "metadata": {},
   "source": [
    "We can see that int has no effect on our data consumption. The major effect is float and object columns. We will drop those columns that aren't of any use and will downcast the rest columns."
   ]
  },
  {
   "cell_type": "markdown",
   "metadata": {},
   "source": [
    "### Int Columns"
   ]
  },
  {
   "cell_type": "code",
   "execution_count": 8,
   "metadata": {},
   "outputs": [],
   "source": [
    "def mem_usage(pandas_obj):\n",
    "    if isinstance(pandas_obj,pd.DataFrame):\n",
    "        usage_b = pandas_obj.memory_usage(deep=True).sum()\n",
    "    else: # we assume if not a df it's a series\n",
    "        usage_b = pandas_obj.memory_usage(deep=True)\n",
    "    usage_mb = usage_b / 1024 ** 2 # convert bytes to megabytes\n",
    "    return \"{:03.2f} MB\".format(usage_mb)"
   ]
  },
  {
   "cell_type": "code",
   "execution_count": 9,
   "metadata": {
    "scrolled": true
   },
   "outputs": [
    {
     "name": "stdout",
     "output_type": "stream",
     "text": [
      "62.30 MB\n",
      "25.31 MB\n"
     ]
    }
   ],
   "source": [
    "trips_df_int = trips_df.select_dtypes(include=['int64'])\n",
    "converted_int = trips_df_int.apply(pd.to_numeric,downcast='unsigned')\n",
    "print(mem_usage(trips_df_int))\n",
    "print(mem_usage(converted_int))"
   ]
  },
  {
   "cell_type": "markdown",
   "metadata": {},
   "source": [
    "We can see a drop of 40% memory usage"
   ]
  },
  {
   "cell_type": "code",
   "execution_count": 10,
   "metadata": {},
   "outputs": [
    {
     "data": {
      "text/html": [
       "<div>\n",
       "<style scoped>\n",
       "    .dataframe tbody tr th:only-of-type {\n",
       "        vertical-align: middle;\n",
       "    }\n",
       "\n",
       "    .dataframe tbody tr th {\n",
       "        vertical-align: top;\n",
       "    }\n",
       "\n",
       "    .dataframe thead th {\n",
       "        text-align: right;\n",
       "    }\n",
       "</style>\n",
       "<table border=\"1\" class=\"dataframe\">\n",
       "  <thead>\n",
       "    <tr style=\"text-align: right;\">\n",
       "      <th></th>\n",
       "      <th>before</th>\n",
       "      <th>after</th>\n",
       "    </tr>\n",
       "  </thead>\n",
       "  <tbody>\n",
       "    <tr>\n",
       "      <th>uint8</th>\n",
       "      <td>NaN</td>\n",
       "      <td>1.0</td>\n",
       "    </tr>\n",
       "    <tr>\n",
       "      <th>uint32</th>\n",
       "      <td>NaN</td>\n",
       "      <td>3.0</td>\n",
       "    </tr>\n",
       "    <tr>\n",
       "      <th>int64</th>\n",
       "      <td>4.0</td>\n",
       "      <td>NaN</td>\n",
       "    </tr>\n",
       "  </tbody>\n",
       "</table>\n",
       "</div>"
      ],
      "text/plain": [
       "        before  after\n",
       "uint8      NaN    1.0\n",
       "uint32     NaN    3.0\n",
       "int64      4.0    NaN"
      ]
     },
     "execution_count": 10,
     "metadata": {},
     "output_type": "execute_result"
    }
   ],
   "source": [
    "compare_int = pd.concat([trips_df_int.dtypes,converted_int.dtypes],axis=1)\n",
    "compare_int.columns = ['before','after']\n",
    "compare_int.apply(pd.Series.value_counts)"
   ]
  },
  {
   "cell_type": "markdown",
   "metadata": {},
   "source": [
    "### Float Columns"
   ]
  },
  {
   "cell_type": "code",
   "execution_count": 11,
   "metadata": {},
   "outputs": [
    {
     "name": "stdout",
     "output_type": "stream",
     "text": [
      "77.87 MB\n",
      "38.94 MB\n"
     ]
    }
   ],
   "source": [
    "trips_df_float = trips_df.select_dtypes(include=['float'])\n",
    "converted_float = trips_df_float.apply(pd.to_numeric,downcast='float')\n",
    "print(mem_usage(trips_df_float))\n",
    "print(mem_usage(converted_float))"
   ]
  },
  {
   "cell_type": "markdown",
   "metadata": {},
   "source": [
    "We can see a drop of 50% consumption by just downcasting the columns"
   ]
  },
  {
   "cell_type": "code",
   "execution_count": 12,
   "metadata": {
    "scrolled": true
   },
   "outputs": [
    {
     "data": {
      "text/html": [
       "<div>\n",
       "<style scoped>\n",
       "    .dataframe tbody tr th:only-of-type {\n",
       "        vertical-align: middle;\n",
       "    }\n",
       "\n",
       "    .dataframe tbody tr th {\n",
       "        vertical-align: top;\n",
       "    }\n",
       "\n",
       "    .dataframe thead th {\n",
       "        text-align: right;\n",
       "    }\n",
       "</style>\n",
       "<table border=\"1\" class=\"dataframe\">\n",
       "  <thead>\n",
       "    <tr style=\"text-align: right;\">\n",
       "      <th></th>\n",
       "      <th>before</th>\n",
       "      <th>after</th>\n",
       "    </tr>\n",
       "  </thead>\n",
       "  <tbody>\n",
       "    <tr>\n",
       "      <th>float32</th>\n",
       "      <td>NaN</td>\n",
       "      <td>5.0</td>\n",
       "    </tr>\n",
       "    <tr>\n",
       "      <th>float64</th>\n",
       "      <td>5.0</td>\n",
       "      <td>NaN</td>\n",
       "    </tr>\n",
       "  </tbody>\n",
       "</table>\n",
       "</div>"
      ],
      "text/plain": [
       "         before  after\n",
       "float32     NaN    5.0\n",
       "float64     5.0    NaN"
      ]
     },
     "execution_count": 12,
     "metadata": {},
     "output_type": "execute_result"
    }
   ],
   "source": [
    "compare_floats = pd.concat([trips_df_float.dtypes,converted_float.dtypes],axis=1)\n",
    "compare_floats.columns = ['before','after']\n",
    "compare_floats.apply(pd.Series.value_counts)"
   ]
  },
  {
   "cell_type": "code",
   "execution_count": 13,
   "metadata": {},
   "outputs": [],
   "source": [
    "optimized_trips_df = trips_df.copy()\n",
    "optimized_trips_df[converted_int.columns] = converted_int\n",
    "optimized_trips_df[converted_float.columns] = converted_float"
   ]
  },
  {
   "cell_type": "code",
   "execution_count": 14,
   "metadata": {},
   "outputs": [
    {
     "name": "stdout",
     "output_type": "stream",
     "text": [
      "1036.10 MB\n",
      "960.18 MB\n"
     ]
    }
   ],
   "source": [
    "print(mem_usage(trips_df))\n",
    "print(mem_usage(optimized_trips_df))"
   ]
  },
  {
   "cell_type": "markdown",
   "metadata": {},
   "source": [
    "While the size of our numeric columns were reduced at a rate of approx 45%.. the overall size of the df has not quite been affected that much. This is due to the object columns."
   ]
  },
  {
   "cell_type": "markdown",
   "metadata": {},
   "source": [
    "### Object Columns"
   ]
  },
  {
   "cell_type": "code",
   "execution_count": 15,
   "metadata": {},
   "outputs": [],
   "source": [
    "df_trips_object = trips_df.select_dtypes(include=['object']).copy()"
   ]
  },
  {
   "cell_type": "code",
   "execution_count": 16,
   "metadata": {},
   "outputs": [
    {
     "data": {
      "text/html": [
       "<div>\n",
       "<style scoped>\n",
       "    .dataframe tbody tr th:only-of-type {\n",
       "        vertical-align: middle;\n",
       "    }\n",
       "\n",
       "    .dataframe tbody tr th {\n",
       "        vertical-align: top;\n",
       "    }\n",
       "\n",
       "    .dataframe thead th {\n",
       "        text-align: right;\n",
       "    }\n",
       "</style>\n",
       "<table border=\"1\" class=\"dataframe\">\n",
       "  <thead>\n",
       "    <tr style=\"text-align: right;\">\n",
       "      <th></th>\n",
       "      <th>count</th>\n",
       "      <th>unique</th>\n",
       "      <th>top</th>\n",
       "      <th>freq</th>\n",
       "    </tr>\n",
       "  </thead>\n",
       "  <tbody>\n",
       "    <tr>\n",
       "      <th>datasource</th>\n",
       "      <td>2041415</td>\n",
       "      <td>1</td>\n",
       "      <td>DB</td>\n",
       "      <td>2041415</td>\n",
       "    </tr>\n",
       "    <tr>\n",
       "      <th>dayofservice</th>\n",
       "      <td>2041415</td>\n",
       "      <td>334</td>\n",
       "      <td>27-FEB-17 00:00:00</td>\n",
       "      <td>7101</td>\n",
       "    </tr>\n",
       "    <tr>\n",
       "      <th>lineid</th>\n",
       "      <td>2041415</td>\n",
       "      <td>125</td>\n",
       "      <td>46A</td>\n",
       "      <td>72464</td>\n",
       "    </tr>\n",
       "    <tr>\n",
       "      <th>routeid</th>\n",
       "      <td>2041415</td>\n",
       "      <td>545</td>\n",
       "      <td>46A_74</td>\n",
       "      <td>35060</td>\n",
       "    </tr>\n",
       "    <tr>\n",
       "      <th>basin</th>\n",
       "      <td>2041415</td>\n",
       "      <td>1</td>\n",
       "      <td>BasDef</td>\n",
       "      <td>2041415</td>\n",
       "    </tr>\n",
       "    <tr>\n",
       "      <th>lastupdate</th>\n",
       "      <td>2041415</td>\n",
       "      <td>334</td>\n",
       "      <td>16-MAR-17 11:13:36</td>\n",
       "      <td>7101</td>\n",
       "    </tr>\n",
       "    <tr>\n",
       "      <th>note</th>\n",
       "      <td>2041415</td>\n",
       "      <td>32562</td>\n",
       "      <td>,2421044,</td>\n",
       "      <td>230</td>\n",
       "    </tr>\n",
       "  </tbody>\n",
       "</table>\n",
       "</div>"
      ],
      "text/plain": [
       "                count unique                 top     freq\n",
       "datasource    2041415      1                  DB  2041415\n",
       "dayofservice  2041415    334  27-FEB-17 00:00:00     7101\n",
       "lineid        2041415    125                 46A    72464\n",
       "routeid       2041415    545              46A_74    35060\n",
       "basin         2041415      1              BasDef  2041415\n",
       "lastupdate    2041415    334  16-MAR-17 11:13:36     7101\n",
       "note          2041415  32562           ,2421044,      230"
      ]
     },
     "execution_count": 16,
     "metadata": {},
     "output_type": "execute_result"
    }
   ],
   "source": [
    "df_trips_object.describe().T"
   ]
  },
  {
   "cell_type": "markdown",
   "metadata": {},
   "source": [
    "Pandas categorical type columns consume less space as compared to object columns. Any column that has less than 50% unique values should be converter to category"
   ]
  },
  {
   "cell_type": "code",
   "execution_count": 17,
   "metadata": {},
   "outputs": [],
   "source": [
    "converted_obj = pd.DataFrame()\n",
    "\n",
    "for col in df_trips_object.columns:\n",
    "    num_unique_values = len(df_trips_object[col].unique())\n",
    "    num_total_values = len(df_trips_object[col])\n",
    "    if num_unique_values / num_total_values < 0.5:\n",
    "        converted_obj.loc[:,col] = df_trips_object[col].astype('category')\n",
    "    else:\n",
    "        converted_obj.loc[:,col] = df_trips_object[col]"
   ]
  },
  {
   "cell_type": "code",
   "execution_count": 18,
   "metadata": {},
   "outputs": [
    {
     "name": "stdout",
     "output_type": "stream",
     "text": [
      "895.93 MB\n",
      "24.91 MB\n"
     ]
    }
   ],
   "source": [
    "print(mem_usage(df_trips_object))\n",
    "print(mem_usage(converted_obj))"
   ]
  },
  {
   "cell_type": "markdown",
   "metadata": {},
   "source": [
    "We can see here a drop in memory usage of about 97%"
   ]
  },
  {
   "cell_type": "code",
   "execution_count": 21,
   "metadata": {
    "scrolled": true
   },
   "outputs": [
    {
     "data": {
      "text/html": [
       "<div>\n",
       "<style scoped>\n",
       "    .dataframe tbody tr th:only-of-type {\n",
       "        vertical-align: middle;\n",
       "    }\n",
       "\n",
       "    .dataframe tbody tr th {\n",
       "        vertical-align: top;\n",
       "    }\n",
       "\n",
       "    .dataframe thead th {\n",
       "        text-align: right;\n",
       "    }\n",
       "</style>\n",
       "<table border=\"1\" class=\"dataframe\">\n",
       "  <thead>\n",
       "    <tr style=\"text-align: right;\">\n",
       "      <th></th>\n",
       "      <th>before</th>\n",
       "      <th>after</th>\n",
       "    </tr>\n",
       "  </thead>\n",
       "  <tbody>\n",
       "    <tr>\n",
       "      <th>object</th>\n",
       "      <td>7.0</td>\n",
       "      <td>NaN</td>\n",
       "    </tr>\n",
       "    <tr>\n",
       "      <th>category</th>\n",
       "      <td>NaN</td>\n",
       "      <td>1.0</td>\n",
       "    </tr>\n",
       "    <tr>\n",
       "      <th>category</th>\n",
       "      <td>NaN</td>\n",
       "      <td>1.0</td>\n",
       "    </tr>\n",
       "    <tr>\n",
       "      <th>category</th>\n",
       "      <td>NaN</td>\n",
       "      <td>1.0</td>\n",
       "    </tr>\n",
       "    <tr>\n",
       "      <th>category</th>\n",
       "      <td>NaN</td>\n",
       "      <td>1.0</td>\n",
       "    </tr>\n",
       "    <tr>\n",
       "      <th>category</th>\n",
       "      <td>NaN</td>\n",
       "      <td>1.0</td>\n",
       "    </tr>\n",
       "    <tr>\n",
       "      <th>category</th>\n",
       "      <td>NaN</td>\n",
       "      <td>1.0</td>\n",
       "    </tr>\n",
       "    <tr>\n",
       "      <th>category</th>\n",
       "      <td>NaN</td>\n",
       "      <td>1.0</td>\n",
       "    </tr>\n",
       "  </tbody>\n",
       "</table>\n",
       "</div>"
      ],
      "text/plain": [
       "          before  after\n",
       "object       7.0    NaN\n",
       "category     NaN    1.0\n",
       "category     NaN    1.0\n",
       "category     NaN    1.0\n",
       "category     NaN    1.0\n",
       "category     NaN    1.0\n",
       "category     NaN    1.0\n",
       "category     NaN    1.0"
      ]
     },
     "execution_count": 21,
     "metadata": {},
     "output_type": "execute_result"
    }
   ],
   "source": [
    "compare_obj = pd.concat([df_trips_object.dtypes,converted_obj.dtypes],axis=1)\n",
    "compare_obj.columns = ['before','after']\n",
    "compare_obj.apply(pd.Series.value_counts)"
   ]
  },
  {
   "cell_type": "code",
   "execution_count": 22,
   "metadata": {},
   "outputs": [],
   "source": [
    "optimized_trips_df[converted_obj.columns] = converted_obj"
   ]
  },
  {
   "cell_type": "code",
   "execution_count": 20,
   "metadata": {},
   "outputs": [
    {
     "name": "stdout",
     "output_type": "stream",
     "text": [
      "89.16 MB\n",
      "1036.10 MB\n"
     ]
    }
   ],
   "source": [
    "print(mem_usage(optimized_trips_df))\n",
    "print(mem_usage(trips_df))"
   ]
  },
  {
   "cell_type": "code",
   "execution_count": 21,
   "metadata": {},
   "outputs": [
    {
     "data": {
      "text/plain": [
       "Index(['group', 'datasource', 'dayofservice', 'tripid', 'lineid', 'routeid',\n",
       "       'direction', 'plannedtime_arr', 'plannedtime_dep', 'actualtime_arr',\n",
       "       'actualtime_dep', 'basin', 'tenderlot', 'suppressed', 'justificationid',\n",
       "       'lastupdate', 'note'],\n",
       "      dtype='object')"
      ]
     },
     "execution_count": 21,
     "metadata": {},
     "output_type": "execute_result"
    }
   ],
   "source": [
    "optimized_trips_df.columns"
   ]
  },
  {
   "cell_type": "markdown",
   "metadata": {},
   "source": [
    "Saving the dtypes for future loads"
   ]
  },
  {
   "cell_type": "code",
   "execution_count": 22,
   "metadata": {},
   "outputs": [
    {
     "name": "stdout",
     "output_type": "stream",
     "text": [
      "{   'actualtime_arr': 'float32',\n",
      "    'actualtime_dep': 'float32',\n",
      "    'basin': 'category',\n",
      "    'datasource': 'category',\n",
      "    'dayofservice': 'category',\n",
      "    'direction': 'uint8',\n",
      "    'group': 'uint16',\n",
      "    'justificationid': 'float32',\n",
      "    'lastupdate': 'category',\n",
      "    'lineid': 'category',\n",
      "    'note': 'category',\n",
      "    'plannedtime_arr': 'uint32',\n",
      "    'plannedtime_dep': 'uint32',\n",
      "    'routeid': 'category',\n",
      "    'suppressed': 'float32',\n",
      "    'tenderlot': 'float32',\n",
      "    'tripid': 'uint32'}\n"
     ]
    }
   ],
   "source": [
    "dtypes = optimized_trips_df.dtypes\n",
    "dtypes_col = dtypes.index\n",
    "dtypes_type = [i.name for i in dtypes.values]\n",
    "column_types = dict(zip(dtypes_col, dtypes_type))\n",
    "preview = first2pairs = {key:value for key,value in list(column_types.items())[:]}\n",
    "import pprint\n",
    "pp = pp = pprint.PrettyPrinter(indent=4)\n",
    "pp.pprint(preview)"
   ]
  },
  {
   "cell_type": "code",
   "execution_count": 23,
   "metadata": {},
   "outputs": [
    {
     "data": {
      "text/plain": [
       "dict"
      ]
     },
     "execution_count": 23,
     "metadata": {},
     "output_type": "execute_result"
    }
   ],
   "source": [
    "type(column_types)"
   ]
  },
  {
   "cell_type": "code",
   "execution_count": 24,
   "metadata": {},
   "outputs": [],
   "source": [
    "import json\n",
    "with open('rt_trips_type.json','w') as fout:\n",
    "    json.dump(column_types,fout)"
   ]
  },
  {
   "cell_type": "markdown",
   "metadata": {},
   "source": [
    "## RT Leave Times data"
   ]
  },
  {
   "cell_type": "code",
   "execution_count": 25,
   "metadata": {},
   "outputs": [],
   "source": [
    "lT_df = pd.read_csv('rt_leavetimes_full.csv')"
   ]
  },
  {
   "cell_type": "code",
   "execution_count": 26,
   "metadata": {},
   "outputs": [],
   "source": [
    "lt_df_int = lT_df.select_dtypes(include=['int64'])\n",
    "converted_int = lt_df_int.apply(pd.to_numeric,downcast='unsigned')\n",
    "lt_df_float = lT_df.select_dtypes(include=['float64'])\n",
    "converted_float = lt_df_float.apply(pd.to_numeric,downcast='float')"
   ]
  },
  {
   "cell_type": "code",
   "execution_count": 30,
   "metadata": {},
   "outputs": [
    {
     "data": {
      "text/html": [
       "<div>\n",
       "<style scoped>\n",
       "    .dataframe tbody tr th:only-of-type {\n",
       "        vertical-align: middle;\n",
       "    }\n",
       "\n",
       "    .dataframe tbody tr th {\n",
       "        vertical-align: top;\n",
       "    }\n",
       "\n",
       "    .dataframe thead th {\n",
       "        text-align: right;\n",
       "    }\n",
       "</style>\n",
       "<table border=\"1\" class=\"dataframe\">\n",
       "  <thead>\n",
       "    <tr style=\"text-align: right;\">\n",
       "      <th></th>\n",
       "      <th>group</th>\n",
       "      <th>datasource</th>\n",
       "      <th>dayofservice</th>\n",
       "      <th>tripid</th>\n",
       "      <th>progrnumber</th>\n",
       "      <th>stoppointid</th>\n",
       "      <th>plannedtime_arr</th>\n",
       "      <th>plannedtime_dep</th>\n",
       "      <th>actualtime_arr</th>\n",
       "      <th>actualtime_dep</th>\n",
       "      <th>vehicleid</th>\n",
       "      <th>passengers</th>\n",
       "      <th>passengersin</th>\n",
       "      <th>passengersout</th>\n",
       "      <th>distance</th>\n",
       "      <th>suppressed</th>\n",
       "      <th>justificationid</th>\n",
       "      <th>lastupdate</th>\n",
       "      <th>note</th>\n",
       "    </tr>\n",
       "  </thead>\n",
       "  <tbody>\n",
       "    <tr>\n",
       "      <th>0</th>\n",
       "      <td>2016</td>\n",
       "      <td>DB</td>\n",
       "      <td>31-JAN-16 00:00:00</td>\n",
       "      <td>2811044</td>\n",
       "      <td>63</td>\n",
       "      <td>3390</td>\n",
       "      <td>41820</td>\n",
       "      <td>41820</td>\n",
       "      <td>42920</td>\n",
       "      <td>42920</td>\n",
       "      <td>1000897</td>\n",
       "      <td>NaN</td>\n",
       "      <td>NaN</td>\n",
       "      <td>NaN</td>\n",
       "      <td>NaN</td>\n",
       "      <td>NaN</td>\n",
       "      <td>NaN</td>\n",
       "      <td>12-APR-16 05:30:20</td>\n",
       "      <td>NaN</td>\n",
       "    </tr>\n",
       "    <tr>\n",
       "      <th>1</th>\n",
       "      <td>2016</td>\n",
       "      <td>DB</td>\n",
       "      <td>31-JAN-16 00:00:00</td>\n",
       "      <td>2820852</td>\n",
       "      <td>1</td>\n",
       "      <td>7158</td>\n",
       "      <td>69300</td>\n",
       "      <td>69300</td>\n",
       "      <td>69320</td>\n",
       "      <td>69320</td>\n",
       "      <td>1000903</td>\n",
       "      <td>NaN</td>\n",
       "      <td>NaN</td>\n",
       "      <td>NaN</td>\n",
       "      <td>NaN</td>\n",
       "      <td>NaN</td>\n",
       "      <td>NaN</td>\n",
       "      <td>12-APR-16 05:30:20</td>\n",
       "      <td>NaN</td>\n",
       "    </tr>\n",
       "    <tr>\n",
       "      <th>2</th>\n",
       "      <td>2016</td>\n",
       "      <td>DB</td>\n",
       "      <td>31-JAN-16 00:00:00</td>\n",
       "      <td>2820852</td>\n",
       "      <td>5</td>\n",
       "      <td>7017</td>\n",
       "      <td>69498</td>\n",
       "      <td>69498</td>\n",
       "      <td>69532</td>\n",
       "      <td>69532</td>\n",
       "      <td>1000903</td>\n",
       "      <td>NaN</td>\n",
       "      <td>NaN</td>\n",
       "      <td>NaN</td>\n",
       "      <td>NaN</td>\n",
       "      <td>NaN</td>\n",
       "      <td>NaN</td>\n",
       "      <td>12-APR-16 05:30:20</td>\n",
       "      <td>NaN</td>\n",
       "    </tr>\n",
       "    <tr>\n",
       "      <th>3</th>\n",
       "      <td>2016</td>\n",
       "      <td>DB</td>\n",
       "      <td>31-JAN-16 00:00:00</td>\n",
       "      <td>2820852</td>\n",
       "      <td>10</td>\n",
       "      <td>1893</td>\n",
       "      <td>69711</td>\n",
       "      <td>69711</td>\n",
       "      <td>69858</td>\n",
       "      <td>69858</td>\n",
       "      <td>1000903</td>\n",
       "      <td>NaN</td>\n",
       "      <td>NaN</td>\n",
       "      <td>NaN</td>\n",
       "      <td>NaN</td>\n",
       "      <td>NaN</td>\n",
       "      <td>NaN</td>\n",
       "      <td>12-APR-16 05:30:20</td>\n",
       "      <td>NaN</td>\n",
       "    </tr>\n",
       "    <tr>\n",
       "      <th>4</th>\n",
       "      <td>2016</td>\n",
       "      <td>DB</td>\n",
       "      <td>31-JAN-16 00:00:00</td>\n",
       "      <td>2820853</td>\n",
       "      <td>16</td>\n",
       "      <td>1648</td>\n",
       "      <td>76822</td>\n",
       "      <td>76822</td>\n",
       "      <td>76636</td>\n",
       "      <td>76657</td>\n",
       "      <td>1000903</td>\n",
       "      <td>NaN</td>\n",
       "      <td>NaN</td>\n",
       "      <td>NaN</td>\n",
       "      <td>NaN</td>\n",
       "      <td>NaN</td>\n",
       "      <td>NaN</td>\n",
       "      <td>12-APR-16 05:30:20</td>\n",
       "      <td>NaN</td>\n",
       "    </tr>\n",
       "    <tr>\n",
       "      <th>5</th>\n",
       "      <td>2016</td>\n",
       "      <td>DB</td>\n",
       "      <td>31-JAN-16 00:00:00</td>\n",
       "      <td>2820853</td>\n",
       "      <td>21</td>\n",
       "      <td>1805</td>\n",
       "      <td>76989</td>\n",
       "      <td>76989</td>\n",
       "      <td>76826</td>\n",
       "      <td>76826</td>\n",
       "      <td>1000903</td>\n",
       "      <td>NaN</td>\n",
       "      <td>NaN</td>\n",
       "      <td>NaN</td>\n",
       "      <td>NaN</td>\n",
       "      <td>NaN</td>\n",
       "      <td>NaN</td>\n",
       "      <td>12-APR-16 05:30:20</td>\n",
       "      <td>NaN</td>\n",
       "    </tr>\n",
       "    <tr>\n",
       "      <th>6</th>\n",
       "      <td>2016</td>\n",
       "      <td>DB</td>\n",
       "      <td>31-JAN-16 00:00:00</td>\n",
       "      <td>2820853</td>\n",
       "      <td>36</td>\n",
       "      <td>1854</td>\n",
       "      <td>77792</td>\n",
       "      <td>77792</td>\n",
       "      <td>77700</td>\n",
       "      <td>77715</td>\n",
       "      <td>1000903</td>\n",
       "      <td>NaN</td>\n",
       "      <td>NaN</td>\n",
       "      <td>NaN</td>\n",
       "      <td>NaN</td>\n",
       "      <td>NaN</td>\n",
       "      <td>NaN</td>\n",
       "      <td>12-APR-16 05:30:20</td>\n",
       "      <td>NaN</td>\n",
       "    </tr>\n",
       "    <tr>\n",
       "      <th>7</th>\n",
       "      <td>2016</td>\n",
       "      <td>DB</td>\n",
       "      <td>31-JAN-16 00:00:00</td>\n",
       "      <td>2820853</td>\n",
       "      <td>55</td>\n",
       "      <td>1899</td>\n",
       "      <td>78676</td>\n",
       "      <td>78676</td>\n",
       "      <td>78609</td>\n",
       "      <td>78609</td>\n",
       "      <td>1000903</td>\n",
       "      <td>NaN</td>\n",
       "      <td>NaN</td>\n",
       "      <td>NaN</td>\n",
       "      <td>NaN</td>\n",
       "      <td>NaN</td>\n",
       "      <td>NaN</td>\n",
       "      <td>12-APR-16 05:30:20</td>\n",
       "      <td>NaN</td>\n",
       "    </tr>\n",
       "    <tr>\n",
       "      <th>8</th>\n",
       "      <td>2016</td>\n",
       "      <td>DB</td>\n",
       "      <td>31-JAN-16 00:00:00</td>\n",
       "      <td>2820853</td>\n",
       "      <td>60</td>\n",
       "      <td>7240</td>\n",
       "      <td>78798</td>\n",
       "      <td>78798</td>\n",
       "      <td>78844</td>\n",
       "      <td>78844</td>\n",
       "      <td>1000903</td>\n",
       "      <td>NaN</td>\n",
       "      <td>NaN</td>\n",
       "      <td>NaN</td>\n",
       "      <td>NaN</td>\n",
       "      <td>NaN</td>\n",
       "      <td>NaN</td>\n",
       "      <td>12-APR-16 05:30:20</td>\n",
       "      <td>NaN</td>\n",
       "    </tr>\n",
       "    <tr>\n",
       "      <th>9</th>\n",
       "      <td>2016</td>\n",
       "      <td>DB</td>\n",
       "      <td>31-JAN-16 00:00:00</td>\n",
       "      <td>2820854</td>\n",
       "      <td>7</td>\n",
       "      <td>7030</td>\n",
       "      <td>80378</td>\n",
       "      <td>80378</td>\n",
       "      <td>80352</td>\n",
       "      <td>80352</td>\n",
       "      <td>1000903</td>\n",
       "      <td>NaN</td>\n",
       "      <td>NaN</td>\n",
       "      <td>NaN</td>\n",
       "      <td>NaN</td>\n",
       "      <td>NaN</td>\n",
       "      <td>NaN</td>\n",
       "      <td>12-APR-16 05:30:20</td>\n",
       "      <td>NaN</td>\n",
       "    </tr>\n",
       "  </tbody>\n",
       "</table>\n",
       "</div>"
      ],
      "text/plain": [
       "   group datasource        dayofservice   tripid  progrnumber  stoppointid  \\\n",
       "0   2016         DB  31-JAN-16 00:00:00  2811044           63         3390   \n",
       "1   2016         DB  31-JAN-16 00:00:00  2820852            1         7158   \n",
       "2   2016         DB  31-JAN-16 00:00:00  2820852            5         7017   \n",
       "3   2016         DB  31-JAN-16 00:00:00  2820852           10         1893   \n",
       "4   2016         DB  31-JAN-16 00:00:00  2820853           16         1648   \n",
       "5   2016         DB  31-JAN-16 00:00:00  2820853           21         1805   \n",
       "6   2016         DB  31-JAN-16 00:00:00  2820853           36         1854   \n",
       "7   2016         DB  31-JAN-16 00:00:00  2820853           55         1899   \n",
       "8   2016         DB  31-JAN-16 00:00:00  2820853           60         7240   \n",
       "9   2016         DB  31-JAN-16 00:00:00  2820854            7         7030   \n",
       "\n",
       "   plannedtime_arr  plannedtime_dep  actualtime_arr  actualtime_dep  \\\n",
       "0            41820            41820           42920           42920   \n",
       "1            69300            69300           69320           69320   \n",
       "2            69498            69498           69532           69532   \n",
       "3            69711            69711           69858           69858   \n",
       "4            76822            76822           76636           76657   \n",
       "5            76989            76989           76826           76826   \n",
       "6            77792            77792           77700           77715   \n",
       "7            78676            78676           78609           78609   \n",
       "8            78798            78798           78844           78844   \n",
       "9            80378            80378           80352           80352   \n",
       "\n",
       "   vehicleid  passengers  passengersin  passengersout  distance  suppressed  \\\n",
       "0    1000897         NaN           NaN            NaN       NaN         NaN   \n",
       "1    1000903         NaN           NaN            NaN       NaN         NaN   \n",
       "2    1000903         NaN           NaN            NaN       NaN         NaN   \n",
       "3    1000903         NaN           NaN            NaN       NaN         NaN   \n",
       "4    1000903         NaN           NaN            NaN       NaN         NaN   \n",
       "5    1000903         NaN           NaN            NaN       NaN         NaN   \n",
       "6    1000903         NaN           NaN            NaN       NaN         NaN   \n",
       "7    1000903         NaN           NaN            NaN       NaN         NaN   \n",
       "8    1000903         NaN           NaN            NaN       NaN         NaN   \n",
       "9    1000903         NaN           NaN            NaN       NaN         NaN   \n",
       "\n",
       "   justificationid          lastupdate  note  \n",
       "0              NaN  12-APR-16 05:30:20   NaN  \n",
       "1              NaN  12-APR-16 05:30:20   NaN  \n",
       "2              NaN  12-APR-16 05:30:20   NaN  \n",
       "3              NaN  12-APR-16 05:30:20   NaN  \n",
       "4              NaN  12-APR-16 05:30:20   NaN  \n",
       "5              NaN  12-APR-16 05:30:20   NaN  \n",
       "6              NaN  12-APR-16 05:30:20   NaN  \n",
       "7              NaN  12-APR-16 05:30:20   NaN  \n",
       "8              NaN  12-APR-16 05:30:20   NaN  \n",
       "9              NaN  12-APR-16 05:30:20   NaN  "
      ]
     },
     "execution_count": 30,
     "metadata": {},
     "output_type": "execute_result"
    }
   ],
   "source": [
    "lT_df.head(10)"
   ]
  },
  {
   "cell_type": "code",
   "execution_count": 27,
   "metadata": {},
   "outputs": [
    {
     "name": "stdout",
     "output_type": "stream",
     "text": [
      "6323.43 MB\n",
      "2546.94 MB\n"
     ]
    }
   ],
   "source": [
    "print(mem_usage(lt_df_int))\n",
    "print(mem_usage(converted_int))"
   ]
  },
  {
   "cell_type": "code",
   "execution_count": 29,
   "metadata": {},
   "outputs": [
    {
     "data": {
      "text/html": [
       "<div>\n",
       "<style scoped>\n",
       "    .dataframe tbody tr th:only-of-type {\n",
       "        vertical-align: middle;\n",
       "    }\n",
       "\n",
       "    .dataframe tbody tr th {\n",
       "        vertical-align: top;\n",
       "    }\n",
       "\n",
       "    .dataframe thead th {\n",
       "        text-align: right;\n",
       "    }\n",
       "</style>\n",
       "<table border=\"1\" class=\"dataframe\">\n",
       "  <thead>\n",
       "    <tr style=\"text-align: right;\">\n",
       "      <th></th>\n",
       "      <th>before</th>\n",
       "      <th>after</th>\n",
       "    </tr>\n",
       "  </thead>\n",
       "  <tbody>\n",
       "    <tr>\n",
       "      <th>uint8</th>\n",
       "      <td>NaN</td>\n",
       "      <td>1.0</td>\n",
       "    </tr>\n",
       "    <tr>\n",
       "      <th>uint16</th>\n",
       "      <td>NaN</td>\n",
       "      <td>2.0</td>\n",
       "    </tr>\n",
       "    <tr>\n",
       "      <th>uint32</th>\n",
       "      <td>NaN</td>\n",
       "      <td>6.0</td>\n",
       "    </tr>\n",
       "    <tr>\n",
       "      <th>int64</th>\n",
       "      <td>9.0</td>\n",
       "      <td>NaN</td>\n",
       "    </tr>\n",
       "  </tbody>\n",
       "</table>\n",
       "</div>"
      ],
      "text/plain": [
       "        before  after\n",
       "uint8      NaN    1.0\n",
       "uint16     NaN    2.0\n",
       "uint32     NaN    6.0\n",
       "int64      9.0    NaN"
      ]
     },
     "execution_count": 29,
     "metadata": {},
     "output_type": "execute_result"
    }
   ],
   "source": [
    "compare_int = pd.concat([lt_df_int.dtypes,converted_int.dtypes],axis=1)\n",
    "compare_int.columns = ['before','after']\n",
    "compare_int.apply(pd.Series.value_counts)"
   ]
  },
  {
   "cell_type": "code",
   "execution_count": 28,
   "metadata": {},
   "outputs": [
    {
     "name": "stdout",
     "output_type": "stream",
     "text": [
      "4918.22 MB\n",
      "2459.11 MB\n"
     ]
    }
   ],
   "source": [
    "print(mem_usage(lt_df_float))\n",
    "print(mem_usage(converted_float))"
   ]
  },
  {
   "cell_type": "code",
   "execution_count": 32,
   "metadata": {},
   "outputs": [],
   "source": [
    "df_lt_object = lT_df.select_dtypes(include=['object']).copy()"
   ]
  },
  {
   "cell_type": "code",
   "execution_count": 33,
   "metadata": {},
   "outputs": [
    {
     "data": {
      "text/html": [
       "<div>\n",
       "<style scoped>\n",
       "    .dataframe tbody tr th:only-of-type {\n",
       "        vertical-align: middle;\n",
       "    }\n",
       "\n",
       "    .dataframe tbody tr th {\n",
       "        vertical-align: top;\n",
       "    }\n",
       "\n",
       "    .dataframe thead th {\n",
       "        text-align: right;\n",
       "    }\n",
       "</style>\n",
       "<table border=\"1\" class=\"dataframe\">\n",
       "  <thead>\n",
       "    <tr style=\"text-align: right;\">\n",
       "      <th></th>\n",
       "      <th>count</th>\n",
       "      <th>unique</th>\n",
       "      <th>top</th>\n",
       "      <th>freq</th>\n",
       "    </tr>\n",
       "  </thead>\n",
       "  <tbody>\n",
       "    <tr>\n",
       "      <th>datasource</th>\n",
       "      <td>92091588</td>\n",
       "      <td>1</td>\n",
       "      <td>DB</td>\n",
       "      <td>92091588</td>\n",
       "    </tr>\n",
       "    <tr>\n",
       "      <th>dayofservice</th>\n",
       "      <td>92091588</td>\n",
       "      <td>333</td>\n",
       "      <td>13-JAN-16 00:00:00</td>\n",
       "      <td>378931</td>\n",
       "    </tr>\n",
       "    <tr>\n",
       "      <th>lastupdate</th>\n",
       "      <td>92091587</td>\n",
       "      <td>334</td>\n",
       "      <td>02-MAR-16 19:12:56</td>\n",
       "      <td>378931</td>\n",
       "    </tr>\n",
       "  </tbody>\n",
       "</table>\n",
       "</div>"
      ],
      "text/plain": [
       "                 count unique                 top      freq\n",
       "datasource    92091588      1                  DB  92091588\n",
       "dayofservice  92091588    333  13-JAN-16 00:00:00    378931\n",
       "lastupdate    92091587    334  02-MAR-16 19:12:56    378931"
      ]
     },
     "execution_count": 33,
     "metadata": {},
     "output_type": "execute_result"
    }
   ],
   "source": [
    "df_lt_object.describe().T"
   ]
  },
  {
   "cell_type": "code",
   "execution_count": 34,
   "metadata": {},
   "outputs": [],
   "source": [
    "converted_obj = pd.DataFrame()\n",
    "for col in df_lt_object.columns:\n",
    "    converted_obj.loc[:,col] = df_lt_object[col].astype('category')"
   ]
  },
  {
   "cell_type": "code",
   "execution_count": 35,
   "metadata": {},
   "outputs": [
    {
     "name": "stdout",
     "output_type": "stream",
     "text": [
      "18355.50 MB\n",
      "439.19 MB\n"
     ]
    }
   ],
   "source": [
    "print(mem_usage(df_lt_object))\n",
    "print(mem_usage(converted_obj))"
   ]
  },
  {
   "cell_type": "code",
   "execution_count": 39,
   "metadata": {},
   "outputs": [
    {
     "data": {
      "text/plain": [
       "passengers         float32\n",
       "passengersin       float32\n",
       "passengersout      float32\n",
       "distance           float32\n",
       "suppressed         float32\n",
       "justificationid    float32\n",
       "note               float32\n",
       "dtype: object"
      ]
     },
     "execution_count": 39,
     "metadata": {},
     "output_type": "execute_result"
    }
   ],
   "source": [
    "converted_float.dtypes"
   ]
  },
  {
   "cell_type": "code",
   "execution_count": 40,
   "metadata": {
    "scrolled": true
   },
   "outputs": [
    {
     "data": {
      "text/plain": [
       "group              uint16\n",
       "tripid             uint32\n",
       "progrnumber         uint8\n",
       "stoppointid        uint16\n",
       "plannedtime_arr    uint32\n",
       "plannedtime_dep    uint32\n",
       "actualtime_arr     uint32\n",
       "actualtime_dep     uint32\n",
       "vehicleid          uint32\n",
       "dtype: object"
      ]
     },
     "execution_count": 40,
     "metadata": {},
     "output_type": "execute_result"
    }
   ],
   "source": [
    "converted_int.dtypes"
   ]
  },
  {
   "cell_type": "code",
   "execution_count": 42,
   "metadata": {},
   "outputs": [
    {
     "data": {
      "text/plain": [
       "datasource      category\n",
       "dayofservice    category\n",
       "lastupdate      category\n",
       "dtype: object"
      ]
     },
     "execution_count": 42,
     "metadata": {},
     "output_type": "execute_result"
    }
   ],
   "source": [
    "converted_obj.dtypes"
   ]
  },
  {
   "cell_type": "code",
   "execution_count": null,
   "metadata": {
    "scrolled": false
   },
   "outputs": [],
   "source": [
    "# Whats the accurate memory usage of the dataframe\n",
    "lT_df.info(memory_usage='deep')"
   ]
  },
  {
   "cell_type": "code",
   "execution_count": null,
   "metadata": {},
   "outputs": [],
   "source": [
    "# Analysis of the memory usage by the data\n",
    "sns.set_style(\"whitegrid\")\n",
    "dtype_df = pd.DataFrame()\n",
    "dttype=[]\n",
    "size_c = []\n",
    "for dtype in ['float64','int64','object']:\n",
    "    selected_dtype = lT_df.select_dtypes(include=[dtype])\n",
    "    mean_usage_b = selected_dtype.memory_usage(deep=True).mean()\n",
    "    mean_usage_mb = mean_usage_b / 1024 ** 2\n",
    "    dttype.append(dtype)\n",
    "    size_c.append(mean_usage_mb)\n",
    "    print(\"Average memory usage for {} columns: {:03.2f} MB\".format(dtype,mean_usage_mb))\n",
    "dtype_df['Type']=dttype\n",
    "dtype_df['Size Consumed'] = size_c"
   ]
  },
  {
   "cell_type": "code",
   "execution_count": null,
   "metadata": {},
   "outputs": [],
   "source": [
    "sns.barplot(x='Type',y='Size Consumed',data=dtype_df)\n",
    "plt.savefig('sizeConsumptionByTypeLeaveTimes.png',transparent=True)"
   ]
  },
  {
   "cell_type": "markdown",
   "metadata": {},
   "source": [
    "### Int Columns"
   ]
  },
  {
   "cell_type": "code",
   "execution_count": null,
   "metadata": {},
   "outputs": [],
   "source": [
    "lt_df_int = lT_df.select_dtypes(include=['int64'])\n",
    "converted_int = lt_df_int.apply(pd.to_numeric,downcast='unsigned')\n",
    "print(mem_usage(lt_df_int))\n",
    "print(mem_usage(converted_int))"
   ]
  },
  {
   "cell_type": "code",
   "execution_count": 40,
   "metadata": {},
   "outputs": [
    {
     "data": {
      "text/html": [
       "<div>\n",
       "<style scoped>\n",
       "    .dataframe tbody tr th:only-of-type {\n",
       "        vertical-align: middle;\n",
       "    }\n",
       "\n",
       "    .dataframe tbody tr th {\n",
       "        vertical-align: top;\n",
       "    }\n",
       "\n",
       "    .dataframe thead th {\n",
       "        text-align: right;\n",
       "    }\n",
       "</style>\n",
       "<table border=\"1\" class=\"dataframe\">\n",
       "  <thead>\n",
       "    <tr style=\"text-align: right;\">\n",
       "      <th></th>\n",
       "      <th>before</th>\n",
       "      <th>after</th>\n",
       "    </tr>\n",
       "  </thead>\n",
       "  <tbody>\n",
       "    <tr>\n",
       "      <th>uint8</th>\n",
       "      <td>NaN</td>\n",
       "      <td>1.0</td>\n",
       "    </tr>\n",
       "    <tr>\n",
       "      <th>uint16</th>\n",
       "      <td>NaN</td>\n",
       "      <td>2.0</td>\n",
       "    </tr>\n",
       "    <tr>\n",
       "      <th>uint32</th>\n",
       "      <td>NaN</td>\n",
       "      <td>6.0</td>\n",
       "    </tr>\n",
       "    <tr>\n",
       "      <th>int64</th>\n",
       "      <td>9.0</td>\n",
       "      <td>NaN</td>\n",
       "    </tr>\n",
       "  </tbody>\n",
       "</table>\n",
       "</div>"
      ],
      "text/plain": [
       "        before  after\n",
       "uint8      NaN    1.0\n",
       "uint16     NaN    2.0\n",
       "uint32     NaN    6.0\n",
       "int64      9.0    NaN"
      ]
     },
     "execution_count": 40,
     "metadata": {},
     "output_type": "execute_result"
    }
   ],
   "source": [
    "compare_int = pd.concat([lt_df_int.dtypes,converted_int.dtypes],axis=1)\n",
    "compare_int.columns = ['before','after']\n",
    "compare_int.apply(pd.Series.value_counts)"
   ]
  },
  {
   "cell_type": "markdown",
   "metadata": {},
   "source": [
    "### Float Columns"
   ]
  },
  {
   "cell_type": "code",
   "execution_count": null,
   "metadata": {},
   "outputs": [],
   "source": [
    "lt_df_float = lT_df.select_dtypes(include=['float'])\n",
    "converted_float = lt_df_float.apply(pd.to_numeric,downcast='float')\n",
    "print(mem_usage(lt_df_float))\n",
    "print(mem_usage(converted_float))"
   ]
  },
  {
   "cell_type": "markdown",
   "metadata": {},
   "source": [
    "We can see a drop of 50% consumption by just downcasting the columns"
   ]
  },
  {
   "cell_type": "code",
   "execution_count": null,
   "metadata": {
    "scrolled": true
   },
   "outputs": [],
   "source": [
    "compare_floats = pd.concat([lt_df_float.dtypes,converted_float.dtypes],axis=1)\n",
    "compare_floats.columns = ['before','after']\n",
    "compare_floats.apply(pd.Series.value_counts)"
   ]
  },
  {
   "cell_type": "code",
   "execution_count": null,
   "metadata": {},
   "outputs": [],
   "source": [
    "optimized_lt_df = lT_df.copy()\n",
    "optimized_lt_df[converted_int.columns] = converted_int\n",
    "optimized_lt_df[converted_float.columns] = converted_float"
   ]
  },
  {
   "cell_type": "code",
   "execution_count": null,
   "metadata": {},
   "outputs": [],
   "source": [
    "print(mem_usage(lT_df))\n",
    "print(mem_usage(optimized_lt_df))"
   ]
  },
  {
   "cell_type": "markdown",
   "metadata": {},
   "source": [
    "### Object"
   ]
  },
  {
   "cell_type": "code",
   "execution_count": 43,
   "metadata": {},
   "outputs": [
    {
     "data": {
      "text/plain": [
       "Index(['group', 'datasource', 'dayofservice', 'tripid', 'progrnumber',\n",
       "       'stoppointid', 'plannedtime_arr', 'plannedtime_dep', 'actualtime_arr',\n",
       "       'actualtime_dep', 'vehicleid', 'passengers', 'passengersin',\n",
       "       'passengersout', 'distance', 'suppressed', 'justificationid',\n",
       "       'lastupdate', 'note'],\n",
       "      dtype='object')"
      ]
     },
     "execution_count": 43,
     "metadata": {},
     "output_type": "execute_result"
    }
   ],
   "source": [
    "lT_df.columns"
   ]
  },
  {
   "cell_type": "code",
   "execution_count": null,
   "metadata": {},
   "outputs": [],
   "source": []
  }
 ],
 "metadata": {
  "kernelspec": {
   "display_name": "Python 3",
   "language": "python",
   "name": "python3"
  },
  "language_info": {
   "codemirror_mode": {
    "name": "ipython",
    "version": 3
   },
   "file_extension": ".py",
   "mimetype": "text/x-python",
   "name": "python",
   "nbconvert_exporter": "python",
   "pygments_lexer": "ipython3",
   "version": "3.6.5"
  }
 },
 "nbformat": 4,
 "nbformat_minor": 2
}
