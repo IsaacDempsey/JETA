{
 "cells": [
  {
   "cell_type": "code",
   "execution_count": 1,
   "metadata": {},
   "outputs": [
    {
     "name": "stderr",
     "output_type": "stream",
     "text": [
      "Using TensorFlow backend.\n"
     ]
    }
   ],
   "source": [
    "# -*- coding: utf-8 -*-\n",
    "\"\"\"\n",
    "Created on Thu Jul 26 22:15:45 2018\n",
    "\n",
    "@author: Ann\n",
    "\"\"\"\n",
    "\n",
    "import warnings\n",
    "warnings.filterwarnings('ignore')\n",
    "# Importing the libraries\n",
    "import numpy as np\n",
    "import matplotlib.pyplot as plt\n",
    "import pandas as pd\n",
    "from sklearn.preprocessing import MinMaxScaler\n",
    "# Evaluating the ANN\n",
    "import keras\n",
    "from keras.models import Sequential\n",
    "from keras.layers import Dense\n",
    "from keras.layers import Dropout\n",
    "from keras.wrappers.scikit_learn import KerasClassifier\n",
    "from sklearn.model_selection import cross_val_score\n",
    "from keras.layers import Input\n",
    "from keras.models import Model\n",
    "from keras.wrappers.scikit_learn import KerasRegressor\n",
    "from sklearn.model_selection import cross_val_score\n",
    "from sklearn.model_selection import KFold\n",
    "from sklearn.preprocessing import StandardScaler\n",
    "from sklearn.pipeline import Pipeline\n",
    "from keras.layers import LSTM\n",
    "from keras.layers import Dropout\n",
    "import os\n",
    "import seaborn as sns\n",
    "import statsmodels.api as sm\n",
    "from sklearn.model_selection import train_test_split"
   ]
  },
  {
   "cell_type": "code",
   "execution_count": 2,
   "metadata": {
    "collapsed": true
   },
   "outputs": [],
   "source": [
    "#reading all the base data and appending it to a single data frame\n",
    "filenames= os.listdir ('D:/project/anurakta/39A_segments/39A_segments') \n",
    "# get all files' and folders' names in the current directory\n",
    "base_data=[]\n",
    "for file in filenames:\n",
    "    new =os.path.join(os.path.abspath('D:/project/anurakta/39A_segments/39A_segments'), file)\n",
    "    base=pd.read_csv(new,names=[\"dur\",\"time\",\"from_to\",\"day\",\"rains\",\"temp\"])\n",
    "    base_data.append(base)\n",
    "   "
   ]
  },
  {
   "cell_type": "code",
   "execution_count": 3,
   "metadata": {
    "collapsed": true
   },
   "outputs": [],
   "source": [
    "#creating an empty data frame with the corresponding columns names#\n",
    "column_names=(\"dur\",\"time\",\"from_to\",\"day\",\"rains\",\"temp\")\n",
    "df = pd.DataFrame(columns=column_names)"
   ]
  },
  {
   "cell_type": "code",
   "execution_count": 4,
   "metadata": {
    "collapsed": true
   },
   "outputs": [],
   "source": [
    "#appending the dataframe to df\n",
    "for dataframe in base_data:\n",
    "    #print(dataframe.head)\n",
    "    df = df.append(dataframe)\n",
    "   "
   ]
  },
  {
   "cell_type": "code",
   "execution_count": 6,
   "metadata": {
    "scrolled": true
   },
   "outputs": [
    {
     "data": {
      "text/html": [
       "<div>\n",
       "<style>\n",
       "    .dataframe thead tr:only-child th {\n",
       "        text-align: right;\n",
       "    }\n",
       "\n",
       "    .dataframe thead th {\n",
       "        text-align: left;\n",
       "    }\n",
       "\n",
       "    .dataframe tbody tr th {\n",
       "        vertical-align: top;\n",
       "    }\n",
       "</style>\n",
       "<table border=\"1\" class=\"dataframe\">\n",
       "  <thead>\n",
       "    <tr style=\"text-align: right;\">\n",
       "      <th></th>\n",
       "      <th>dur</th>\n",
       "      <th>time</th>\n",
       "      <th>from_to</th>\n",
       "      <th>day</th>\n",
       "      <th>rains</th>\n",
       "      <th>temp</th>\n",
       "    </tr>\n",
       "  </thead>\n",
       "  <tbody>\n",
       "    <tr>\n",
       "      <th>0</th>\n",
       "      <td>43031</td>\n",
       "      <td>66</td>\n",
       "      <td>1443_1444</td>\n",
       "      <td>Thursday</td>\n",
       "      <td>0.0</td>\n",
       "      <td>8.2</td>\n",
       "    </tr>\n",
       "    <tr>\n",
       "      <th>1</th>\n",
       "      <td>65724</td>\n",
       "      <td>64</td>\n",
       "      <td>1443_1444</td>\n",
       "      <td>Tuesday</td>\n",
       "      <td>0.0</td>\n",
       "      <td>11.4</td>\n",
       "    </tr>\n",
       "    <tr>\n",
       "      <th>2</th>\n",
       "      <td>52720</td>\n",
       "      <td>83</td>\n",
       "      <td>1443_1444</td>\n",
       "      <td>Tuesday</td>\n",
       "      <td>0.0</td>\n",
       "      <td>11.3</td>\n",
       "    </tr>\n",
       "    <tr>\n",
       "      <th>3</th>\n",
       "      <td>57973</td>\n",
       "      <td>57</td>\n",
       "      <td>1443_1444</td>\n",
       "      <td>Saturday</td>\n",
       "      <td>0.0</td>\n",
       "      <td>12.6</td>\n",
       "    </tr>\n",
       "    <tr>\n",
       "      <th>4</th>\n",
       "      <td>51393</td>\n",
       "      <td>74</td>\n",
       "      <td>1443_1444</td>\n",
       "      <td>Thursday</td>\n",
       "      <td>0.0</td>\n",
       "      <td>15.7</td>\n",
       "    </tr>\n",
       "    <tr>\n",
       "      <th>5</th>\n",
       "      <td>44541</td>\n",
       "      <td>68</td>\n",
       "      <td>1443_1444</td>\n",
       "      <td>Friday</td>\n",
       "      <td>0.0</td>\n",
       "      <td>7.8</td>\n",
       "    </tr>\n",
       "    <tr>\n",
       "      <th>6</th>\n",
       "      <td>55245</td>\n",
       "      <td>58</td>\n",
       "      <td>1443_1444</td>\n",
       "      <td>Sunday</td>\n",
       "      <td>0.0</td>\n",
       "      <td>18.8</td>\n",
       "    </tr>\n",
       "    <tr>\n",
       "      <th>7</th>\n",
       "      <td>30458</td>\n",
       "      <td>72</td>\n",
       "      <td>1443_1444</td>\n",
       "      <td>Saturday</td>\n",
       "      <td>0.0</td>\n",
       "      <td>13.9</td>\n",
       "    </tr>\n",
       "    <tr>\n",
       "      <th>8</th>\n",
       "      <td>63271</td>\n",
       "      <td>79</td>\n",
       "      <td>1443_1444</td>\n",
       "      <td>Tuesday</td>\n",
       "      <td>0.0</td>\n",
       "      <td>4.0</td>\n",
       "    </tr>\n",
       "    <tr>\n",
       "      <th>9</th>\n",
       "      <td>55645</td>\n",
       "      <td>81</td>\n",
       "      <td>1443_1444</td>\n",
       "      <td>Tuesday</td>\n",
       "      <td>0.0</td>\n",
       "      <td>11.9</td>\n",
       "    </tr>\n",
       "    <tr>\n",
       "      <th>10</th>\n",
       "      <td>58223</td>\n",
       "      <td>31</td>\n",
       "      <td>1443_1444</td>\n",
       "      <td>Thursday</td>\n",
       "      <td>0.0</td>\n",
       "      <td>15.9</td>\n",
       "    </tr>\n",
       "    <tr>\n",
       "      <th>11</th>\n",
       "      <td>83857</td>\n",
       "      <td>56</td>\n",
       "      <td>1443_1444</td>\n",
       "      <td>Monday</td>\n",
       "      <td>0.0</td>\n",
       "      <td>10.0</td>\n",
       "    </tr>\n",
       "    <tr>\n",
       "      <th>12</th>\n",
       "      <td>59138</td>\n",
       "      <td>68</td>\n",
       "      <td>1443_1444</td>\n",
       "      <td>Friday</td>\n",
       "      <td>0.1</td>\n",
       "      <td>10.9</td>\n",
       "    </tr>\n",
       "    <tr>\n",
       "      <th>13</th>\n",
       "      <td>70644</td>\n",
       "      <td>70</td>\n",
       "      <td>1443_1444</td>\n",
       "      <td>Wednesday</td>\n",
       "      <td>0.0</td>\n",
       "      <td>5.4</td>\n",
       "    </tr>\n",
       "    <tr>\n",
       "      <th>14</th>\n",
       "      <td>59703</td>\n",
       "      <td>74</td>\n",
       "      <td>1443_1444</td>\n",
       "      <td>Monday</td>\n",
       "      <td>0.0</td>\n",
       "      <td>15.1</td>\n",
       "    </tr>\n",
       "    <tr>\n",
       "      <th>15</th>\n",
       "      <td>35798</td>\n",
       "      <td>52</td>\n",
       "      <td>1443_1444</td>\n",
       "      <td>Thursday</td>\n",
       "      <td>0.0</td>\n",
       "      <td>5.1</td>\n",
       "    </tr>\n",
       "    <tr>\n",
       "      <th>16</th>\n",
       "      <td>61278</td>\n",
       "      <td>82</td>\n",
       "      <td>1443_1444</td>\n",
       "      <td>Friday</td>\n",
       "      <td>0.1</td>\n",
       "      <td>9.2</td>\n",
       "    </tr>\n",
       "    <tr>\n",
       "      <th>17</th>\n",
       "      <td>51672</td>\n",
       "      <td>81</td>\n",
       "      <td>1443_1444</td>\n",
       "      <td>Tuesday</td>\n",
       "      <td>0.0</td>\n",
       "      <td>11.2</td>\n",
       "    </tr>\n",
       "    <tr>\n",
       "      <th>18</th>\n",
       "      <td>47494</td>\n",
       "      <td>58</td>\n",
       "      <td>1443_1444</td>\n",
       "      <td>Thursday</td>\n",
       "      <td>0.0</td>\n",
       "      <td>12.4</td>\n",
       "    </tr>\n",
       "    <tr>\n",
       "      <th>19</th>\n",
       "      <td>62407</td>\n",
       "      <td>82</td>\n",
       "      <td>1443_1444</td>\n",
       "      <td>Tuesday</td>\n",
       "      <td>0.0</td>\n",
       "      <td>16.6</td>\n",
       "    </tr>\n",
       "    <tr>\n",
       "      <th>20</th>\n",
       "      <td>70673</td>\n",
       "      <td>67</td>\n",
       "      <td>1443_1444</td>\n",
       "      <td>Wednesday</td>\n",
       "      <td>0.0</td>\n",
       "      <td>14.5</td>\n",
       "    </tr>\n",
       "    <tr>\n",
       "      <th>21</th>\n",
       "      <td>47040</td>\n",
       "      <td>57</td>\n",
       "      <td>1443_1444</td>\n",
       "      <td>Wednesday</td>\n",
       "      <td>0.0</td>\n",
       "      <td>13.8</td>\n",
       "    </tr>\n",
       "    <tr>\n",
       "      <th>22</th>\n",
       "      <td>55659</td>\n",
       "      <td>66</td>\n",
       "      <td>1443_1444</td>\n",
       "      <td>Thursday</td>\n",
       "      <td>0.0</td>\n",
       "      <td>12.9</td>\n",
       "    </tr>\n",
       "    <tr>\n",
       "      <th>23</th>\n",
       "      <td>37301</td>\n",
       "      <td>65</td>\n",
       "      <td>1443_1444</td>\n",
       "      <td>Monday</td>\n",
       "      <td>0.0</td>\n",
       "      <td>12.7</td>\n",
       "    </tr>\n",
       "    <tr>\n",
       "      <th>24</th>\n",
       "      <td>47166</td>\n",
       "      <td>79</td>\n",
       "      <td>1443_1444</td>\n",
       "      <td>Monday</td>\n",
       "      <td>0.0</td>\n",
       "      <td>8.1</td>\n",
       "    </tr>\n",
       "    <tr>\n",
       "      <th>25</th>\n",
       "      <td>62407</td>\n",
       "      <td>77</td>\n",
       "      <td>1443_1444</td>\n",
       "      <td>Thursday</td>\n",
       "      <td>0.0</td>\n",
       "      <td>20.5</td>\n",
       "    </tr>\n",
       "    <tr>\n",
       "      <th>26</th>\n",
       "      <td>47752</td>\n",
       "      <td>58</td>\n",
       "      <td>1443_1444</td>\n",
       "      <td>Monday</td>\n",
       "      <td>0.0</td>\n",
       "      <td>8.4</td>\n",
       "    </tr>\n",
       "    <tr>\n",
       "      <th>27</th>\n",
       "      <td>29410</td>\n",
       "      <td>81</td>\n",
       "      <td>1443_1444</td>\n",
       "      <td>Wednesday</td>\n",
       "      <td>0.7</td>\n",
       "      <td>4.1</td>\n",
       "    </tr>\n",
       "    <tr>\n",
       "      <th>28</th>\n",
       "      <td>68338</td>\n",
       "      <td>51</td>\n",
       "      <td>1443_1444</td>\n",
       "      <td>Thursday</td>\n",
       "      <td>0.0</td>\n",
       "      <td>12.2</td>\n",
       "    </tr>\n",
       "    <tr>\n",
       "      <th>29</th>\n",
       "      <td>52054</td>\n",
       "      <td>76</td>\n",
       "      <td>1443_1444</td>\n",
       "      <td>Friday</td>\n",
       "      <td>0.0</td>\n",
       "      <td>14.6</td>\n",
       "    </tr>\n",
       "    <tr>\n",
       "      <th>...</th>\n",
       "      <td>...</td>\n",
       "      <td>...</td>\n",
       "      <td>...</td>\n",
       "      <td>...</td>\n",
       "      <td>...</td>\n",
       "      <td>...</td>\n",
       "    </tr>\n",
       "    <tr>\n",
       "      <th>70</th>\n",
       "      <td>66137</td>\n",
       "      <td>92</td>\n",
       "      <td>1443_1444</td>\n",
       "      <td>Thursday</td>\n",
       "      <td>0.0</td>\n",
       "      <td>13.4</td>\n",
       "    </tr>\n",
       "    <tr>\n",
       "      <th>71</th>\n",
       "      <td>66970</td>\n",
       "      <td>88</td>\n",
       "      <td>1443_1444</td>\n",
       "      <td>Saturday</td>\n",
       "      <td>0.0</td>\n",
       "      <td>14.7</td>\n",
       "    </tr>\n",
       "    <tr>\n",
       "      <th>72</th>\n",
       "      <td>34591</td>\n",
       "      <td>79</td>\n",
       "      <td>1443_1444</td>\n",
       "      <td>Sunday</td>\n",
       "      <td>0.0</td>\n",
       "      <td>12.1</td>\n",
       "    </tr>\n",
       "    <tr>\n",
       "      <th>73</th>\n",
       "      <td>54966</td>\n",
       "      <td>79</td>\n",
       "      <td>1443_1444</td>\n",
       "      <td>Monday</td>\n",
       "      <td>0.0</td>\n",
       "      <td>6.0</td>\n",
       "    </tr>\n",
       "    <tr>\n",
       "      <th>74</th>\n",
       "      <td>47160</td>\n",
       "      <td>57</td>\n",
       "      <td>1443_1444</td>\n",
       "      <td>Sunday</td>\n",
       "      <td>0.0</td>\n",
       "      <td>23.0</td>\n",
       "    </tr>\n",
       "    <tr>\n",
       "      <th>75</th>\n",
       "      <td>44693</td>\n",
       "      <td>56</td>\n",
       "      <td>1443_1444</td>\n",
       "      <td>Sunday</td>\n",
       "      <td>0.0</td>\n",
       "      <td>10.9</td>\n",
       "    </tr>\n",
       "    <tr>\n",
       "      <th>76</th>\n",
       "      <td>84655</td>\n",
       "      <td>43</td>\n",
       "      <td>1443_1444</td>\n",
       "      <td>Thursday</td>\n",
       "      <td>0.2</td>\n",
       "      <td>6.6</td>\n",
       "    </tr>\n",
       "    <tr>\n",
       "      <th>77</th>\n",
       "      <td>30166</td>\n",
       "      <td>70</td>\n",
       "      <td>1443_1444</td>\n",
       "      <td>Tuesday</td>\n",
       "      <td>0.0</td>\n",
       "      <td>2.7</td>\n",
       "    </tr>\n",
       "    <tr>\n",
       "      <th>78</th>\n",
       "      <td>50057</td>\n",
       "      <td>71</td>\n",
       "      <td>1443_1444</td>\n",
       "      <td>Monday</td>\n",
       "      <td>0.0</td>\n",
       "      <td>14.4</td>\n",
       "    </tr>\n",
       "    <tr>\n",
       "      <th>79</th>\n",
       "      <td>61763</td>\n",
       "      <td>63</td>\n",
       "      <td>1443_1444</td>\n",
       "      <td>Wednesday</td>\n",
       "      <td>0.0</td>\n",
       "      <td>26.3</td>\n",
       "    </tr>\n",
       "    <tr>\n",
       "      <th>80</th>\n",
       "      <td>80022</td>\n",
       "      <td>45</td>\n",
       "      <td>1443_1444</td>\n",
       "      <td>Sunday</td>\n",
       "      <td>0.0</td>\n",
       "      <td>4.3</td>\n",
       "    </tr>\n",
       "    <tr>\n",
       "      <th>81</th>\n",
       "      <td>54520</td>\n",
       "      <td>83</td>\n",
       "      <td>1443_1444</td>\n",
       "      <td>Wednesday</td>\n",
       "      <td>0.0</td>\n",
       "      <td>9.4</td>\n",
       "    </tr>\n",
       "    <tr>\n",
       "      <th>82</th>\n",
       "      <td>39250</td>\n",
       "      <td>71</td>\n",
       "      <td>1443_1444</td>\n",
       "      <td>Monday</td>\n",
       "      <td>0.0</td>\n",
       "      <td>7.1</td>\n",
       "    </tr>\n",
       "    <tr>\n",
       "      <th>83</th>\n",
       "      <td>62134</td>\n",
       "      <td>66</td>\n",
       "      <td>1443_1444</td>\n",
       "      <td>Monday</td>\n",
       "      <td>3.3</td>\n",
       "      <td>8.4</td>\n",
       "    </tr>\n",
       "    <tr>\n",
       "      <th>84</th>\n",
       "      <td>59121</td>\n",
       "      <td>62</td>\n",
       "      <td>1443_1444</td>\n",
       "      <td>Saturday</td>\n",
       "      <td>0.0</td>\n",
       "      <td>16.5</td>\n",
       "    </tr>\n",
       "    <tr>\n",
       "      <th>85</th>\n",
       "      <td>70327</td>\n",
       "      <td>57</td>\n",
       "      <td>1443_1444</td>\n",
       "      <td>Wednesday</td>\n",
       "      <td>0.0</td>\n",
       "      <td>9.2</td>\n",
       "    </tr>\n",
       "    <tr>\n",
       "      <th>86</th>\n",
       "      <td>54477</td>\n",
       "      <td>81</td>\n",
       "      <td>1443_1444</td>\n",
       "      <td>Wednesday</td>\n",
       "      <td>0.0</td>\n",
       "      <td>8.9</td>\n",
       "    </tr>\n",
       "    <tr>\n",
       "      <th>87</th>\n",
       "      <td>70020</td>\n",
       "      <td>57</td>\n",
       "      <td>1443_1444</td>\n",
       "      <td>Sunday</td>\n",
       "      <td>0.0</td>\n",
       "      <td>18.9</td>\n",
       "    </tr>\n",
       "    <tr>\n",
       "      <th>88</th>\n",
       "      <td>74403</td>\n",
       "      <td>55</td>\n",
       "      <td>1443_1444</td>\n",
       "      <td>Thursday</td>\n",
       "      <td>0.0</td>\n",
       "      <td>1.8</td>\n",
       "    </tr>\n",
       "    <tr>\n",
       "      <th>89</th>\n",
       "      <td>63823</td>\n",
       "      <td>72</td>\n",
       "      <td>1443_1444</td>\n",
       "      <td>Friday</td>\n",
       "      <td>0.0</td>\n",
       "      <td>6.5</td>\n",
       "    </tr>\n",
       "    <tr>\n",
       "      <th>90</th>\n",
       "      <td>83880</td>\n",
       "      <td>29</td>\n",
       "      <td>1443_1444</td>\n",
       "      <td>Wednesday</td>\n",
       "      <td>0.0</td>\n",
       "      <td>10.8</td>\n",
       "    </tr>\n",
       "    <tr>\n",
       "      <th>91</th>\n",
       "      <td>37333</td>\n",
       "      <td>60</td>\n",
       "      <td>1443_1444</td>\n",
       "      <td>Monday</td>\n",
       "      <td>0.0</td>\n",
       "      <td>3.0</td>\n",
       "    </tr>\n",
       "    <tr>\n",
       "      <th>92</th>\n",
       "      <td>73904</td>\n",
       "      <td>55</td>\n",
       "      <td>1443_1444</td>\n",
       "      <td>Wednesday</td>\n",
       "      <td>0.0</td>\n",
       "      <td>8.8</td>\n",
       "    </tr>\n",
       "    <tr>\n",
       "      <th>93</th>\n",
       "      <td>50321</td>\n",
       "      <td>71</td>\n",
       "      <td>1443_1444</td>\n",
       "      <td>Wednesday</td>\n",
       "      <td>0.0</td>\n",
       "      <td>18.3</td>\n",
       "    </tr>\n",
       "    <tr>\n",
       "      <th>94</th>\n",
       "      <td>64742</td>\n",
       "      <td>86</td>\n",
       "      <td>1443_1444</td>\n",
       "      <td>Wednesday</td>\n",
       "      <td>0.0</td>\n",
       "      <td>9.1</td>\n",
       "    </tr>\n",
       "    <tr>\n",
       "      <th>95</th>\n",
       "      <td>54213</td>\n",
       "      <td>73</td>\n",
       "      <td>1443_1444</td>\n",
       "      <td>Friday</td>\n",
       "      <td>0.0</td>\n",
       "      <td>4.0</td>\n",
       "    </tr>\n",
       "    <tr>\n",
       "      <th>96</th>\n",
       "      <td>32733</td>\n",
       "      <td>67</td>\n",
       "      <td>1443_1444</td>\n",
       "      <td>Friday</td>\n",
       "      <td>0.0</td>\n",
       "      <td>10.6</td>\n",
       "    </tr>\n",
       "    <tr>\n",
       "      <th>97</th>\n",
       "      <td>40367</td>\n",
       "      <td>59</td>\n",
       "      <td>1443_1444</td>\n",
       "      <td>Sunday</td>\n",
       "      <td>0.0</td>\n",
       "      <td>7.1</td>\n",
       "    </tr>\n",
       "    <tr>\n",
       "      <th>98</th>\n",
       "      <td>41166</td>\n",
       "      <td>88</td>\n",
       "      <td>1443_1444</td>\n",
       "      <td>Friday</td>\n",
       "      <td>0.0</td>\n",
       "      <td>16.6</td>\n",
       "    </tr>\n",
       "    <tr>\n",
       "      <th>99</th>\n",
       "      <td>67659</td>\n",
       "      <td>66</td>\n",
       "      <td>1443_1444</td>\n",
       "      <td>Tuesday</td>\n",
       "      <td>0.0</td>\n",
       "      <td>9.7</td>\n",
       "    </tr>\n",
       "  </tbody>\n",
       "</table>\n",
       "<p>100 rows × 6 columns</p>\n",
       "</div>"
      ],
      "text/plain": [
       "      dur time    from_to        day  rains  temp\n",
       "0   43031   66  1443_1444   Thursday    0.0   8.2\n",
       "1   65724   64  1443_1444    Tuesday    0.0  11.4\n",
       "2   52720   83  1443_1444    Tuesday    0.0  11.3\n",
       "3   57973   57  1443_1444   Saturday    0.0  12.6\n",
       "4   51393   74  1443_1444   Thursday    0.0  15.7\n",
       "5   44541   68  1443_1444     Friday    0.0   7.8\n",
       "6   55245   58  1443_1444     Sunday    0.0  18.8\n",
       "7   30458   72  1443_1444   Saturday    0.0  13.9\n",
       "8   63271   79  1443_1444    Tuesday    0.0   4.0\n",
       "9   55645   81  1443_1444    Tuesday    0.0  11.9\n",
       "10  58223   31  1443_1444   Thursday    0.0  15.9\n",
       "11  83857   56  1443_1444     Monday    0.0  10.0\n",
       "12  59138   68  1443_1444     Friday    0.1  10.9\n",
       "13  70644   70  1443_1444  Wednesday    0.0   5.4\n",
       "14  59703   74  1443_1444     Monday    0.0  15.1\n",
       "15  35798   52  1443_1444   Thursday    0.0   5.1\n",
       "16  61278   82  1443_1444     Friday    0.1   9.2\n",
       "17  51672   81  1443_1444    Tuesday    0.0  11.2\n",
       "18  47494   58  1443_1444   Thursday    0.0  12.4\n",
       "19  62407   82  1443_1444    Tuesday    0.0  16.6\n",
       "20  70673   67  1443_1444  Wednesday    0.0  14.5\n",
       "21  47040   57  1443_1444  Wednesday    0.0  13.8\n",
       "22  55659   66  1443_1444   Thursday    0.0  12.9\n",
       "23  37301   65  1443_1444     Monday    0.0  12.7\n",
       "24  47166   79  1443_1444     Monday    0.0   8.1\n",
       "25  62407   77  1443_1444   Thursday    0.0  20.5\n",
       "26  47752   58  1443_1444     Monday    0.0   8.4\n",
       "27  29410   81  1443_1444  Wednesday    0.7   4.1\n",
       "28  68338   51  1443_1444   Thursday    0.0  12.2\n",
       "29  52054   76  1443_1444     Friday    0.0  14.6\n",
       "..    ...  ...        ...        ...    ...   ...\n",
       "70  66137   92  1443_1444   Thursday    0.0  13.4\n",
       "71  66970   88  1443_1444   Saturday    0.0  14.7\n",
       "72  34591   79  1443_1444     Sunday    0.0  12.1\n",
       "73  54966   79  1443_1444     Monday    0.0   6.0\n",
       "74  47160   57  1443_1444     Sunday    0.0  23.0\n",
       "75  44693   56  1443_1444     Sunday    0.0  10.9\n",
       "76  84655   43  1443_1444   Thursday    0.2   6.6\n",
       "77  30166   70  1443_1444    Tuesday    0.0   2.7\n",
       "78  50057   71  1443_1444     Monday    0.0  14.4\n",
       "79  61763   63  1443_1444  Wednesday    0.0  26.3\n",
       "80  80022   45  1443_1444     Sunday    0.0   4.3\n",
       "81  54520   83  1443_1444  Wednesday    0.0   9.4\n",
       "82  39250   71  1443_1444     Monday    0.0   7.1\n",
       "83  62134   66  1443_1444     Monday    3.3   8.4\n",
       "84  59121   62  1443_1444   Saturday    0.0  16.5\n",
       "85  70327   57  1443_1444  Wednesday    0.0   9.2\n",
       "86  54477   81  1443_1444  Wednesday    0.0   8.9\n",
       "87  70020   57  1443_1444     Sunday    0.0  18.9\n",
       "88  74403   55  1443_1444   Thursday    0.0   1.8\n",
       "89  63823   72  1443_1444     Friday    0.0   6.5\n",
       "90  83880   29  1443_1444  Wednesday    0.0  10.8\n",
       "91  37333   60  1443_1444     Monday    0.0   3.0\n",
       "92  73904   55  1443_1444  Wednesday    0.0   8.8\n",
       "93  50321   71  1443_1444  Wednesday    0.0  18.3\n",
       "94  64742   86  1443_1444  Wednesday    0.0   9.1\n",
       "95  54213   73  1443_1444     Friday    0.0   4.0\n",
       "96  32733   67  1443_1444     Friday    0.0  10.6\n",
       "97  40367   59  1443_1444     Sunday    0.0   7.1\n",
       "98  41166   88  1443_1444     Friday    0.0  16.6\n",
       "99  67659   66  1443_1444    Tuesday    0.0   9.7\n",
       "\n",
       "[100 rows x 6 columns]"
      ]
     },
     "execution_count": 6,
     "metadata": {},
     "output_type": "execute_result"
    }
   ],
   "source": [
    "#printing the sample dataframe\n",
    "df.head(100)"
   ]
  },
  {
   "cell_type": "code",
   "execution_count": 7,
   "metadata": {},
   "outputs": [
    {
     "data": {
      "text/plain": [
       "2022193"
      ]
     },
     "execution_count": 7,
     "metadata": {},
     "output_type": "execute_result"
    }
   ],
   "source": [
    "#to check the length of the data frame#\n",
    "len(df)"
   ]
  },
  {
   "cell_type": "code",
   "execution_count": 67,
   "metadata": {
    "scrolled": false
   },
   "outputs": [
    {
     "data": {
      "text/plain": [
       "dur         object\n",
       "time        object\n",
       "from_to     object\n",
       "day         object\n",
       "rains      float64\n",
       "temp       float64\n",
       "dtype: object"
      ]
     },
     "execution_count": 67,
     "metadata": {},
     "output_type": "execute_result"
    }
   ],
   "source": [
    "#to check the data type in the data frame\n",
    "df.dtypes"
   ]
  },
  {
   "cell_type": "code",
   "execution_count": 68,
   "metadata": {},
   "outputs": [
    {
     "data": {
      "text/plain": [
       "Index(['dur', 'time', 'from_to', 'day', 'rains', 'temp'], dtype='object')"
      ]
     },
     "execution_count": 68,
     "metadata": {},
     "output_type": "execute_result"
    }
   ],
   "source": [
    "df.columns"
   ]
  },
  {
   "cell_type": "code",
   "execution_count": 73,
   "metadata": {
    "scrolled": true
   },
   "outputs": [
    {
     "data": {
      "image/png": "[encoded data removed]",
      "text/plain": [
       "<matplotlib.figure.Figure at 0x20630cab198>"
      ]
     },
     "metadata": {},
     "output_type": "display_data"
    }
   ],
   "source": [
    "#plotting the box plot for all the numerical variables#\n",
    "%matplotlib inline\n",
    "import plotly.plotly as py\n",
    "import plotly.graph_objs as go\n",
    "boxplot = df.boxplot()"
   ]
  },
  {
   "cell_type": "code",
   "execution_count": 81,
   "metadata": {
    "scrolled": true
   },
   "outputs": [
    {
     "data": {
      "text/plain": [
       "<matplotlib.axes._subplots.AxesSubplot at 0x20647f21c88>"
      ]
     },
     "execution_count": 81,
     "metadata": {},
     "output_type": "execute_result"
    },
    {
     "data": {
      "image/png": "[encoded data removed]",
      "text/plain": [
       "<matplotlib.figure.Figure at 0x20647f602e8>"
      ]
     },
     "metadata": {},
     "output_type": "display_data"
    }
   ],
   "source": [
    "#plotting the distribution of the variable duration#\n",
    "df['dur'].plot(kind='hist')"
   ]
  },
  {
   "cell_type": "code",
   "execution_count": 82,
   "metadata": {
    "scrolled": false
   },
   "outputs": [
    {
     "data": {
      "text/plain": [
       "<matplotlib.axes._subplots.AxesSubplot at 0x206652f4198>"
      ]
     },
     "execution_count": 82,
     "metadata": {},
     "output_type": "execute_result"
    },
    {
     "data": {
      "image/png": "[encoded data removed]",
      "text/plain": [
       "<matplotlib.figure.Figure at 0x206704a19b0>"
      ]
     },
     "metadata": {},
     "output_type": "display_data"
    }
   ],
   "source": [
    "#plotting the distribution of the variable time# highly left skewed\n",
    "df['time'].plot(kind='hist')"
   ]
  },
  {
   "cell_type": "code",
   "execution_count": 86,
   "metadata": {},
   "outputs": [
    {
     "data": {
      "text/plain": [
       "<matplotlib.axes._subplots.AxesSubplot at 0x2066e49f400>"
      ]
     },
     "execution_count": 86,
     "metadata": {},
     "output_type": "execute_result"
    },
    {
     "data": {
      "image/png": "[encoded data removed]",
      "text/plain": [
       "<matplotlib.figure.Figure at 0x2066f68f710>"
      ]
     },
     "metadata": {},
     "output_type": "display_data"
    }
   ],
   "source": [
    "#plotting the distribution of the variable rains# \n",
    "df['rains'].plot(kind='hist')"
   ]
  },
  {
   "cell_type": "code",
   "execution_count": 8,
   "metadata": {
    "scrolled": true
   },
   "outputs": [
    {
     "name": "stdout",
     "output_type": "stream",
     "text": [
      "Index(['dur', 'time', 'from_to', 'rains', 'temp', 'day_Friday', 'day_Monday',\n",
      "       'day_Saturday', 'day_Sunday', 'day_Thursday', 'day_Tuesday',\n",
      "       'day_Wednesday'],\n",
      "      dtype='object')\n"
     ]
    }
   ],
   "source": [
    "#creating the features for each day variables\n",
    "New_base=pd.get_dummies(df, columns=[\"day\"], prefix=[\"day\"])\n",
    "print(New_base.columns)"
   ]
  },
  {
   "cell_type": "code",
   "execution_count": 12,
   "metadata": {
    "collapsed": true
   },
   "outputs": [],
   "source": [
    "#the final modelling data is created\n",
    "Final_base_data=New_base[['dur', 'time', 'rains', 'temp', 'day_Friday', 'day_Monday',\n",
    "       'day_Saturday', 'day_Sunday', 'day_Thursday', 'day_Tuesday',\n",
    "       'day_Wednesday']]\n"
   ]
  },
  {
   "cell_type": "code",
   "execution_count": 10,
   "metadata": {
    "scrolled": true
   },
   "outputs": [
    {
     "name": "stdout",
     "output_type": "stream",
     "text": [
      "dur                0\n",
      "time               0\n",
      "rains            978\n",
      "temp               0\n",
      "day_Friday         0\n",
      "day_Monday         0\n",
      "day_Saturday       0\n",
      "day_Sunday         0\n",
      "day_Thursday       0\n",
      "day_Tuesday        0\n",
      "day_Wednesday      0\n",
      "dtype: int64\n"
     ]
    }
   ],
   "source": [
    "#to check for nulls in the dataframe\n",
    "print(Final_base_data.isnull().sum())\n",
    "Final_base_data=Final_base_data.fillna(0)\n",
    "dataset = Final_base_data"
   ]
  },
  {
   "cell_type": "code",
   "execution_count": 53,
   "metadata": {},
   "outputs": [
    {
     "data": {
      "text/plain": [
       "dur                int64\n",
       "time               int64\n",
       "rains            float64\n",
       "temp             float64\n",
       "day_Friday         uint8\n",
       "day_Monday         uint8\n",
       "day_Saturday       uint8\n",
       "day_Sunday         uint8\n",
       "day_Thursday       uint8\n",
       "day_Tuesday        uint8\n",
       "day_Wednesday      uint8\n",
       "dtype: object"
      ]
     },
     "execution_count": 53,
     "metadata": {},
     "output_type": "execute_result"
    }
   ],
   "source": [
    "#to check for data type\n",
    "dataset.dtypes"
   ]
  },
  {
   "cell_type": "code",
   "execution_count": 11,
   "metadata": {
    "scrolled": true
   },
   "outputs": [
    {
     "data": {
      "text/plain": [
       "Index(['dur', 'time', 'rains', 'temp', 'day_Friday', 'day_Monday',\n",
       "       'day_Saturday', 'day_Sunday', 'day_Thursday', 'day_Tuesday',\n",
       "       'day_Wednesday'],\n",
       "      dtype='object')"
      ]
     },
     "execution_count": 11,
     "metadata": {},
     "output_type": "execute_result"
    }
   ],
   "source": [
    "#verifying the column names in the dataframe\n",
    "dataset.columns"
   ]
  },
  {
   "cell_type": "code",
   "execution_count": 13,
   "metadata": {
    "scrolled": false
   },
   "outputs": [
    {
     "data": {
      "text/plain": [
       "<matplotlib.axes._subplots.AxesSubplot at 0x205dbd3ecf8>"
      ]
     },
     "execution_count": 13,
     "metadata": {},
     "output_type": "execute_result"
    },
    {
     "data": {
      "image/png": "[encoded data removed]",
      "text/plain": [
       "<matplotlib.figure.Figure at 0x205b95ed4e0>"
      ]
     },
     "metadata": {},
     "output_type": "display_data"
    }
   ],
   "source": [
    "#correlation chart for all the variables showing clear pattern#\n",
    "\n",
    "sns.set_style(\"white\")\n",
    "cont_corr = dataset.corr()\n",
    "mask = np.zeros_like(cont_corr,dtype=np.bool)\n",
    "mask[np.triu_indices_from(mask)] = True\n",
    "f, ax = plt.subplots(figsize=(11,9))\n",
    "cmap=sns.diverging_palette(220,10, as_cmap = True)\n",
    "sns.heatmap(cont_corr, annot=True, mask=mask, cmap=cmap, vmax=1, vmin=-1, center=0,\n",
    "            square=True, xticklabels=True, yticklabels=True, linewidths=.5, cbar_kws={\"shrink\": .5})"
   ]
  },
  {
   "cell_type": "code",
   "execution_count": 75,
   "metadata": {
    "scrolled": true
   },
   "outputs": [
    {
     "data": {
      "text/plain": [
       "Index(['dur', 'time', 'rains', 'temp', 'day_Friday', 'day_Monday',\n",
       "       'day_Saturday', 'day_Sunday', 'day_Thursday', 'day_Tuesday',\n",
       "       'day_Wednesday'],\n",
       "      dtype='object')"
      ]
     },
     "execution_count": 75,
     "metadata": {},
     "output_type": "execute_result"
    }
   ],
   "source": [
    "dataset.columns"
   ]
  },
  {
   "cell_type": "code",
   "execution_count": 87,
   "metadata": {},
   "outputs": [
    {
     "data": {
      "text/html": [
       "<div>\n",
       "<style>\n",
       "    .dataframe thead tr:only-child th {\n",
       "        text-align: right;\n",
       "    }\n",
       "\n",
       "    .dataframe thead th {\n",
       "        text-align: left;\n",
       "    }\n",
       "\n",
       "    .dataframe tbody tr th {\n",
       "        vertical-align: top;\n",
       "    }\n",
       "</style>\n",
       "<table border=\"1\" class=\"dataframe\">\n",
       "  <thead>\n",
       "    <tr style=\"text-align: right;\">\n",
       "      <th></th>\n",
       "      <th>dur</th>\n",
       "      <th>time</th>\n",
       "      <th>rains</th>\n",
       "      <th>temp</th>\n",
       "      <th>day_Friday</th>\n",
       "      <th>day_Monday</th>\n",
       "      <th>day_Saturday</th>\n",
       "      <th>day_Sunday</th>\n",
       "      <th>day_Thursday</th>\n",
       "      <th>day_Tuesday</th>\n",
       "      <th>day_Wednesday</th>\n",
       "    </tr>\n",
       "  </thead>\n",
       "  <tbody>\n",
       "    <tr>\n",
       "      <th>0</th>\n",
       "      <td>43031</td>\n",
       "      <td>66</td>\n",
       "      <td>0.0</td>\n",
       "      <td>8.2</td>\n",
       "      <td>0</td>\n",
       "      <td>0</td>\n",
       "      <td>0</td>\n",
       "      <td>0</td>\n",
       "      <td>1</td>\n",
       "      <td>0</td>\n",
       "      <td>0</td>\n",
       "    </tr>\n",
       "    <tr>\n",
       "      <th>1</th>\n",
       "      <td>65724</td>\n",
       "      <td>64</td>\n",
       "      <td>0.0</td>\n",
       "      <td>11.4</td>\n",
       "      <td>0</td>\n",
       "      <td>0</td>\n",
       "      <td>0</td>\n",
       "      <td>0</td>\n",
       "      <td>0</td>\n",
       "      <td>1</td>\n",
       "      <td>0</td>\n",
       "    </tr>\n",
       "    <tr>\n",
       "      <th>2</th>\n",
       "      <td>52720</td>\n",
       "      <td>83</td>\n",
       "      <td>0.0</td>\n",
       "      <td>11.3</td>\n",
       "      <td>0</td>\n",
       "      <td>0</td>\n",
       "      <td>0</td>\n",
       "      <td>0</td>\n",
       "      <td>0</td>\n",
       "      <td>1</td>\n",
       "      <td>0</td>\n",
       "    </tr>\n",
       "    <tr>\n",
       "      <th>3</th>\n",
       "      <td>57973</td>\n",
       "      <td>57</td>\n",
       "      <td>0.0</td>\n",
       "      <td>12.6</td>\n",
       "      <td>0</td>\n",
       "      <td>0</td>\n",
       "      <td>1</td>\n",
       "      <td>0</td>\n",
       "      <td>0</td>\n",
       "      <td>0</td>\n",
       "      <td>0</td>\n",
       "    </tr>\n",
       "    <tr>\n",
       "      <th>4</th>\n",
       "      <td>51393</td>\n",
       "      <td>74</td>\n",
       "      <td>0.0</td>\n",
       "      <td>15.7</td>\n",
       "      <td>0</td>\n",
       "      <td>0</td>\n",
       "      <td>0</td>\n",
       "      <td>0</td>\n",
       "      <td>1</td>\n",
       "      <td>0</td>\n",
       "      <td>0</td>\n",
       "    </tr>\n",
       "  </tbody>\n",
       "</table>\n",
       "</div>"
      ],
      "text/plain": [
       "     dur  time  rains  temp  day_Friday  day_Monday  day_Saturday  day_Sunday  \\\n",
       "0  43031    66    0.0   8.2           0           0             0           0   \n",
       "1  65724    64    0.0  11.4           0           0             0           0   \n",
       "2  52720    83    0.0  11.3           0           0             0           0   \n",
       "3  57973    57    0.0  12.6           0           0             1           0   \n",
       "4  51393    74    0.0  15.7           0           0             0           0   \n",
       "\n",
       "   day_Thursday  day_Tuesday  day_Wednesday  \n",
       "0             1            0              0  \n",
       "1             0            1              0  \n",
       "2             0            1              0  \n",
       "3             0            0              0  \n",
       "4             1            0              0  "
      ]
     },
     "execution_count": 87,
     "metadata": {},
     "output_type": "execute_result"
    }
   ],
   "source": [
    "#checking the sample dataset dataframe\n",
    "dataset.head()"
   ]
  },
  {
   "cell_type": "code",
   "execution_count": 14,
   "metadata": {
    "collapsed": true
   },
   "outputs": [],
   "source": [
    "X=dataset[[ 'rains', 'temp', 'day_Friday', 'day_Monday',\n",
    "       'day_Saturday', 'day_Sunday', 'day_Thursday', 'day_Tuesday',\n",
    "       'day_Wednesday']].values\n",
    "y=dataset['time'].values"
   ]
  },
  {
   "cell_type": "code",
   "execution_count": 89,
   "metadata": {},
   "outputs": [],
   "source": [
    "#check for clustering these data points together\n",
    "from sklearn.cluster import KMeans\n",
    "kmeans = KMeans(n_clusters = 3, init = 'k-means++', random_state = 42)\n"
   ]
  },
  {
   "cell_type": "code",
   "execution_count": 90,
   "metadata": {},
   "outputs": [
    {
     "data": {
      "image/png": "[encoded data removed]",
      "text/plain": [
       "<matplotlib.figure.Figure at 0x20649ee0b70>"
      ]
     },
     "metadata": {},
     "output_type": "display_data"
    }
   ],
   "source": [
    "#plotting the clusters showing that the 3 cluters are quite similar\n",
    "y_kmeans = kmeans.fit_predict(X)\n",
    "fig = plt.figure(figsize=(15,20))\n",
    "plt.scatter(X[y_kmeans == 0, 0], X[y_kmeans == 0, 1], s = 50, c = 'red', label = 'Cluster 1')\n",
    "plt.scatter(X[y_kmeans == 1, 0], X[y_kmeans == 1, 1], s = 50, c = 'purple', label = 'Cluster 2')\n",
    "plt.scatter(X[y_kmeans == 2, 0], X[y_kmeans == 2, 1], s = 50, c = 'green', label = 'Cluster 3')\n",
    "\n",
    "# The centriod attributes returns the coordinate of the centriods\n",
    "centers = kmeans.cluster_centers_\n",
    "plt.scatter(centers[:, 0], centers[:, 1], c='black', s=250, alpha=0.5, cmap='viridis', label='Centriods');\n",
    "\n",
    "plt.title('data segments clustered in colours')\n",
    "plt.xlabel('Quantity1')\n",
    "plt.ylabel('Quantity2')\n",
    "plt.legend()\n",
    "plt.show()"
   ]
  },
  {
   "cell_type": "code",
   "execution_count": 15,
   "metadata": {},
   "outputs": [
    {
     "name": "stdout",
     "output_type": "stream",
     "text": [
      "[-56662423981.53569, 0.12097189381883486, 0.3820840751915747, 56662424049.155136, 56662424049.3161, 56662424040.62412, 56662424037.52705, 56662424049.14693, 56662424049.02388, 56662424049.12786]\n"
     ]
    }
   ],
   "source": [
    "#testing linear regression #\n",
    "\n",
    "X_train, X_test, y_train, y_test = train_test_split(X, y, test_size = 0.3, random_state = 100)\n",
    "X_new = sm.add_constant(X_train)\n",
    "model = sm.OLS(y_train,X_new).fit()\n",
    "print(model.params.tolist())\n"
   ]
  },
  {
   "cell_type": "code",
   "execution_count": 24,
   "metadata": {},
   "outputs": [
    {
     "name": "stdout",
     "output_type": "stream",
     "text": [
      "[-56662423981.53569, 0.12097189381883486, 0.3820840751915747, 56662424049.155136, 56662424049.3161, 56662424040.62412, 56662424037.52705, 56662424049.14693, 56662424049.02388, 56662424049.12786]\n"
     ]
    }
   ],
   "source": [
    "#saving the same train and test as a dataframe for future reference\n",
    "X_df=dataset[[ 'rains', 'temp', 'day_Friday', 'day_Monday',\n",
    "       'day_Saturday', 'day_Sunday', 'day_Thursday', 'day_Tuesday',\n",
    "       'day_Wednesday']]\n",
    "y_df=dataset['time']\n",
    "X_train_df, X_test_df, y_train_df, y_test_df = train_test_split(X_df, y_df, test_size = 0.3, random_state = 100)\n",
    "X_new_df = sm.add_constant(X_train_df)\n",
    "model = sm.OLS(y_train_df,X_new_df).fit()\n",
    "print(model.params.tolist())"
   ]
  },
  {
   "cell_type": "code",
   "execution_count": 23,
   "metadata": {},
   "outputs": [
    {
     "data": {
      "text/html": [
       "<div>\n",
       "<style>\n",
       "    .dataframe thead tr:only-child th {\n",
       "        text-align: right;\n",
       "    }\n",
       "\n",
       "    .dataframe thead th {\n",
       "        text-align: left;\n",
       "    }\n",
       "\n",
       "    .dataframe tbody tr th {\n",
       "        vertical-align: top;\n",
       "    }\n",
       "</style>\n",
       "<table border=\"1\" class=\"dataframe\">\n",
       "  <thead>\n",
       "    <tr style=\"text-align: right;\">\n",
       "      <th></th>\n",
       "      <th>rains</th>\n",
       "      <th>temp</th>\n",
       "      <th>day_Friday</th>\n",
       "      <th>day_Monday</th>\n",
       "      <th>day_Saturday</th>\n",
       "      <th>day_Sunday</th>\n",
       "      <th>day_Thursday</th>\n",
       "      <th>day_Tuesday</th>\n",
       "      <th>day_Wednesday</th>\n",
       "    </tr>\n",
       "  </thead>\n",
       "  <tbody>\n",
       "    <tr>\n",
       "      <th>7628</th>\n",
       "      <td>0.0</td>\n",
       "      <td>4.8</td>\n",
       "      <td>0</td>\n",
       "      <td>0</td>\n",
       "      <td>0</td>\n",
       "      <td>0</td>\n",
       "      <td>0</td>\n",
       "      <td>1</td>\n",
       "      <td>0</td>\n",
       "    </tr>\n",
       "    <tr>\n",
       "      <th>3272</th>\n",
       "      <td>0.0</td>\n",
       "      <td>6.8</td>\n",
       "      <td>0</td>\n",
       "      <td>1</td>\n",
       "      <td>0</td>\n",
       "      <td>0</td>\n",
       "      <td>0</td>\n",
       "      <td>0</td>\n",
       "      <td>0</td>\n",
       "    </tr>\n",
       "    <tr>\n",
       "      <th>7643</th>\n",
       "      <td>0.0</td>\n",
       "      <td>7.3</td>\n",
       "      <td>0</td>\n",
       "      <td>1</td>\n",
       "      <td>0</td>\n",
       "      <td>0</td>\n",
       "      <td>0</td>\n",
       "      <td>0</td>\n",
       "      <td>0</td>\n",
       "    </tr>\n",
       "    <tr>\n",
       "      <th>2876</th>\n",
       "      <td>0.0</td>\n",
       "      <td>11.0</td>\n",
       "      <td>0</td>\n",
       "      <td>0</td>\n",
       "      <td>0</td>\n",
       "      <td>0</td>\n",
       "      <td>0</td>\n",
       "      <td>0</td>\n",
       "      <td>1</td>\n",
       "    </tr>\n",
       "    <tr>\n",
       "      <th>8428</th>\n",
       "      <td>0.0</td>\n",
       "      <td>2.5</td>\n",
       "      <td>0</td>\n",
       "      <td>0</td>\n",
       "      <td>0</td>\n",
       "      <td>0</td>\n",
       "      <td>0</td>\n",
       "      <td>1</td>\n",
       "      <td>0</td>\n",
       "    </tr>\n",
       "  </tbody>\n",
       "</table>\n",
       "</div>"
      ],
      "text/plain": [
       "      rains  temp  day_Friday  day_Monday  day_Saturday  day_Sunday  \\\n",
       "7628    0.0   4.8           0           0             0           0   \n",
       "3272    0.0   6.8           0           1             0           0   \n",
       "7643    0.0   7.3           0           1             0           0   \n",
       "2876    0.0  11.0           0           0             0           0   \n",
       "8428    0.0   2.5           0           0             0           0   \n",
       "\n",
       "      day_Thursday  day_Tuesday  day_Wednesday  \n",
       "7628             0            1              0  \n",
       "3272             0            0              0  \n",
       "7643             0            0              0  \n",
       "2876             0            0              1  \n",
       "8428             0            1              0  "
      ]
     },
     "execution_count": 23,
     "metadata": {},
     "output_type": "execute_result"
    }
   ],
   "source": [
    "X_train_df.head()"
   ]
  },
  {
   "cell_type": "code",
   "execution_count": 25,
   "metadata": {
    "scrolled": false
   },
   "outputs": [
    {
     "name": "stdout",
     "output_type": "stream",
     "text": [
      "                            OLS Regression Results                            \n",
      "==============================================================================\n",
      "Dep. Variable:                   time   R-squared:                       0.006\n",
      "Model:                            OLS   Adj. R-squared:                  0.006\n",
      "Method:                 Least Squares   F-statistic:                     924.1\n",
      "Date:                Sun, 12 Aug 2018   Prob (F-statistic):               0.00\n",
      "Time:                        15:06:38   Log-Likelihood:            -7.7118e+06\n",
      "No. Observations:             1415535   AIC:                         1.542e+07\n",
      "Df Residuals:                 1415525   BIC:                         1.542e+07\n",
      "Df Model:                           9                                         \n",
      "Covariance Type:            nonrobust                                         \n",
      "=================================================================================\n",
      "                    coef    std err          t      P>|t|      [0.025      0.975]\n",
      "---------------------------------------------------------------------------------\n",
      "const         -5.666e+10   3.15e+11     -0.180      0.857   -6.74e+11    5.61e+11\n",
      "rains             0.1210      0.107      1.128      0.259      -0.089       0.331\n",
      "temp              0.3821      0.010     37.922      0.000       0.362       0.402\n",
      "day_Friday     5.666e+10   3.15e+11      0.180      0.857   -5.61e+11    6.74e+11\n",
      "day_Monday     5.666e+10   3.15e+11      0.180      0.857   -5.61e+11    6.74e+11\n",
      "day_Saturday   5.666e+10   3.15e+11      0.180      0.857   -5.61e+11    6.74e+11\n",
      "day_Sunday     5.666e+10   3.15e+11      0.180      0.857   -5.61e+11    6.74e+11\n",
      "day_Thursday   5.666e+10   3.15e+11      0.180      0.857   -5.61e+11    6.74e+11\n",
      "day_Tuesday    5.666e+10   3.15e+11      0.180      0.857   -5.61e+11    6.74e+11\n",
      "day_Wednesday  5.666e+10   3.15e+11      0.180      0.857   -5.61e+11    6.74e+11\n",
      "==============================================================================\n",
      "Omnibus:                   943534.536   Durbin-Watson:                   2.001\n",
      "Prob(Omnibus):                  0.000   Jarque-Bera (JB):         13647718.358\n",
      "Skew:                           3.072   Prob(JB):                         0.00\n",
      "Kurtosis:                      16.916   Cond. No.                     2.05e+14\n",
      "==============================================================================\n",
      "\n",
      "Warnings:\n",
      "[1] Standard Errors assume that the covariance matrix of the errors is correctly specified.\n",
      "[2] The smallest eigenvalue is 3.98e-21. This might indicate that there are\n",
      "strong multicollinearity problems or that the design matrix is singular.\n"
     ]
    }
   ],
   "source": [
    "#printing the model details#\n",
    "print(model.summary())"
   ]
  },
  {
   "cell_type": "code",
   "execution_count": 36,
   "metadata": {
    "scrolled": false
   },
   "outputs": [
    {
     "data": {
      "text/html": [
       "<div>\n",
       "<style>\n",
       "    .dataframe thead tr:only-child th {\n",
       "        text-align: right;\n",
       "    }\n",
       "\n",
       "    .dataframe thead th {\n",
       "        text-align: left;\n",
       "    }\n",
       "\n",
       "    .dataframe tbody tr th {\n",
       "        vertical-align: top;\n",
       "    }\n",
       "</style>\n",
       "<table border=\"1\" class=\"dataframe\">\n",
       "  <thead>\n",
       "    <tr style=\"text-align: right;\">\n",
       "      <th></th>\n",
       "      <th>Time_predicted</th>\n",
       "      <th>time_actual</th>\n",
       "    </tr>\n",
       "  </thead>\n",
       "  <tbody>\n",
       "    <tr>\n",
       "      <th>0</th>\n",
       "      <td>70.378586</td>\n",
       "      <td>97</td>\n",
       "    </tr>\n",
       "    <tr>\n",
       "      <th>1</th>\n",
       "      <td>70.569626</td>\n",
       "      <td>16</td>\n",
       "    </tr>\n",
       "    <tr>\n",
       "      <th>2</th>\n",
       "      <td>71.795097</td>\n",
       "      <td>42</td>\n",
       "    </tr>\n",
       "    <tr>\n",
       "      <th>3</th>\n",
       "      <td>68.443398</td>\n",
       "      <td>25</td>\n",
       "    </tr>\n",
       "    <tr>\n",
       "      <th>4</th>\n",
       "      <td>69.674492</td>\n",
       "      <td>37</td>\n",
       "    </tr>\n",
       "    <tr>\n",
       "      <th>5</th>\n",
       "      <td>70.878098</td>\n",
       "      <td>47</td>\n",
       "    </tr>\n",
       "    <tr>\n",
       "      <th>6</th>\n",
       "      <td>70.839882</td>\n",
       "      <td>111</td>\n",
       "    </tr>\n",
       "    <tr>\n",
       "      <th>7</th>\n",
       "      <td>70.249939</td>\n",
       "      <td>71</td>\n",
       "    </tr>\n",
       "    <tr>\n",
       "      <th>8</th>\n",
       "      <td>74.297707</td>\n",
       "      <td>30</td>\n",
       "    </tr>\n",
       "  </tbody>\n",
       "</table>\n",
       "</div>"
      ],
      "text/plain": [
       "   Time_predicted  time_actual\n",
       "0       70.378586           97\n",
       "1       70.569626           16\n",
       "2       71.795097           42\n",
       "3       68.443398           25\n",
       "4       69.674492           37\n",
       "5       70.878098           47\n",
       "6       70.839882          111\n",
       "7       70.249939           71\n",
       "8       74.297707           30"
      ]
     },
     "execution_count": 36,
     "metadata": {},
     "output_type": "execute_result"
    }
   ],
   "source": [
    "#predicted values vs actual values using regression\n",
    "X_train_predict = model.predict(X_new_df)\n",
    "X_train_outputs = pd.DataFrame({'time_actual':y_train_df.values[1:10,],'Time_predicted':X_train_predict.values[1:10,]})\n",
    "X_train_outputs"
   ]
  },
  {
   "cell_type": "code",
   "execution_count": 48,
   "metadata": {
    "collapsed": true
   },
   "outputs": [],
   "source": [
    "#predicting the test data values\n",
    "X_new_df_test = sm.add_constant(X_test_df)\n",
    "X_test_predict = model.predict(X_new_df_test)"
   ]
  },
  {
   "cell_type": "code",
   "execution_count": 50,
   "metadata": {},
   "outputs": [
    {
     "name": "stdout",
     "output_type": "stream",
     "text": [
      "35.879648424669355\n",
      "3150.0211883002917\n",
      "56.125049561673364\n"
     ]
    }
   ],
   "source": [
    "#performance metrics of regression meansquared error, mean absolute error, absolute error\n",
    "print(metrics.mean_absolute_error(X_test_predict,y_test_df))\n",
    "print(metrics.mean_squared_error(X_test_predict,y_test_df))\n",
    "print(np.sqrt(metrics.mean_squared_error(X_test_predict,y_test_df)))"
   ]
  },
  {
   "cell_type": "code",
   "execution_count": 37,
   "metadata": {},
   "outputs": [
    {
     "name": "stdout",
     "output_type": "stream",
     "text": [
      "404439\n"
     ]
    }
   ],
   "source": [
    "#creating the training test split\n",
    "\n",
    "X_train_scaled, X_test_scaled, y_train_scaled, y_test_scaled = train_test_split(X, y, test_size=0.20, random_state=42)\n",
    "\n",
    "print(len(y_test_scaled))\n",
    "# Feature Scaling\n",
    "\n",
    "# Reshaping\n",
    "X_train_scaled = np.reshape(X_train_scaled, (X_train_scaled.shape[0], X_train_scaled.shape[1], 1))"
   ]
  },
  {
   "cell_type": "code",
   "execution_count": 54,
   "metadata": {
    "scrolled": false
   },
   "outputs": [
    {
     "name": "stdout",
     "output_type": "stream",
     "text": [
      "Epoch 1/10\n",
      "1617754/1617754 [==============================] - 732s 452us/step - loss: 3238.4183\n",
      "Epoch 2/10\n",
      "1617754/1617754 [==============================] - 731s 452us/step - loss: 3196.5861\n",
      "Epoch 3/10\n",
      "1617754/1617754 [==============================] - 731s 452us/step - loss: 3188.7853\n",
      "Epoch 4/10\n",
      "1617754/1617754 [==============================] - 736s 455us/step - loss: 3184.1184\n",
      "Epoch 5/10\n",
      "1617754/1617754 [==============================] - 708s 438us/step - loss: 3182.3924\n",
      "Epoch 6/10\n",
      "1617754/1617754 [==============================] - 710s 439us/step - loss: 3180.4611\n",
      "Epoch 7/10\n",
      "1617754/1617754 [==============================] - 742s 458us/step - loss: 3180.8459\n",
      "Epoch 8/10\n",
      "1617754/1617754 [==============================] - 737s 456us/step - loss: 3177.5349\n",
      "Epoch 9/10\n",
      "1617754/1617754 [==============================] - 737s 456us/step - loss: 3176.3084\n",
      "Epoch 10/10\n",
      "1617754/1617754 [==============================] - 739s 457us/step - loss: 3176.2658\n"
     ]
    },
    {
     "data": {
      "text/plain": [
       "<keras.callbacks.History at 0x205ab32c470>"
      ]
     },
     "execution_count": 54,
     "metadata": {},
     "output_type": "execute_result"
    }
   ],
   "source": [
    "# Part 2 - Building the RNN\n",
    "\n",
    "# Importing the Keras libraries and packages\n",
    "\n",
    "\n",
    "# Initialising the RNN\n",
    "regressor = Sequential()\n",
    "\n",
    "# Adding the first LSTM layer and some Dropout regularisation\n",
    "regressor.add(LSTM(units = 50, return_sequences = True, input_shape = (X_train.shape[1], 1)))\n",
    "regressor.add(Dropout(0.2))\n",
    "\n",
    "# Adding a second LSTM layer and some Dropout regularisation\n",
    "regressor.add(LSTM(units = 50, return_sequences = True))\n",
    "regressor.add(Dropout(0.2))\n",
    "\n",
    "# Adding a third LSTM layer and some Dropout regularisation\n",
    "regressor.add(LSTM(units = 50, return_sequences = True))\n",
    "regressor.add(Dropout(0.2))\n",
    "\n",
    "# Adding a fourth LSTM layer and some Dropout regularisation\n",
    "regressor.add(LSTM(units = 50))\n",
    "regressor.add(Dropout(0.2))\n",
    "\n",
    "# Adding the output layer\n",
    "regressor.add(Dense(units = 1))\n",
    "\n",
    "# Compiling the RNN\n",
    "regressor.compile(optimizer = 'adam', loss = 'mean_squared_error')\n",
    "\n",
    "# Fitting the RNN to the Training set\n",
    "regressor.fit(X_train_scaled, y_train_scaled, epochs = 10, batch_size = 32)\n",
    "\n",
    "#the loss is the modulus of actual loss minus the predicted value sum of squares which is decreased in each epoch\n",
    "# epoch is one forward feed and a backward propogation \n"
   ]
  },
  {
   "cell_type": "code",
   "execution_count": 55,
   "metadata": {
    "collapsed": true
   },
   "outputs": [],
   "source": [
    "#final_output=np.insert(x, idx, 999, axis=1)\n",
    "X_test_scaled = np.reshape(X_test_scaled, (X_test_scaled.shape[0], X_test_scaled.shape[1], 1))\n",
    "\n",
    "\n",
    "predicted_time = regressor.predict(X_test_scaled)\n"
   ]
  },
  {
   "cell_type": "code",
   "execution_count": 56,
   "metadata": {},
   "outputs": [
    {
     "data": {
      "text/plain": [
       "404439"
      ]
     },
     "execution_count": 56,
     "metadata": {},
     "output_type": "execute_result"
    }
   ],
   "source": [
    "#length of predicted values#\n",
    "len(predicted_time.flatten())"
   ]
  },
  {
   "cell_type": "code",
   "execution_count": 57,
   "metadata": {},
   "outputs": [
    {
     "data": {
      "text/plain": [
       "404439"
      ]
     },
     "execution_count": 57,
     "metadata": {},
     "output_type": "execute_result"
    }
   ],
   "source": [
    "#length of test target variable\n",
    "len(y_test_scaled)"
   ]
  },
  {
   "cell_type": "code",
   "execution_count": 58,
   "metadata": {},
   "outputs": [
    {
     "name": "stdout",
     "output_type": "stream",
     "text": [
      "35.82633857674892\n",
      "3144.7512532707865\n",
      "56.07808175455707\n"
     ]
    }
   ],
   "source": [
    "#performance checking of the model on testdata#meansquared error, mean absolute error, absolute error\n",
    "from sklearn import metrics\n",
    "print(metrics.mean_absolute_error(predicted_time.flatten(),y_test_scaled))\n",
    "print(metrics.mean_squared_error(predicted_time.flatten(),y_test_scaled))\n",
    "print(np.sqrt(metrics.mean_squared_error(predicted_time.flatten(),y_test_scaled)))"
   ]
  },
  {
   "cell_type": "code",
   "execution_count": 59,
   "metadata": {
    "scrolled": false
   },
   "outputs": [
    {
     "data": {
      "text/html": [
       "<div>\n",
       "<style>\n",
       "    .dataframe thead tr:only-child th {\n",
       "        text-align: right;\n",
       "    }\n",
       "\n",
       "    .dataframe thead th {\n",
       "        text-align: left;\n",
       "    }\n",
       "\n",
       "    .dataframe tbody tr th {\n",
       "        vertical-align: top;\n",
       "    }\n",
       "</style>\n",
       "<table border=\"1\" class=\"dataframe\">\n",
       "  <thead>\n",
       "    <tr style=\"text-align: right;\">\n",
       "      <th></th>\n",
       "      <th>Time_predicted</th>\n",
       "      <th>time_actual</th>\n",
       "    </tr>\n",
       "  </thead>\n",
       "  <tbody>\n",
       "    <tr>\n",
       "      <th>0</th>\n",
       "      <td>71.925293</td>\n",
       "      <td>97</td>\n",
       "    </tr>\n",
       "    <tr>\n",
       "      <th>1</th>\n",
       "      <td>72.747948</td>\n",
       "      <td>16</td>\n",
       "    </tr>\n",
       "    <tr>\n",
       "      <th>2</th>\n",
       "      <td>71.968140</td>\n",
       "      <td>42</td>\n",
       "    </tr>\n",
       "    <tr>\n",
       "      <th>3</th>\n",
       "      <td>62.488499</td>\n",
       "      <td>25</td>\n",
       "    </tr>\n",
       "    <tr>\n",
       "      <th>4</th>\n",
       "      <td>71.171341</td>\n",
       "      <td>37</td>\n",
       "    </tr>\n",
       "    <tr>\n",
       "      <th>5</th>\n",
       "      <td>70.829651</td>\n",
       "      <td>47</td>\n",
       "    </tr>\n",
       "    <tr>\n",
       "      <th>6</th>\n",
       "      <td>69.764465</td>\n",
       "      <td>111</td>\n",
       "    </tr>\n",
       "    <tr>\n",
       "      <th>7</th>\n",
       "      <td>70.853958</td>\n",
       "      <td>71</td>\n",
       "    </tr>\n",
       "    <tr>\n",
       "      <th>8</th>\n",
       "      <td>71.075424</td>\n",
       "      <td>30</td>\n",
       "    </tr>\n",
       "  </tbody>\n",
       "</table>\n",
       "</div>"
      ],
      "text/plain": [
       "   Time_predicted  time_actual\n",
       "0       71.925293           97\n",
       "1       72.747948           16\n",
       "2       71.968140           42\n",
       "3       62.488499           25\n",
       "4       71.171341           37\n",
       "5       70.829651           47\n",
       "6       69.764465          111\n",
       "7       70.853958           71\n",
       "8       71.075424           30"
      ]
     },
     "execution_count": 59,
     "metadata": {},
     "output_type": "execute_result"
    }
   ],
   "source": [
    "#checking the predicted values using Deep learning\n",
    "X_train_outputs_deep_learning = pd.DataFrame({'time_actual':y_train_df.values[1:10,],'Time_predicted':predicted_time.flatten()[1:10,]})\n",
    "X_train_outputs_deep_learning"
   ]
  },
  {
   "cell_type": "code",
   "execution_count": 91,
   "metadata": {},
   "outputs": [
    {
     "data": {
      "image/png": "[encoded data removed]",
      "text/plain": [
       "<matplotlib.figure.Figure at 0x20649ee0438>"
      ]
     },
     "metadata": {},
     "output_type": "display_data"
    }
   ],
   "source": [
    "# To plotk the predicted vs actual using deep learning.\n",
    "\n",
    "fig, ax = plt.subplots(figsize=(12, 12))\n",
    "\n",
    "sns.regplot(x=\"time_actual\", y=\"Time_predicted\", data=X_train_outputs_deep_learning)\n",
    "\n",
    "plt.show()\n"
   ]
  }
 ],
 "metadata": {
  "kernelspec": {
   "display_name": "Python 3",
   "language": "python",
   "name": "python3"
  },
  "language_info": {
   "codemirror_mode": {
    "name": "ipython",
    "version": 3
   },
   "file_extension": ".py",
   "mimetype": "text/x-python",
   "name": "python",
   "nbconvert_exporter": "python",
   "pygments_lexer": "ipython3",
   "version": "3.6.5"
  }
 },
 "nbformat": 4,
 "nbformat_minor": 2
}
