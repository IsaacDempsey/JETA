{
 "cells": [
  {
   "cell_type": "markdown",
   "metadata": {},
   "source": [
    "### Create Coefficients for each Segment"
   ]
  },
  {
   "cell_type": "code",
   "execution_count": 1,
   "metadata": {},
   "outputs": [],
   "source": [
    "import pandas as pd\n",
    "from sklearn import linear_model"
   ]
  },
  {
   "cell_type": "code",
   "execution_count": 2,
   "metadata": {},
   "outputs": [
    {
     "name": "stderr",
     "output_type": "stream",
     "text": [
      "/home/isaac/anaconda3/lib/python3.6/site-packages/psycopg2/__init__.py:144: UserWarning: The psycopg2 wheel package will be renamed from release 2.8; in order to keep installing from binary please use \"pip install psycopg2-binary\" instead. For details see: <http://initd.org/psycopg/docs/install.html#binary-install-from-pypi>.\n",
      "  \"\"\")\n"
     ]
    }
   ],
   "source": [
    "# Connect to database\n",
    "\n",
    "from sqlalchemy import create_engine\n",
    "\n",
    "URI=\"localhost\"\n",
    "PORT=\"5433\"\n",
    "DB = \"jetaDb\"\n",
    "USER = \"postgres\"\n",
    "PASSWORD = \"00001234\"\n",
    "  \n",
    "engine = create_engine(\"postgresql://{}:{}@{}:{}/{}\".format(USER, PASSWORD, URI, PORT, DB), echo=True)"
   ]
  },
  {
   "cell_type": "code",
   "execution_count": 3,
   "metadata": {},
   "outputs": [],
   "source": [
    "# Making the dataframe that will hold the coefficients for each segment\n",
    "\n",
    "Coefficients = pd.DataFrame(columns=['segment', 'intercept', 'arrivaltime', 'rain', 'holiday', \n",
    "                                    'mon', 'tue', 'thu', 'fri', 'sat', 'sun',])"
   ]
  },
  {
   "cell_type": "code",
   "execution_count": 4,
   "metadata": {},
   "outputs": [],
   "source": [
    "# Lists to hold the data that will be added to our coefficients dataframe\n",
    "segment = []\n",
    "intercept = []\n",
    "arrivaltime = []\n",
    "rain = []\n",
    "holiday = []\n",
    "fri = []\n",
    "mon = []\n",
    "sat = []\n",
    "sun = []\n",
    "thu = []\n",
    "tue = []\n",
    "wed = []"
   ]
  },
  {
   "cell_type": "code",
   "execution_count": 5,
   "metadata": {},
   "outputs": [],
   "source": [
    "import os\n",
    "\n",
    "# Create list of all files in segment directory\n",
    "segment_files = os.listdir(\"/home/isaac/Data/SegmentedSamples2_actual_final/\")\n",
    "\n",
    "# Remove .csv from file names\n",
    "segment_files = [file[:-4] for file in segment_files]"
   ]
  },
  {
   "cell_type": "code",
   "execution_count": null,
   "metadata": {},
   "outputs": [],
   "source": [
    "# Column names for the files\n",
    "\n",
    "colnames = ['segments', 'arrivaltime', 'dayofweek', 'rain', 'holiday', \n",
    "            'citycenter', 'distance', 'kalman_time', 'traveltime']"
   ]
  },
  {
   "cell_type": "code",
   "execution_count": null,
   "metadata": {
    "scrolled": false
   },
   "outputs": [
    {
     "name": "stdout",
     "output_type": "stream",
     "text": [
      "100, 200, 300, 400, 500, 600, 700, 800, 900, 1000, 1100, 1200, 1300, 1400, 1500, 1600, 1700, 1800, 1900, 2000, 2100, 2200, 2300, 2400, 2500, 2600, 2700, 2800, 2900, "
     ]
    }
   ],
   "source": [
    "# Running a loop through segments and learning simple linear regression model through each segment\n",
    "\n",
    "count = 0\n",
    "hundreds = 0\n",
    "\n",
    "for file in segment_files:\n",
    "    fname = \"/home/isaac/Data/SegmentedSamples2_actual_final/{}.csv\".format(file)\n",
    "    \n",
    "    if os.path.isfile(fname):\n",
    "        # Read the file in a dataframe\n",
    "        df = pd.read_csv(fname, names = colnames,  delimiter=',')\n",
    "        \n",
    "        df.drop(['segments', 'citycenter', 'distance', 'kalman_time'], axis=1, inplace=True)\n",
    "        \n",
    "        # Converting the datatypes\n",
    "        df['dayofweek'] = df['dayofweek'].astype('category')\n",
    "        \n",
    "        # Rain had missing values\n",
    "        df['rain'].fillna(df['rain'].mean(), inplace=True)\n",
    "        \n",
    "        # Split the dataset into independent and dependent features\n",
    "        df_X = df[['arrivaltime', 'dayofweek', 'rain', 'holiday']]\n",
    "        df_y = df['traveltime']\n",
    "        \n",
    "        # Dummify day of week\n",
    "        weekday_dummies = pd.get_dummies(df_X.dayofweek, prefix='dayofweek')\n",
    "        \n",
    "        # Check that segment has each day of the week\n",
    "        if weekday_dummies.shape[1] != 7:\n",
    "            #print(file, \"has\", weekday_dummies.shape[1], \"weekdays. Ignoring segment...\")\n",
    "            continue\n",
    "        \n",
    "        df_X_dummied = pd.concat([df_X,weekday_dummies],axis=1)\n",
    "        df_X_dummied = df_X_dummied.drop('dayofweek',axis=1)\n",
    "        df_X_dummied = df_X_dummied.drop('dayofweek_Wednesday',axis=1) # To avoid dummy variable trap\n",
    "        \n",
    "        lm = linear_model.LinearRegression()\n",
    "        lm.fit(df_X_dummied, df_y)\n",
    "        \n",
    "        # Writing the coefficients in the lists\n",
    "        segment.append(file)\n",
    "        intercept.append(lm.intercept_)\n",
    "        arrivaltime.append(lm.coef_[0])\n",
    "        rain.append(lm.coef_[1])\n",
    "        holiday.append(lm.coef_[2])\n",
    "        fri.append(lm.coef_[3])\n",
    "        mon.append(lm.coef_[4])\n",
    "        sat.append(lm.coef_[5])\n",
    "        sun.append(lm.coef_[6])\n",
    "        thu.append(lm.coef_[7])\n",
    "        tue.append(lm.coef_[8])\n",
    "    \n",
    "    else:\n",
    "        print(\"File: {}, not found\".format(fname))\n",
    "        continue\n",
    "    \n",
    "    count += 1  \n",
    "    if count >= 100:\n",
    "        hundreds += 100\n",
    "        print(hundreds, end=\", \")\n",
    "        count = 0        \n",
    " "
   ]
  },
  {
   "cell_type": "code",
   "execution_count": null,
   "metadata": {},
   "outputs": [],
   "source": [
    "# Convert lists into dataframes\n",
    "Coefficients['segment'] = segment\n",
    "Coefficients['intercept'] = intercept\n",
    "Coefficients['arrivaltime'] = arrivaltime\n",
    "Coefficients['rain'] = rain\n",
    "Coefficients['holiday'] = holiday\n",
    "Coefficients['fri'] = fri\n",
    "Coefficients['mon'] = mon\n",
    "Coefficients['sat'] = sat\n",
    "Coefficients['sun'] = sun\n",
    "Coefficients['thu'] = thu\n",
    "Coefficients['tue'] = tue"
   ]
  },
  {
   "cell_type": "code",
   "execution_count": null,
   "metadata": {
    "scrolled": false
   },
   "outputs": [],
   "source": [
    "Coefficients.head(5)"
   ]
  },
  {
   "cell_type": "code",
   "execution_count": null,
   "metadata": {},
   "outputs": [],
   "source": [
    "Coefficients.loc[Coefficients['segment'] == '4323_4324']"
   ]
  },
  {
   "cell_type": "code",
   "execution_count": null,
   "metadata": {
    "scrolled": true
   },
   "outputs": [],
   "source": [
    "# Write coefficients to database table\n",
    "\n",
    "Coefficients.rename(columns={'Segment': 'segment'}, inplace=True)\n",
    "\n",
    "Coefficients.to_sql('main_coefficients', engine, if_exists='append', index=False)"
   ]
  },
  {
   "cell_type": "code",
   "execution_count": null,
   "metadata": {},
   "outputs": [],
   "source": []
  }
 ],
 "metadata": {
  "kernelspec": {
   "display_name": "Python 3",
   "language": "python",
   "name": "python3"
  },
  "language_info": {
   "codemirror_mode": {
    "name": "ipython",
    "version": 3
   },
   "file_extension": ".py",
   "mimetype": "text/x-python",
   "name": "python",
   "nbconvert_exporter": "python",
   "pygments_lexer": "ipython3",
   "version": "3.6.3"
  }
 },
 "nbformat": 4,
 "nbformat_minor": 2
}
