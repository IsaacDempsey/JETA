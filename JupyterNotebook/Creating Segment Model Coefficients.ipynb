{
 "cells": [
  {
   "cell_type": "markdown",
   "metadata": {},
   "source": [
    "### Create Coefficients for each Segment"
   ]
  },
  {
   "cell_type": "code",
   "execution_count": 34,
   "metadata": {},
   "outputs": [],
   "source": [
    "import pandas as pd\n",
    "from sklearn import linear_model"
   ]
  },
  {
   "cell_type": "code",
   "execution_count": 35,
   "metadata": {},
   "outputs": [],
   "source": [
    "# Connect to database\n",
    "\n",
    "from sqlalchemy import create_engine\n",
    "\n",
    "URI=\"localhost\"\n",
    "PORT=\"5433\"\n",
    "DB = \"jetaDb\"\n",
    "USER = \"postgres\"\n",
    "PASSWORD = \"00001234\"\n",
    "  \n",
    "engine = create_engine(\"postgresql://{}:{}@{}:{}/{}\".format(USER, PASSWORD, URI, PORT, DB), echo=True)"
   ]
  },
  {
   "cell_type": "code",
   "execution_count": 36,
   "metadata": {},
   "outputs": [],
   "source": [
    "# Making the dataframe that will hold the coefficients for each segment\n",
    "\n",
    "Coefficients = pd.DataFrame(columns=['segment', 'intercept', 'arrivaltime', 'rain', 'holiday', \n",
    "                                    'mon', 'tue', 'thu', 'fri', 'sat', 'sun',])"
   ]
  },
  {
   "cell_type": "code",
   "execution_count": 37,
   "metadata": {},
   "outputs": [],
   "source": [
    "# Lists to hold the data that will be added to our coefficients dataframe\n",
    "segment = []\n",
    "intercept = []\n",
    "arrivaltime = []\n",
    "rain = []\n",
    "holiday = []\n",
    "fri = []\n",
    "mon = []\n",
    "sat = []\n",
    "sun = []\n",
    "thu = []\n",
    "tue = []\n",
    "wed = []"
   ]
  },
  {
   "cell_type": "code",
   "execution_count": 38,
   "metadata": {},
   "outputs": [],
   "source": [
    "# Specify directory containing segment files\n",
    "\n",
    "segments_dir = \"/home/isaac/Data/Segments_15th_Aug/\""
   ]
  },
  {
   "cell_type": "code",
   "execution_count": 39,
   "metadata": {},
   "outputs": [],
   "source": [
    "import os\n",
    "\n",
    "# Create list of all files in segment directory\n",
    "segment_files = os.listdir(segments_dir)\n",
    "\n",
    "# Remove .csv from file names\n",
    "segment_files = [file[:-4] for file in segment_files]"
   ]
  },
  {
   "cell_type": "code",
   "execution_count": 40,
   "metadata": {},
   "outputs": [],
   "source": [
    "# Column names for the files\n",
    "\n",
    "colnames = ['segments', 'arrivaltime', 'dayofweek', 'rain', 'holiday', 'traveltime']"
   ]
  },
  {
   "cell_type": "code",
   "execution_count": 41,
   "metadata": {
    "scrolled": false
   },
   "outputs": [
    {
     "name": "stdout",
     "output_type": "stream",
     "text": [
      "100, 200, 300, 400, 500, 600, 700, 800, 900, 1000, 1100, 1200, 1300, 1400, 1500, 1600, 1700, 1800, 1900, 2000, 2100, 2200, 2300, 2400, 2500, 2600, 2700, 2800, 2900, 3000, 3100, 3200, 3300, 3400, 3500, 3600, 3700, 3800, 3900, 4000, 4100, 4200, 4300, 4400, 4500, 4600, 4700, 4800, 4900, 5000, 5100, 5200, 5300, 5400, 5500, 5600, 5700, 5800, 5900, 6000, 6100, 6200, 6300, 6400, 6500, 6600, 6700, 6800, 6900, 7000, 7100, 7200, 7300, 7400, 7500, 7600, 7700, 7800, 7900, 8000, "
     ]
    }
   ],
   "source": [
    "# Running a loop through segments and learning simple linear regression model through each segment\n",
    "\n",
    "count = 0\n",
    "hundreds = 0\n",
    "\n",
    "for file in segment_files:\n",
    "    filename = segments_dir + \"{}.csv\".format(file)\n",
    "    \n",
    "    if os.path.isfile(filename):\n",
    "        # Read the file in a dataframe\n",
    "        df = pd.read_csv(filename, names = colnames,  delimiter=',')\n",
    "        \n",
    "        # Converting the datatypes\n",
    "        df['dayofweek'] = df['dayofweek'].astype('category')\n",
    "        \n",
    "        # Rain had missing values\n",
    "        df['rain'].fillna(df['rain'].mean(), inplace=True)\n",
    "        \n",
    "        # Split the dataset into independent and dependent features\n",
    "        df_X = df[['arrivaltime', 'dayofweek', 'rain', 'holiday']]\n",
    "        df_y = df['traveltime']\n",
    "        \n",
    "        # Dummify day of week\n",
    "        weekday_dummies = pd.get_dummies(df_X.dayofweek, prefix='dayofweek')\n",
    "        \n",
    "        # Check that segment has each day of the week\n",
    "        if weekday_dummies.shape[1] != 7:\n",
    "            #print(file, \"has\", weekday_dummies.shape[1], \"weekdays. Ignoring segment...\")\n",
    "            continue\n",
    "        \n",
    "        df_X_dummied = pd.concat([df_X, weekday_dummies], axis = 1)\n",
    "        df_X_dummied = df_X_dummied.drop('dayofweek', axis = 1)\n",
    "        df_X_dummied = df_X_dummied.drop('dayofweek_Wednesday', axis = 1) # To avoid dummy variable trap\n",
    "        \n",
    "        lm = linear_model.LinearRegression()\n",
    "        try:\n",
    "            lm.fit(df_X_dummied, df_y)\n",
    "        except:\n",
    "            print(\"Couldn't fit model for: \", filename)\n",
    "            continue\n",
    "        \n",
    "        # Writing the coefficients in the lists\n",
    "        segment.append(file)\n",
    "        intercept.append(lm.intercept_)\n",
    "        arrivaltime.append(lm.coef_[0])\n",
    "        rain.append(lm.coef_[1])\n",
    "        holiday.append(lm.coef_[2])\n",
    "        fri.append(lm.coef_[3])\n",
    "        mon.append(lm.coef_[4])\n",
    "        sat.append(lm.coef_[5])\n",
    "        sun.append(lm.coef_[6])\n",
    "        thu.append(lm.coef_[7])\n",
    "        tue.append(lm.coef_[8])\n",
    "    \n",
    "    else:\n",
    "        print(\"File: {}, not found\".format(filename))\n",
    "        continue\n",
    "    \n",
    "    count += 1  \n",
    "    if count >= 100:\n",
    "        hundreds += 100\n",
    "        print(hundreds, end=\", \")\n",
    "        count = 0        \n",
    " "
   ]
  },
  {
   "cell_type": "code",
   "execution_count": 42,
   "metadata": {},
   "outputs": [],
   "source": [
    "# Convert lists into dataframes\n",
    "Coefficients['segment'] = segment\n",
    "Coefficients['intercept'] = intercept\n",
    "Coefficients['arrivaltime'] = arrivaltime\n",
    "Coefficients['rain'] = rain\n",
    "Coefficients['holiday'] = holiday\n",
    "Coefficients['fri'] = fri\n",
    "Coefficients['mon'] = mon\n",
    "Coefficients['sat'] = sat\n",
    "Coefficients['sun'] = sun\n",
    "Coefficients['thu'] = thu\n",
    "Coefficients['tue'] = tue"
   ]
  },
  {
   "cell_type": "code",
   "execution_count": 43,
   "metadata": {
    "scrolled": false
   },
   "outputs": [
    {
     "data": {
      "text/html": [
       "<div>\n",
       "<style>\n",
       "    .dataframe thead tr:only-child th {\n",
       "        text-align: right;\n",
       "    }\n",
       "\n",
       "    .dataframe thead th {\n",
       "        text-align: left;\n",
       "    }\n",
       "\n",
       "    .dataframe tbody tr th {\n",
       "        vertical-align: top;\n",
       "    }\n",
       "</style>\n",
       "<table border=\"1\" class=\"dataframe\">\n",
       "  <thead>\n",
       "    <tr style=\"text-align: right;\">\n",
       "      <th></th>\n",
       "      <th>segment</th>\n",
       "      <th>intercept</th>\n",
       "      <th>arrivaltime</th>\n",
       "      <th>rain</th>\n",
       "      <th>holiday</th>\n",
       "      <th>mon</th>\n",
       "      <th>tue</th>\n",
       "      <th>thu</th>\n",
       "      <th>fri</th>\n",
       "      <th>sat</th>\n",
       "      <th>sun</th>\n",
       "    </tr>\n",
       "  </thead>\n",
       "  <tbody>\n",
       "    <tr>\n",
       "      <th>0</th>\n",
       "      <td>7183_4880</td>\n",
       "      <td>78.560115</td>\n",
       "      <td>-0.000284</td>\n",
       "      <td>-0.313564</td>\n",
       "      <td>-2.600906</td>\n",
       "      <td>-1.324411</td>\n",
       "      <td>-0.083571</td>\n",
       "      <td>-0.971274</td>\n",
       "      <td>-0.384542</td>\n",
       "      <td>-4.189973</td>\n",
       "      <td>-9.666895</td>\n",
       "    </tr>\n",
       "    <tr>\n",
       "      <th>1</th>\n",
       "      <td>3155_3156</td>\n",
       "      <td>30.662306</td>\n",
       "      <td>-0.000139</td>\n",
       "      <td>0.482527</td>\n",
       "      <td>-1.690592</td>\n",
       "      <td>0.145461</td>\n",
       "      <td>1.655619</td>\n",
       "      <td>0.902180</td>\n",
       "      <td>1.201202</td>\n",
       "      <td>-1.948165</td>\n",
       "      <td>-1.670823</td>\n",
       "    </tr>\n",
       "    <tr>\n",
       "      <th>2</th>\n",
       "      <td>1845_1847</td>\n",
       "      <td>132.754580</td>\n",
       "      <td>-0.000385</td>\n",
       "      <td>53.237907</td>\n",
       "      <td>-13.758668</td>\n",
       "      <td>2.244599</td>\n",
       "      <td>-6.940758</td>\n",
       "      <td>1.265589</td>\n",
       "      <td>12.345858</td>\n",
       "      <td>4.940886</td>\n",
       "      <td>17.393461</td>\n",
       "    </tr>\n",
       "    <tr>\n",
       "      <th>3</th>\n",
       "      <td>1601_1602</td>\n",
       "      <td>50.855529</td>\n",
       "      <td>0.000068</td>\n",
       "      <td>-0.814369</td>\n",
       "      <td>0.035784</td>\n",
       "      <td>0.793669</td>\n",
       "      <td>-0.824300</td>\n",
       "      <td>-0.052062</td>\n",
       "      <td>0.361737</td>\n",
       "      <td>-2.717113</td>\n",
       "      <td>-4.477299</td>\n",
       "    </tr>\n",
       "    <tr>\n",
       "      <th>4</th>\n",
       "      <td>4002_5112</td>\n",
       "      <td>38.290251</td>\n",
       "      <td>0.000020</td>\n",
       "      <td>-1.122892</td>\n",
       "      <td>0.353590</td>\n",
       "      <td>0.796137</td>\n",
       "      <td>1.781789</td>\n",
       "      <td>2.034758</td>\n",
       "      <td>3.582442</td>\n",
       "      <td>-0.084879</td>\n",
       "      <td>5.073580</td>\n",
       "    </tr>\n",
       "  </tbody>\n",
       "</table>\n",
       "</div>"
      ],
      "text/plain": [
       "     segment   intercept  arrivaltime       rain    holiday       mon  \\\n",
       "0  7183_4880   78.560115    -0.000284  -0.313564  -2.600906 -1.324411   \n",
       "1  3155_3156   30.662306    -0.000139   0.482527  -1.690592  0.145461   \n",
       "2  1845_1847  132.754580    -0.000385  53.237907 -13.758668  2.244599   \n",
       "3  1601_1602   50.855529     0.000068  -0.814369   0.035784  0.793669   \n",
       "4  4002_5112   38.290251     0.000020  -1.122892   0.353590  0.796137   \n",
       "\n",
       "        tue       thu        fri       sat        sun  \n",
       "0 -0.083571 -0.971274  -0.384542 -4.189973  -9.666895  \n",
       "1  1.655619  0.902180   1.201202 -1.948165  -1.670823  \n",
       "2 -6.940758  1.265589  12.345858  4.940886  17.393461  \n",
       "3 -0.824300 -0.052062   0.361737 -2.717113  -4.477299  \n",
       "4  1.781789  2.034758   3.582442 -0.084879   5.073580  "
      ]
     },
     "execution_count": 43,
     "metadata": {},
     "output_type": "execute_result"
    }
   ],
   "source": [
    "Coefficients.head(5)"
   ]
  },
  {
   "cell_type": "code",
   "execution_count": 44,
   "metadata": {},
   "outputs": [
    {
     "data": {
      "text/html": [
       "<div>\n",
       "<style>\n",
       "    .dataframe thead tr:only-child th {\n",
       "        text-align: right;\n",
       "    }\n",
       "\n",
       "    .dataframe thead th {\n",
       "        text-align: left;\n",
       "    }\n",
       "\n",
       "    .dataframe tbody tr th {\n",
       "        vertical-align: top;\n",
       "    }\n",
       "</style>\n",
       "<table border=\"1\" class=\"dataframe\">\n",
       "  <thead>\n",
       "    <tr style=\"text-align: right;\">\n",
       "      <th></th>\n",
       "      <th>segment</th>\n",
       "      <th>intercept</th>\n",
       "      <th>arrivaltime</th>\n",
       "      <th>rain</th>\n",
       "      <th>holiday</th>\n",
       "      <th>mon</th>\n",
       "      <th>tue</th>\n",
       "      <th>thu</th>\n",
       "      <th>fri</th>\n",
       "      <th>sat</th>\n",
       "      <th>sun</th>\n",
       "    </tr>\n",
       "  </thead>\n",
       "  <tbody>\n",
       "    <tr>\n",
       "      <th>21</th>\n",
       "      <td>4323_4324</td>\n",
       "      <td>287.873264</td>\n",
       "      <td>-0.000168</td>\n",
       "      <td>0.379277</td>\n",
       "      <td>-12.152546</td>\n",
       "      <td>0.300354</td>\n",
       "      <td>-1.715763</td>\n",
       "      <td>2.941781</td>\n",
       "      <td>2.436404</td>\n",
       "      <td>-16.178807</td>\n",
       "      <td>-12.382918</td>\n",
       "    </tr>\n",
       "  </tbody>\n",
       "</table>\n",
       "</div>"
      ],
      "text/plain": [
       "      segment   intercept  arrivaltime      rain    holiday       mon  \\\n",
       "21  4323_4324  287.873264    -0.000168  0.379277 -12.152546  0.300354   \n",
       "\n",
       "         tue       thu       fri        sat        sun  \n",
       "21 -1.715763  2.941781  2.436404 -16.178807 -12.382918  "
      ]
     },
     "execution_count": 44,
     "metadata": {},
     "output_type": "execute_result"
    }
   ],
   "source": [
    "Coefficients.loc[Coefficients['segment'] == '4323_4324']"
   ]
  },
  {
   "cell_type": "code",
   "execution_count": 46,
   "metadata": {
    "scrolled": false
   },
   "outputs": [
    {
     "name": "stdout",
     "output_type": "stream",
     "text": [
      "2018-08-15 12:49:22,640 INFO sqlalchemy.engine.base.Engine select version()\n",
      "2018-08-15 12:49:22,643 INFO sqlalchemy.engine.base.Engine {}\n",
      "2018-08-15 12:49:22,656 INFO sqlalchemy.engine.base.Engine select current_schema()\n",
      "2018-08-15 12:49:22,658 INFO sqlalchemy.engine.base.Engine {}\n",
      "2018-08-15 12:49:22,665 INFO sqlalchemy.engine.base.Engine SELECT CAST('test plain returns' AS VARCHAR(60)) AS anon_1\n",
      "2018-08-15 12:49:22,666 INFO sqlalchemy.engine.base.Engine {}\n",
      "2018-08-15 12:49:22,673 INFO sqlalchemy.engine.base.Engine SELECT CAST('test unicode returns' AS VARCHAR(60)) AS anon_1\n",
      "2018-08-15 12:49:22,674 INFO sqlalchemy.engine.base.Engine {}\n",
      "2018-08-15 12:49:22,680 INFO sqlalchemy.engine.base.Engine show standard_conforming_strings\n",
      "2018-08-15 12:49:22,681 INFO sqlalchemy.engine.base.Engine {}\n",
      "2018-08-15 12:49:22,688 INFO sqlalchemy.engine.base.Engine select relname from pg_class c join pg_namespace n on n.oid=c.relnamespace where pg_catalog.pg_table_is_visible(c.oid) and relname=%(name)s\n",
      "2018-08-15 12:49:22,690 INFO sqlalchemy.engine.base.Engine {'name': 'main_coefficients'}\n",
      "2018-08-15 12:49:22,706 INFO sqlalchemy.engine.base.Engine BEGIN (implicit)\n",
      "2018-08-15 12:49:22,886 INFO sqlalchemy.engine.base.Engine INSERT INTO main_coefficients (segment, intercept, arrivaltime, rain, holiday, mon, tue, thu, fri, sat, sun) VALUES (%(segment)s, %(intercept)s, %(arrivaltime)s, %(rain)s, %(holiday)s, %(mon)s, %(tue)s, %(thu)s, %(fri)s, %(sat)s, %(sun)s)\n",
      "2018-08-15 12:49:22,888 INFO sqlalchemy.engine.base.Engine ({'segment': '7183_4880', 'intercept': 78.56011490236514, 'arrivaltime': -0.00028354585785130904, 'rain': -0.31356409327998414, 'holiday': -2.6009058037254, 'mon': -1.3244113135034414, 'tue': -0.0835712390995551, 'thu': -0.9712737366028141, 'fri': -0.384541959424173, 'sat': -4.189972964029443, 'sun': -9.666895275774472}, {'segment': '3155_3156', 'intercept': 30.66230600674604, 'arrivaltime': -0.00013931136368365834, 'rain': 0.4825269670369807, 'holiday': -1.690591599141317, 'mon': 0.14546134179035894, 'tue': 1.6556194304375507, 'thu': 0.9021801578483587, 'fri': 1.2012023241258154, 'sat': -1.9481651872704986, 'sun': -1.67082339222297}, {'segment': '1845_1847', 'intercept': 132.75458014666202, 'arrivaltime': -0.0003854244983857052, 'rain': 53.23790690467043, 'holiday': -13.758667537587918, 'mon': 2.244598792101307, 'tue': -6.94075775084813, 'thu': 1.2655894599894633, 'fri': 12.345858154804937, 'sat': 4.940886358242091, 'sun': 17.393461057887972}, {'segment': '1601_1602', 'intercept': 50.855529001734595, 'arrivaltime': 6.826623390662492e-05, 'rain': -0.814369005776824, 'holiday': 0.035784420179454546, 'mon': 0.793669123612135, 'tue': -0.8242998846540295, 'thu': -0.05206229706228893, 'fri': 0.3617373654012014, 'sat': -2.717112585635801, 'sun': -4.477298887224298}, {'segment': '4002_5112', 'intercept': 38.290251091246226, 'arrivaltime': 2.0087757503864864e-05, 'rain': -1.1228916815996886, 'holiday': 0.35359037672358984, 'mon': 0.7961365369688455, 'tue': 1.7817892324318279, 'thu': 2.0347583383082193, 'fri': 3.5824420968669295, 'sat': -0.08487947105355162, 'sun': 5.073579593907705}, {'segment': '7021_1893', 'intercept': 103.17113796394864, 'arrivaltime': -0.00017955547713919065, 'rain': 3.485035289360606, 'holiday': -1.1091063860096968, 'mon': 2.6732846527985923, 'tue': -0.42820199751051946, 'thu': 5.718682255427373, 'fri': 2.2365036164254795, 'sat': -0.6647404067493315, 'sun': -0.04129802473521327}, {'segment': '4369_6229', 'intercept': 91.67816408408352, 'arrivaltime': 9.016072966747288e-05, 'rain': 83.67793182621024, 'holiday': -6.656862318810994, 'mon': 10.587146333053614, 'tue': 0.025052431646489737, 'thu': -9.841635800522035, 'fri': -4.95145099856542, 'sat': -12.079483023389734, 'sun': -4.013432398835242}, {'segment': '1055_2868', 'intercept': 79.51831904884165, 'arrivaltime': -0.00031766067690426646, 'rain': 0.788663155302749, 'holiday': -5.597488710220914, 'mon': 0.34350108314176375, 'tue': -0.15524723025622822, 'thu': 0.9403214655947145, 'fri': -1.9274375048403924, 'sat': -9.04386776789856, 'sun': -5.374168877269776}  ... displaying 10 of 8046 total bound parameter sets ...  {'segment': '4578_1100', 'intercept': 59.5263670852846, 'arrivaltime': -1.0835413400040227e-05, 'rain': 1.7046931170960495, 'holiday': -4.818013444744194, 'mon': -1.8583359325296471, 'tue': -0.3849117241790302, 'thu': 1.2775975318731319, 'fri': -1.1166701307384501, 'sat': -5.899863081569642, 'sun': -2.0579700104712897}, {'segment': '5008_4347', 'intercept': 174.49259964765116, 'arrivaltime': 0.0005578245403685104, 'rain': 64.26215452739746, 'holiday': -2.531317124701557, 'mon': -33.492662117845015, 'tue': -24.907014827304085, 'thu': -24.775800109805466, 'fri': -80.919761852275, 'sat': -64.12824133442288, 'sun': -65.04611201592343})\n",
      "2018-08-15 12:49:45,916 INFO sqlalchemy.engine.base.Engine COMMIT\n"
     ]
    }
   ],
   "source": [
    "# Write coefficients to database table\n",
    "\n",
    "Coefficients.to_sql('main_coefficients', engine, if_exists='append', index=False)"
   ]
  },
  {
   "cell_type": "code",
   "execution_count": null,
   "metadata": {},
   "outputs": [],
   "source": []
  }
 ],
 "metadata": {
  "kernelspec": {
   "display_name": "Python 3",
   "language": "python",
   "name": "python3"
  },
  "language_info": {
   "codemirror_mode": {
    "name": "ipython",
    "version": 3
   },
   "file_extension": ".py",
   "mimetype": "text/x-python",
   "name": "python",
   "nbconvert_exporter": "python",
   "pygments_lexer": "ipython3",
   "version": "3.6.3"
  }
 },
 "nbformat": 4,
 "nbformat_minor": 2
}
