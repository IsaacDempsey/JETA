{
 "cells": [
  {
   "cell_type": "markdown",
   "metadata": {},
   "source": [
    "### Create Coefficients for each Segment"
   ]
  },
  {
   "cell_type": "code",
   "execution_count": 29,
   "metadata": {},
   "outputs": [],
   "source": [
    "import pandas as pd\n",
    "from sklearn import linear_model"
   ]
  },
  {
   "cell_type": "code",
   "execution_count": 30,
   "metadata": {},
   "outputs": [],
   "source": [
    "# Connect to database\n",
    "\n",
    "from sqlalchemy import create_engine\n",
    "\n",
    "URI=\"localhost\"\n",
    "PORT=\"5433\"\n",
    "DB = \"jetaDb\"\n",
    "USER = \"postgres\"\n",
    "PASSWORD = \"00001234\"\n",
    "  \n",
    "engine = create_engine(\"postgresql://{}:{}@{}:{}/{}\".format(USER, PASSWORD, URI, PORT, DB), echo=True)"
   ]
  },
  {
   "cell_type": "code",
   "execution_count": 31,
   "metadata": {},
   "outputs": [],
   "source": [
    "# Making the dataframe that will hold the coefficients for each segment\n",
    "\n",
    "Coefficients = pd.DataFrame(columns=['segment', 'intercept', 'arrivaltime', 'rain', \n",
    "                                    'fri', 'mon', 'sat', 'sun', 'thu', 'tue'])"
   ]
  },
  {
   "cell_type": "code",
   "execution_count": 32,
   "metadata": {},
   "outputs": [],
   "source": [
    "# Lists to hold the data that will be added to our coefficients dataframe\n",
    "segment = []\n",
    "intercept = []\n",
    "arrivaltime = []\n",
    "rain = []\n",
    "holiday = []\n",
    "fri = []\n",
    "mon = []\n",
    "sat = []\n",
    "sun = []\n",
    "thu = []\n",
    "tue = []\n",
    "wed = []"
   ]
  },
  {
   "cell_type": "code",
   "execution_count": 33,
   "metadata": {},
   "outputs": [],
   "source": [
    "import os\n",
    "\n",
    "# Create list of all files in segment directory\n",
    "segment_files = os.listdir(\"/home/isaac/Data/SegmentedSamples2_actual_final/\")\n",
    "\n",
    "# Remove .csv from file names\n",
    "segment_files = [file[:-4] for file in segment_files]"
   ]
  },
  {
   "cell_type": "code",
   "execution_count": 34,
   "metadata": {},
   "outputs": [],
   "source": [
    "# Column names for the files\n",
    "\n",
    "colnames = ['segments', 'arrivaltime', 'dayofweek', 'rain', 'holiday', \n",
    "            'citycenter', 'distance', 'kalman_time', 'traveltime']"
   ]
  },
  {
   "cell_type": "code",
   "execution_count": 35,
   "metadata": {
    "scrolled": false
   },
   "outputs": [
    {
     "name": "stdout",
     "output_type": "stream",
     "text": [
      "100, 200, 300, 400, 500, 600, 700, 800, 900, 1000, 1100, 1200, 1300, 1400, 1500, 1600, 1700, 1800, 1900, 2000, 2100, 2200, 2300, 2400, 2500, 2600, 2700, 2800, 2900, 3000, 3100, 3200, 3300, "
     ]
    }
   ],
   "source": [
    "# Running a loop through segments and learning simple linear regression model through each segment\n",
    "\n",
    "count = 0\n",
    "hundreds = 0\n",
    "\n",
    "for file in segment_files:\n",
    "    fname = \"/home/isaac/Data/SegmentedSamples2_actual_final/{}.csv\".format(file)\n",
    "    \n",
    "    if os.path.isfile(fname):\n",
    "        # Read the file in a dataframe\n",
    "        df = pd.read_csv(fname, names = colnames,  delimiter=',')\n",
    "        \n",
    "        df.drop(['segments', 'citycenter', 'distance', 'kalman_time'], axis=1, inplace=True)\n",
    "        \n",
    "        # Converting the datatypes\n",
    "        df['dayofweek'] = df['dayofweek'].astype('category')\n",
    "        \n",
    "        # Rain had missing values\n",
    "        df['rain'].fillna(df['rain'].mean(), inplace=True)\n",
    "        \n",
    "        # Split the dataset into independent and dependent features\n",
    "        df_X = df[['arrivaltime', 'dayofweek', 'rain', 'holiday']]\n",
    "        df_y = df['traveltime']\n",
    "        \n",
    "        # Dummify day of week\n",
    "        weekday_dummies = pd.get_dummies(df_X.dayofweek, prefix='dayofweek')\n",
    "        \n",
    "        # Check that segment has each day of the week\n",
    "        if weekday_dummies.shape[1] != 7:\n",
    "            #print(file, \"has\", weekday_dummies.shape[1], \"weekdays. Ignoring segment...\")\n",
    "            continue\n",
    "        \n",
    "        df_X_dummied = pd.concat([df_X,weekday_dummies],axis=1)\n",
    "        df_X_dummied = df_X_dummied.drop('dayofweek',axis=1)\n",
    "        df_X_dummied = df_X_dummied.drop('dayofweek_Wednesday',axis=1) # To avoid dummy variable trap\n",
    "        \n",
    "        lm = linear_model.LinearRegression()\n",
    "        lm.fit(df_X_dummied, df_y)\n",
    "        \n",
    "        # Writing the coefficients in the lists\n",
    "        segment.append(file)\n",
    "        intercept.append(lm.intercept_)\n",
    "        arrivaltime.append(lm.coef_[0])\n",
    "        rain.append(lm.coef_[1])\n",
    "        holiday.append(lm.coef_[2])\n",
    "        fri.append(lm.coef_[3])\n",
    "        mon.append(lm.coef_[4])\n",
    "        sat.append(lm.coef_[5])\n",
    "        sun.append(lm.coef_[6])\n",
    "        thu.append(lm.coef_[7])\n",
    "        tue.append(lm.coef_[8])\n",
    "    \n",
    "    else:\n",
    "        print(\"File: {}, not found\".format(fname))\n",
    "        continue\n",
    "    \n",
    "    count += 1  \n",
    "    if count >= 100:\n",
    "        hundreds += 100\n",
    "        print(hundreds, end=\", \")\n",
    "        count = 0        \n",
    " "
   ]
  },
  {
   "cell_type": "code",
   "execution_count": 36,
   "metadata": {},
   "outputs": [],
   "source": [
    "# Convert lists into dataframes\n",
    "Coefficients['segment'] = segment\n",
    "Coefficients['intercept'] = intercept\n",
    "Coefficients['arrivaltime'] = arrivaltime\n",
    "Coefficients['rain'] = rain\n",
    "Coefficients['holiday'] = holiday\n",
    "Coefficients['fri'] = fri\n",
    "Coefficients['mon'] = mon\n",
    "Coefficients['sat'] = sat\n",
    "Coefficients['sun'] = sun\n",
    "Coefficients['thu'] = thu\n",
    "Coefficients['tue'] = tue"
   ]
  },
  {
   "cell_type": "code",
   "execution_count": 37,
   "metadata": {
    "scrolled": false
   },
   "outputs": [
    {
     "data": {
      "text/html": [
       "<div>\n",
       "<style>\n",
       "    .dataframe thead tr:only-child th {\n",
       "        text-align: right;\n",
       "    }\n",
       "\n",
       "    .dataframe thead th {\n",
       "        text-align: left;\n",
       "    }\n",
       "\n",
       "    .dataframe tbody tr th {\n",
       "        vertical-align: top;\n",
       "    }\n",
       "</style>\n",
       "<table border=\"1\" class=\"dataframe\">\n",
       "  <thead>\n",
       "    <tr style=\"text-align: right;\">\n",
       "      <th></th>\n",
       "      <th>segment</th>\n",
       "      <th>intercept</th>\n",
       "      <th>arrivaltime</th>\n",
       "      <th>rain</th>\n",
       "      <th>fri</th>\n",
       "      <th>mon</th>\n",
       "      <th>sat</th>\n",
       "      <th>sun</th>\n",
       "      <th>thu</th>\n",
       "      <th>tue</th>\n",
       "      <th>holiday</th>\n",
       "    </tr>\n",
       "  </thead>\n",
       "  <tbody>\n",
       "    <tr>\n",
       "      <th>0</th>\n",
       "      <td>1601_1602</td>\n",
       "      <td>50.876030</td>\n",
       "      <td>0.000064</td>\n",
       "      <td>-0.430727</td>\n",
       "      <td>1.710725</td>\n",
       "      <td>0.924812</td>\n",
       "      <td>-2.421589</td>\n",
       "      <td>-4.185323</td>\n",
       "      <td>0.108956</td>\n",
       "      <td>0.144921</td>\n",
       "      <td>-0.707968</td>\n",
       "    </tr>\n",
       "    <tr>\n",
       "      <th>1</th>\n",
       "      <td>4002_5112</td>\n",
       "      <td>39.283956</td>\n",
       "      <td>0.000026</td>\n",
       "      <td>-0.792347</td>\n",
       "      <td>0.942639</td>\n",
       "      <td>-0.404349</td>\n",
       "      <td>-0.795380</td>\n",
       "      <td>7.805118</td>\n",
       "      <td>1.232046</td>\n",
       "      <td>-0.727879</td>\n",
       "      <td>-0.305514</td>\n",
       "    </tr>\n",
       "    <tr>\n",
       "      <th>2</th>\n",
       "      <td>1055_2868</td>\n",
       "      <td>80.289912</td>\n",
       "      <td>-0.000356</td>\n",
       "      <td>2.518226</td>\n",
       "      <td>-1.338574</td>\n",
       "      <td>-3.060299</td>\n",
       "      <td>-6.565507</td>\n",
       "      <td>-4.924490</td>\n",
       "      <td>-0.107228</td>\n",
       "      <td>0.074781</td>\n",
       "      <td>-4.131012</td>\n",
       "    </tr>\n",
       "    <tr>\n",
       "      <th>3</th>\n",
       "      <td>941_942</td>\n",
       "      <td>36.412443</td>\n",
       "      <td>0.000026</td>\n",
       "      <td>0.384811</td>\n",
       "      <td>-0.134059</td>\n",
       "      <td>0.091740</td>\n",
       "      <td>0.247383</td>\n",
       "      <td>0.573497</td>\n",
       "      <td>-0.490828</td>\n",
       "      <td>-0.082765</td>\n",
       "      <td>-0.736437</td>\n",
       "    </tr>\n",
       "    <tr>\n",
       "      <th>4</th>\n",
       "      <td>7318_4980</td>\n",
       "      <td>78.228207</td>\n",
       "      <td>-0.000067</td>\n",
       "      <td>6.444353</td>\n",
       "      <td>-7.643289</td>\n",
       "      <td>-2.968056</td>\n",
       "      <td>-24.647044</td>\n",
       "      <td>-22.616229</td>\n",
       "      <td>-2.027877</td>\n",
       "      <td>-1.275068</td>\n",
       "      <td>-5.622712</td>\n",
       "    </tr>\n",
       "  </tbody>\n",
       "</table>\n",
       "</div>"
      ],
      "text/plain": [
       "     segment  intercept  arrivaltime      rain       fri       mon        sat  \\\n",
       "0  1601_1602  50.876030     0.000064 -0.430727  1.710725  0.924812  -2.421589   \n",
       "1  4002_5112  39.283956     0.000026 -0.792347  0.942639 -0.404349  -0.795380   \n",
       "2  1055_2868  80.289912    -0.000356  2.518226 -1.338574 -3.060299  -6.565507   \n",
       "3    941_942  36.412443     0.000026  0.384811 -0.134059  0.091740   0.247383   \n",
       "4  7318_4980  78.228207    -0.000067  6.444353 -7.643289 -2.968056 -24.647044   \n",
       "\n",
       "         sun       thu       tue   holiday  \n",
       "0  -4.185323  0.108956  0.144921 -0.707968  \n",
       "1   7.805118  1.232046 -0.727879 -0.305514  \n",
       "2  -4.924490 -0.107228  0.074781 -4.131012  \n",
       "3   0.573497 -0.490828 -0.082765 -0.736437  \n",
       "4 -22.616229 -2.027877 -1.275068 -5.622712  "
      ]
     },
     "execution_count": 37,
     "metadata": {},
     "output_type": "execute_result"
    }
   ],
   "source": [
    "Coefficients.head(5)"
   ]
  },
  {
   "cell_type": "code",
   "execution_count": 38,
   "metadata": {},
   "outputs": [
    {
     "name": "stdout",
     "output_type": "stream",
     "text": [
      "2018-08-14 13:13:43,465 INFO sqlalchemy.engine.base.Engine select version()\n",
      "2018-08-14 13:13:43,468 INFO sqlalchemy.engine.base.Engine {}\n",
      "2018-08-14 13:13:43,478 INFO sqlalchemy.engine.base.Engine select current_schema()\n",
      "2018-08-14 13:13:43,480 INFO sqlalchemy.engine.base.Engine {}\n",
      "2018-08-14 13:13:43,490 INFO sqlalchemy.engine.base.Engine SELECT CAST('test plain returns' AS VARCHAR(60)) AS anon_1\n",
      "2018-08-14 13:13:43,493 INFO sqlalchemy.engine.base.Engine {}\n",
      "2018-08-14 13:13:43,499 INFO sqlalchemy.engine.base.Engine SELECT CAST('test unicode returns' AS VARCHAR(60)) AS anon_1\n",
      "2018-08-14 13:13:43,501 INFO sqlalchemy.engine.base.Engine {}\n",
      "2018-08-14 13:13:43,508 INFO sqlalchemy.engine.base.Engine show standard_conforming_strings\n",
      "2018-08-14 13:13:43,509 INFO sqlalchemy.engine.base.Engine {}\n",
      "2018-08-14 13:13:43,522 INFO sqlalchemy.engine.base.Engine select relname from pg_class c join pg_namespace n on n.oid=c.relnamespace where pg_catalog.pg_table_is_visible(c.oid) and relname=%(name)s\n",
      "2018-08-14 13:13:43,524 INFO sqlalchemy.engine.base.Engine {'name': 'main_coefficients'}\n",
      "2018-08-14 13:13:43,538 INFO sqlalchemy.engine.base.Engine BEGIN (implicit)\n",
      "2018-08-14 13:13:43,660 INFO sqlalchemy.engine.base.Engine INSERT INTO main_coefficients (segment, intercept, arrivaltime, rain, fri, mon, sat, sun, thu, tue, holiday) VALUES (%(segment)s, %(intercept)s, %(arrivaltime)s, %(rain)s, %(fri)s, %(mon)s, %(sat)s, %(sun)s, %(thu)s, %(tue)s, %(holiday)s)\n",
      "2018-08-14 13:13:43,661 INFO sqlalchemy.engine.base.Engine ({'segment': '1601_1602', 'intercept': 50.8760303487838, 'arrivaltime': 6.396852726241448e-05, 'rain': -0.43072671581955335, 'fri': 1.7107254221748778, 'mon': 0.9248117854979789, 'sat': -2.4215894998360845, 'sun': -4.185323055166541, 'thu': 0.1089563945182469, 'tue': 0.14492066155504563, 'holiday': -0.7079683555870807}, {'segment': '4002_5112', 'intercept': 39.2839556410983, 'arrivaltime': 2.581837564316039e-05, 'rain': -0.7923468766097119, 'fri': 0.9426390424897715, 'mon': -0.40434945711005194, 'sat': -0.7953802836330546, 'sun': 7.8051180982264725, 'thu': 1.2320463286198795, 'tue': -0.7278788608656506, 'holiday': -0.3055144342575129}, {'segment': '1055_2868', 'intercept': 80.28991241295529, 'arrivaltime': -0.00035568916273444643, 'rain': 2.5182262652925385, 'fri': -1.3385744646947493, 'mon': -3.0602986456178365, 'sat': -6.565506722511536, 'sun': -4.924489879021355, 'thu': -0.10722818779210608, 'tue': 0.07478052529887681, 'holiday': -4.131012297759587}, {'segment': '941_942', 'intercept': 36.412442901747774, 'arrivaltime': 2.6029070403018384e-05, 'rain': 0.3848105889248784, 'fri': -0.13405900215908947, 'mon': 0.09174022575227746, 'sat': 0.2473828938154653, 'sun': 0.5734969176398711, 'thu': -0.490828136733895, 'tue': -0.08276547857735173, 'holiday': -0.736436803648876}, {'segment': '7318_4980', 'intercept': 78.22820696330385, 'arrivaltime': -6.667021435856207e-05, 'rain': 6.44435323337845, 'fri': -7.643288608967646, 'mon': -2.9680558378332926, 'sat': -24.647043747430367, 'sun': -22.61622877304967, 'thu': -2.0278766072991488, 'tue': -1.2750675513021559, 'holiday': -5.622712153211183}, {'segment': '1480_2912', 'intercept': 165.3308557384308, 'arrivaltime': -0.00037452356652037264, 'rain': 1.1840320381730525, 'fri': 0.5357030595119202, 'mon': -2.96876575284039, 'sat': -7.072367768116951, 'sun': -7.818469149002112, 'thu': 0.2799201935944806, 'tue': -1.4991854719695916, 'holiday': 1.7184574726876074}, {'segment': '1882_7379', 'intercept': 55.65765087851357, 'arrivaltime': -0.0001959360522248131, 'rain': -0.4735874475717452, 'fri': -0.6441612069904362, 'mon': -1.1959630300595316, 'sat': -4.270107175753717, 'sun': -5.845679585631185, 'thu': -1.3850984058981681, 'tue': -1.3146785169166932, 'holiday': -1.9027002927178256}, {'segment': '4323_4324', 'intercept': 160.5, 'arrivaltime': 0.0, 'rain': 0.0, 'fri': 0.0, 'mon': 0.0, 'sat': 0.0, 'sun': 0.0, 'thu': 0.0, 'tue': 0.0, 'holiday': 0.0}  ... displaying 10 of 3326 total bound parameter sets ...  {'segment': '209_210', 'intercept': 51.33991306659398, 'arrivaltime': -0.00019105854088981894, 'rain': -0.6315801211544958, 'fri': -0.2678965510143888, 'mon': -3.308993912288148, 'sat': 0.2331545252963098, 'sun': -2.756588510938623, 'thu': -2.6800024047144406, 'tue': -0.813283569967558, 'holiday': -1.424236519820544}, {'segment': '4629_4630', 'intercept': 58.49324065925043, 'arrivaltime': -0.00021234402980330837, 'rain': -0.01077144951442266, 'fri': 0.8063264051591743, 'mon': 0.6392716266900496, 'sat': -1.4978145715122204, 'sun': -2.2639704038922415, 'thu': 0.97593301227083, 'tue': 0.10143884376545842, 'holiday': -0.8886238354153156})\n",
      "2018-08-14 13:13:53,610 INFO sqlalchemy.engine.base.Engine COMMIT\n"
     ]
    }
   ],
   "source": [
    "# Write coefficients to database table\n",
    "\n",
    "Coefficients.rename(columns={'Segment': 'segment'}, inplace=True)\n",
    "\n",
    "Coefficients.to_sql('main_coefficients', engine, if_exists='append', index=False)"
   ]
  }
 ],
 "metadata": {
  "kernelspec": {
   "display_name": "Python 3",
   "language": "python",
   "name": "python3"
  },
  "language_info": {
   "codemirror_mode": {
    "name": "ipython",
    "version": 3
   },
   "file_extension": ".py",
   "mimetype": "text/x-python",
   "name": "python",
   "nbconvert_exporter": "python",
   "pygments_lexer": "ipython3",
   "version": "3.6.3"
  }
 },
 "nbformat": 4,
 "nbformat_minor": 2
}
