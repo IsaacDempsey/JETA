{
 "cells": [
  {
   "cell_type": "markdown",
   "metadata": {},
   "source": [
    "Lines table must follow this schema:\n",
    "\n",
    "```\n",
    "class Lines(models.Model):\n",
    "    lineid = models.CharField(max_length=10, primary_key=True)\n",
    "    routes = ArrayField(models.CharField(max_length=10))\n",
    "\n",
    "    def __str__(self):\n",
    "        return \"Line ID: \"+self.lineid\n",
    "    \n",
    "    class Meta:\n",
    "        verbose_name_plural = \"Lines\"\n",
    "        indexes = [\n",
    "            models.Index(fields=['lineid'],)\n",
    "        ]\n",
    "```"
   ]
  },
  {
   "cell_type": "code",
   "execution_count": 1,
   "metadata": {},
   "outputs": [],
   "source": [
    "import pandas as pd\n",
    "\n",
    "# Prevents tables from being truncated.\n",
    "pd.set_option('display.max_columns', None)"
   ]
  },
  {
   "cell_type": "code",
   "execution_count": 2,
   "metadata": {},
   "outputs": [],
   "source": [
    "# Read trips text files into pandas dataframe\n",
    "df_16 = pd.read_csv(\"/home/student/files/rt_trips_2016_I_DB.txt\", sep=';')\n",
    "df_17 = pd.read_csv(\"/home/student/files/rt_trips_2017_I_DB.txt\", sep=';')"
   ]
  },
  {
   "cell_type": "code",
   "execution_count": 3,
   "metadata": {},
   "outputs": [],
   "source": [
    "# Concat dataframes into one\n",
    "\n",
    "trips = pd.concat([df_16, df_17], join=\"inner\")"
   ]
  },
  {
   "cell_type": "code",
   "execution_count": 4,
   "metadata": {},
   "outputs": [
    {
     "data": {
      "text/html": [
       "<div>\n",
       "<style scoped>\n",
       "    .dataframe tbody tr th:only-of-type {\n",
       "        vertical-align: middle;\n",
       "    }\n",
       "\n",
       "    .dataframe tbody tr th {\n",
       "        vertical-align: top;\n",
       "    }\n",
       "\n",
       "    .dataframe thead th {\n",
       "        text-align: right;\n",
       "    }\n",
       "</style>\n",
       "<table border=\"1\" class=\"dataframe\">\n",
       "  <thead>\n",
       "    <tr style=\"text-align: right;\">\n",
       "      <th></th>\n",
       "      <th>datasource</th>\n",
       "      <th>dayofservice</th>\n",
       "      <th>tripid</th>\n",
       "      <th>lineid</th>\n",
       "      <th>routeid</th>\n",
       "      <th>direction</th>\n",
       "      <th>plannedtime_arr</th>\n",
       "      <th>plannedtime_dep</th>\n",
       "      <th>actualtime_arr</th>\n",
       "      <th>actualtime_dep</th>\n",
       "      <th>basin</th>\n",
       "      <th>tenderlot</th>\n",
       "      <th>suppressed</th>\n",
       "      <th>justificationid</th>\n",
       "      <th>lastupdate</th>\n",
       "      <th>note</th>\n",
       "    </tr>\n",
       "  </thead>\n",
       "  <tbody>\n",
       "    <tr>\n",
       "      <th>11</th>\n",
       "      <td>DB</td>\n",
       "      <td>09-FEB-16 00:00:00</td>\n",
       "      <td>2818069</td>\n",
       "      <td>39A</td>\n",
       "      <td>39A_41</td>\n",
       "      <td>1</td>\n",
       "      <td>85769</td>\n",
       "      <td>84600</td>\n",
       "      <td>85576.0</td>\n",
       "      <td>84452.0</td>\n",
       "      <td>BasDef</td>\n",
       "      <td>NaN</td>\n",
       "      <td>NaN</td>\n",
       "      <td>NaN</td>\n",
       "      <td>12-APR-16 09:35:20</td>\n",
       "      <td>,2428241,</td>\n",
       "    </tr>\n",
       "    <tr>\n",
       "      <th>53</th>\n",
       "      <td>DB</td>\n",
       "      <td>09-FEB-16 00:00:00</td>\n",
       "      <td>2814946</td>\n",
       "      <td>39A</td>\n",
       "      <td>39A_40</td>\n",
       "      <td>1</td>\n",
       "      <td>52081</td>\n",
       "      <td>46800</td>\n",
       "      <td>52531.0</td>\n",
       "      <td>46832.0</td>\n",
       "      <td>BasDef</td>\n",
       "      <td>NaN</td>\n",
       "      <td>NaN</td>\n",
       "      <td>NaN</td>\n",
       "      <td>12-APR-16 09:35:20</td>\n",
       "      <td>,2426175,</td>\n",
       "    </tr>\n",
       "    <tr>\n",
       "      <th>77</th>\n",
       "      <td>DB</td>\n",
       "      <td>09-FEB-16 00:00:00</td>\n",
       "      <td>2826868</td>\n",
       "      <td>39A</td>\n",
       "      <td>39A_43</td>\n",
       "      <td>2</td>\n",
       "      <td>49850</td>\n",
       "      <td>45000</td>\n",
       "      <td>49988.0</td>\n",
       "      <td>45038.0</td>\n",
       "      <td>BasDef</td>\n",
       "      <td>NaN</td>\n",
       "      <td>NaN</td>\n",
       "      <td>NaN</td>\n",
       "      <td>12-APR-16 09:35:20</td>\n",
       "      <td>,2425929,</td>\n",
       "    </tr>\n",
       "    <tr>\n",
       "      <th>82</th>\n",
       "      <td>DB</td>\n",
       "      <td>09-FEB-16 00:00:00</td>\n",
       "      <td>2815902</td>\n",
       "      <td>39A</td>\n",
       "      <td>39A_43</td>\n",
       "      <td>2</td>\n",
       "      <td>55850</td>\n",
       "      <td>51000</td>\n",
       "      <td>56066.0</td>\n",
       "      <td>51003.0</td>\n",
       "      <td>BasDef</td>\n",
       "      <td>NaN</td>\n",
       "      <td>NaN</td>\n",
       "      <td>NaN</td>\n",
       "      <td>12-APR-16 09:35:20</td>\n",
       "      <td>,2416634,</td>\n",
       "    </tr>\n",
       "    <tr>\n",
       "      <th>167</th>\n",
       "      <td>DB</td>\n",
       "      <td>09-FEB-16 00:00:00</td>\n",
       "      <td>2823891</td>\n",
       "      <td>39A</td>\n",
       "      <td>39A_43</td>\n",
       "      <td>2</td>\n",
       "      <td>73499</td>\n",
       "      <td>69600</td>\n",
       "      <td>73415.0</td>\n",
       "      <td>69598.0</td>\n",
       "      <td>BasDef</td>\n",
       "      <td>NaN</td>\n",
       "      <td>NaN</td>\n",
       "      <td>NaN</td>\n",
       "      <td>12-APR-16 09:35:20</td>\n",
       "      <td>,2419757,</td>\n",
       "    </tr>\n",
       "  </tbody>\n",
       "</table>\n",
       "</div>"
      ],
      "text/plain": [
       "    datasource        dayofservice   tripid lineid routeid  direction  \\\n",
       "11          DB  09-FEB-16 00:00:00  2818069    39A  39A_41          1   \n",
       "53          DB  09-FEB-16 00:00:00  2814946    39A  39A_40          1   \n",
       "77          DB  09-FEB-16 00:00:00  2826868    39A  39A_43          2   \n",
       "82          DB  09-FEB-16 00:00:00  2815902    39A  39A_43          2   \n",
       "167         DB  09-FEB-16 00:00:00  2823891    39A  39A_43          2   \n",
       "\n",
       "     plannedtime_arr  plannedtime_dep  actualtime_arr  actualtime_dep   basin  \\\n",
       "11             85769            84600         85576.0         84452.0  BasDef   \n",
       "53             52081            46800         52531.0         46832.0  BasDef   \n",
       "77             49850            45000         49988.0         45038.0  BasDef   \n",
       "82             55850            51000         56066.0         51003.0  BasDef   \n",
       "167            73499            69600         73415.0         69598.0  BasDef   \n",
       "\n",
       "     tenderlot  suppressed  justificationid          lastupdate       note  \n",
       "11         NaN         NaN              NaN  12-APR-16 09:35:20  ,2428241,  \n",
       "53         NaN         NaN              NaN  12-APR-16 09:35:20  ,2426175,  \n",
       "77         NaN         NaN              NaN  12-APR-16 09:35:20  ,2425929,  \n",
       "82         NaN         NaN              NaN  12-APR-16 09:35:20  ,2416634,  \n",
       "167        NaN         NaN              NaN  12-APR-16 09:35:20  ,2419757,  "
      ]
     },
     "execution_count": 4,
     "metadata": {},
     "output_type": "execute_result"
    }
   ],
   "source": [
    "# Look at example of routes associated with lineid\n",
    "\n",
    "trips.loc[trips['lineid'] == '39A'].head(5)"
   ]
  },
  {
   "cell_type": "code",
   "execution_count": 5,
   "metadata": {},
   "outputs": [
    {
     "data": {
      "text/html": [
       "<div>\n",
       "<style scoped>\n",
       "    .dataframe tbody tr th:only-of-type {\n",
       "        vertical-align: middle;\n",
       "    }\n",
       "\n",
       "    .dataframe tbody tr th {\n",
       "        vertical-align: top;\n",
       "    }\n",
       "\n",
       "    .dataframe thead th {\n",
       "        text-align: right;\n",
       "    }\n",
       "</style>\n",
       "<table border=\"1\" class=\"dataframe\">\n",
       "  <thead>\n",
       "    <tr style=\"text-align: right;\">\n",
       "      <th></th>\n",
       "      <th>lineid</th>\n",
       "      <th>routeid</th>\n",
       "    </tr>\n",
       "  </thead>\n",
       "  <tbody>\n",
       "    <tr>\n",
       "      <th>0</th>\n",
       "      <td>145</td>\n",
       "      <td>145_105</td>\n",
       "    </tr>\n",
       "    <tr>\n",
       "      <th>1</th>\n",
       "      <td>9</td>\n",
       "      <td>9_7</td>\n",
       "    </tr>\n",
       "    <tr>\n",
       "      <th>2</th>\n",
       "      <td>54A</td>\n",
       "      <td>54A_12</td>\n",
       "    </tr>\n",
       "  </tbody>\n",
       "</table>\n",
       "</div>"
      ],
      "text/plain": [
       "  lineid  routeid\n",
       "0    145  145_105\n",
       "1      9      9_7\n",
       "2    54A   54A_12"
      ]
     },
     "execution_count": 5,
     "metadata": {},
     "output_type": "execute_result"
    }
   ],
   "source": [
    "trips = trips[['lineid', 'routeid']]\n",
    "trips.head(3)"
   ]
  },
  {
   "cell_type": "code",
   "execution_count": 6,
   "metadata": {},
   "outputs": [],
   "source": [
    "# Group routeids into sets associated with single lineids (sets to avoid duplicate routeid values)\n",
    "\n",
    "trips = trips.groupby('lineid')['routeid'].apply(set)"
   ]
  },
  {
   "cell_type": "code",
   "execution_count": 7,
   "metadata": {},
   "outputs": [
    {
     "data": {
      "text/plain": [
       "lineid\n",
       "1                   {1_40, 1_38, 1_37, 1_41, 1_39}\n",
       "102                         {102_8, 102_10, 102_9}\n",
       "104                               {104_15, 104_16}\n",
       "11                    {11_42, 11_40, 11_43, 11_41}\n",
       "111    {111_9, 111_10, 111_4, 111_3, 111_7, 111_8}\n",
       "114                                 {114_5, 114_6}\n",
       "116                                 {116_1, 116_3}\n",
       "118                                        {118_3}\n",
       "120                  {120_10, 120_7, 120_8, 120_9}\n",
       "122               {122_17, 122_14, 122_16, 122_15}\n",
       "Name: routeid, dtype: object"
      ]
     },
     "execution_count": 7,
     "metadata": {},
     "output_type": "execute_result"
    }
   ],
   "source": [
    "trips.head(10)"
   ]
  },
  {
   "cell_type": "code",
   "execution_count": 10,
   "metadata": {},
   "outputs": [
    {
     "data": {
      "text/plain": [
       "(125,)"
      ]
     },
     "execution_count": 10,
     "metadata": {},
     "output_type": "execute_result"
    }
   ],
   "source": [
    "# 125 unique lines\n",
    "\n",
    "trips.shape"
   ]
  },
  {
   "cell_type": "code",
   "execution_count": 11,
   "metadata": {},
   "outputs": [
    {
     "data": {
      "text/html": [
       "<div>\n",
       "<style scoped>\n",
       "    .dataframe tbody tr th:only-of-type {\n",
       "        vertical-align: middle;\n",
       "    }\n",
       "\n",
       "    .dataframe tbody tr th {\n",
       "        vertical-align: top;\n",
       "    }\n",
       "\n",
       "    .dataframe thead th {\n",
       "        text-align: right;\n",
       "    }\n",
       "</style>\n",
       "<table border=\"1\" class=\"dataframe\">\n",
       "  <thead>\n",
       "    <tr style=\"text-align: right;\">\n",
       "      <th></th>\n",
       "      <th>lineid</th>\n",
       "      <th>routeid</th>\n",
       "    </tr>\n",
       "  </thead>\n",
       "  <tbody>\n",
       "    <tr>\n",
       "      <th>0</th>\n",
       "      <td>1</td>\n",
       "      <td>{1_40, 1_38, 1_37, 1_41, 1_39}</td>\n",
       "    </tr>\n",
       "    <tr>\n",
       "      <th>1</th>\n",
       "      <td>102</td>\n",
       "      <td>{102_8, 102_10, 102_9}</td>\n",
       "    </tr>\n",
       "    <tr>\n",
       "      <th>2</th>\n",
       "      <td>104</td>\n",
       "      <td>{104_15, 104_16}</td>\n",
       "    </tr>\n",
       "    <tr>\n",
       "      <th>3</th>\n",
       "      <td>11</td>\n",
       "      <td>{11_42, 11_40, 11_43, 11_41}</td>\n",
       "    </tr>\n",
       "    <tr>\n",
       "      <th>4</th>\n",
       "      <td>111</td>\n",
       "      <td>{111_9, 111_10, 111_4, 111_3, 111_7, 111_8}</td>\n",
       "    </tr>\n",
       "  </tbody>\n",
       "</table>\n",
       "</div>"
      ],
      "text/plain": [
       "  lineid                                      routeid\n",
       "0      1               {1_40, 1_38, 1_37, 1_41, 1_39}\n",
       "1    102                       {102_8, 102_10, 102_9}\n",
       "2    104                             {104_15, 104_16}\n",
       "3     11                 {11_42, 11_40, 11_43, 11_41}\n",
       "4    111  {111_9, 111_10, 111_4, 111_3, 111_7, 111_8}"
      ]
     },
     "execution_count": 11,
     "metadata": {},
     "output_type": "execute_result"
    }
   ],
   "source": [
    "# Reset index to convert groupby to normally indexed dataframe\n",
    "\n",
    "trips = pd.DataFrame(trips).reset_index()\n",
    "trips.head(5)"
   ]
  },
  {
   "cell_type": "code",
   "execution_count": 12,
   "metadata": {},
   "outputs": [],
   "source": [
    "# Convert sets to lists\n",
    "\n",
    "trips['routeid'] = trips['routeid'].apply(list)"
   ]
  },
  {
   "cell_type": "code",
   "execution_count": 13,
   "metadata": {},
   "outputs": [
    {
     "data": {
      "text/html": [
       "<div>\n",
       "<style scoped>\n",
       "    .dataframe tbody tr th:only-of-type {\n",
       "        vertical-align: middle;\n",
       "    }\n",
       "\n",
       "    .dataframe tbody tr th {\n",
       "        vertical-align: top;\n",
       "    }\n",
       "\n",
       "    .dataframe thead th {\n",
       "        text-align: right;\n",
       "    }\n",
       "</style>\n",
       "<table border=\"1\" class=\"dataframe\">\n",
       "  <thead>\n",
       "    <tr style=\"text-align: right;\">\n",
       "      <th></th>\n",
       "      <th>lineid</th>\n",
       "      <th>routeid</th>\n",
       "    </tr>\n",
       "  </thead>\n",
       "  <tbody>\n",
       "    <tr>\n",
       "      <th>0</th>\n",
       "      <td>1</td>\n",
       "      <td>[1_40, 1_38, 1_37, 1_41, 1_39]</td>\n",
       "    </tr>\n",
       "    <tr>\n",
       "      <th>1</th>\n",
       "      <td>102</td>\n",
       "      <td>[102_8, 102_10, 102_9]</td>\n",
       "    </tr>\n",
       "    <tr>\n",
       "      <th>2</th>\n",
       "      <td>104</td>\n",
       "      <td>[104_15, 104_16]</td>\n",
       "    </tr>\n",
       "    <tr>\n",
       "      <th>3</th>\n",
       "      <td>11</td>\n",
       "      <td>[11_42, 11_40, 11_43, 11_41]</td>\n",
       "    </tr>\n",
       "    <tr>\n",
       "      <th>4</th>\n",
       "      <td>111</td>\n",
       "      <td>[111_9, 111_10, 111_4, 111_3, 111_7, 111_8]</td>\n",
       "    </tr>\n",
       "  </tbody>\n",
       "</table>\n",
       "</div>"
      ],
      "text/plain": [
       "  lineid                                      routeid\n",
       "0      1               [1_40, 1_38, 1_37, 1_41, 1_39]\n",
       "1    102                       [102_8, 102_10, 102_9]\n",
       "2    104                             [104_15, 104_16]\n",
       "3     11                 [11_42, 11_40, 11_43, 11_41]\n",
       "4    111  [111_9, 111_10, 111_4, 111_3, 111_7, 111_8]"
      ]
     },
     "execution_count": 13,
     "metadata": {},
     "output_type": "execute_result"
    }
   ],
   "source": [
    "trips.head(5)"
   ]
  },
  {
   "cell_type": "code",
   "execution_count": 14,
   "metadata": {},
   "outputs": [
    {
     "name": "stdout",
     "output_type": "stream",
     "text": [
      "['39A_41', '39A_42', '39A_40', '39A_44', '39A_43', '39A_45']\n"
     ]
    }
   ],
   "source": [
    "# print one of the routeid arrays to ensure strings\n",
    "\n",
    "print(trips.loc[trips['lineid'] == '39A']['routeid'].values[0])"
   ]
  },
  {
   "cell_type": "code",
   "execution_count": 15,
   "metadata": {},
   "outputs": [],
   "source": [
    "# Rename columns\n",
    "\n",
    "trips.columns = ['lineid', 'routes']"
   ]
  },
  {
   "cell_type": "code",
   "execution_count": 18,
   "metadata": {},
   "outputs": [],
   "source": [
    "# Save as CSV file\n",
    "\n",
    "# trips.to_csv('Lines.csv', sep=';', index=False)"
   ]
  },
  {
   "cell_type": "code",
   "execution_count": 17,
   "metadata": {
    "scrolled": false
   },
   "outputs": [
    {
     "name": "stdout",
     "output_type": "stream",
     "text": [
      "2018-06-29 11:01:15,370 INFO sqlalchemy.engine.base.Engine select version()\n",
      "2018-06-29 11:01:15,373 INFO sqlalchemy.engine.base.Engine {}\n",
      "2018-06-29 11:01:15,383 INFO sqlalchemy.engine.base.Engine select current_schema()\n",
      "2018-06-29 11:01:15,386 INFO sqlalchemy.engine.base.Engine {}\n",
      "2018-06-29 11:01:15,393 INFO sqlalchemy.engine.base.Engine SELECT CAST('test plain returns' AS VARCHAR(60)) AS anon_1\n",
      "2018-06-29 11:01:15,396 INFO sqlalchemy.engine.base.Engine {}\n",
      "2018-06-29 11:01:15,402 INFO sqlalchemy.engine.base.Engine SELECT CAST('test unicode returns' AS VARCHAR(60)) AS anon_1\n",
      "2018-06-29 11:01:15,403 INFO sqlalchemy.engine.base.Engine {}\n",
      "2018-06-29 11:01:15,410 INFO sqlalchemy.engine.base.Engine show standard_conforming_strings\n",
      "2018-06-29 11:01:15,411 INFO sqlalchemy.engine.base.Engine {}\n",
      "2018-06-29 11:01:15,416 INFO sqlalchemy.engine.base.Engine select relname from pg_class c join pg_namespace n on n.oid=c.relnamespace where pg_catalog.pg_table_is_visible(c.oid) and relname=%(name)s\n",
      "2018-06-29 11:01:15,418 INFO sqlalchemy.engine.base.Engine {'name': 'main_lines'}\n",
      "2018-06-29 11:01:15,423 INFO sqlalchemy.engine.base.Engine BEGIN (implicit)\n",
      "2018-06-29 11:01:15,430 INFO sqlalchemy.engine.base.Engine INSERT INTO main_lines (lineid, routes) VALUES (%(lineid)s, %(routes)s)\n",
      "2018-06-29 11:01:15,435 INFO sqlalchemy.engine.base.Engine ({'lineid': '1', 'routes': ['1_40', '1_38', '1_37', '1_41', '1_39']}, {'lineid': '102', 'routes': ['102_8', '102_10', '102_9']}, {'lineid': '104', 'routes': ['104_15', '104_16']}, {'lineid': '11', 'routes': ['11_42', '11_40', '11_43', '11_41']}, {'lineid': '111', 'routes': ['111_9', '111_10', '111_4', '111_3', '111_7', '111_8']}, {'lineid': '114', 'routes': ['114_5', '114_6']}, {'lineid': '116', 'routes': ['116_1', '116_3']}, {'lineid': '118', 'routes': ['118_3']}  ... displaying 10 of 125 total bound parameter sets ...  {'lineid': '84X', 'routes': ['84X_57', '84X_53', '84X_58', '84X_56', '84X_52', '84X_59']}, {'lineid': '9', 'routes': ['9_6', '9_8', '9_5', '9_7']})\n",
      "2018-06-29 11:01:15,540 INFO sqlalchemy.engine.base.Engine COMMIT\n"
     ]
    }
   ],
   "source": [
    "# Create engine to send data to database\n",
    "# make sure tunnel has been created on port 5433 before running\n",
    "\n",
    "from sqlalchemy import create_engine\n",
    "\n",
    "URI=\"localhost\"\n",
    "PORT=\"5432\"\n",
    "DB = \"jetaDb\"\n",
    "USER = \"postgres\"\n",
    "PASSWORD = \"00001234\"\n",
    "  \n",
    "engine = create_engine(\"postgresql://{}:{}@{}:{}/{}\"\n",
    "                       .format(USER, PASSWORD, URI, PORT, DB), echo=True)\n",
    "\n",
    "trips.to_sql('main_lines', engine, if_exists='append', index=False)"
   ]
  },
  {
   "cell_type": "code",
   "execution_count": null,
   "metadata": {},
   "outputs": [],
   "source": []
  }
 ],
 "metadata": {
  "kernelspec": {
   "display_name": "Python 3",
   "language": "python",
   "name": "python3"
  },
  "language_info": {
   "codemirror_mode": {
    "name": "ipython",
    "version": 3
   },
   "file_extension": ".py",
   "mimetype": "text/x-python",
   "name": "python",
   "nbconvert_exporter": "python",
   "pygments_lexer": "ipython3",
   "version": "3.6.5"
  }
 },
 "nbformat": 4,
 "nbformat_minor": 2
}
