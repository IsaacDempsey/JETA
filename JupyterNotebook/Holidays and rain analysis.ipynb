{
 "cells": [
  {
   "cell_type": "code",
   "execution_count": 1,
   "metadata": {
    "collapsed": true
   },
   "outputs": [],
   "source": [
    "from sqlalchemy import create_engine\n",
    "import pandas as pd\n",
    "import matplotlib.pyplot as plt\n",
    "import numpy as np\n",
    "import seaborn as sns\n",
    "import statsmodels.formula.api as sm\n",
    "import time\n",
    "import csv\n",
    "from datetime import timedelta\n",
    "%matplotlib inline"
   ]
  },
  {
   "cell_type": "code",
   "execution_count": 2,
   "metadata": {},
   "outputs": [
    {
     "data": {
      "text/plain": [
       "(2041415, 9)"
      ]
     },
     "execution_count": 2,
     "metadata": {},
     "output_type": "execute_result"
    }
   ],
   "source": [
    "# Read trips text files into pandas dataframe\n",
    "df1 = pd.read_csv(\"rt_trips_full.csv\", sep=',')\n",
    "df1 = df1.drop(['datasource', 'basin', 'tenderlot', 'suppressed', 'justificationid', 'lastupdate', 'note'], axis=1)\n",
    "df1.shape"
   ]
  },
  {
   "cell_type": "code",
   "execution_count": 3,
   "metadata": {},
   "outputs": [
    {
     "data": {
      "text/html": [
       "<div>\n",
       "<style scoped>\n",
       "    .dataframe tbody tr th:only-of-type {\n",
       "        vertical-align: middle;\n",
       "    }\n",
       "\n",
       "    .dataframe tbody tr th {\n",
       "        vertical-align: top;\n",
       "    }\n",
       "\n",
       "    .dataframe thead th {\n",
       "        text-align: right;\n",
       "    }\n",
       "</style>\n",
       "<table border=\"1\" class=\"dataframe\">\n",
       "  <thead>\n",
       "    <tr style=\"text-align: right;\">\n",
       "      <th></th>\n",
       "      <th>dayofservice</th>\n",
       "      <th>tripid</th>\n",
       "      <th>lineid</th>\n",
       "      <th>routeid</th>\n",
       "      <th>direction</th>\n",
       "      <th>plannedtime_arr</th>\n",
       "      <th>plannedtime_dep</th>\n",
       "      <th>actualtime_arr</th>\n",
       "      <th>actualtime_dep</th>\n",
       "    </tr>\n",
       "  </thead>\n",
       "  <tbody>\n",
       "    <tr>\n",
       "      <th>0</th>\n",
       "      <td>09-FEB-16 00:00:00</td>\n",
       "      <td>2824642</td>\n",
       "      <td>145</td>\n",
       "      <td>145_105</td>\n",
       "      <td>2</td>\n",
       "      <td>45668</td>\n",
       "      <td>40800</td>\n",
       "      <td>45375.0</td>\n",
       "      <td>40782.0</td>\n",
       "    </tr>\n",
       "    <tr>\n",
       "      <th>1</th>\n",
       "      <td>09-FEB-16 00:00:00</td>\n",
       "      <td>2826717</td>\n",
       "      <td>9</td>\n",
       "      <td>9_7</td>\n",
       "      <td>2</td>\n",
       "      <td>65553</td>\n",
       "      <td>60600</td>\n",
       "      <td>66258.0</td>\n",
       "      <td>60582.0</td>\n",
       "    </tr>\n",
       "    <tr>\n",
       "      <th>2</th>\n",
       "      <td>09-FEB-16 00:00:00</td>\n",
       "      <td>2826730</td>\n",
       "      <td>54A</td>\n",
       "      <td>54A_12</td>\n",
       "      <td>2</td>\n",
       "      <td>65951</td>\n",
       "      <td>62100</td>\n",
       "      <td>66053.0</td>\n",
       "      <td>62078.0</td>\n",
       "    </tr>\n",
       "    <tr>\n",
       "      <th>3</th>\n",
       "      <td>09-FEB-16 00:00:00</td>\n",
       "      <td>2826743</td>\n",
       "      <td>7</td>\n",
       "      <td>7_51</td>\n",
       "      <td>1</td>\n",
       "      <td>54763</td>\n",
       "      <td>50400</td>\n",
       "      <td>54854.0</td>\n",
       "      <td>50383.0</td>\n",
       "    </tr>\n",
       "    <tr>\n",
       "      <th>4</th>\n",
       "      <td>09-FEB-16 00:00:00</td>\n",
       "      <td>2812908</td>\n",
       "      <td>39</td>\n",
       "      <td>39_20</td>\n",
       "      <td>1</td>\n",
       "      <td>27375</td>\n",
       "      <td>22920</td>\n",
       "      <td>27318.0</td>\n",
       "      <td>22931.0</td>\n",
       "    </tr>\n",
       "  </tbody>\n",
       "</table>\n",
       "</div>"
      ],
      "text/plain": [
       "         dayofservice   tripid lineid  routeid  direction  plannedtime_arr  \\\n",
       "0  09-FEB-16 00:00:00  2824642    145  145_105          2            45668   \n",
       "1  09-FEB-16 00:00:00  2826717      9      9_7          2            65553   \n",
       "2  09-FEB-16 00:00:00  2826730    54A   54A_12          2            65951   \n",
       "3  09-FEB-16 00:00:00  2826743      7     7_51          1            54763   \n",
       "4  09-FEB-16 00:00:00  2812908     39    39_20          1            27375   \n",
       "\n",
       "   plannedtime_dep  actualtime_arr  actualtime_dep  \n",
       "0            40800         45375.0         40782.0  \n",
       "1            60600         66258.0         60582.0  \n",
       "2            62100         66053.0         62078.0  \n",
       "3            50400         54854.0         50383.0  \n",
       "4            22920         27318.0         22931.0  "
      ]
     },
     "execution_count": 3,
     "metadata": {},
     "output_type": "execute_result"
    }
   ],
   "source": [
    "df1.head(5)"
   ]
  },
  {
   "cell_type": "code",
   "execution_count": 6,
   "metadata": {},
   "outputs": [],
   "source": [
    "# Read weather data into dataframe\n",
    "\n",
    "URI=\"localhost\"\n",
    "PORT=\"5433\"\n",
    "DB=\"jetaDb\"\n",
    "PORT=\"5433\"\n",
    "USER=\"postgres\"\n",
    "PASSWORD='00001234'\n",
    "\n",
    "engine = create_engine(\"postgresql://{}:{}@{}:{}/{}\".format(USER,PASSWORD,URI,PORT,DB), echo=True)"
   ]
  },
  {
   "cell_type": "code",
   "execution_count": 7,
   "metadata": {},
   "outputs": [
    {
     "name": "stdout",
     "output_type": "stream",
     "text": [
      "2018-07-17 10:06:30,568 INFO sqlalchemy.engine.base.Engine select version()\n",
      "2018-07-17 10:06:30,570 INFO sqlalchemy.engine.base.Engine {}\n",
      "2018-07-17 10:06:30,621 INFO sqlalchemy.engine.base.Engine select current_schema()\n",
      "2018-07-17 10:06:30,626 INFO sqlalchemy.engine.base.Engine {}\n",
      "2018-07-17 10:06:30,699 INFO sqlalchemy.engine.base.Engine SELECT CAST('test plain returns' AS VARCHAR(60)) AS anon_1\n",
      "2018-07-17 10:06:30,704 INFO sqlalchemy.engine.base.Engine {}\n",
      "2018-07-17 10:06:30,731 INFO sqlalchemy.engine.base.Engine SELECT CAST('test unicode returns' AS VARCHAR(60)) AS anon_1\n",
      "2018-07-17 10:06:30,732 INFO sqlalchemy.engine.base.Engine {}\n",
      "2018-07-17 10:06:30,796 INFO sqlalchemy.engine.base.Engine show standard_conforming_strings\n",
      "2018-07-17 10:06:30,805 INFO sqlalchemy.engine.base.Engine {}\n",
      "2018-07-17 10:06:30,936 INFO sqlalchemy.engine.base.Engine select relname from pg_class c join pg_namespace n on n.oid=c.relnamespace where pg_catalog.pg_table_is_visible(c.oid) and relname=%(name)s\n",
      "2018-07-17 10:06:30,938 INFO sqlalchemy.engine.base.Engine {'name': 'SELECT * FROM main_weather'}\n",
      "2018-07-17 10:06:31,087 INFO sqlalchemy.engine.base.Engine SELECT * FROM main_weather\n",
      "2018-07-17 10:06:31,089 INFO sqlalchemy.engine.base.Engine {}\n"
     ]
    }
   ],
   "source": [
    "sql = \"SELECT * FROM main_weather\"\n",
    "\n",
    "weather = pd.read_sql(sql, engine)"
   ]
  },
  {
   "cell_type": "code",
   "execution_count": 8,
   "metadata": {},
   "outputs": [
    {
     "data": {
      "text/html": [
       "<div>\n",
       "<style scoped>\n",
       "    .dataframe tbody tr th:only-of-type {\n",
       "        vertical-align: middle;\n",
       "    }\n",
       "\n",
       "    .dataframe tbody tr th {\n",
       "        vertical-align: top;\n",
       "    }\n",
       "\n",
       "    .dataframe thead th {\n",
       "        text-align: right;\n",
       "    }\n",
       "</style>\n",
       "<table border=\"1\" class=\"dataframe\">\n",
       "  <thead>\n",
       "    <tr style=\"text-align: right;\">\n",
       "      <th></th>\n",
       "      <th>id</th>\n",
       "      <th>date</th>\n",
       "      <th>time</th>\n",
       "      <th>irain</th>\n",
       "      <th>rain</th>\n",
       "      <th>itemp</th>\n",
       "      <th>temp</th>\n",
       "      <th>iwetb</th>\n",
       "      <th>wetb</th>\n",
       "      <th>dewpt</th>\n",
       "      <th>vappr</th>\n",
       "      <th>rhum</th>\n",
       "      <th>msl</th>\n",
       "    </tr>\n",
       "  </thead>\n",
       "  <tbody>\n",
       "    <tr>\n",
       "      <th>11195</th>\n",
       "      <td>11196</td>\n",
       "      <td>4/11/2017</td>\n",
       "      <td>11:00</td>\n",
       "      <td>-1</td>\n",
       "      <td></td>\n",
       "      <td>0</td>\n",
       "      <td>10.7</td>\n",
       "      <td>0</td>\n",
       "      <td>7.9</td>\n",
       "      <td>4.6</td>\n",
       "      <td>8.5</td>\n",
       "      <td>65</td>\n",
       "      <td>1028.7</td>\n",
       "    </tr>\n",
       "    <tr>\n",
       "      <th>11194</th>\n",
       "      <td>11195</td>\n",
       "      <td>4/11/2017</td>\n",
       "      <td>10:00</td>\n",
       "      <td>-1</td>\n",
       "      <td></td>\n",
       "      <td>0</td>\n",
       "      <td>11</td>\n",
       "      <td>0</td>\n",
       "      <td>8.4</td>\n",
       "      <td>5.3</td>\n",
       "      <td>8.9</td>\n",
       "      <td>68</td>\n",
       "      <td>1028.8</td>\n",
       "    </tr>\n",
       "    <tr>\n",
       "      <th>0</th>\n",
       "      <td>1</td>\n",
       "      <td>1/1/2016</td>\n",
       "      <td>0:00</td>\n",
       "      <td>0</td>\n",
       "      <td>0</td>\n",
       "      <td>0</td>\n",
       "      <td>1.2</td>\n",
       "      <td>0</td>\n",
       "      <td>0.7</td>\n",
       "      <td>-0.2</td>\n",
       "      <td>6</td>\n",
       "      <td>90</td>\n",
       "      <td>1016.2</td>\n",
       "    </tr>\n",
       "    <tr>\n",
       "      <th>13494</th>\n",
       "      <td>13495</td>\n",
       "      <td>7/16/2017</td>\n",
       "      <td>6:00</td>\n",
       "      <td>0</td>\n",
       "      <td>0</td>\n",
       "      <td>0</td>\n",
       "      <td>13.7</td>\n",
       "      <td>0</td>\n",
       "      <td>13.3</td>\n",
       "      <td>12.9</td>\n",
       "      <td>14.9</td>\n",
       "      <td>95</td>\n",
       "      <td>1022.5</td>\n",
       "    </tr>\n",
       "    <tr>\n",
       "      <th>13489</th>\n",
       "      <td>13490</td>\n",
       "      <td>7/16/2017</td>\n",
       "      <td>1:00</td>\n",
       "      <td>0</td>\n",
       "      <td>0</td>\n",
       "      <td>0</td>\n",
       "      <td>16.9</td>\n",
       "      <td>0</td>\n",
       "      <td>16.1</td>\n",
       "      <td>15.6</td>\n",
       "      <td>17.7</td>\n",
       "      <td>92</td>\n",
       "      <td>1019.6</td>\n",
       "    </tr>\n",
       "  </tbody>\n",
       "</table>\n",
       "</div>"
      ],
      "text/plain": [
       "          id       date   time  irain rain  itemp  temp  iwetb  wetb dewpt  \\\n",
       "11195  11196  4/11/2017  11:00     -1           0  10.7      0   7.9   4.6   \n",
       "11194  11195  4/11/2017  10:00     -1           0    11      0   8.4   5.3   \n",
       "0          1   1/1/2016   0:00      0    0      0   1.2      0   0.7  -0.2   \n",
       "13494  13495  7/16/2017   6:00      0    0      0  13.7      0  13.3  12.9   \n",
       "13489  13490  7/16/2017   1:00      0    0      0  16.9      0  16.1  15.6   \n",
       "\n",
       "      vappr rhum     msl  \n",
       "11195   8.5   65  1028.7  \n",
       "11194   8.9   68  1028.8  \n",
       "0         6   90  1016.2  \n",
       "13494  14.9   95  1022.5  \n",
       "13489  17.7   92  1019.6  "
      ]
     },
     "execution_count": 8,
     "metadata": {},
     "output_type": "execute_result"
    }
   ],
   "source": [
    "weather_sort = weather.sort_values('rain',ascending=True)\n",
    "weather_sort.head(5)"
   ]
  },
  {
   "cell_type": "code",
   "execution_count": 9,
   "metadata": {},
   "outputs": [
    {
     "data": {
      "text/plain": [
       "id        int64\n",
       "date     object\n",
       "time     object\n",
       "irain     int64\n",
       "rain     object\n",
       "itemp     int64\n",
       "temp     object\n",
       "iwetb     int64\n",
       "wetb     object\n",
       "dewpt    object\n",
       "vappr    object\n",
       "rhum     object\n",
       "msl      object\n",
       "dtype: object"
      ]
     },
     "execution_count": 9,
     "metadata": {},
     "output_type": "execute_result"
    }
   ],
   "source": [
    "# Drop weather rows with no rain data\n",
    "weather = weather_sort.drop([11194, 11195])\n",
    "weather.dtypes"
   ]
  },
  {
   "cell_type": "code",
   "execution_count": 10,
   "metadata": {
    "collapsed": true
   },
   "outputs": [],
   "source": [
    "weather['rain'] = weather['rain'].astype(float)"
   ]
  },
  {
   "cell_type": "markdown",
   "metadata": {},
   "source": [
    "## How many time rows in \"trips\" have NaN values?"
   ]
  },
  {
   "cell_type": "code",
   "execution_count": 11,
   "metadata": {},
   "outputs": [
    {
     "data": {
      "text/plain": [
       "actualtime_arr    153027\n",
       "actualtime_dep    190288\n",
       "dtype: int64"
      ]
     },
     "execution_count": 11,
     "metadata": {},
     "output_type": "execute_result"
    }
   ],
   "source": [
    "null_columns = df1.columns[df1.isnull().any()]\n",
    "df1[null_columns].isnull().sum()"
   ]
  },
  {
   "cell_type": "code",
   "execution_count": 12,
   "metadata": {},
   "outputs": [
    {
     "data": {
      "text/plain": [
       "(1717640, 9)"
      ]
     },
     "execution_count": 12,
     "metadata": {},
     "output_type": "execute_result"
    }
   ],
   "source": [
    "df2 = df1[df1.actualtime_arr.notnull()]\n",
    "df3 = df2[df2.actualtime_dep.notnull()]\n",
    "df3.shape"
   ]
  },
  {
   "cell_type": "code",
   "execution_count": 13,
   "metadata": {},
   "outputs": [
    {
     "data": {
      "text/plain": [
       "Series([], dtype: float64)"
      ]
     },
     "execution_count": 13,
     "metadata": {},
     "output_type": "execute_result"
    }
   ],
   "source": [
    "null_columns = df3.columns[df3.isnull().any()]\n",
    "df3[null_columns].isnull().sum()"
   ]
  },
  {
   "cell_type": "markdown",
   "metadata": {},
   "source": [
    "## Create journey duration time column"
   ]
  },
  {
   "cell_type": "code",
   "execution_count": 14,
   "metadata": {},
   "outputs": [
    {
     "name": "stderr",
     "output_type": "stream",
     "text": [
      "/anaconda3/lib/python3.6/site-packages/ipykernel_launcher.py:1: SettingWithCopyWarning: \n",
      "A value is trying to be set on a copy of a slice from a DataFrame.\n",
      "Try using .loc[row_indexer,col_indexer] = value instead\n",
      "\n",
      "See the caveats in the documentation: http://pandas.pydata.org/pandas-docs/stable/indexing.html#indexing-view-versus-copy\n",
      "  \"\"\"Entry point for launching an IPython kernel.\n"
     ]
    },
    {
     "data": {
      "text/html": [
       "<div>\n",
       "<style scoped>\n",
       "    .dataframe tbody tr th:only-of-type {\n",
       "        vertical-align: middle;\n",
       "    }\n",
       "\n",
       "    .dataframe tbody tr th {\n",
       "        vertical-align: top;\n",
       "    }\n",
       "\n",
       "    .dataframe thead th {\n",
       "        text-align: right;\n",
       "    }\n",
       "</style>\n",
       "<table border=\"1\" class=\"dataframe\">\n",
       "  <thead>\n",
       "    <tr style=\"text-align: right;\">\n",
       "      <th></th>\n",
       "      <th>dayofservice</th>\n",
       "      <th>tripid</th>\n",
       "      <th>lineid</th>\n",
       "      <th>routeid</th>\n",
       "      <th>direction</th>\n",
       "      <th>plannedtime_arr</th>\n",
       "      <th>plannedtime_dep</th>\n",
       "      <th>actualtime_arr</th>\n",
       "      <th>actualtime_dep</th>\n",
       "      <th>journey_time</th>\n",
       "    </tr>\n",
       "  </thead>\n",
       "  <tbody>\n",
       "    <tr>\n",
       "      <th>0</th>\n",
       "      <td>09-FEB-16 00:00:00</td>\n",
       "      <td>2824642</td>\n",
       "      <td>145</td>\n",
       "      <td>145_105</td>\n",
       "      <td>2</td>\n",
       "      <td>45668</td>\n",
       "      <td>40800</td>\n",
       "      <td>45375.0</td>\n",
       "      <td>40782.0</td>\n",
       "      <td>4593.0</td>\n",
       "    </tr>\n",
       "    <tr>\n",
       "      <th>1</th>\n",
       "      <td>09-FEB-16 00:00:00</td>\n",
       "      <td>2826717</td>\n",
       "      <td>9</td>\n",
       "      <td>9_7</td>\n",
       "      <td>2</td>\n",
       "      <td>65553</td>\n",
       "      <td>60600</td>\n",
       "      <td>66258.0</td>\n",
       "      <td>60582.0</td>\n",
       "      <td>5676.0</td>\n",
       "    </tr>\n",
       "    <tr>\n",
       "      <th>2</th>\n",
       "      <td>09-FEB-16 00:00:00</td>\n",
       "      <td>2826730</td>\n",
       "      <td>54A</td>\n",
       "      <td>54A_12</td>\n",
       "      <td>2</td>\n",
       "      <td>65951</td>\n",
       "      <td>62100</td>\n",
       "      <td>66053.0</td>\n",
       "      <td>62078.0</td>\n",
       "      <td>3975.0</td>\n",
       "    </tr>\n",
       "    <tr>\n",
       "      <th>3</th>\n",
       "      <td>09-FEB-16 00:00:00</td>\n",
       "      <td>2826743</td>\n",
       "      <td>7</td>\n",
       "      <td>7_51</td>\n",
       "      <td>1</td>\n",
       "      <td>54763</td>\n",
       "      <td>50400</td>\n",
       "      <td>54854.0</td>\n",
       "      <td>50383.0</td>\n",
       "      <td>4471.0</td>\n",
       "    </tr>\n",
       "    <tr>\n",
       "      <th>4</th>\n",
       "      <td>09-FEB-16 00:00:00</td>\n",
       "      <td>2812908</td>\n",
       "      <td>39</td>\n",
       "      <td>39_20</td>\n",
       "      <td>1</td>\n",
       "      <td>27375</td>\n",
       "      <td>22920</td>\n",
       "      <td>27318.0</td>\n",
       "      <td>22931.0</td>\n",
       "      <td>4387.0</td>\n",
       "    </tr>\n",
       "  </tbody>\n",
       "</table>\n",
       "</div>"
      ],
      "text/plain": [
       "         dayofservice   tripid lineid  routeid  direction  plannedtime_arr  \\\n",
       "0  09-FEB-16 00:00:00  2824642    145  145_105          2            45668   \n",
       "1  09-FEB-16 00:00:00  2826717      9      9_7          2            65553   \n",
       "2  09-FEB-16 00:00:00  2826730    54A   54A_12          2            65951   \n",
       "3  09-FEB-16 00:00:00  2826743      7     7_51          1            54763   \n",
       "4  09-FEB-16 00:00:00  2812908     39    39_20          1            27375   \n",
       "\n",
       "   plannedtime_dep  actualtime_arr  actualtime_dep  journey_time  \n",
       "0            40800         45375.0         40782.0        4593.0  \n",
       "1            60600         66258.0         60582.0        5676.0  \n",
       "2            62100         66053.0         62078.0        3975.0  \n",
       "3            50400         54854.0         50383.0        4471.0  \n",
       "4            22920         27318.0         22931.0        4387.0  "
      ]
     },
     "execution_count": 14,
     "metadata": {},
     "output_type": "execute_result"
    }
   ],
   "source": [
    "df3['journey_time'] = (df3['actualtime_arr'] - df3['actualtime_dep']).apply(lambda x: x if (x >= 0 and x != np.nan) else 0)\n",
    "df3.head(5)"
   ]
  },
  {
   "cell_type": "code",
   "execution_count": 149,
   "metadata": {},
   "outputs": [
    {
     "data": {
      "image/png": "[encoded data removed]",
      "text/plain": [
       "<matplotlib.figure.Figure at 0x1a26cc75c0>"
      ]
     },
     "metadata": {},
     "output_type": "display_data"
    }
   ],
   "source": [
    "f = df3['journey_time'].plot(kind='box', figsize=(10,10))\n",
    "plt.show()"
   ]
  },
  {
   "cell_type": "code",
   "execution_count": 153,
   "metadata": {},
   "outputs": [
    {
     "data": {
      "text/plain": [
       "(1717452, 10)"
      ]
     },
     "execution_count": 153,
     "metadata": {},
     "output_type": "execute_result"
    }
   ],
   "source": [
    "# We only want journey times that are positive and remove outliers\n",
    "positive = df3['journey_time'] > 0\n",
    "df3 = df3[positive]\n",
    "outliers = df3['journey_time'] < 19000\n",
    "df3 = df3[outliers]\n",
    "df3.shape"
   ]
  },
  {
   "cell_type": "markdown",
   "metadata": {},
   "source": [
    "## Change time to human readable"
   ]
  },
  {
   "cell_type": "code",
   "execution_count": 16,
   "metadata": {
    "collapsed": true
   },
   "outputs": [],
   "source": [
    "def changetime(x):\n",
    "    return time.strftime(\"%H:%M:%S\", time.localtime(x))"
   ]
  },
  {
   "cell_type": "code",
   "execution_count": 17,
   "metadata": {
    "collapsed": true
   },
   "outputs": [],
   "source": [
    "df3['actualtime_arr'] = df3['actualtime_arr'].apply(changetime)"
   ]
  },
  {
   "cell_type": "code",
   "execution_count": 18,
   "metadata": {
    "collapsed": true
   },
   "outputs": [],
   "source": [
    "df3['plannedtime_arr'] = df3['plannedtime_arr'].apply(changetime)"
   ]
  },
  {
   "cell_type": "code",
   "execution_count": 19,
   "metadata": {
    "collapsed": true
   },
   "outputs": [],
   "source": [
    "df3['actualtime_dep'] = df3['actualtime_dep'].apply(changetime)"
   ]
  },
  {
   "cell_type": "code",
   "execution_count": 20,
   "metadata": {
    "collapsed": true
   },
   "outputs": [],
   "source": [
    "df3['plannedtime_dep'] = df3['plannedtime_dep'].apply(changetime)"
   ]
  },
  {
   "cell_type": "code",
   "execution_count": 21,
   "metadata": {},
   "outputs": [
    {
     "data": {
      "text/html": [
       "<div>\n",
       "<style scoped>\n",
       "    .dataframe tbody tr th:only-of-type {\n",
       "        vertical-align: middle;\n",
       "    }\n",
       "\n",
       "    .dataframe tbody tr th {\n",
       "        vertical-align: top;\n",
       "    }\n",
       "\n",
       "    .dataframe thead th {\n",
       "        text-align: right;\n",
       "    }\n",
       "</style>\n",
       "<table border=\"1\" class=\"dataframe\">\n",
       "  <thead>\n",
       "    <tr style=\"text-align: right;\">\n",
       "      <th></th>\n",
       "      <th>dayofservice</th>\n",
       "      <th>tripid</th>\n",
       "      <th>lineid</th>\n",
       "      <th>routeid</th>\n",
       "      <th>direction</th>\n",
       "      <th>plannedtime_arr</th>\n",
       "      <th>plannedtime_dep</th>\n",
       "      <th>actualtime_arr</th>\n",
       "      <th>actualtime_dep</th>\n",
       "      <th>journey_time</th>\n",
       "    </tr>\n",
       "  </thead>\n",
       "  <tbody>\n",
       "    <tr>\n",
       "      <th>0</th>\n",
       "      <td>09-FEB-16 00:00:00</td>\n",
       "      <td>2824642</td>\n",
       "      <td>145</td>\n",
       "      <td>145_105</td>\n",
       "      <td>2</td>\n",
       "      <td>13:41:08</td>\n",
       "      <td>12:20:00</td>\n",
       "      <td>13:36:15</td>\n",
       "      <td>12:19:42</td>\n",
       "      <td>4593.0</td>\n",
       "    </tr>\n",
       "    <tr>\n",
       "      <th>1</th>\n",
       "      <td>09-FEB-16 00:00:00</td>\n",
       "      <td>2826717</td>\n",
       "      <td>9</td>\n",
       "      <td>9_7</td>\n",
       "      <td>2</td>\n",
       "      <td>19:12:33</td>\n",
       "      <td>17:50:00</td>\n",
       "      <td>19:24:18</td>\n",
       "      <td>17:49:42</td>\n",
       "      <td>5676.0</td>\n",
       "    </tr>\n",
       "    <tr>\n",
       "      <th>2</th>\n",
       "      <td>09-FEB-16 00:00:00</td>\n",
       "      <td>2826730</td>\n",
       "      <td>54A</td>\n",
       "      <td>54A_12</td>\n",
       "      <td>2</td>\n",
       "      <td>19:19:11</td>\n",
       "      <td>18:15:00</td>\n",
       "      <td>19:20:53</td>\n",
       "      <td>18:14:38</td>\n",
       "      <td>3975.0</td>\n",
       "    </tr>\n",
       "    <tr>\n",
       "      <th>3</th>\n",
       "      <td>09-FEB-16 00:00:00</td>\n",
       "      <td>2826743</td>\n",
       "      <td>7</td>\n",
       "      <td>7_51</td>\n",
       "      <td>1</td>\n",
       "      <td>16:12:43</td>\n",
       "      <td>15:00:00</td>\n",
       "      <td>16:14:14</td>\n",
       "      <td>14:59:43</td>\n",
       "      <td>4471.0</td>\n",
       "    </tr>\n",
       "    <tr>\n",
       "      <th>4</th>\n",
       "      <td>09-FEB-16 00:00:00</td>\n",
       "      <td>2812908</td>\n",
       "      <td>39</td>\n",
       "      <td>39_20</td>\n",
       "      <td>1</td>\n",
       "      <td>08:36:15</td>\n",
       "      <td>07:22:00</td>\n",
       "      <td>08:35:18</td>\n",
       "      <td>07:22:11</td>\n",
       "      <td>4387.0</td>\n",
       "    </tr>\n",
       "  </tbody>\n",
       "</table>\n",
       "</div>"
      ],
      "text/plain": [
       "         dayofservice   tripid lineid  routeid  direction plannedtime_arr  \\\n",
       "0  09-FEB-16 00:00:00  2824642    145  145_105          2        13:41:08   \n",
       "1  09-FEB-16 00:00:00  2826717      9      9_7          2        19:12:33   \n",
       "2  09-FEB-16 00:00:00  2826730    54A   54A_12          2        19:19:11   \n",
       "3  09-FEB-16 00:00:00  2826743      7     7_51          1        16:12:43   \n",
       "4  09-FEB-16 00:00:00  2812908     39    39_20          1        08:36:15   \n",
       "\n",
       "  plannedtime_dep actualtime_arr actualtime_dep  journey_time  \n",
       "0        12:20:00       13:36:15       12:19:42        4593.0  \n",
       "1        17:50:00       19:24:18       17:49:42        5676.0  \n",
       "2        18:15:00       19:20:53       18:14:38        3975.0  \n",
       "3        15:00:00       16:14:14       14:59:43        4471.0  \n",
       "4        07:22:00       08:35:18       07:22:11        4387.0  "
      ]
     },
     "execution_count": 21,
     "metadata": {},
     "output_type": "execute_result"
    }
   ],
   "source": [
    "df3.head(5)"
   ]
  },
  {
   "cell_type": "code",
   "execution_count": 22,
   "metadata": {},
   "outputs": [
    {
     "data": {
      "text/plain": [
       "dayofservice        object\n",
       "tripid               int64\n",
       "lineid              object\n",
       "routeid             object\n",
       "direction            int64\n",
       "plannedtime_arr     object\n",
       "plannedtime_dep     object\n",
       "actualtime_arr      object\n",
       "actualtime_dep      object\n",
       "journey_time       float64\n",
       "dtype: object"
      ]
     },
     "execution_count": 22,
     "metadata": {},
     "output_type": "execute_result"
    }
   ],
   "source": [
    "df3.dtypes"
   ]
  },
  {
   "cell_type": "code",
   "execution_count": 23,
   "metadata": {
    "collapsed": true
   },
   "outputs": [],
   "source": [
    "df3['lineid'] = df3['lineid'].astype(str)"
   ]
  },
  {
   "cell_type": "markdown",
   "metadata": {},
   "source": [
    "# Only look at the 46A (option)"
   ]
  },
  {
   "cell_type": "code",
   "execution_count": 24,
   "metadata": {},
   "outputs": [
    {
     "data": {
      "text/html": [
       "<div>\n",
       "<style scoped>\n",
       "    .dataframe tbody tr th:only-of-type {\n",
       "        vertical-align: middle;\n",
       "    }\n",
       "\n",
       "    .dataframe tbody tr th {\n",
       "        vertical-align: top;\n",
       "    }\n",
       "\n",
       "    .dataframe thead th {\n",
       "        text-align: right;\n",
       "    }\n",
       "</style>\n",
       "<table border=\"1\" class=\"dataframe\">\n",
       "  <thead>\n",
       "    <tr style=\"text-align: right;\">\n",
       "      <th></th>\n",
       "      <th>dayofservice</th>\n",
       "      <th>tripid</th>\n",
       "      <th>lineid</th>\n",
       "      <th>routeid</th>\n",
       "      <th>direction</th>\n",
       "      <th>plannedtime_arr</th>\n",
       "      <th>plannedtime_dep</th>\n",
       "      <th>actualtime_arr</th>\n",
       "      <th>actualtime_dep</th>\n",
       "      <th>journey_time</th>\n",
       "    </tr>\n",
       "  </thead>\n",
       "  <tbody>\n",
       "    <tr>\n",
       "      <th>0</th>\n",
       "      <td>09-FEB-16 00:00:00</td>\n",
       "      <td>2824642</td>\n",
       "      <td>145</td>\n",
       "      <td>145_105</td>\n",
       "      <td>2</td>\n",
       "      <td>13:41:08</td>\n",
       "      <td>12:20:00</td>\n",
       "      <td>13:36:15</td>\n",
       "      <td>12:19:42</td>\n",
       "      <td>4593.0</td>\n",
       "    </tr>\n",
       "    <tr>\n",
       "      <th>1</th>\n",
       "      <td>09-FEB-16 00:00:00</td>\n",
       "      <td>2826717</td>\n",
       "      <td>9</td>\n",
       "      <td>9_7</td>\n",
       "      <td>2</td>\n",
       "      <td>19:12:33</td>\n",
       "      <td>17:50:00</td>\n",
       "      <td>19:24:18</td>\n",
       "      <td>17:49:42</td>\n",
       "      <td>5676.0</td>\n",
       "    </tr>\n",
       "    <tr>\n",
       "      <th>2</th>\n",
       "      <td>09-FEB-16 00:00:00</td>\n",
       "      <td>2826730</td>\n",
       "      <td>54A</td>\n",
       "      <td>54A_12</td>\n",
       "      <td>2</td>\n",
       "      <td>19:19:11</td>\n",
       "      <td>18:15:00</td>\n",
       "      <td>19:20:53</td>\n",
       "      <td>18:14:38</td>\n",
       "      <td>3975.0</td>\n",
       "    </tr>\n",
       "    <tr>\n",
       "      <th>3</th>\n",
       "      <td>09-FEB-16 00:00:00</td>\n",
       "      <td>2826743</td>\n",
       "      <td>7</td>\n",
       "      <td>7_51</td>\n",
       "      <td>1</td>\n",
       "      <td>16:12:43</td>\n",
       "      <td>15:00:00</td>\n",
       "      <td>16:14:14</td>\n",
       "      <td>14:59:43</td>\n",
       "      <td>4471.0</td>\n",
       "    </tr>\n",
       "    <tr>\n",
       "      <th>4</th>\n",
       "      <td>09-FEB-16 00:00:00</td>\n",
       "      <td>2812908</td>\n",
       "      <td>39</td>\n",
       "      <td>39_20</td>\n",
       "      <td>1</td>\n",
       "      <td>08:36:15</td>\n",
       "      <td>07:22:00</td>\n",
       "      <td>08:35:18</td>\n",
       "      <td>07:22:11</td>\n",
       "      <td>4387.0</td>\n",
       "    </tr>\n",
       "  </tbody>\n",
       "</table>\n",
       "</div>"
      ],
      "text/plain": [
       "         dayofservice   tripid lineid  routeid  direction plannedtime_arr  \\\n",
       "0  09-FEB-16 00:00:00  2824642    145  145_105          2        13:41:08   \n",
       "1  09-FEB-16 00:00:00  2826717      9      9_7          2        19:12:33   \n",
       "2  09-FEB-16 00:00:00  2826730    54A   54A_12          2        19:19:11   \n",
       "3  09-FEB-16 00:00:00  2826743      7     7_51          1        16:12:43   \n",
       "4  09-FEB-16 00:00:00  2812908     39    39_20          1        08:36:15   \n",
       "\n",
       "  plannedtime_dep actualtime_arr actualtime_dep  journey_time  \n",
       "0        12:20:00       13:36:15       12:19:42        4593.0  \n",
       "1        17:50:00       19:24:18       17:49:42        5676.0  \n",
       "2        18:15:00       19:20:53       18:14:38        3975.0  \n",
       "3        15:00:00       16:14:14       14:59:43        4471.0  \n",
       "4        07:22:00       08:35:18       07:22:11        4387.0  "
      ]
     },
     "execution_count": 24,
     "metadata": {},
     "output_type": "execute_result"
    }
   ],
   "source": [
    "# Uncomment out the 46A line to shoose a single route\n",
    "# FortySixA = df3.loc[df3['lineid'] == \"46A\"]\n",
    "FortySixA = df3\n",
    "FortySixA.head(5)"
   ]
  },
  {
   "cell_type": "code",
   "execution_count": 25,
   "metadata": {},
   "outputs": [],
   "source": [
    "FortySixA['dayofservice'] = pd.to_datetime(FortySixA['dayofservice'])"
   ]
  },
  {
   "cell_type": "markdown",
   "metadata": {},
   "source": [
    "## Create merged dataframe of weather and trips data"
   ]
  },
  {
   "cell_type": "code",
   "execution_count": 26,
   "metadata": {},
   "outputs": [
    {
     "name": "stderr",
     "output_type": "stream",
     "text": [
      "/anaconda3/lib/python3.6/site-packages/ipykernel_launcher.py:2: SettingWithCopyWarning: \n",
      "A value is trying to be set on a copy of a slice from a DataFrame.\n",
      "Try using .loc[row_indexer,col_indexer] = value instead\n",
      "\n",
      "See the caveats in the documentation: http://pandas.pydata.org/pandas-docs/stable/indexing.html#indexing-view-versus-copy\n",
      "  \n",
      "/anaconda3/lib/python3.6/site-packages/ipykernel_launcher.py:3: SettingWithCopyWarning: \n",
      "A value is trying to be set on a copy of a slice from a DataFrame.\n",
      "Try using .loc[row_indexer,col_indexer] = value instead\n",
      "\n",
      "See the caveats in the documentation: http://pandas.pydata.org/pandas-docs/stable/indexing.html#indexing-view-versus-copy\n",
      "  This is separate from the ipykernel package so we can avoid doing imports until\n",
      "/anaconda3/lib/python3.6/site-packages/ipykernel_launcher.py:4: SettingWithCopyWarning: \n",
      "A value is trying to be set on a copy of a slice from a DataFrame.\n",
      "Try using .loc[row_indexer,col_indexer] = value instead\n",
      "\n",
      "See the caveats in the documentation: http://pandas.pydata.org/pandas-docs/stable/indexing.html#indexing-view-versus-copy\n",
      "  after removing the cwd from sys.path.\n"
     ]
    },
    {
     "data": {
      "text/html": [
       "<div>\n",
       "<style scoped>\n",
       "    .dataframe tbody tr th:only-of-type {\n",
       "        vertical-align: middle;\n",
       "    }\n",
       "\n",
       "    .dataframe tbody tr th {\n",
       "        vertical-align: top;\n",
       "    }\n",
       "\n",
       "    .dataframe thead th {\n",
       "        text-align: right;\n",
       "    }\n",
       "</style>\n",
       "<table border=\"1\" class=\"dataframe\">\n",
       "  <thead>\n",
       "    <tr style=\"text-align: right;\">\n",
       "      <th></th>\n",
       "      <th>dayofservice</th>\n",
       "      <th>tripid</th>\n",
       "      <th>lineid</th>\n",
       "      <th>routeid</th>\n",
       "      <th>direction</th>\n",
       "      <th>plannedtime_arr</th>\n",
       "      <th>plannedtime_dep</th>\n",
       "      <th>actualtime_arr</th>\n",
       "      <th>actualtime_dep</th>\n",
       "      <th>journey_time</th>\n",
       "      <th>hour</th>\n",
       "    </tr>\n",
       "  </thead>\n",
       "  <tbody>\n",
       "    <tr>\n",
       "      <th>103</th>\n",
       "      <td>2016-02-09</td>\n",
       "      <td>2815441</td>\n",
       "      <td>46A</td>\n",
       "      <td>46A_74</td>\n",
       "      <td>1</td>\n",
       "      <td>18:17:37</td>\n",
       "      <td>17:00:00</td>\n",
       "      <td>18:23:07</td>\n",
       "      <td>2018-07-17 17:00:39</td>\n",
       "      <td>4948.0</td>\n",
       "      <td>17</td>\n",
       "    </tr>\n",
       "    <tr>\n",
       "      <th>151</th>\n",
       "      <td>2016-02-09</td>\n",
       "      <td>2822666</td>\n",
       "      <td>46A</td>\n",
       "      <td>46A_67</td>\n",
       "      <td>2</td>\n",
       "      <td>14:48:07</td>\n",
       "      <td>13:28:00</td>\n",
       "      <td>15:04:06</td>\n",
       "      <td>2018-07-17 13:27:28</td>\n",
       "      <td>5798.0</td>\n",
       "      <td>13</td>\n",
       "    </tr>\n",
       "    <tr>\n",
       "      <th>154</th>\n",
       "      <td>2016-02-09</td>\n",
       "      <td>2822373</td>\n",
       "      <td>46A</td>\n",
       "      <td>46A_74</td>\n",
       "      <td>1</td>\n",
       "      <td>10:19:59</td>\n",
       "      <td>08:52:00</td>\n",
       "      <td>10:25:31</td>\n",
       "      <td>2018-07-17 08:52:03</td>\n",
       "      <td>5608.0</td>\n",
       "      <td>9</td>\n",
       "    </tr>\n",
       "    <tr>\n",
       "      <th>182</th>\n",
       "      <td>2016-04-08</td>\n",
       "      <td>3011257</td>\n",
       "      <td>46A</td>\n",
       "      <td>46A_67</td>\n",
       "      <td>2</td>\n",
       "      <td>12:57:29</td>\n",
       "      <td>11:36:00</td>\n",
       "      <td>13:15:38</td>\n",
       "      <td>2018-07-17 11:34:41</td>\n",
       "      <td>6057.0</td>\n",
       "      <td>12</td>\n",
       "    </tr>\n",
       "    <tr>\n",
       "      <th>199</th>\n",
       "      <td>2016-04-08</td>\n",
       "      <td>3010331</td>\n",
       "      <td>46A</td>\n",
       "      <td>46A_74</td>\n",
       "      <td>1</td>\n",
       "      <td>22:34:55</td>\n",
       "      <td>21:40:00</td>\n",
       "      <td>22:32:45</td>\n",
       "      <td>2018-07-17 21:39:35</td>\n",
       "      <td>3190.0</td>\n",
       "      <td>22</td>\n",
       "    </tr>\n",
       "  </tbody>\n",
       "</table>\n",
       "</div>"
      ],
      "text/plain": [
       "    dayofservice   tripid lineid routeid  direction plannedtime_arr  \\\n",
       "103   2016-02-09  2815441    46A  46A_74          1        18:17:37   \n",
       "151   2016-02-09  2822666    46A  46A_67          2        14:48:07   \n",
       "154   2016-02-09  2822373    46A  46A_74          1        10:19:59   \n",
       "182   2016-04-08  3011257    46A  46A_67          2        12:57:29   \n",
       "199   2016-04-08  3010331    46A  46A_74          1        22:34:55   \n",
       "\n",
       "    plannedtime_dep actualtime_arr      actualtime_dep  journey_time  hour  \n",
       "103        17:00:00       18:23:07 2018-07-17 17:00:39        4948.0    17  \n",
       "151        13:28:00       15:04:06 2018-07-17 13:27:28        5798.0    13  \n",
       "154        08:52:00       10:25:31 2018-07-17 08:52:03        5608.0     9  \n",
       "182        11:36:00       13:15:38 2018-07-17 11:34:41        6057.0    12  \n",
       "199        21:40:00       22:32:45 2018-07-17 21:39:35        3190.0    22  "
      ]
     },
     "execution_count": 26,
     "metadata": {},
     "output_type": "execute_result"
    }
   ],
   "source": [
    "FortySixArain = df3.loc[df3['lineid'] == \"46A\"]\n",
    "FortySixArain['dayofservice'] = pd.to_datetime(FortySixArain['dayofservice'])\n",
    "FortySixArain['actualtime_dep'] = pd.to_datetime(FortySixArain['actualtime_dep'])\n",
    "FortySixArain['hour'] = FortySixArain['actualtime_dep'].dt.round('H').dt.hour\n",
    "FortySixArain.head(5)"
   ]
  },
  {
   "cell_type": "code",
   "execution_count": 27,
   "metadata": {
    "collapsed": true
   },
   "outputs": [],
   "source": [
    "weather['date'] = pd.to_datetime(weather['date'],infer_datetime_format=True)\n",
    "weather['time'] = pd.to_datetime(weather['time'],infer_datetime_format=True)\n",
    "weather['hour'] = weather['time'].dt.hour"
   ]
  },
  {
   "cell_type": "code",
   "execution_count": 28,
   "metadata": {},
   "outputs": [
    {
     "data": {
      "text/html": [
       "<div>\n",
       "<style scoped>\n",
       "    .dataframe tbody tr th:only-of-type {\n",
       "        vertical-align: middle;\n",
       "    }\n",
       "\n",
       "    .dataframe tbody tr th {\n",
       "        vertical-align: top;\n",
       "    }\n",
       "\n",
       "    .dataframe thead th {\n",
       "        text-align: right;\n",
       "    }\n",
       "</style>\n",
       "<table border=\"1\" class=\"dataframe\">\n",
       "  <thead>\n",
       "    <tr style=\"text-align: right;\">\n",
       "      <th></th>\n",
       "      <th>id</th>\n",
       "      <th>date</th>\n",
       "      <th>time</th>\n",
       "      <th>irain</th>\n",
       "      <th>rain</th>\n",
       "      <th>itemp</th>\n",
       "      <th>temp</th>\n",
       "      <th>iwetb</th>\n",
       "      <th>wetb</th>\n",
       "      <th>dewpt</th>\n",
       "      <th>vappr</th>\n",
       "      <th>rhum</th>\n",
       "      <th>msl</th>\n",
       "      <th>hour</th>\n",
       "    </tr>\n",
       "  </thead>\n",
       "  <tbody>\n",
       "    <tr>\n",
       "      <th>0</th>\n",
       "      <td>1</td>\n",
       "      <td>2016-01-01</td>\n",
       "      <td>2018-07-17 00:00:00</td>\n",
       "      <td>0</td>\n",
       "      <td>0.0</td>\n",
       "      <td>0</td>\n",
       "      <td>1.2</td>\n",
       "      <td>0</td>\n",
       "      <td>0.7</td>\n",
       "      <td>-0.2</td>\n",
       "      <td>6</td>\n",
       "      <td>90</td>\n",
       "      <td>1016.2</td>\n",
       "      <td>0</td>\n",
       "    </tr>\n",
       "    <tr>\n",
       "      <th>13494</th>\n",
       "      <td>13495</td>\n",
       "      <td>2017-07-16</td>\n",
       "      <td>2018-07-17 06:00:00</td>\n",
       "      <td>0</td>\n",
       "      <td>0.0</td>\n",
       "      <td>0</td>\n",
       "      <td>13.7</td>\n",
       "      <td>0</td>\n",
       "      <td>13.3</td>\n",
       "      <td>12.9</td>\n",
       "      <td>14.9</td>\n",
       "      <td>95</td>\n",
       "      <td>1022.5</td>\n",
       "      <td>6</td>\n",
       "    </tr>\n",
       "    <tr>\n",
       "      <th>13489</th>\n",
       "      <td>13490</td>\n",
       "      <td>2017-07-16</td>\n",
       "      <td>2018-07-17 01:00:00</td>\n",
       "      <td>0</td>\n",
       "      <td>0.0</td>\n",
       "      <td>0</td>\n",
       "      <td>16.9</td>\n",
       "      <td>0</td>\n",
       "      <td>16.1</td>\n",
       "      <td>15.6</td>\n",
       "      <td>17.7</td>\n",
       "      <td>92</td>\n",
       "      <td>1019.6</td>\n",
       "      <td>1</td>\n",
       "    </tr>\n",
       "    <tr>\n",
       "      <th>13488</th>\n",
       "      <td>13489</td>\n",
       "      <td>2017-07-16</td>\n",
       "      <td>2018-07-17 00:00:00</td>\n",
       "      <td>0</td>\n",
       "      <td>0.0</td>\n",
       "      <td>0</td>\n",
       "      <td>17.1</td>\n",
       "      <td>0</td>\n",
       "      <td>16.1</td>\n",
       "      <td>15.3</td>\n",
       "      <td>17.4</td>\n",
       "      <td>89</td>\n",
       "      <td>1019.2</td>\n",
       "      <td>0</td>\n",
       "    </tr>\n",
       "    <tr>\n",
       "      <th>13487</th>\n",
       "      <td>13488</td>\n",
       "      <td>2017-07-15</td>\n",
       "      <td>2018-07-17 23:00:00</td>\n",
       "      <td>0</td>\n",
       "      <td>0.0</td>\n",
       "      <td>0</td>\n",
       "      <td>17.5</td>\n",
       "      <td>0</td>\n",
       "      <td>16.4</td>\n",
       "      <td>15.6</td>\n",
       "      <td>17.8</td>\n",
       "      <td>89</td>\n",
       "      <td>1019.1</td>\n",
       "      <td>23</td>\n",
       "    </tr>\n",
       "  </tbody>\n",
       "</table>\n",
       "</div>"
      ],
      "text/plain": [
       "          id       date                time  irain  rain  itemp  temp  iwetb  \\\n",
       "0          1 2016-01-01 2018-07-17 00:00:00      0   0.0      0   1.2      0   \n",
       "13494  13495 2017-07-16 2018-07-17 06:00:00      0   0.0      0  13.7      0   \n",
       "13489  13490 2017-07-16 2018-07-17 01:00:00      0   0.0      0  16.9      0   \n",
       "13488  13489 2017-07-16 2018-07-17 00:00:00      0   0.0      0  17.1      0   \n",
       "13487  13488 2017-07-15 2018-07-17 23:00:00      0   0.0      0  17.5      0   \n",
       "\n",
       "       wetb dewpt vappr rhum     msl  hour  \n",
       "0       0.7  -0.2     6   90  1016.2     0  \n",
       "13494  13.3  12.9  14.9   95  1022.5     6  \n",
       "13489  16.1  15.6  17.7   92  1019.6     1  \n",
       "13488  16.1  15.3  17.4   89  1019.2     0  \n",
       "13487  16.4  15.6  17.8   89  1019.1    23  "
      ]
     },
     "execution_count": 28,
     "metadata": {},
     "output_type": "execute_result"
    }
   ],
   "source": [
    "weather.head(5)"
   ]
  },
  {
   "cell_type": "code",
   "execution_count": 29,
   "metadata": {},
   "outputs": [
    {
     "data": {
      "text/plain": [
       "(64176, 24)"
      ]
     },
     "execution_count": 29,
     "metadata": {},
     "output_type": "execute_result"
    }
   ],
   "source": [
    "weather_46a_merged = FortySixArain.merge(weather,left_on=['dayofservice','hour'],right_on=['date','hour'],how='left')\n",
    "weather_46a_merged.shape"
   ]
  },
  {
   "cell_type": "code",
   "execution_count": 30,
   "metadata": {
    "collapsed": true
   },
   "outputs": [],
   "source": [
    "# FortySixA['duration'] = pd.to_datetime(FortySixA['actualtime_arr']) - pd.to_datetime(FortySixA['actualtime_dep'])\n",
    "# FortySixA['duration'] = FortySixA['duration'].astype('timedelta64[m]')"
   ]
  },
  {
   "cell_type": "code",
   "execution_count": 31,
   "metadata": {
    "collapsed": true
   },
   "outputs": [],
   "source": [
    "# avgs.set_value(0, 'day', 'monday')\n",
    "# avgs.set_value(0, 'time', '09:00')\n",
    "# avgs.head(5)"
   ]
  },
  {
   "cell_type": "code",
   "execution_count": 32,
   "metadata": {
    "collapsed": true
   },
   "outputs": [],
   "source": [
    "# check = FortySixA.loc[FortySixA['tripid'] == 2813970]\n",
    "# check.head(5)"
   ]
  },
  {
   "cell_type": "markdown",
   "metadata": {},
   "source": [
    "## Only look at normal Monday's"
   ]
  },
  {
   "cell_type": "code",
   "execution_count": 33,
   "metadata": {
    "collapsed": true
   },
   "outputs": [],
   "source": [
    "monday1 = FortySixA['dayofservice'] == '2016-02-01'\n",
    "monday1 = FortySixA[monday1]"
   ]
  },
  {
   "cell_type": "code",
   "execution_count": 34,
   "metadata": {
    "collapsed": true
   },
   "outputs": [],
   "source": [
    "monday2 = FortySixA['dayofservice'] == '2016-02-08'\n",
    "monday2 = FortySixA[monday2]"
   ]
  },
  {
   "cell_type": "code",
   "execution_count": 35,
   "metadata": {
    "collapsed": true
   },
   "outputs": [],
   "source": [
    "monday3 = FortySixA['dayofservice'] == '2016-02-22'\n",
    "monday3 = FortySixA[monday3]"
   ]
  },
  {
   "cell_type": "code",
   "execution_count": 36,
   "metadata": {
    "collapsed": true
   },
   "outputs": [],
   "source": [
    "monday4 = FortySixA['dayofservice'] == '2016-03-07'\n",
    "monday4 = FortySixA[monday4]"
   ]
  },
  {
   "cell_type": "code",
   "execution_count": 37,
   "metadata": {
    "collapsed": true
   },
   "outputs": [],
   "source": [
    "monday5 = FortySixA['dayofservice'] == '2016-03-14'\n",
    "monday5 = FortySixA[monday5]"
   ]
  },
  {
   "cell_type": "code",
   "execution_count": 38,
   "metadata": {
    "collapsed": true
   },
   "outputs": [],
   "source": [
    "monday6 = FortySixA['dayofservice'] == '2016-04-04'\n",
    "monday6 = FortySixA[monday6]"
   ]
  },
  {
   "cell_type": "code",
   "execution_count": 39,
   "metadata": {
    "collapsed": true
   },
   "outputs": [],
   "source": [
    "monday7 = FortySixA['dayofservice'] == '2016-04-18'\n",
    "monday7 = FortySixA[monday7]"
   ]
  },
  {
   "cell_type": "code",
   "execution_count": 40,
   "metadata": {
    "collapsed": true
   },
   "outputs": [],
   "source": [
    "monday8 = FortySixA['dayofservice'] == '2016-04-25'\n",
    "monday8 = FortySixA[monday8]"
   ]
  },
  {
   "cell_type": "code",
   "execution_count": 41,
   "metadata": {
    "collapsed": true
   },
   "outputs": [],
   "source": [
    "monday9 = FortySixA['dayofservice'] == '2016-05-09'\n",
    "monday9 = FortySixA[monday9]"
   ]
  },
  {
   "cell_type": "code",
   "execution_count": 42,
   "metadata": {
    "collapsed": true
   },
   "outputs": [],
   "source": [
    "monday10 = FortySixA['dayofservice'] == '2016-05-16'\n",
    "monday10 = FortySixA[monday10]"
   ]
  },
  {
   "cell_type": "code",
   "execution_count": 43,
   "metadata": {
    "collapsed": true
   },
   "outputs": [],
   "source": [
    "monday11 = FortySixA['dayofservice'] == '2016-05-30'\n",
    "monday11 = FortySixA[monday11]"
   ]
  },
  {
   "cell_type": "code",
   "execution_count": 44,
   "metadata": {
    "collapsed": true
   },
   "outputs": [],
   "source": [
    "monday12 = FortySixA['dayofservice'] == '2016-06-13'\n",
    "monday12 = FortySixA[monday12]"
   ]
  },
  {
   "cell_type": "code",
   "execution_count": 45,
   "metadata": {
    "collapsed": true
   },
   "outputs": [],
   "source": [
    "monday13 = FortySixA['dayofservice'] == '2016-06-20'\n",
    "monday13 = FortySixA[monday13]"
   ]
  },
  {
   "cell_type": "code",
   "execution_count": 46,
   "metadata": {
    "collapsed": true
   },
   "outputs": [],
   "source": [
    "monday14 = FortySixA['dayofservice'] == '2016-06-27'\n",
    "monday14 = FortySixA[monday14]"
   ]
  },
  {
   "cell_type": "code",
   "execution_count": 47,
   "metadata": {
    "collapsed": true
   },
   "outputs": [],
   "source": [
    "monday15 = FortySixA['dayofservice'] == '2017-02-06'\n",
    "monday15 = FortySixA[monday15]"
   ]
  },
  {
   "cell_type": "code",
   "execution_count": 48,
   "metadata": {
    "collapsed": true
   },
   "outputs": [],
   "source": [
    "monday16 = FortySixA['dayofservice'] == '2016-02-13'\n",
    "monday16 = FortySixA[monday16]"
   ]
  },
  {
   "cell_type": "code",
   "execution_count": 49,
   "metadata": {
    "collapsed": true
   },
   "outputs": [],
   "source": [
    "monday17 = FortySixA['dayofservice'] == '2016-02-27'\n",
    "monday17 = FortySixA[monday17]"
   ]
  },
  {
   "cell_type": "code",
   "execution_count": 50,
   "metadata": {
    "collapsed": true
   },
   "outputs": [],
   "source": [
    "monday18 = FortySixA['dayofservice'] == '2016-03-06'\n",
    "monday18 = FortySixA[monday18]"
   ]
  },
  {
   "cell_type": "code",
   "execution_count": 51,
   "metadata": {
    "collapsed": true
   },
   "outputs": [],
   "source": [
    "monday19 = FortySixA['dayofservice'] == '2016-03-13'\n",
    "monday19 = FortySixA[monday19]"
   ]
  },
  {
   "cell_type": "code",
   "execution_count": 52,
   "metadata": {
    "collapsed": true
   },
   "outputs": [],
   "source": [
    "monday20 = FortySixA['dayofservice'] == '2016-03-20'\n",
    "monday20 = FortySixA[monday20]"
   ]
  },
  {
   "cell_type": "code",
   "execution_count": 53,
   "metadata": {
    "collapsed": true
   },
   "outputs": [],
   "source": [
    "monday21 = FortySixA['dayofservice'] == '2016-04-17'\n",
    "monday21 = FortySixA[monday21]"
   ]
  },
  {
   "cell_type": "code",
   "execution_count": 54,
   "metadata": {
    "collapsed": true
   },
   "outputs": [],
   "source": [
    "monday22 = FortySixA['dayofservice'] == '2016-04-24'\n",
    "monday22 = FortySixA[monday22]"
   ]
  },
  {
   "cell_type": "code",
   "execution_count": 55,
   "metadata": {
    "collapsed": true
   },
   "outputs": [],
   "source": [
    "monday23 = FortySixA['dayofservice'] == '2016-05-08'\n",
    "monday23 = FortySixA[monday23]"
   ]
  },
  {
   "cell_type": "code",
   "execution_count": 56,
   "metadata": {
    "collapsed": true
   },
   "outputs": [],
   "source": [
    "monday24 = FortySixA['dayofservice'] == '2016-05-15'\n",
    "monday24 = FortySixA[monday24]"
   ]
  },
  {
   "cell_type": "code",
   "execution_count": 57,
   "metadata": {
    "collapsed": true
   },
   "outputs": [],
   "source": [
    "monday25 = FortySixA['dayofservice'] == '2016-05-22'\n",
    "monday25 = FortySixA[monday25]"
   ]
  },
  {
   "cell_type": "code",
   "execution_count": 58,
   "metadata": {
    "collapsed": true
   },
   "outputs": [],
   "source": [
    "monday26 = FortySixA['dayofservice'] == '2016-06-12'\n",
    "monday26 = FortySixA[monday26]"
   ]
  },
  {
   "cell_type": "code",
   "execution_count": 59,
   "metadata": {
    "collapsed": true
   },
   "outputs": [],
   "source": [
    "monday27 = FortySixA['dayofservice'] == '2016-06-19'\n",
    "monday27 = FortySixA[monday27]"
   ]
  },
  {
   "cell_type": "code",
   "execution_count": 60,
   "metadata": {
    "collapsed": true
   },
   "outputs": [],
   "source": [
    "monday28 = FortySixA['dayofservice'] == '2016-06-26'\n",
    "monday28 = FortySixA[monday28]"
   ]
  },
  {
   "cell_type": "code",
   "execution_count": 61,
   "metadata": {
    "collapsed": true
   },
   "outputs": [],
   "source": [
    "normal_mondays = pd.concat([monday1, monday5, monday9, monday12, monday17, monday25, monday28])\n",
    "#normal_mondays = pd.concat([monday1, monday2, monday3,  monday4, monday5, monday6, monday7, monday8, monday9, monday10, monday11, monday12, monday13, monday14, monday15, monday16, monday17, monday18, monday19, monday20, monday21, monday22, monday23, monday24, monday25, monday26, monday27, monday28])"
   ]
  },
  {
   "cell_type": "markdown",
   "metadata": {},
   "source": [
    "## Bank holiday Monday's"
   ]
  },
  {
   "cell_type": "code",
   "execution_count": 62,
   "metadata": {
    "collapsed": true
   },
   "outputs": [],
   "source": [
    "bhmonday1 = FortySixA['dayofservice'] == '2016-03-28'\n",
    "bhmonday1 = FortySixA[bhmonday1]"
   ]
  },
  {
   "cell_type": "code",
   "execution_count": 63,
   "metadata": {
    "collapsed": true
   },
   "outputs": [],
   "source": [
    "bhmonday2 = FortySixA['dayofservice'] == '2016-05-02'\n",
    "bhmonday2 = FortySixA[bhmonday2]"
   ]
  },
  {
   "cell_type": "code",
   "execution_count": 64,
   "metadata": {
    "collapsed": true
   },
   "outputs": [],
   "source": [
    "bhmonday3 = FortySixA['dayofservice'] == '2016-06-06'\n",
    "bhmonday3 = FortySixA[bhmonday3]"
   ]
  },
  {
   "cell_type": "code",
   "execution_count": 65,
   "metadata": {
    "collapsed": true
   },
   "outputs": [],
   "source": [
    "bhmonday4 = FortySixA['dayofservice'] == '2017-04-17'\n",
    "bhmonday4 = FortySixA[bhmonday4]"
   ]
  },
  {
   "cell_type": "code",
   "execution_count": 66,
   "metadata": {
    "collapsed": true
   },
   "outputs": [],
   "source": [
    "bhmonday5 = FortySixA['dayofservice'] == '2017-05-01'\n",
    "bhmonday5 = FortySixA[bhmonday5]"
   ]
  },
  {
   "cell_type": "code",
   "execution_count": 67,
   "metadata": {
    "collapsed": true
   },
   "outputs": [],
   "source": [
    "bhmonday6 = FortySixA['dayofservice'] == '2017-06-05'\n",
    "bhmonday6 = FortySixA[bhmonday6]"
   ]
  },
  {
   "cell_type": "code",
   "execution_count": 68,
   "metadata": {
    "collapsed": true
   },
   "outputs": [],
   "source": [
    "bh_mondays = pd.concat([bhmonday1, bhmonday2, bhmonday3,  bhmonday4, bhmonday5, bhmonday6])"
   ]
  },
  {
   "cell_type": "markdown",
   "metadata": {},
   "source": [
    "# Sunday's"
   ]
  },
  {
   "cell_type": "code",
   "execution_count": 69,
   "metadata": {
    "collapsed": true
   },
   "outputs": [],
   "source": [
    "sunday1 = FortySixA['dayofservice'] == '2016-02-07'\n",
    "sunday1 = FortySixA[sunday1]"
   ]
  },
  {
   "cell_type": "code",
   "execution_count": 70,
   "metadata": {
    "collapsed": true
   },
   "outputs": [],
   "source": [
    "sunday2 = FortySixA['dayofservice'] == '2016-02-28'\n",
    "sunday2 = FortySixA[sunday2]"
   ]
  },
  {
   "cell_type": "code",
   "execution_count": 71,
   "metadata": {
    "collapsed": true
   },
   "outputs": [],
   "source": [
    "sunday3 = FortySixA['dayofservice'] == '2016-04-03'\n",
    "sunday3 = FortySixA[sunday3]"
   ]
  },
  {
   "cell_type": "code",
   "execution_count": 72,
   "metadata": {
    "collapsed": true
   },
   "outputs": [],
   "source": [
    "sunday4 = FortySixA['dayofservice'] == '2016-04-24'\n",
    "sunday4 = FortySixA[sunday4]"
   ]
  },
  {
   "cell_type": "code",
   "execution_count": 73,
   "metadata": {
    "collapsed": true
   },
   "outputs": [],
   "source": [
    "sunday5 = FortySixA['dayofservice'] == '2017-02-05'\n",
    "sunday5 = FortySixA[sunday5]"
   ]
  },
  {
   "cell_type": "code",
   "execution_count": 74,
   "metadata": {
    "collapsed": true
   },
   "outputs": [],
   "source": [
    "sunday6 = FortySixA['dayofservice'] == '2017-04-23'\n",
    "sunday6 = FortySixA[sunday6]"
   ]
  },
  {
   "cell_type": "code",
   "execution_count": 75,
   "metadata": {
    "collapsed": true
   },
   "outputs": [],
   "source": [
    "sundays = pd.concat([sunday1, sunday2, sunday3, sunday4, sunday5, sunday6])"
   ]
  },
  {
   "cell_type": "markdown",
   "metadata": {},
   "source": [
    "## Half term"
   ]
  },
  {
   "cell_type": "code",
   "execution_count": 76,
   "metadata": {
    "collapsed": true
   },
   "outputs": [],
   "source": [
    "ht1 = FortySixA['dayofservice'] == '2016-02-15'\n",
    "ht1 = FortySixA[ht1]"
   ]
  },
  {
   "cell_type": "code",
   "execution_count": 77,
   "metadata": {
    "collapsed": true
   },
   "outputs": [],
   "source": [
    "ht2 = FortySixA['dayofservice'] == '2016-02-16'\n",
    "ht2 = FortySixA[ht2]"
   ]
  },
  {
   "cell_type": "code",
   "execution_count": 78,
   "metadata": {
    "collapsed": true
   },
   "outputs": [],
   "source": [
    "ht3 = FortySixA['dayofservice'] == '2016-02-17'\n",
    "ht3 = FortySixA[ht3]"
   ]
  },
  {
   "cell_type": "code",
   "execution_count": 79,
   "metadata": {
    "collapsed": true
   },
   "outputs": [],
   "source": [
    "ht4 = FortySixA['dayofservice'] == '2016-02-18'\n",
    "ht4 = FortySixA[ht4]"
   ]
  },
  {
   "cell_type": "code",
   "execution_count": 80,
   "metadata": {
    "collapsed": true
   },
   "outputs": [],
   "source": [
    "ht5 = FortySixA['dayofservice'] == '2016-02-19'\n",
    "ht5 = FortySixA[ht5]"
   ]
  },
  {
   "cell_type": "code",
   "execution_count": 81,
   "metadata": {
    "collapsed": true
   },
   "outputs": [],
   "source": [
    "ht6 = FortySixA['dayofservice'] == '2017-02-20'\n",
    "ht6 = FortySixA[ht6]"
   ]
  },
  {
   "cell_type": "code",
   "execution_count": 82,
   "metadata": {
    "collapsed": true
   },
   "outputs": [],
   "source": [
    "ht7 = FortySixA['dayofservice'] == '2017-02-21'\n",
    "ht7 = FortySixA[ht7]"
   ]
  },
  {
   "cell_type": "code",
   "execution_count": 83,
   "metadata": {
    "collapsed": true
   },
   "outputs": [],
   "source": [
    "ht8 = FortySixA['dayofservice'] == '2017-02-22'\n",
    "ht8 = FortySixA[ht8]"
   ]
  },
  {
   "cell_type": "code",
   "execution_count": 84,
   "metadata": {
    "collapsed": true
   },
   "outputs": [],
   "source": [
    "ht9 = FortySixA['dayofservice'] == '2017-02-23'\n",
    "ht9 = FortySixA[ht9]"
   ]
  },
  {
   "cell_type": "code",
   "execution_count": 85,
   "metadata": {
    "collapsed": true
   },
   "outputs": [],
   "source": [
    "ht10 = FortySixA['dayofservice'] == '2017-02-24'\n",
    "ht10 = FortySixA[ht10]"
   ]
  },
  {
   "cell_type": "code",
   "execution_count": 86,
   "metadata": {
    "collapsed": true
   },
   "outputs": [],
   "source": [
    "half_term = pd.concat([ht1, ht2, ht3, ht4, ht5, ht6, ht7,ht8, ht9, ht10])"
   ]
  },
  {
   "cell_type": "markdown",
   "metadata": {},
   "source": [
    "## Normal school week "
   ]
  },
  {
   "cell_type": "code",
   "execution_count": 87,
   "metadata": {
    "collapsed": true
   },
   "outputs": [],
   "source": [
    "sw1 = FortySixA['dayofservice'] == '2016-02-01'\n",
    "sw1 = FortySixA[sw1]"
   ]
  },
  {
   "cell_type": "code",
   "execution_count": 88,
   "metadata": {
    "collapsed": true
   },
   "outputs": [],
   "source": [
    "sw2 = FortySixA['dayofservice'] == '2016-02-02'\n",
    "sw2 = FortySixA[sw2]"
   ]
  },
  {
   "cell_type": "code",
   "execution_count": 89,
   "metadata": {
    "collapsed": true
   },
   "outputs": [],
   "source": [
    "sw3 = FortySixA['dayofservice'] == '2016-02-03'\n",
    "sw3 = FortySixA[sw3]"
   ]
  },
  {
   "cell_type": "code",
   "execution_count": 90,
   "metadata": {
    "collapsed": true
   },
   "outputs": [],
   "source": [
    "sw4 = FortySixA['dayofservice'] == '2016-02-04'\n",
    "sw4 = FortySixA[sw4]"
   ]
  },
  {
   "cell_type": "code",
   "execution_count": 91,
   "metadata": {
    "collapsed": true
   },
   "outputs": [],
   "source": [
    "sw5 = FortySixA['dayofservice'] == '2016-02-05'\n",
    "sw5 = FortySixA[sw5]"
   ]
  },
  {
   "cell_type": "code",
   "execution_count": 92,
   "metadata": {
    "collapsed": true
   },
   "outputs": [],
   "source": [
    "sw6 = FortySixA['dayofservice'] == '2017-02-06'\n",
    "sw6 = FortySixA[sw6]"
   ]
  },
  {
   "cell_type": "code",
   "execution_count": 93,
   "metadata": {
    "collapsed": true
   },
   "outputs": [],
   "source": [
    "sw7 = FortySixA['dayofservice'] == '2017-02-07'\n",
    "sw7 = FortySixA[sw7]"
   ]
  },
  {
   "cell_type": "code",
   "execution_count": 94,
   "metadata": {
    "collapsed": true
   },
   "outputs": [],
   "source": [
    "sw8 = FortySixA['dayofservice'] == '2017-02-08'\n",
    "sw8 = FortySixA[sw8]"
   ]
  },
  {
   "cell_type": "code",
   "execution_count": 95,
   "metadata": {
    "collapsed": true
   },
   "outputs": [],
   "source": [
    "sw9 = FortySixA['dayofservice'] == '2017-02-09'\n",
    "sw9 = FortySixA[sw9]"
   ]
  },
  {
   "cell_type": "code",
   "execution_count": 96,
   "metadata": {
    "collapsed": true
   },
   "outputs": [],
   "source": [
    "sw10 = FortySixA['dayofservice'] == '2017-02-10'\n",
    "sw10 = FortySixA[sw10]"
   ]
  },
  {
   "cell_type": "code",
   "execution_count": 97,
   "metadata": {
    "collapsed": true
   },
   "outputs": [],
   "source": [
    "school_week = pd.concat([sw1, sw2, sw3, sw4, sw5, sw6, sw7, sw8, sw9, sw10])"
   ]
  },
  {
   "cell_type": "code",
   "execution_count": 98,
   "metadata": {
    "collapsed": true
   },
   "outputs": [],
   "source": [
    "# normal_mondays.actualtime_dep = pd.to_datetime(normal_mondays.actualtime_dep,format= '%H:%M:%S').dt.time"
   ]
  },
  {
   "cell_type": "markdown",
   "metadata": {},
   "source": [
    "## Create dataframe for plot data"
   ]
  },
  {
   "cell_type": "code",
   "execution_count": 99,
   "metadata": {
    "collapsed": true
   },
   "outputs": [],
   "source": [
    "avgs = pd.DataFrame(columns=['time', 'avg_duration_norm','avg_duration_bh','avg_duration_sun', 'half_term', 'school_week', 'rainy', 'dry'])"
   ]
  },
  {
   "cell_type": "code",
   "execution_count": 100,
   "metadata": {},
   "outputs": [
    {
     "data": {
      "text/html": [
       "<div>\n",
       "<style scoped>\n",
       "    .dataframe tbody tr th:only-of-type {\n",
       "        vertical-align: middle;\n",
       "    }\n",
       "\n",
       "    .dataframe tbody tr th {\n",
       "        vertical-align: top;\n",
       "    }\n",
       "\n",
       "    .dataframe thead th {\n",
       "        text-align: right;\n",
       "    }\n",
       "</style>\n",
       "<table border=\"1\" class=\"dataframe\">\n",
       "  <thead>\n",
       "    <tr style=\"text-align: right;\">\n",
       "      <th></th>\n",
       "      <th>time</th>\n",
       "      <th>avg_duration_norm</th>\n",
       "      <th>avg_duration_bh</th>\n",
       "      <th>avg_duration_sun</th>\n",
       "      <th>half_term</th>\n",
       "      <th>school_week</th>\n",
       "      <th>rainy</th>\n",
       "      <th>dry</th>\n",
       "    </tr>\n",
       "  </thead>\n",
       "  <tbody>\n",
       "  </tbody>\n",
       "</table>\n",
       "</div>"
      ],
      "text/plain": [
       "Empty DataFrame\n",
       "Columns: [time, avg_duration_norm, avg_duration_bh, avg_duration_sun, half_term, school_week, rainy, dry]\n",
       "Index: []"
      ]
     },
     "execution_count": 100,
     "metadata": {},
     "output_type": "execute_result"
    }
   ],
   "source": [
    "avgs['time'] = pd.to_datetime(avgs['time'])\n",
    "avgs['avg_duration_norm'] = avgs.avg_duration_norm.astype(float)\n",
    "avgs['avg_duration_bh'] = avgs.avg_duration_norm.astype(float)\n",
    "avgs['avg_duration_sun'] = avgs.avg_duration_norm.astype(float)\n",
    "avgs['half_term'] = avgs.avg_duration_norm.astype(float)\n",
    "avgs['school_week'] = avgs.avg_duration_norm.astype(float)\n",
    "avgs['rainy'] = avgs.avg_duration_norm.astype(float)\n",
    "avgs['dry'] = avgs.avg_duration_norm.astype(float)\n",
    "avgs.head(5)"
   ]
  },
  {
   "cell_type": "markdown",
   "metadata": {},
   "source": [
    "## Fill in plot data with averages from (half-hourly) timeframes across various days"
   ]
  },
  {
   "cell_type": "code",
   "execution_count": 101,
   "metadata": {},
   "outputs": [
    {
     "name": "stderr",
     "output_type": "stream",
     "text": [
      "/anaconda3/lib/python3.6/site-packages/ipykernel_launcher.py:10: FutureWarning: set_value is deprecated and will be removed in a future release. Please use .at[] or .iat[] accessors instead\n",
      "  # Remove the CWD from sys.path while we load stuff.\n",
      "/anaconda3/lib/python3.6/site-packages/ipykernel_launcher.py:11: FutureWarning: set_value is deprecated and will be removed in a future release. Please use .at[] or .iat[] accessors instead\n",
      "  # This is added back by InteractiveShellApp.init_path()\n"
     ]
    }
   ],
   "source": [
    "times = ['06:00', '06:30', '07:00', '07:30', '08:00', '08:30', '09:00', '09:30', '10:00', '10:30', '11:00', '11:30', '12:00', '13:30', '14:00', '14:30', '15:00', '15:30', '16:00', '16:30', '17:00', '17:30', '18:00', '18:30', '19:00', '19:30', '20:30', '21:00', '21:30', '22:00', '22:30', '23:00']\n",
    "i = 0\n",
    "while i <= len(times):\n",
    "    if i == len(times) - 1:\n",
    "        break\n",
    "    else:\n",
    "        index = pd.DatetimeIndex(normal_mondays['actualtime_dep'])\n",
    "        look = normal_mondays.iloc[index.indexer_between_time(times[i],times[i+1])]\n",
    "        mean = look['journey_time'].median()\n",
    "        avgs.set_value(i, 'time', times[i])\n",
    "        avgs.set_value(i, 'avg_duration_norm', mean)\n",
    "    i += 1\n",
    "\n",
    "    "
   ]
  },
  {
   "cell_type": "code",
   "execution_count": null,
   "metadata": {
    "collapsed": true
   },
   "outputs": [],
   "source": []
  },
  {
   "cell_type": "code",
   "execution_count": 102,
   "metadata": {},
   "outputs": [
    {
     "name": "stderr",
     "output_type": "stream",
     "text": [
      "/anaconda3/lib/python3.6/site-packages/ipykernel_launcher.py:10: FutureWarning: set_value is deprecated and will be removed in a future release. Please use .at[] or .iat[] accessors instead\n",
      "  # Remove the CWD from sys.path while we load stuff.\n"
     ]
    }
   ],
   "source": [
    "times = ['06:00', '06:30', '07:00', '07:30', '08:00', '08:30', '09:00', '09:30', '10:00', '10:30', '11:00', '11:30', '12:00', '13:30', '14:00', '14:30', '15:00', '15:30', '16:00', '16:30', '17:00', '17:30', '18:00', '18:30', '19:00', '19:30', '20:30', '21:00', '21:30', '22:00', '22:30', '23:00']\n",
    "i = 0\n",
    "while i <= len(times):\n",
    "    if i == len(times) - 1:\n",
    "        break\n",
    "    else:\n",
    "        index = pd.DatetimeIndex(bh_mondays['actualtime_dep'])\n",
    "        look = bh_mondays.iloc[index.indexer_between_time(times[i],times[i+1])]\n",
    "        mean = look['journey_time'].median()\n",
    "        avgs.set_value(i, 'avg_duration_bh', mean)\n",
    "    i += 1\n"
   ]
  },
  {
   "cell_type": "code",
   "execution_count": 103,
   "metadata": {},
   "outputs": [
    {
     "name": "stderr",
     "output_type": "stream",
     "text": [
      "/anaconda3/lib/python3.6/site-packages/ipykernel_launcher.py:10: FutureWarning: set_value is deprecated and will be removed in a future release. Please use .at[] or .iat[] accessors instead\n",
      "  # Remove the CWD from sys.path while we load stuff.\n"
     ]
    }
   ],
   "source": [
    "times = ['06:00', '06:30', '07:00', '07:30', '08:00', '08:30', '09:00', '09:30', '10:00', '10:30', '11:00', '11:30', '12:00', '13:30', '14:00', '14:30', '15:00', '15:30', '16:00', '16:30', '17:00', '17:30', '18:00', '18:30', '19:00', '19:30', '20:30', '21:00', '21:30', '22:00', '22:30', '23:00']\n",
    "i = 0\n",
    "while i <= len(times):\n",
    "    if i == len(times) - 1:\n",
    "        break\n",
    "    else:\n",
    "        index = pd.DatetimeIndex(sundays['actualtime_dep'])\n",
    "        look = sundays.iloc[index.indexer_between_time(times[i],times[i+1])]\n",
    "        mean = look['journey_time'].median()\n",
    "        avgs.set_value(i, 'avg_duration_sun', mean)\n",
    "    i += 1"
   ]
  },
  {
   "cell_type": "code",
   "execution_count": 104,
   "metadata": {},
   "outputs": [
    {
     "name": "stderr",
     "output_type": "stream",
     "text": [
      "/anaconda3/lib/python3.6/site-packages/ipykernel_launcher.py:10: FutureWarning: set_value is deprecated and will be removed in a future release. Please use .at[] or .iat[] accessors instead\n",
      "  # Remove the CWD from sys.path while we load stuff.\n"
     ]
    }
   ],
   "source": [
    "times = ['06:00', '06:30', '07:00', '07:30', '08:00', '08:30', '09:00', '09:30', '10:00', '10:30', '11:00', '11:30', '12:00', '13:30', '14:00', '14:30', '15:00', '15:30', '16:00', '16:30', '17:00', '17:30', '18:00', '18:30', '19:00', '19:30', '20:30', '21:00', '21:30', '22:00', '22:30', '23:00']\n",
    "i = 0\n",
    "while i <= len(times):\n",
    "    if i == len(times) - 1:\n",
    "        break\n",
    "    else:\n",
    "        index = pd.DatetimeIndex(half_term['actualtime_dep'])\n",
    "        look = half_term.iloc[index.indexer_between_time(times[i],times[i+1])]\n",
    "        mean = look['journey_time'].median()\n",
    "        avgs.set_value(i, 'half_term', mean)\n",
    "    i += 1"
   ]
  },
  {
   "cell_type": "code",
   "execution_count": 105,
   "metadata": {},
   "outputs": [
    {
     "name": "stderr",
     "output_type": "stream",
     "text": [
      "/anaconda3/lib/python3.6/site-packages/ipykernel_launcher.py:10: FutureWarning: set_value is deprecated and will be removed in a future release. Please use .at[] or .iat[] accessors instead\n",
      "  # Remove the CWD from sys.path while we load stuff.\n"
     ]
    }
   ],
   "source": [
    "times = ['06:00', '06:30', '07:00', '07:30', '08:00', '08:30', '09:00', '09:30', '10:00', '10:30', '11:00', '11:30', '12:00', '13:30', '14:00', '14:30', '15:00', '15:30', '16:00', '16:30', '17:00', '17:30', '18:00', '18:30', '19:00', '19:30', '20:30', '21:00', '21:30', '22:00', '22:30', '23:00']\n",
    "i = 0\n",
    "while i <= len(times):\n",
    "    if i == len(times) - 1:\n",
    "        break\n",
    "    else:\n",
    "        index = pd.DatetimeIndex(school_week['actualtime_dep'])\n",
    "        look = school_week.iloc[index.indexer_between_time(times[i],times[i+1])]\n",
    "        mean = look['journey_time'].median()\n",
    "        avgs.set_value(i, 'school_week', mean)\n",
    "    i += 1"
   ]
  },
  {
   "cell_type": "code",
   "execution_count": 106,
   "metadata": {
    "collapsed": true
   },
   "outputs": [],
   "source": [
    "# avgs.to_csv('averages.csv', index=False)"
   ]
  },
  {
   "cell_type": "code",
   "execution_count": 107,
   "metadata": {
    "collapsed": true
   },
   "outputs": [],
   "source": [
    "# avgs['time'] = pd.Series([val.time() for val in avgs['time']])"
   ]
  },
  {
   "cell_type": "code",
   "execution_count": null,
   "metadata": {
    "collapsed": true
   },
   "outputs": [],
   "source": []
  },
  {
   "cell_type": "markdown",
   "metadata": {},
   "source": [
    "# Plots"
   ]
  },
  {
   "cell_type": "markdown",
   "metadata": {},
   "source": [
    "## Normal Mondays vs Bank Holiday Mondays"
   ]
  },
  {
   "cell_type": "code",
   "execution_count": 108,
   "metadata": {},
   "outputs": [
    {
     "data": {
      "text/plain": [
       "<matplotlib.legend.Legend at 0x1a176b9ba8>"
      ]
     },
     "execution_count": 108,
     "metadata": {},
     "output_type": "execute_result"
    },
    {
     "data": {
      "image/png": "[encoded data removed]",
      "text/plain": [
       "<matplotlib.figure.Figure at 0x1a1f089080>"
      ]
     },
     "metadata": {},
     "output_type": "display_data"
    }
   ],
   "source": [
    "plt.figure(figsize=(16,8))\n",
    "plt.plot('time', 'avg_duration_norm', data=avgs, color='blue', linewidth=4, label=\"Normal Monday\")\n",
    "plt.plot('time', 'avg_duration_bh', data=avgs, color='red', linewidth=4, label=\"Bank Holiday Monday\")\n",
    "plt.legend()"
   ]
  },
  {
   "cell_type": "markdown",
   "metadata": {},
   "source": [
    "# Sundays vs Bank Holiday Mondays"
   ]
  },
  {
   "cell_type": "code",
   "execution_count": 109,
   "metadata": {},
   "outputs": [
    {
     "data": {
      "text/plain": [
       "<matplotlib.legend.Legend at 0x1a1eb5eba8>"
      ]
     },
     "execution_count": 109,
     "metadata": {},
     "output_type": "execute_result"
    },
    {
     "data": {
      "image/png": "[encoded data removed]",
      "text/plain": [
       "<matplotlib.figure.Figure at 0x1a22ae38d0>"
      ]
     },
     "metadata": {},
     "output_type": "display_data"
    }
   ],
   "source": [
    "plt.figure(figsize=(16,8))\n",
    "plt.plot('time', 'avg_duration_sun', data=avgs, color='blue', linewidth=4, label=\"Sundays\")\n",
    "plt.plot('time', 'avg_duration_bh', data=avgs, color='red', linewidth=4, label=\"Bank Holiday Mondays\")\n",
    "plt.legend()"
   ]
  },
  {
   "cell_type": "markdown",
   "metadata": {},
   "source": [
    "## Half term vs normal school week "
   ]
  },
  {
   "cell_type": "code",
   "execution_count": 110,
   "metadata": {},
   "outputs": [
    {
     "data": {
      "text/plain": [
       "<matplotlib.legend.Legend at 0x1a21ce7710>"
      ]
     },
     "execution_count": 110,
     "metadata": {},
     "output_type": "execute_result"
    },
    {
     "data": {
      "image/png": "[encoded data removed]",
      "text/plain": [
       "<matplotlib.figure.Figure at 0x1a130a4b38>"
      ]
     },
     "metadata": {},
     "output_type": "display_data"
    }
   ],
   "source": [
    "plt.figure(figsize=(16,8))\n",
    "plt.plot('time', 'half_term', data=avgs, color='blue', linewidth=4, label=\"Half term\")\n",
    "plt.plot('time', 'school_week', data=avgs, color='red', linewidth=4, label=\"School week\")\n",
    "plt.legend()"
   ]
  },
  {
   "cell_type": "markdown",
   "metadata": {},
   "source": [
    "# Look into rain vs dry data"
   ]
  },
  {
   "cell_type": "code",
   "execution_count": 111,
   "metadata": {
    "collapsed": true
   },
   "outputs": [],
   "source": [
    "weather_46a_merged['weekday'] = weather_46a_merged['dayofservice'].dt.weekday_name\n",
    "# weather_46a_merged['actualtime_dep'] = pd.Series([val.time() for val in weather_46a_merged['actualtime_dep']])"
   ]
  },
  {
   "cell_type": "code",
   "execution_count": 112,
   "metadata": {},
   "outputs": [
    {
     "data": {
      "text/html": [
       "<div>\n",
       "<style scoped>\n",
       "    .dataframe tbody tr th:only-of-type {\n",
       "        vertical-align: middle;\n",
       "    }\n",
       "\n",
       "    .dataframe tbody tr th {\n",
       "        vertical-align: top;\n",
       "    }\n",
       "\n",
       "    .dataframe thead th {\n",
       "        text-align: right;\n",
       "    }\n",
       "</style>\n",
       "<table border=\"1\" class=\"dataframe\">\n",
       "  <thead>\n",
       "    <tr style=\"text-align: right;\">\n",
       "      <th></th>\n",
       "      <th>dayofservice</th>\n",
       "      <th>tripid</th>\n",
       "      <th>lineid</th>\n",
       "      <th>routeid</th>\n",
       "      <th>direction</th>\n",
       "      <th>plannedtime_arr</th>\n",
       "      <th>plannedtime_dep</th>\n",
       "      <th>actualtime_arr</th>\n",
       "      <th>actualtime_dep</th>\n",
       "      <th>journey_time</th>\n",
       "      <th>...</th>\n",
       "      <th>rain</th>\n",
       "      <th>itemp</th>\n",
       "      <th>temp</th>\n",
       "      <th>iwetb</th>\n",
       "      <th>wetb</th>\n",
       "      <th>dewpt</th>\n",
       "      <th>vappr</th>\n",
       "      <th>rhum</th>\n",
       "      <th>msl</th>\n",
       "      <th>weekday</th>\n",
       "    </tr>\n",
       "  </thead>\n",
       "  <tbody>\n",
       "    <tr>\n",
       "      <th>0</th>\n",
       "      <td>2016-02-09</td>\n",
       "      <td>2815441</td>\n",
       "      <td>46A</td>\n",
       "      <td>46A_74</td>\n",
       "      <td>1</td>\n",
       "      <td>18:17:37</td>\n",
       "      <td>17:00:00</td>\n",
       "      <td>18:23:07</td>\n",
       "      <td>2018-07-17 17:00:39</td>\n",
       "      <td>4948.0</td>\n",
       "      <td>...</td>\n",
       "      <td>0.0</td>\n",
       "      <td>0.0</td>\n",
       "      <td>4.2</td>\n",
       "      <td>0.0</td>\n",
       "      <td>4.2</td>\n",
       "      <td>4.2</td>\n",
       "      <td>8.2</td>\n",
       "      <td>99</td>\n",
       "      <td>985.3</td>\n",
       "      <td>Tuesday</td>\n",
       "    </tr>\n",
       "    <tr>\n",
       "      <th>1</th>\n",
       "      <td>2016-02-09</td>\n",
       "      <td>2822666</td>\n",
       "      <td>46A</td>\n",
       "      <td>46A_67</td>\n",
       "      <td>2</td>\n",
       "      <td>14:48:07</td>\n",
       "      <td>13:28:00</td>\n",
       "      <td>15:04:06</td>\n",
       "      <td>2018-07-17 13:27:28</td>\n",
       "      <td>5798.0</td>\n",
       "      <td>...</td>\n",
       "      <td>0.4</td>\n",
       "      <td>0.0</td>\n",
       "      <td>3.1</td>\n",
       "      <td>0.0</td>\n",
       "      <td>3</td>\n",
       "      <td>2.8</td>\n",
       "      <td>7.5</td>\n",
       "      <td>98</td>\n",
       "      <td>982.8</td>\n",
       "      <td>Tuesday</td>\n",
       "    </tr>\n",
       "    <tr>\n",
       "      <th>2</th>\n",
       "      <td>2016-02-09</td>\n",
       "      <td>2822373</td>\n",
       "      <td>46A</td>\n",
       "      <td>46A_74</td>\n",
       "      <td>1</td>\n",
       "      <td>10:19:59</td>\n",
       "      <td>08:52:00</td>\n",
       "      <td>10:25:31</td>\n",
       "      <td>2018-07-17 08:52:03</td>\n",
       "      <td>5608.0</td>\n",
       "      <td>...</td>\n",
       "      <td>0.0</td>\n",
       "      <td>0.0</td>\n",
       "      <td>2.5</td>\n",
       "      <td>0.0</td>\n",
       "      <td>2</td>\n",
       "      <td>1.3</td>\n",
       "      <td>6.7</td>\n",
       "      <td>92</td>\n",
       "      <td>983.7</td>\n",
       "      <td>Tuesday</td>\n",
       "    </tr>\n",
       "    <tr>\n",
       "      <th>3</th>\n",
       "      <td>2016-04-08</td>\n",
       "      <td>3011257</td>\n",
       "      <td>46A</td>\n",
       "      <td>46A_67</td>\n",
       "      <td>2</td>\n",
       "      <td>12:57:29</td>\n",
       "      <td>11:36:00</td>\n",
       "      <td>13:15:38</td>\n",
       "      <td>2018-07-17 11:34:41</td>\n",
       "      <td>6057.0</td>\n",
       "      <td>...</td>\n",
       "      <td>0.2</td>\n",
       "      <td>0.0</td>\n",
       "      <td>7.5</td>\n",
       "      <td>0.0</td>\n",
       "      <td>6.6</td>\n",
       "      <td>5.5</td>\n",
       "      <td>9</td>\n",
       "      <td>87</td>\n",
       "      <td>1009.3</td>\n",
       "      <td>Friday</td>\n",
       "    </tr>\n",
       "    <tr>\n",
       "      <th>4</th>\n",
       "      <td>2016-04-08</td>\n",
       "      <td>3010331</td>\n",
       "      <td>46A</td>\n",
       "      <td>46A_74</td>\n",
       "      <td>1</td>\n",
       "      <td>22:34:55</td>\n",
       "      <td>21:40:00</td>\n",
       "      <td>22:32:45</td>\n",
       "      <td>2018-07-17 21:39:35</td>\n",
       "      <td>3190.0</td>\n",
       "      <td>...</td>\n",
       "      <td>0.0</td>\n",
       "      <td>0.0</td>\n",
       "      <td>3.9</td>\n",
       "      <td>0.0</td>\n",
       "      <td>3.5</td>\n",
       "      <td>2.8</td>\n",
       "      <td>7.5</td>\n",
       "      <td>92</td>\n",
       "      <td>1002.9</td>\n",
       "      <td>Friday</td>\n",
       "    </tr>\n",
       "  </tbody>\n",
       "</table>\n",
       "<p>5 rows × 25 columns</p>\n",
       "</div>"
      ],
      "text/plain": [
       "  dayofservice   tripid lineid routeid  direction plannedtime_arr  \\\n",
       "0   2016-02-09  2815441    46A  46A_74          1        18:17:37   \n",
       "1   2016-02-09  2822666    46A  46A_67          2        14:48:07   \n",
       "2   2016-02-09  2822373    46A  46A_74          1        10:19:59   \n",
       "3   2016-04-08  3011257    46A  46A_67          2        12:57:29   \n",
       "4   2016-04-08  3010331    46A  46A_74          1        22:34:55   \n",
       "\n",
       "  plannedtime_dep actualtime_arr      actualtime_dep  journey_time   ...     \\\n",
       "0        17:00:00       18:23:07 2018-07-17 17:00:39        4948.0   ...      \n",
       "1        13:28:00       15:04:06 2018-07-17 13:27:28        5798.0   ...      \n",
       "2        08:52:00       10:25:31 2018-07-17 08:52:03        5608.0   ...      \n",
       "3        11:36:00       13:15:38 2018-07-17 11:34:41        6057.0   ...      \n",
       "4        21:40:00       22:32:45 2018-07-17 21:39:35        3190.0   ...      \n",
       "\n",
       "   rain  itemp temp iwetb  wetb  dewpt  vappr rhum     msl  weekday  \n",
       "0   0.0    0.0  4.2   0.0   4.2    4.2    8.2   99   985.3  Tuesday  \n",
       "1   0.4    0.0  3.1   0.0     3    2.8    7.5   98   982.8  Tuesday  \n",
       "2   0.0    0.0  2.5   0.0     2    1.3    6.7   92   983.7  Tuesday  \n",
       "3   0.2    0.0  7.5   0.0   6.6    5.5      9   87  1009.3   Friday  \n",
       "4   0.0    0.0  3.9   0.0   3.5    2.8    7.5   92  1002.9   Friday  \n",
       "\n",
       "[5 rows x 25 columns]"
      ]
     },
     "execution_count": 112,
     "metadata": {},
     "output_type": "execute_result"
    }
   ],
   "source": [
    "weather_46a_merged['rain'] = weather_46a_merged['rain'].astype(float)\n",
    "weather_46a_merged.head(5)"
   ]
  },
  {
   "cell_type": "code",
   "execution_count": 156,
   "metadata": {},
   "outputs": [
    {
     "data": {
      "text/plain": [
       "dayofservice\n",
       "2016-04-11    True\n",
       "2017-03-22    True\n",
       "2017-05-27    True\n",
       "Name: tripid, dtype: bool"
      ]
     },
     "execution_count": 156,
     "metadata": {},
     "output_type": "execute_result"
    }
   ],
   "source": [
    "rainy = weather_46a_merged['rain'] > 0.5\n",
    "heavy_rain = weather_46a_merged[rainy]\n",
    "many_hours = heavy_rain.groupby('dayofservice').count()\n",
    "# Days with 40+ rows on rainy data\n",
    "many_hours = many_hours['tripid'] > 50\n",
    "many_hours2 = many_hours[many_hours]\n",
    "many_hours2.head(100)"
   ]
  },
  {
   "cell_type": "code",
   "execution_count": 114,
   "metadata": {
    "collapsed": true
   },
   "outputs": [],
   "source": [
    "hv1 = heavy_rain['dayofservice'] == '2016-02-16'\n",
    "hv1 = heavy_rain[hv1]"
   ]
  },
  {
   "cell_type": "code",
   "execution_count": 115,
   "metadata": {
    "collapsed": true
   },
   "outputs": [],
   "source": [
    "hv2 = heavy_rain['dayofservice'] == '2016-02-29'\n",
    "hv2 = heavy_rain[hv2]"
   ]
  },
  {
   "cell_type": "code",
   "execution_count": 116,
   "metadata": {
    "collapsed": true
   },
   "outputs": [],
   "source": [
    "hv3 = heavy_rain['dayofservice'] == '2016-03-04'\n",
    "hv3 = heavy_rain[hv3]"
   ]
  },
  {
   "cell_type": "code",
   "execution_count": 117,
   "metadata": {
    "collapsed": true
   },
   "outputs": [],
   "source": [
    "hv4 = heavy_rain['dayofservice'] == '2016-04-11'\n",
    "hv4 = heavy_rain[hv4]"
   ]
  },
  {
   "cell_type": "code",
   "execution_count": 118,
   "metadata": {
    "collapsed": true
   },
   "outputs": [],
   "source": [
    "hv5 = heavy_rain['dayofservice'] == '2016-05-21'\n",
    "hv5 = heavy_rain[hv5]"
   ]
  },
  {
   "cell_type": "code",
   "execution_count": 119,
   "metadata": {
    "collapsed": true
   },
   "outputs": [],
   "source": [
    "hv6 = heavy_rain['dayofservice'] == '2016-06-24'\n",
    "hv6 = heavy_rain[hv6]"
   ]
  },
  {
   "cell_type": "code",
   "execution_count": 120,
   "metadata": {
    "collapsed": true
   },
   "outputs": [],
   "source": [
    "hv6 = heavy_rain['dayofservice'] == '2017-02-11'\n",
    "hv6 = heavy_rain[hv6]"
   ]
  },
  {
   "cell_type": "code",
   "execution_count": 121,
   "metadata": {
    "collapsed": true
   },
   "outputs": [],
   "source": [
    "hv6 = heavy_rain['dayofservice'] == '2017-02-22'\n",
    "hv6 = heavy_rain[hv6]"
   ]
  },
  {
   "cell_type": "code",
   "execution_count": 122,
   "metadata": {
    "collapsed": true
   },
   "outputs": [],
   "source": [
    "hv7 = heavy_rain['dayofservice'] == '2017-02-28'\n",
    "hv7 = heavy_rain[hv7]"
   ]
  },
  {
   "cell_type": "code",
   "execution_count": 123,
   "metadata": {
    "collapsed": true
   },
   "outputs": [],
   "source": [
    "hv8 = heavy_rain['dayofservice'] == '2017-03-03'\n",
    "hv8 = heavy_rain[hv8]"
   ]
  },
  {
   "cell_type": "code",
   "execution_count": 124,
   "metadata": {
    "collapsed": true
   },
   "outputs": [],
   "source": [
    "hv9 = heavy_rain['dayofservice'] == '2017-05-27'\n",
    "hv9 = heavy_rain[hv9]"
   ]
  },
  {
   "cell_type": "code",
   "execution_count": 125,
   "metadata": {
    "collapsed": true
   },
   "outputs": [],
   "source": [
    "hv10 = heavy_rain['dayofservice'] == '2017-06-05'\n",
    "hv10 = heavy_rain[hv10]"
   ]
  },
  {
   "cell_type": "code",
   "execution_count": 126,
   "metadata": {
    "collapsed": true
   },
   "outputs": [],
   "source": [
    "rain_avg = pd.concat([hv1, hv2, hv3, hv4, hv5, hv6, hv7, hv8, hv9, hv10])"
   ]
  },
  {
   "cell_type": "code",
   "execution_count": 127,
   "metadata": {},
   "outputs": [
    {
     "data": {
      "text/html": [
       "<div>\n",
       "<style scoped>\n",
       "    .dataframe tbody tr th:only-of-type {\n",
       "        vertical-align: middle;\n",
       "    }\n",
       "\n",
       "    .dataframe tbody tr th {\n",
       "        vertical-align: top;\n",
       "    }\n",
       "\n",
       "    .dataframe thead th {\n",
       "        text-align: right;\n",
       "    }\n",
       "</style>\n",
       "<table border=\"1\" class=\"dataframe\">\n",
       "  <thead>\n",
       "    <tr style=\"text-align: right;\">\n",
       "      <th></th>\n",
       "      <th>dayofservice</th>\n",
       "      <th>tripid</th>\n",
       "      <th>lineid</th>\n",
       "      <th>routeid</th>\n",
       "      <th>direction</th>\n",
       "      <th>plannedtime_arr</th>\n",
       "      <th>plannedtime_dep</th>\n",
       "      <th>actualtime_arr</th>\n",
       "      <th>actualtime_dep</th>\n",
       "      <th>journey_time</th>\n",
       "      <th>...</th>\n",
       "      <th>rain</th>\n",
       "      <th>itemp</th>\n",
       "      <th>temp</th>\n",
       "      <th>iwetb</th>\n",
       "      <th>wetb</th>\n",
       "      <th>dewpt</th>\n",
       "      <th>vappr</th>\n",
       "      <th>rhum</th>\n",
       "      <th>msl</th>\n",
       "      <th>weekday</th>\n",
       "    </tr>\n",
       "  </thead>\n",
       "  <tbody>\n",
       "    <tr>\n",
       "      <th>0</th>\n",
       "      <td>2016-02-09</td>\n",
       "      <td>2815441</td>\n",
       "      <td>46A</td>\n",
       "      <td>46A_74</td>\n",
       "      <td>1</td>\n",
       "      <td>18:17:37</td>\n",
       "      <td>17:00:00</td>\n",
       "      <td>18:23:07</td>\n",
       "      <td>2018-07-17 17:00:39</td>\n",
       "      <td>4948.0</td>\n",
       "      <td>...</td>\n",
       "      <td>0.0</td>\n",
       "      <td>0.0</td>\n",
       "      <td>4.2</td>\n",
       "      <td>0.0</td>\n",
       "      <td>4.2</td>\n",
       "      <td>4.2</td>\n",
       "      <td>8.2</td>\n",
       "      <td>99</td>\n",
       "      <td>985.3</td>\n",
       "      <td>Tuesday</td>\n",
       "    </tr>\n",
       "    <tr>\n",
       "      <th>2</th>\n",
       "      <td>2016-02-09</td>\n",
       "      <td>2822373</td>\n",
       "      <td>46A</td>\n",
       "      <td>46A_74</td>\n",
       "      <td>1</td>\n",
       "      <td>10:19:59</td>\n",
       "      <td>08:52:00</td>\n",
       "      <td>10:25:31</td>\n",
       "      <td>2018-07-17 08:52:03</td>\n",
       "      <td>5608.0</td>\n",
       "      <td>...</td>\n",
       "      <td>0.0</td>\n",
       "      <td>0.0</td>\n",
       "      <td>2.5</td>\n",
       "      <td>0.0</td>\n",
       "      <td>2</td>\n",
       "      <td>1.3</td>\n",
       "      <td>6.7</td>\n",
       "      <td>92</td>\n",
       "      <td>983.7</td>\n",
       "      <td>Tuesday</td>\n",
       "    </tr>\n",
       "    <tr>\n",
       "      <th>4</th>\n",
       "      <td>2016-04-08</td>\n",
       "      <td>3010331</td>\n",
       "      <td>46A</td>\n",
       "      <td>46A_74</td>\n",
       "      <td>1</td>\n",
       "      <td>22:34:55</td>\n",
       "      <td>21:40:00</td>\n",
       "      <td>22:32:45</td>\n",
       "      <td>2018-07-17 21:39:35</td>\n",
       "      <td>3190.0</td>\n",
       "      <td>...</td>\n",
       "      <td>0.0</td>\n",
       "      <td>0.0</td>\n",
       "      <td>3.9</td>\n",
       "      <td>0.0</td>\n",
       "      <td>3.5</td>\n",
       "      <td>2.8</td>\n",
       "      <td>7.5</td>\n",
       "      <td>92</td>\n",
       "      <td>1002.9</td>\n",
       "      <td>Friday</td>\n",
       "    </tr>\n",
       "    <tr>\n",
       "      <th>7</th>\n",
       "      <td>2016-04-02</td>\n",
       "      <td>2911801</td>\n",
       "      <td>46A</td>\n",
       "      <td>46A_67</td>\n",
       "      <td>2</td>\n",
       "      <td>09:29:21</td>\n",
       "      <td>08:30:00</td>\n",
       "      <td>09:38:05</td>\n",
       "      <td>2018-07-17 08:32:11</td>\n",
       "      <td>3954.0</td>\n",
       "      <td>...</td>\n",
       "      <td>0.0</td>\n",
       "      <td>0.0</td>\n",
       "      <td>8.7</td>\n",
       "      <td>0.0</td>\n",
       "      <td>8.6</td>\n",
       "      <td>8.6</td>\n",
       "      <td>11.2</td>\n",
       "      <td>99</td>\n",
       "      <td>1008</td>\n",
       "      <td>Saturday</td>\n",
       "    </tr>\n",
       "    <tr>\n",
       "      <th>20</th>\n",
       "      <td>2016-04-07</td>\n",
       "      <td>3012113</td>\n",
       "      <td>46A</td>\n",
       "      <td>46A_74</td>\n",
       "      <td>1</td>\n",
       "      <td>16:18:26</td>\n",
       "      <td>15:00:00</td>\n",
       "      <td>16:23:44</td>\n",
       "      <td>2018-07-17 15:00:10</td>\n",
       "      <td>5014.0</td>\n",
       "      <td>...</td>\n",
       "      <td>0.0</td>\n",
       "      <td>0.0</td>\n",
       "      <td>12.5</td>\n",
       "      <td>0.0</td>\n",
       "      <td>9.2</td>\n",
       "      <td>5.4</td>\n",
       "      <td>9</td>\n",
       "      <td>61</td>\n",
       "      <td>1012.8</td>\n",
       "      <td>Thursday</td>\n",
       "    </tr>\n",
       "  </tbody>\n",
       "</table>\n",
       "<p>5 rows × 25 columns</p>\n",
       "</div>"
      ],
      "text/plain": [
       "   dayofservice   tripid lineid routeid  direction plannedtime_arr  \\\n",
       "0    2016-02-09  2815441    46A  46A_74          1        18:17:37   \n",
       "2    2016-02-09  2822373    46A  46A_74          1        10:19:59   \n",
       "4    2016-04-08  3010331    46A  46A_74          1        22:34:55   \n",
       "7    2016-04-02  2911801    46A  46A_67          2        09:29:21   \n",
       "20   2016-04-07  3012113    46A  46A_74          1        16:18:26   \n",
       "\n",
       "   plannedtime_dep actualtime_arr      actualtime_dep  journey_time    ...     \\\n",
       "0         17:00:00       18:23:07 2018-07-17 17:00:39        4948.0    ...      \n",
       "2         08:52:00       10:25:31 2018-07-17 08:52:03        5608.0    ...      \n",
       "4         21:40:00       22:32:45 2018-07-17 21:39:35        3190.0    ...      \n",
       "7         08:30:00       09:38:05 2018-07-17 08:32:11        3954.0    ...      \n",
       "20        15:00:00       16:23:44 2018-07-17 15:00:10        5014.0    ...      \n",
       "\n",
       "    rain  itemp  temp iwetb  wetb  dewpt  vappr rhum     msl   weekday  \n",
       "0    0.0    0.0   4.2   0.0   4.2    4.2    8.2   99   985.3   Tuesday  \n",
       "2    0.0    0.0   2.5   0.0     2    1.3    6.7   92   983.7   Tuesday  \n",
       "4    0.0    0.0   3.9   0.0   3.5    2.8    7.5   92  1002.9    Friday  \n",
       "7    0.0    0.0   8.7   0.0   8.6    8.6   11.2   99    1008  Saturday  \n",
       "20   0.0    0.0  12.5   0.0   9.2    5.4      9   61  1012.8  Thursday  \n",
       "\n",
       "[5 rows x 25 columns]"
      ]
     },
     "execution_count": 127,
     "metadata": {},
     "output_type": "execute_result"
    }
   ],
   "source": [
    "dry = weather_46a_merged['rain'] == 0\n",
    "dry = weather_46a_merged[dry]\n",
    "dry.head(5)"
   ]
  },
  {
   "cell_type": "code",
   "execution_count": 128,
   "metadata": {
    "collapsed": true
   },
   "outputs": [],
   "source": [
    "dry1 = dry['dayofservice'] == '2016-02-09'\n",
    "dry1 = dry[dry1]"
   ]
  },
  {
   "cell_type": "code",
   "execution_count": 129,
   "metadata": {
    "collapsed": true
   },
   "outputs": [],
   "source": [
    "dry2 = dry['dayofservice'] == '2016-04-08'\n",
    "dry2 = dry[dry2]"
   ]
  },
  {
   "cell_type": "code",
   "execution_count": 130,
   "metadata": {
    "collapsed": true
   },
   "outputs": [],
   "source": [
    "dry3 = dry['dayofservice'] == '2016-04-02'\n",
    "dry3 = dry[dry3]"
   ]
  },
  {
   "cell_type": "code",
   "execution_count": 131,
   "metadata": {
    "collapsed": true
   },
   "outputs": [],
   "source": [
    "dry4 = dry['dayofservice'] == '2016-03-05'\n",
    "dry4 = dry[dry4]"
   ]
  },
  {
   "cell_type": "code",
   "execution_count": 132,
   "metadata": {
    "collapsed": true
   },
   "outputs": [],
   "source": [
    "dry5 = dry['dayofservice'] == '2016-05-20'\n",
    "dry5 = dry[dry5]"
   ]
  },
  {
   "cell_type": "code",
   "execution_count": 133,
   "metadata": {
    "collapsed": true
   },
   "outputs": [],
   "source": [
    "dry6 = dry['dayofservice'] == '2017-05-03'\n",
    "dry6 = dry[dry6]"
   ]
  },
  {
   "cell_type": "code",
   "execution_count": 134,
   "metadata": {
    "collapsed": true
   },
   "outputs": [],
   "source": [
    "dry6 = dry['dayofservice'] == '2017-06-27'\n",
    "dry6 = dry[dry6]"
   ]
  },
  {
   "cell_type": "code",
   "execution_count": 135,
   "metadata": {
    "collapsed": true
   },
   "outputs": [],
   "source": [
    "dry7 = dry['dayofservice'] == '2017-03-14'\n",
    "dry7 = dry[dry7]"
   ]
  },
  {
   "cell_type": "code",
   "execution_count": 136,
   "metadata": {
    "collapsed": true
   },
   "outputs": [],
   "source": [
    "dry8 = dry['dayofservice'] == '2017-04-21'\n",
    "dry8 = dry[dry8]"
   ]
  },
  {
   "cell_type": "code",
   "execution_count": 137,
   "metadata": {
    "collapsed": true
   },
   "outputs": [],
   "source": [
    "dry9 = dry['dayofservice'] == '2017-02-08'\n",
    "dry9 = dry[dry9]"
   ]
  },
  {
   "cell_type": "code",
   "execution_count": 138,
   "metadata": {
    "collapsed": true
   },
   "outputs": [],
   "source": [
    "dry10 = dry['dayofservice'] == '2017-05-26'\n",
    "dry10 = dry[dry10]"
   ]
  },
  {
   "cell_type": "code",
   "execution_count": 139,
   "metadata": {
    "collapsed": true
   },
   "outputs": [],
   "source": [
    "dry_avg = pd.concat([dry1, dry2, dry3, dry4, dry5, dry6, dry7, dry8, dry9, dry10])"
   ]
  },
  {
   "cell_type": "code",
   "execution_count": 140,
   "metadata": {
    "collapsed": true
   },
   "outputs": [],
   "source": [
    "# hv_mon = heavy_rain['dayofservice'] == '2016-02-29'\n",
    "# hv_mon = heavy_rain[hv_mon]\n",
    "# hv_mon_sort = hv_mon.sort_values('actualtime_dep',ascending=True)\n",
    "# hv_mon_sort.head(5)"
   ]
  },
  {
   "cell_type": "code",
   "execution_count": 141,
   "metadata": {},
   "outputs": [
    {
     "name": "stderr",
     "output_type": "stream",
     "text": [
      "/anaconda3/lib/python3.6/site-packages/ipykernel_launcher.py:10: FutureWarning: set_value is deprecated and will be removed in a future release. Please use .at[] or .iat[] accessors instead\n",
      "  # Remove the CWD from sys.path while we load stuff.\n"
     ]
    }
   ],
   "source": [
    "times = ['06:00', '06:30', '07:00', '07:30', '08:00', '08:30', '09:00', '09:30', '10:00', '10:30', '11:00', '11:30', '12:00', '13:30', '14:00', '14:30', '15:00', '15:30', '16:00', '16:30', '17:00', '17:30', '18:00', '18:30', '19:00', '19:30', '20:30', '21:00', '21:30', '22:00', '22:30', '23:00']\n",
    "i = 0\n",
    "while i <= len(times):\n",
    "    if i == len(times) - 1:\n",
    "        break\n",
    "    else:\n",
    "        index = pd.DatetimeIndex(rain_avg['actualtime_dep'])\n",
    "        look = rain_avg.iloc[index.indexer_between_time(times[i],times[i+1])]\n",
    "        mean = look['journey_time'].median()\n",
    "        avgs.set_value(i, 'rainy', mean)\n",
    "    i += 1"
   ]
  },
  {
   "cell_type": "code",
   "execution_count": 142,
   "metadata": {},
   "outputs": [
    {
     "name": "stderr",
     "output_type": "stream",
     "text": [
      "/anaconda3/lib/python3.6/site-packages/ipykernel_launcher.py:10: FutureWarning: set_value is deprecated and will be removed in a future release. Please use .at[] or .iat[] accessors instead\n",
      "  # Remove the CWD from sys.path while we load stuff.\n"
     ]
    }
   ],
   "source": [
    "times = ['06:00', '06:30', '07:00', '07:30', '08:00', '08:30', '09:00', '09:30', '10:00', '10:30', '11:00', '11:30', '12:00', '13:30', '14:00', '14:30', '15:00', '15:30', '16:00', '16:30', '17:00', '17:30', '18:00', '18:30', '19:00', '19:30', '20:30', '21:00', '21:30', '22:00', '22:30', '23:00']\n",
    "i = 0\n",
    "while i <= len(times):\n",
    "    if i == len(times) - 1:\n",
    "        break\n",
    "    else:\n",
    "        index = pd.DatetimeIndex(dry_avg['actualtime_dep'])\n",
    "        look = dry_avg.iloc[index.indexer_between_time(times[i],times[i+1])]\n",
    "        mean = look['journey_time'].median()\n",
    "        avgs.set_value(i, 'dry', mean)\n",
    "    i += 1"
   ]
  },
  {
   "cell_type": "code",
   "execution_count": null,
   "metadata": {
    "collapsed": true
   },
   "outputs": [],
   "source": []
  },
  {
   "cell_type": "markdown",
   "metadata": {},
   "source": [
    "## Rainy days vs dry days"
   ]
  },
  {
   "cell_type": "code",
   "execution_count": 143,
   "metadata": {},
   "outputs": [
    {
     "data": {
      "text/plain": [
       "<matplotlib.legend.Legend at 0x1a39009240>"
      ]
     },
     "execution_count": 143,
     "metadata": {},
     "output_type": "execute_result"
    },
    {
     "data": {
      "image/png": "[encoded data removed]",
      "text/plain": [
       "<matplotlib.figure.Figure at 0x1a38601c50>"
      ]
     },
     "metadata": {},
     "output_type": "display_data"
    }
   ],
   "source": [
    "plt.figure(figsize=(16,8))\n",
    "plt.plot('time', 'rainy', data=avgs, color='blue', linewidth=4, label=\"Rain\")\n",
    "plt.plot('time', 'dry', data=avgs, color='red', linewidth=4, label=\"Dry\")\n",
    "plt.legend()"
   ]
  },
  {
   "cell_type": "markdown",
   "metadata": {},
   "source": [
    "# Conclusions"
   ]
  },
  {
   "cell_type": "markdown",
   "metadata": {},
   "source": [
    "The morning peak during school holidays has a significant difference which our model should take into consideration. The difference in median values over the morning rush hours is:"
   ]
  },
  {
   "cell_type": "code",
   "execution_count": 144,
   "metadata": {},
   "outputs": [
    {
     "name": "stdout",
     "output_type": "stream",
     "text": [
      "School week, median mins: 64.64166666666667\n"
     ]
    }
   ],
   "source": [
    "school_morn_peak = school_week.iloc[index.indexer_between_time('06:30','09:30')]\n",
    "median1 = school_morn_peak['journey_time'].median()\n",
    "print(\"School week, median mins:\", median1 / 60)"
   ]
  },
  {
   "cell_type": "code",
   "execution_count": 145,
   "metadata": {},
   "outputs": [
    {
     "name": "stdout",
     "output_type": "stream",
     "text": [
      "Half term, median mins: 60.708333333333336\n"
     ]
    }
   ],
   "source": [
    "ht_morn_peak = half_term.iloc[index.indexer_between_time('06:30','09:30')]\n",
    "median2 = ht_morn_peak['journey_time'].median()\n",
    "print(\"Half term, median mins:\", median2 / 60)"
   ]
  },
  {
   "cell_type": "markdown",
   "metadata": {
    "collapsed": true
   },
   "source": [
    "Otherwise, it seems Sundays and Bank Holiday Mondays have a similar journey times, so our models can use Sunday data to estimate Bank Holiday journey times."
   ]
  },
  {
   "cell_type": "code",
   "execution_count": null,
   "metadata": {
    "collapsed": true
   },
   "outputs": [],
   "source": []
  },
  {
   "cell_type": "code",
   "execution_count": null,
   "metadata": {
    "collapsed": true
   },
   "outputs": [],
   "source": []
  }
 ],
 "metadata": {
  "kernelspec": {
   "display_name": "Python 3",
   "language": "python",
   "name": "python3"
  },
  "language_info": {
   "codemirror_mode": {
    "name": "ipython",
    "version": 3
   },
   "file_extension": ".py",
   "mimetype": "text/x-python",
   "name": "python",
   "nbconvert_exporter": "python",
   "pygments_lexer": "ipython3",
   "version": "3.6.3"
  }
 },
 "nbformat": 4,
 "nbformat_minor": 2
}
