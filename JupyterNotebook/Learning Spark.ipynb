{
 "cells": [
  {
   "cell_type": "code",
   "execution_count": 1,
   "metadata": {},
   "outputs": [],
   "source": [
    "file_path = r'C:\\UCD\\RESEARCH\\Database DB\\rt_leavetimes_2016_I_DB.txt'"
   ]
  },
  {
   "cell_type": "code",
   "execution_count": 2,
   "metadata": {},
   "outputs": [],
   "source": [
    "rt_lt_16 = spark.read.option(\"delimiter\",\";\").csv(file_path,header=True)"
   ]
  },
  {
   "cell_type": "code",
   "execution_count": 3,
   "metadata": {},
   "outputs": [],
   "source": [
    "from_pattern=\"dd-MMM-yy HH:mm:ss\"\n",
    "to_pattern=\"EEEE\"\n",
    "from pyspark.sql.functions import unix_timestamp,from_unixtime"
   ]
  },
  {
   "cell_type": "code",
   "execution_count": 4,
   "metadata": {},
   "outputs": [],
   "source": [
    "rt_lt_16_dow = rt_lt_16.withColumn('dayOfWeek', from_unixtime(unix_timestamp(rt_lt_16['dayofservice'], from_pattern), to_pattern))"
   ]
  },
  {
   "cell_type": "code",
   "execution_count": 5,
   "metadata": {},
   "outputs": [],
   "source": [
    "rt_lt_16_Saturday = rt_lt_16_dow.where(rt_lt_16_dow.dayOfWeek=='Saturday')"
   ]
  },
  {
   "cell_type": "code",
   "execution_count": 6,
   "metadata": {},
   "outputs": [],
   "source": [
    "file_path = r'C:\\UCD\\RESEARCH\\Database DB\\rt_leavetimes_2017_I_DB.txt'"
   ]
  },
  {
   "cell_type": "code",
   "execution_count": 7,
   "metadata": {},
   "outputs": [],
   "source": [
    "rt_lt_17 = spark.read.option(\"delimiter\",\";\").csv(file_path,header=True)"
   ]
  },
  {
   "cell_type": "code",
   "execution_count": 8,
   "metadata": {},
   "outputs": [],
   "source": [
    "rt_lt_17_dow = rt_lt_17.withColumn('dayOfWeek', from_unixtime(unix_timestamp(rt_lt_17['dayofservice'], from_pattern), to_pattern))"
   ]
  },
  {
   "cell_type": "code",
   "execution_count": 9,
   "metadata": {},
   "outputs": [],
   "source": [
    "from functools import reduce\n",
    "from pyspark.sql import DataFrame\n",
    "def unionAll(*dfs):\n",
    "    return reduce(DataFrame.unionAll, dfs)"
   ]
  },
  {
   "cell_type": "code",
   "execution_count": 10,
   "metadata": {},
   "outputs": [],
   "source": [
    "df_Full_LT = unionAll(rt_lt_16_dow,rt_lt_17_dow)"
   ]
  },
  {
   "cell_type": "code",
   "execution_count": 11,
   "metadata": {},
   "outputs": [],
   "source": [
    "# df_Full_LT.write.partitionBy(\"dayOfWeek\").csv(r'C:\\UCD\\RESEARCH\\Database DB\\filesSplit')"
   ]
  },
  {
   "cell_type": "code",
   "execution_count": 12,
   "metadata": {},
   "outputs": [],
   "source": [
    "# rt_lt_16_Saturday.count()"
   ]
  },
  {
   "cell_type": "code",
   "execution_count": 13,
   "metadata": {},
   "outputs": [],
   "source": [
    "# df_Full_LT.groupBy(\"dayOfWeek\").count().show()"
   ]
  },
  {
   "cell_type": "code",
   "execution_count": 14,
   "metadata": {},
   "outputs": [],
   "source": [
    "# rt_lt_16_Saturday.coalesce(1).write.csv(r'C:\\UCD\\RESEARCH\\Database DB\\Saturday.csv')"
   ]
  },
  {
   "cell_type": "code",
   "execution_count": 15,
   "metadata": {},
   "outputs": [],
   "source": [
    "from pyspark.sql import SQLContext\n",
    "sqlContext = SQLContext(sc)"
   ]
  },
  {
   "cell_type": "code",
   "execution_count": 16,
   "metadata": {},
   "outputs": [],
   "source": [
    "# define the sample size\n",
    "percent_back = 0.05"
   ]
  },
  {
   "cell_type": "code",
   "execution_count": 17,
   "metadata": {},
   "outputs": [],
   "source": [
    "#This calculates the fraction of population that has to be included in the sample\n",
    "# 5% from each weekday \n",
    "frac = dict(\n",
    "    (e.dayOfWeek, percent_back) \n",
    "    for e \n",
    "    in df_Full_LT.select('dayOfWeek').distinct().collect()\n",
    ")"
   ]
  },
  {
   "cell_type": "code",
   "execution_count": 18,
   "metadata": {},
   "outputs": [],
   "source": [
    "# sample the data\n",
    "sampled = df_Full_LT.sampleBy('dayOfWeek', fractions=frac)"
   ]
  },
  {
   "cell_type": "code",
   "execution_count": 19,
   "metadata": {},
   "outputs": [],
   "source": [
    "sampled_total_count = sampled.count()"
   ]
  },
  {
   "cell_type": "code",
   "execution_count": 20,
   "metadata": {},
   "outputs": [],
   "source": [
    "sampled_counts = sampled.groupBy('dayOfWeek').count()"
   ]
  },
  {
   "cell_type": "code",
   "execution_count": 21,
   "metadata": {},
   "outputs": [],
   "source": [
    "# original_total_count = df_Full_LT.count()"
   ]
  },
  {
   "cell_type": "code",
   "execution_count": 22,
   "metadata": {},
   "outputs": [
    {
     "name": "stdout",
     "output_type": "stream",
     "text": [
      "4605864\n"
     ]
    }
   ],
   "source": [
    "print(sampled_total_count)"
   ]
  },
  {
   "cell_type": "code",
   "execution_count": 23,
   "metadata": {},
   "outputs": [
    {
     "data": {
      "text/plain": [
       "pyspark.sql.dataframe.DataFrame"
      ]
     },
     "execution_count": 23,
     "metadata": {},
     "output_type": "execute_result"
    }
   ],
   "source": [
    "type(sampled_counts)"
   ]
  },
  {
   "cell_type": "code",
   "execution_count": 24,
   "metadata": {},
   "outputs": [
    {
     "name": "stdout",
     "output_type": "stream",
     "text": [
      "+---------+------+\n",
      "|dayOfWeek| count|\n",
      "+---------+------+\n",
      "|Wednesday|782243|\n",
      "|  Tuesday|801147|\n",
      "|   Friday|723407|\n",
      "| Thursday|703069|\n",
      "| Saturday|519245|\n",
      "|   Monday|719555|\n",
      "|   Sunday|357198|\n",
      "+---------+------+\n",
      "\n"
     ]
    }
   ],
   "source": [
    "sampled_counts.show()"
   ]
  },
  {
   "cell_type": "code",
   "execution_count": 25,
   "metadata": {},
   "outputs": [],
   "source": [
    "# print(original_total_count)"
   ]
  },
  {
   "cell_type": "code",
   "execution_count": 26,
   "metadata": {},
   "outputs": [],
   "source": [
    "# df_Full_LT.groupBy('dayOfWeek').count().show()"
   ]
  },
  {
   "cell_type": "code",
   "execution_count": 27,
   "metadata": {},
   "outputs": [],
   "source": [
    "# sampled.repartition(1).write.partitionBy(\"dayOfWeek\").csv(r'C:\\UCD\\RESEARCH\\Database DB\\Splits_Sample_Partitioned')"
   ]
  },
  {
   "cell_type": "code",
   "execution_count": 28,
   "metadata": {},
   "outputs": [
    {
     "data": {
      "text/plain": [
       "['datasource',\n",
       " 'dayofservice',\n",
       " 'tripid',\n",
       " 'progrnumber',\n",
       " 'stoppointid',\n",
       " 'plannedtime_arr',\n",
       " 'plannedtime_dep',\n",
       " 'actualtime_arr',\n",
       " 'actualtime_dep',\n",
       " 'vehicleid',\n",
       " 'passengers',\n",
       " 'passengersin',\n",
       " 'passengersout',\n",
       " 'distance',\n",
       " 'suppressed',\n",
       " 'justificationid',\n",
       " 'lastupdate',\n",
       " 'note',\n",
       " 'dayOfWeek']"
      ]
     },
     "execution_count": 28,
     "metadata": {},
     "output_type": "execute_result"
    }
   ],
   "source": [
    "sampled.columns"
   ]
  },
  {
   "cell_type": "code",
   "execution_count": 29,
   "metadata": {},
   "outputs": [
    {
     "data": {
      "text/plain": [
       "{'Wednesday': 0.05,\n",
       " 'Tuesday': 0.05,\n",
       " 'Friday': 0.05,\n",
       " 'Thursday': 0.05,\n",
       " 'Saturday': 0.05,\n",
       " 'Monday': 0.05,\n",
       " 'Sunday': 0.05}"
      ]
     },
     "execution_count": 29,
     "metadata": {},
     "output_type": "execute_result"
    }
   ],
   "source": [
    "frac"
   ]
  },
  {
   "cell_type": "code",
   "execution_count": null,
   "metadata": {},
   "outputs": [],
   "source": []
  }
 ],
 "metadata": {
  "kernelspec": {
   "display_name": "Python 3",
   "language": "python",
   "name": "python3"
  },
  "language_info": {
   "codemirror_mode": {
    "name": "ipython",
    "version": 3
   },
   "file_extension": ".py",
   "mimetype": "text/x-python",
   "name": "python",
   "nbconvert_exporter": "python",
   "pygments_lexer": "ipython3",
   "version": "3.6.5"
  }
 },
 "nbformat": 4,
 "nbformat_minor": 2
}
