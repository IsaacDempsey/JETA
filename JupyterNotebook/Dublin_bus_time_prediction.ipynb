{
 "cells": [
  {
   "cell_type": "code",
   "execution_count": 1,
   "metadata": {},
   "outputs": [
    {
     "name": "stderr",
     "output_type": "stream",
     "text": [
      "Using TensorFlow backend.\n"
     ]
    }
   ],
   "source": [
    "# -*- coding: utf-8 -*-\n",
    "\"\"\"\n",
    "Created on Thu Jul 26 22:15:45 2018\n",
    "\n",
    "@author: annb\n",
    "\"\"\"\n",
    "\n",
    "import warnings\n",
    "#Ignoring them.\n",
    "warnings.filterwarnings('ignore')\n",
    "# Importing the libraries\n",
    "import numpy as np\n",
    "import matplotlib.pyplot as plt\n",
    "import pandas as pd\n",
    "from sklearn.preprocessing import MinMaxScaler\n",
    "# Evaluating the ANN\n",
    "import keras\n",
    "from keras.models import Sequential\n",
    "from keras.layers import Dense\n",
    "from keras.layers import Dropout\n",
    "from keras.wrappers.scikit_learn import KerasClassifier\n",
    "from sklearn.model_selection import cross_val_score\n",
    "from keras.layers import Input\n",
    "from keras.models import Model\n",
    "from keras.wrappers.scikit_learn import KerasRegressor\n",
    "from sklearn.model_selection import cross_val_score\n",
    "from sklearn.model_selection import KFold\n",
    "from sklearn.preprocessing import StandardScaler\n",
    "from sklearn.pipeline import Pipeline\n",
    "from keras.layers import LSTM\n",
    "from keras.layers import Dropout\n",
    "import os\n",
    "import seaborn as sns\n",
    "import statsmodels.api as sm\n",
    "from sklearn.model_selection import train_test_split"
   ]
  },
  {
   "cell_type": "code",
   "execution_count": 2,
   "metadata": {},
   "outputs": [],
   "source": [
    "#reading all the base data and appending it to a single data frame\n",
    "filenames= os.listdir ('D:/Project/anurakta/39A_segments/39A_segments') \n",
    "# get all files' and folders' names in the current directory\n",
    "base_data=[]\n",
    "for file in filenames:\n",
    "    new =os.path.join(os.path.abspath('D:/Project/anurakta/39A_segments/39A_segments'), file)\n",
    "    base=pd.read_csv(new,names=[\"dur\",\"time\",\"from_to\",\"day\",\"rains\",\"temp\"])\n",
    "    base_data.append(base)\n",
    "   "
   ]
  },
  {
   "cell_type": "code",
   "execution_count": 3,
   "metadata": {
    "collapsed": true
   },
   "outputs": [],
   "source": [
    "#creating an empty data frame with the corresponding columns names#\n",
    "column_names=(\"dur\",\"time\",\"from_to\",\"day\",\"rains\",\"temp\")\n",
    "df = pd.DataFrame(columns=column_names)"
   ]
  },
  {
   "cell_type": "code",
   "execution_count": 4,
   "metadata": {},
   "outputs": [],
   "source": [
    "#appending the dataframe to df\n",
    "for dataframe in base_data:\n",
    "    #print(dataframe.head)\n",
    "    df = df.append(dataframe)\n",
    "   "
   ]
  },
  {
   "cell_type": "code",
   "execution_count": 5,
   "metadata": {},
   "outputs": [
    {
     "data": {
      "text/plain": [
       "2022193"
      ]
     },
     "execution_count": 5,
     "metadata": {},
     "output_type": "execute_result"
    }
   ],
   "source": [
    "#to check the length of the data frame#\n",
    "len(df)"
   ]
  },
  {
   "cell_type": "markdown",
   "metadata": {},
   "source": [
    "We know that it takes approximately an average of 110 seconds for the 39A bus to leave from terminus at UCD and reach the bus stop at stillorgan This time includes any dwell time at UCD and not at stillorgan. This information is baked in the data."
   ]
  },
  {
   "cell_type": "code",
   "execution_count": 6,
   "metadata": {
    "scrolled": true
   },
   "outputs": [
    {
     "name": "stdout",
     "output_type": "stream",
     "text": [
      "Index(['dur', 'time', 'from_to', 'rains', 'temp', 'day_Friday', 'day_Monday',\n",
      "       'day_Saturday', 'day_Sunday', 'day_Thursday', 'day_Tuesday',\n",
      "       'day_Wednesday'],\n",
      "      dtype='object')\n"
     ]
    }
   ],
   "source": [
    "#creating the features for each day variables\n",
    "New_base=pd.get_dummies(df, columns=[\"day\"], prefix=[\"day\"])\n",
    "print(New_base.columns)"
   ]
  },
  {
   "cell_type": "code",
   "execution_count": 7,
   "metadata": {
    "collapsed": true
   },
   "outputs": [],
   "source": [
    "#the final modelling data is created\n",
    "Final_base_data=New_base[['dur', 'time', 'rains', 'temp', 'day_Friday', 'day_Monday',\n",
    "       'day_Saturday', 'day_Sunday', 'day_Thursday', 'day_Tuesday',\n",
    "       'day_Wednesday']]\n"
   ]
  },
  {
   "cell_type": "markdown",
   "metadata": {},
   "source": []
  },
  {
   "cell_type": "code",
   "execution_count": 8,
   "metadata": {
    "scrolled": false
   },
   "outputs": [
    {
     "name": "stdout",
     "output_type": "stream",
     "text": [
      "dur                0\n",
      "time               0\n",
      "rains            978\n",
      "temp               0\n",
      "day_Friday         0\n",
      "day_Monday         0\n",
      "day_Saturday       0\n",
      "day_Sunday         0\n",
      "day_Thursday       0\n",
      "day_Tuesday        0\n",
      "day_Wednesday      0\n",
      "dtype: int64\n"
     ]
    }
   ],
   "source": [
    "#to check for nulls in the dataframe\n",
    "print(Final_base_data.isnull().sum())\n",
    "Final_base_data=Final_base_data.fillna(0)\n",
    "dataset = Final_base_data"
   ]
  },
  {
   "cell_type": "code",
   "execution_count": 9,
   "metadata": {
    "scrolled": false
   },
   "outputs": [
    {
     "data": {
      "text/plain": [
       "Index(['dur', 'time', 'rains', 'temp', 'day_Friday', 'day_Monday',\n",
       "       'day_Saturday', 'day_Sunday', 'day_Thursday', 'day_Tuesday',\n",
       "       'day_Wednesday'],\n",
       "      dtype='object')"
      ]
     },
     "execution_count": 9,
     "metadata": {},
     "output_type": "execute_result"
    }
   ],
   "source": [
    "#verifying the column names in the dataframe\n",
    "dataset.columns"
   ]
  },
  {
   "cell_type": "code",
   "execution_count": 10,
   "metadata": {},
   "outputs": [
    {
     "data": {
      "text/plain": [
       "<matplotlib.axes._subplots.AxesSubplot at 0x22a35f4d400>"
      ]
     },
     "execution_count": 10,
     "metadata": {},
     "output_type": "execute_result"
    },
    {
     "data": {
      "image/png": "[encoded data removed]",
      "text/plain": [
       "<matplotlib.figure.Figure at 0x22a223f89e8>"
      ]
     },
     "metadata": {},
     "output_type": "display_data"
    }
   ],
   "source": [
    "#correlation chart for all the variables showing clear pattern#\n",
    "\n",
    "sns.set_style(\"white\")\n",
    "cont_corr = dataset.corr()\n",
    "mask = np.zeros_like(cont_corr,dtype=np.bool)\n",
    "mask[np.triu_indices_from(mask)] = True\n",
    "f, ax = plt.subplots(figsize=(11,9))\n",
    "cmap=sns.diverging_palette(220,10, as_cmap = True)\n",
    "sns.heatmap(cont_corr, annot=True, mask=mask, cmap=cmap, vmax=1, vmin=-1, center=0,\n",
    "            square=True, xticklabels=True, yticklabels=True, linewidths=.5, cbar_kws={\"shrink\": .5})"
   ]
  },
  {
   "cell_type": "code",
   "execution_count": 11,
   "metadata": {
    "collapsed": true
   },
   "outputs": [],
   "source": [
    "X=dataset[['time', 'rains', 'temp', 'day_Friday', 'day_Monday',\n",
    "       'day_Saturday', 'day_Sunday', 'day_Thursday', 'day_Tuesday',\n",
    "       'day_Wednesday']].values\n",
    "y=dataset['dur'].values"
   ]
  },
  {
   "cell_type": "code",
   "execution_count": 12,
   "metadata": {},
   "outputs": [
    {
     "name": "stdout",
     "output_type": "stream",
     "text": [
      "[47137.46649622004, -18.05582760753323, -179.11719199030568, 58.88849791510032, 5336.344142088362, 5485.285321928058, 8374.603084670549, 12023.685845305727, 5213.3933818796695, 5371.558400976441, 5332.596319371325]\n"
     ]
    }
   ],
   "source": [
    "#testing linear regression #\n",
    "\n",
    "X_train, X_test, y_train, y_test = train_test_split(X, y, test_size = 0.3, random_state = 100)\n",
    "X_new = sm.add_constant(X_train)\n",
    "model = sm.OLS(y_train,X_new).fit()\n",
    "print(model.params.tolist())\n"
   ]
  },
  {
   "cell_type": "code",
   "execution_count": 13,
   "metadata": {},
   "outputs": [
    {
     "name": "stdout",
     "output_type": "stream",
     "text": [
      "                            OLS Regression Results                            \n",
      "==============================================================================\n",
      "Dep. Variable:                      y   R-squared:                       0.019\n",
      "Model:                            OLS   Adj. R-squared:                  0.019\n",
      "Method:                 Least Squares   F-statistic:                     2982.\n",
      "Date:                Thu, 09 Aug 2018   Prob (F-statistic):               0.00\n",
      "Time:                        20:00:43   Log-Likelihood:            -1.5822e+07\n",
      "No. Observations:             1415535   AIC:                         3.164e+07\n",
      "Df Residuals:                 1415525   BIC:                         3.164e+07\n",
      "Df Model:                           9                                         \n",
      "Covariance Type:            nonrobust                                         \n",
      "==============================================================================\n",
      "                 coef    std err          t      P>|t|      [0.025      0.975]\n",
      "------------------------------------------------------------------------------\n",
      "const       4.714e+04     33.189   1420.280      0.000    4.71e+04    4.72e+04\n",
      "x1           -18.0558      0.259    -69.803      0.000     -18.563     -17.549\n",
      "x2          -179.1172     33.002     -5.427      0.000    -243.800    -114.435\n",
      "x3            58.8885      3.102     18.983      0.000      52.808      64.969\n",
      "x4          5336.3441     35.123    151.933      0.000    5267.504    5405.184\n",
      "x5          5485.2853     35.258    155.576      0.000    5416.181    5554.390\n",
      "x6          8374.6031     41.841    200.154      0.000    8292.597    8456.610\n",
      "x7          1.202e+04     43.842    274.253      0.000    1.19e+04    1.21e+04\n",
      "x8          5213.3934     34.982    149.031      0.000    5144.830    5281.957\n",
      "x9          5371.5584     33.105    162.256      0.000    5306.673    5436.444\n",
      "x10         5332.5963     33.148    160.873      0.000    5267.627    5397.565\n",
      "==============================================================================\n",
      "Omnibus:                   645851.971   Durbin-Watson:                   1.999\n",
      "Prob(Omnibus):                  0.000   Jarque-Bera (JB):            76660.017\n",
      "Skew:                           0.121   Prob(JB):                         0.00\n",
      "Kurtosis:                       1.886   Cond. No.                     1.57e+16\n",
      "==============================================================================\n",
      "\n",
      "Warnings:\n",
      "[1] Standard Errors assume that the covariance matrix of the errors is correctly specified.\n",
      "[2] The smallest eigenvalue is 4.64e-23. This might indicate that there are\n",
      "strong multicollinearity problems or that the design matrix is singular.\n"
     ]
    }
   ],
   "source": [
    "#printing the model details#\n",
    "print(model.summary())"
   ]
  },
  {
   "cell_type": "code",
   "execution_count": 14,
   "metadata": {},
   "outputs": [
    {
     "name": "stdout",
     "output_type": "stream",
     "text": [
      "404439\n"
     ]
    }
   ],
   "source": [
    "#creating the training test split\n",
    "\n",
    "X_train_scaled, X_test_scaled, y_train_scaled, y_test_scaled = train_test_split(X, y, test_size=0.20, random_state=42)\n",
    "\n",
    "print(len(y_test_scaled))\n",
    "# Feature Scaling\n",
    "\n",
    "# Reshaping\n",
    "X_train_scaled = np.reshape(X_train_scaled, (X_train_scaled.shape[0], X_train_scaled.shape[1], 1))"
   ]
  },
  {
   "cell_type": "code",
   "execution_count": null,
   "metadata": {
    "scrolled": false
   },
   "outputs": [
    {
     "name": "stdout",
     "output_type": "stream",
     "text": [
      "Epoch 1/1\n",
      "  39616/1617754 [..............................] - ETA: 15:26 - loss: 3086101606.8756"
     ]
    }
   ],
   "source": [
    "# Part 2 - Building the RNN\n",
    "\n",
    "# Importing the Keras libraries and packages\n",
    "\n",
    "\n",
    "# Initialising the RNN\n",
    "regressor = Sequential()\n",
    "\n",
    "# Adding the first LSTM layer and some Dropout regularisation\n",
    "regressor.add(LSTM(units = 50, return_sequences = True, input_shape = (X_train.shape[1], 1)))\n",
    "regressor.add(Dropout(0.2))\n",
    "\n",
    "# Adding a second LSTM layer and some Dropout regularisation\n",
    "regressor.add(LSTM(units = 50, return_sequences = True))\n",
    "regressor.add(Dropout(0.2))\n",
    "\n",
    "# Adding a third LSTM layer and some Dropout regularisation\n",
    "regressor.add(LSTM(units = 50, return_sequences = True))\n",
    "regressor.add(Dropout(0.2))\n",
    "\n",
    "# Adding a fourth LSTM layer and some Dropout regularisation\n",
    "regressor.add(LSTM(units = 50))\n",
    "regressor.add(Dropout(0.2))\n",
    "\n",
    "# Adding the output layer\n",
    "regressor.add(Dense(units = 1))\n",
    "\n",
    "# Compiling the RNN\n",
    "regressor.compile(optimizer = 'adam', loss = 'mean_squared_error')\n",
    "\n",
    "# Fitting the RNN to the Training set\n",
    "regressor.fit(X_train_scaled, y_train_scaled, epochs = 1, batch_size = 32)\n",
    "\n",
    "\n"
   ]
  },
  {
   "cell_type": "markdown",
   "metadata": {},
   "source": [
    "This is cost function that gets optimised with each forward feed and back propogation in deep learning. "
   ]
  },
  {
   "cell_type": "code",
   "execution_count": 17,
   "metadata": {},
   "outputs": [],
   "source": [
    "#final_output=np.insert(x, idx, 999, axis=1)\n",
    "X_test_scaled = np.reshape(X_test_scaled, (X_test_scaled.shape[0], X_test_scaled.shape[1], 1))\n",
    "\n",
    "\n",
    "predicted_time = regressor.predict(X_test_scaled)\n",
    "predicted_time=predicted_time"
   ]
  },
  {
   "cell_type": "code",
   "execution_count": 18,
   "metadata": {},
   "outputs": [
    {
     "data": {
      "text/plain": [
       "404439"
      ]
     },
     "execution_count": 18,
     "metadata": {},
     "output_type": "execute_result"
    }
   ],
   "source": [
    "len(predicted_time.flatten())"
   ]
  },
  {
   "cell_type": "code",
   "execution_count": 19,
   "metadata": {},
   "outputs": [
    {
     "data": {
      "text/plain": [
       "404439"
      ]
     },
     "execution_count": 19,
     "metadata": {},
     "output_type": "execute_result"
    }
   ],
   "source": [
    "len(y_test_scaled)"
   ]
  },
  {
   "cell_type": "markdown",
   "metadata": {},
   "source": [
    "This indicates that the model is robust as the test and the predictions come up with the same value."
   ]
  },
  {
   "cell_type": "code",
   "execution_count": 20,
   "metadata": {},
   "outputs": [
    {
     "name": "stdout",
     "output_type": "stream",
     "text": [
      "50188.41324042003\n",
      "2823901081.5023417\n",
      "53140.39030250288\n"
     ]
    }
   ],
   "source": [
    "#perormance checking of the model on testdata#\n",
    "from sklearn import metrics\n",
    "print(metrics.mean_absolute_error(predicted_time.flatten(),y_test_scaled))\n",
    "print(metrics.mean_squared_error(predicted_time.flatten(),y_test_scaled))\n",
    "print(np.sqrt(metrics.mean_squared_error(predicted_time.flatten(),y_test_scaled)))"
   ]
  },
  {
   "cell_type": "code",
   "execution_count": null,
   "metadata": {
    "collapsed": true
   },
   "outputs": [],
   "source": []
  }
 ],
 "metadata": {
  "kernelspec": {
   "display_name": "Python 3",
   "language": "python",
   "name": "python3"
  },
  "language_info": {
   "codemirror_mode": {
    "name": "ipython",
    "version": 3
   },
   "file_extension": ".py",
   "mimetype": "text/x-python",
   "name": "python",
   "nbconvert_exporter": "python",
   "pygments_lexer": "ipython3",
   "version": "3.6.5"
  }
 },
 "nbformat": 4,
 "nbformat_minor": 2
}
