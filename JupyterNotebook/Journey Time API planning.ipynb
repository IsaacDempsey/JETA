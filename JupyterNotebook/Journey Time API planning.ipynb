{
 "cells": [
  {
   "cell_type": "code",
   "execution_count": 1,
   "metadata": {},
   "outputs": [],
   "source": [
    "import pandas as pd"
   ]
  },
  {
   "cell_type": "code",
   "execution_count": 2,
   "metadata": {},
   "outputs": [
    {
     "name": "stderr",
     "output_type": "stream",
     "text": [
      "/home/isaac/anaconda3/lib/python3.6/site-packages/psycopg2/__init__.py:144: UserWarning: The psycopg2 wheel package will be renamed from release 2.8; in order to keep installing from binary please use \"pip install psycopg2-binary\" instead. For details see: <http://initd.org/psycopg/docs/install.html#binary-install-from-pypi>.\n",
      "  \"\"\")\n"
     ]
    }
   ],
   "source": [
    "# Connect to database\n",
    "\n",
    "from sqlalchemy import create_engine\n",
    "\n",
    "URI=\"localhost\"\n",
    "PORT=\"5433\"\n",
    "DB = \"jetaDb\"\n",
    "USER = \"postgres\"\n",
    "PASSWORD = \"00001234\"\n",
    "  \n",
    "engine = create_engine(\"postgresql://{}:{}@{}:{}/{}\".format(USER, PASSWORD, URI, PORT, DB), echo=True)"
   ]
  },
  {
   "cell_type": "code",
   "execution_count": 97,
   "metadata": {},
   "outputs": [],
   "source": [
    "# Variables from query\n",
    "\n",
    "start = \"767\" # ucd\n",
    "destination = \"1914\" # old cabra road\n",
    "lineid = \"39A\"\n",
    "start_time = \"1530008000\"\n",
    "\n",
    "# http://localhost:8000/main/journeytime?source=767&destination=1914&lineid=39A&time=1530008000\n",
    "\n",
    "# Rain should be gotten from api or else table\n",
    "\n",
    "rain = 0.5"
   ]
  },
  {
   "cell_type": "code",
   "execution_count": 167,
   "metadata": {},
   "outputs": [
    {
     "name": "stdout",
     "output_type": "stream",
     "text": [
      "Irish Standard Time:  Europe/Dublin\n",
      "Datetime:  2018-06-26 11:13:20+01:00\n",
      "Weekday:  1\n",
      "Week dummies:  [0, 1, 0, 0, 0, 0]\n",
      "Seconds since midnight (arrival time):  40400\n"
     ]
    }
   ],
   "source": [
    "# Transform time into variables required from model\n",
    "\n",
    "import time\n",
    "from datetime import datetime, timedelta\n",
    "from pytz import timezone\n",
    "\n",
    "# Get Irish timezone (utc + daylight saving time (DST))\n",
    "irish_time = timezone('Europe/Dublin')\n",
    "print(\"Irish Standard Time: \", irish_time)\n",
    "\n",
    "# Get unixtime as datetime object\n",
    "dt_time = datetime.fromtimestamp(int(start_time), irish_time)\n",
    "print(\"Datetime: \", dt_time)\n",
    "\n",
    "# Get day of week -> Mon: 0, Sun: 6\n",
    "weekday = dt_time.weekday()\n",
    "print(\"Weekday: \", weekday)\n",
    "\n",
    "# Create list with desired weekday filled.\n",
    "week_dummies = [0] * 7\n",
    "week_dummies[weekday] = 1\n",
    "del week_dummies[2] # Delete wednesday - not included in model due to dummy var trap\n",
    "print(\"Week dummies: \", week_dummies)\n",
    "\n",
    "# Get arrivaltime in seconds\n",
    "date = dt_time.date()\n",
    "date_unixtime = time.mktime(date.timetuple())\n",
    "seconds_since_midnight = int(time.mktime((dt_time - timedelta(seconds = date_unixtime)).timetuple()))\n",
    "print(\"Seconds since midnight (arrival time): \", seconds_since_midnight)\n"
   ]
  },
  {
   "cell_type": "code",
   "execution_count": 169,
   "metadata": {},
   "outputs": [
    {
     "data": {
      "text/plain": [
       "[40400, 0.5, 0, 1, 0, 0, 0, 0]"
      ]
     },
     "execution_count": 169,
     "metadata": {},
     "output_type": "execute_result"
    }
   ],
   "source": [
    "# Model inputs\n",
    "\n",
    "model_inputs = [seconds_since_midnight, rain] + week_dummies\n",
    "model_inputs"
   ]
  },
  {
   "cell_type": "code",
   "execution_count": 38,
   "metadata": {},
   "outputs": [
    {
     "name": "stdout",
     "output_type": "stream",
     "text": [
      "2018-07-08 21:16:15,188 INFO sqlalchemy.engine.base.Engine select relname from pg_class c join pg_namespace n on n.oid=c.relnamespace where pg_catalog.pg_table_is_visible(c.oid) and relname=%(name)s\n",
      "2018-07-08 21:16:15,190 INFO sqlalchemy.engine.base.Engine {'name': \"\\n\\nSELECT * \\nFROM main_routes \\nWHERE routeid IN (\\n    SELECT UNNEST(routes) \\n    FROM main_lines \\n    WHERE main_lines.lineid = '39A'\\n) \\nAND '767' = ANY(main_routes.stopids) \\nAND '1914' = ANY(main_routes.stopids) \\n;\\n\\n\"}\n",
      "2018-07-08 21:16:15,382 INFO sqlalchemy.engine.base.Engine \n",
      "\n",
      "SELECT * \n",
      "FROM main_routes \n",
      "WHERE routeid IN (\n",
      "    SELECT UNNEST(routes) \n",
      "    FROM main_lines \n",
      "    WHERE main_lines.lineid = '39A'\n",
      ") \n",
      "AND '767' = ANY(main_routes.stopids) \n",
      "AND '1914' = ANY(main_routes.stopids) \n",
      ";\n",
      "\n",
      "\n",
      "2018-07-08 21:16:15,384 INFO sqlalchemy.engine.base.Engine {}\n"
     ]
    }
   ],
   "source": [
    "# Get stop lists associated with this lineid, start stop and end stop\n",
    "\n",
    "sql = \"\"\"\n",
    "\n",
    "SELECT * \n",
    "FROM main_routes \n",
    "WHERE routeid IN (\n",
    "    SELECT UNNEST(routes) \n",
    "    FROM main_lines \n",
    "    WHERE main_lines.lineid = '{0}'\n",
    ") \n",
    "AND '{1}' = ANY(main_routes.stopids) \n",
    "AND '{2}' = ANY(main_routes.stopids) \n",
    ";\n",
    "\n",
    "\"\"\".format(lineid, start, destination)\n",
    "\n",
    "routes = pd.read_sql(sql, engine)\n",
    "\n",
    "# Lines.objects.all\n",
    "# Routes.objects.all(routeid )"
   ]
  },
  {
   "cell_type": "code",
   "execution_count": 39,
   "metadata": {},
   "outputs": [
    {
     "data": {
      "text/html": [
       "<div>\n",
       "<style>\n",
       "    .dataframe thead tr:only-child th {\n",
       "        text-align: right;\n",
       "    }\n",
       "\n",
       "    .dataframe thead th {\n",
       "        text-align: left;\n",
       "    }\n",
       "\n",
       "    .dataframe tbody tr th {\n",
       "        vertical-align: top;\n",
       "    }\n",
       "</style>\n",
       "<table border=\"1\" class=\"dataframe\">\n",
       "  <thead>\n",
       "    <tr style=\"text-align: right;\">\n",
       "      <th></th>\n",
       "      <th>routeid</th>\n",
       "      <th>direction</th>\n",
       "      <th>stopids</th>\n",
       "    </tr>\n",
       "  </thead>\n",
       "  <tbody>\n",
       "    <tr>\n",
       "      <th>0</th>\n",
       "      <td>39A_40</td>\n",
       "      <td>1</td>\n",
       "      <td>[767, 768, 769, 770, 771, 772, 773, 774, 775, ...</td>\n",
       "    </tr>\n",
       "  </tbody>\n",
       "</table>\n",
       "</div>"
      ],
      "text/plain": [
       "  routeid  direction                                            stopids\n",
       "0  39A_40          1  [767, 768, 769, 770, 771, 772, 773, 774, 775, ..."
      ]
     },
     "execution_count": 39,
     "metadata": {},
     "output_type": "execute_result"
    }
   ],
   "source": [
    "routes"
   ]
  },
  {
   "cell_type": "code",
   "execution_count": 149,
   "metadata": {},
   "outputs": [],
   "source": [
    "if routes.shape[0] > 1:\n",
    "    print(\"Error: multiple possible routes.\")\n",
    "    print(routes)"
   ]
  },
  {
   "cell_type": "code",
   "execution_count": 43,
   "metadata": {},
   "outputs": [
    {
     "name": "stdout",
     "output_type": "stream",
     "text": [
      "[767, 768, 769, 770, 771, 772, 773, 774, 775, 776, 777, 779, 780, 781, 782, 783, 784, 785, 786, 793, 7576, 7586, 7587, 7588, 328, 1443, 1444, 1445, 1647, 1648, 1649, 1911, 1913, 1914, 1805, 1806, 1660, 1661, 1662, 1664, 1665, 1666, 1807, 7167, 1808, 7389, 7025, 4464, 1869, 1870, 1871, 1872, 1873, 1874, 1875, 1876, 1877, 1878, 1879, 1899, 6107, 6108, 6109, 6110, 7020, 7029, 7038, 7011, 2171, 7160, 7047, 7161, 7162]\n"
     ]
    }
   ],
   "source": [
    "# Convert list of stopids to list\n",
    "\n",
    "stop_list = routes['stopids'].tolist()[0]\n",
    "print(stop_list)"
   ]
  },
  {
   "cell_type": "code",
   "execution_count": 48,
   "metadata": {},
   "outputs": [
    {
     "name": "stdout",
     "output_type": "stream",
     "text": [
      "[767, 768, 769, 770, 771, 772, 773, 774, 775, 776, 777, 779, 780, 781, 782, 783, 784, 785, 786, 793, 7576, 7586, 7587, 7588, 328, 1443, 1444, 1445, 1647, 1648, 1649, 1911, 1913, 1914]\n"
     ]
    }
   ],
   "source": [
    "# Slice list by start and destination stop\n",
    "\n",
    "journey_stops = stop_list[stop_list.index(int(start)):(stop_list.index(int(destination))+1)]\n",
    "print(journey_stops)"
   ]
  },
  {
   "cell_type": "code",
   "execution_count": 50,
   "metadata": {},
   "outputs": [
    {
     "name": "stdout",
     "output_type": "stream",
     "text": [
      "['767_768', '768_769', '769_770', '770_771', '771_772', '772_773', '773_774', '774_775', '775_776', '776_777', '777_779', '779_780', '780_781', '781_782', '782_783', '783_784', '784_785', '785_786', '786_793', '793_7576', '7576_7586', '7586_7587', '7587_7588', '7588_328', '328_1443', '1443_1444', '1444_1445', '1445_1647', '1647_1648', '1648_1649', '1649_1911', '1911_1913', '1913_1914']\n"
     ]
    }
   ],
   "source": [
    "# Change each stopid into string\n",
    "stringified = list(map(str, journey_stops))\n",
    "\n",
    "# Zip ['0', .. 'n'] and ['1', .., 'n'] into list [('0', '1'), .., ('n - 1', 'n')]\n",
    "# Join tuples to make ['1_2', .., 'n-1_n']\n",
    "journey_segments = [ '_'.join(x) for x in zip(stringified[0:], stringified[1:])]\n",
    "print(journey_segments)"
   ]
  },
  {
   "cell_type": "code",
   "execution_count": 172,
   "metadata": {},
   "outputs": [
    {
     "name": "stdout",
     "output_type": "stream",
     "text": [
      "2018-07-09 00:56:22,034 INFO sqlalchemy.engine.base.Engine select relname from pg_class c join pg_namespace n on n.oid=c.relnamespace where pg_catalog.pg_table_is_visible(c.oid) and relname=%(name)s\n",
      "2018-07-09 00:56:22,036 INFO sqlalchemy.engine.base.Engine {'name': \"\\n\\nSELECT *\\nFROM main_coefficients\\nWHERE segment = ANY(ARRAY['767_768', '768_769', '769_770', '770_771', '771_772', '772_773', '773_774', '774_775 ... (158 characters truncated) ... 7', '7587_7588', '7588_328', '328_1443', '1443_1444', '1444_1445', '1445_1647', '1647_1648', '1648_1649', '1649_1911', '1911_1913', '1913_1914'])\\n\\n\"}\n",
      "2018-07-09 00:56:22,801 INFO sqlalchemy.engine.base.Engine \n",
      "\n",
      "SELECT *\n",
      "FROM main_coefficients\n",
      "WHERE segment = ANY(ARRAY['767_768', '768_769', '769_770', '770_771', '771_772', '772_773', '773_774', '774_775', '775_776', '776_777', '777_779', '779_780', '780_781', '781_782', '782_783', '783_784', '784_785', '785_786', '786_793', '793_7576', '7576_7586', '7586_7587', '7587_7588', '7588_328', '328_1443', '1443_1444', '1444_1445', '1445_1647', '1647_1648', '1648_1649', '1649_1911', '1911_1913', '1913_1914'])\n",
      "\n",
      "\n",
      "2018-07-09 00:56:22,803 INFO sqlalchemy.engine.base.Engine {}\n"
     ]
    }
   ],
   "source": [
    "# Select coefficient rows with these segment ids\n",
    "\n",
    "sql2 = \"\"\"\n",
    "\n",
    "SELECT *\n",
    "FROM main_coefficients\n",
    "WHERE segment = ANY(ARRAY{0})\n",
    "\n",
    "\"\"\".format(journey_segments)\n",
    "\n",
    "coefficients = pd.read_sql(sql2, engine)"
   ]
  },
  {
   "cell_type": "code",
   "execution_count": 173,
   "metadata": {},
   "outputs": [
    {
     "data": {
      "text/html": [
       "<div>\n",
       "<style>\n",
       "    .dataframe thead tr:only-child th {\n",
       "        text-align: right;\n",
       "    }\n",
       "\n",
       "    .dataframe thead th {\n",
       "        text-align: left;\n",
       "    }\n",
       "\n",
       "    .dataframe tbody tr th {\n",
       "        vertical-align: top;\n",
       "    }\n",
       "</style>\n",
       "<table border=\"1\" class=\"dataframe\">\n",
       "  <thead>\n",
       "    <tr style=\"text-align: right;\">\n",
       "      <th></th>\n",
       "      <th>segment</th>\n",
       "      <th>intercept</th>\n",
       "      <th>arrivaltime</th>\n",
       "      <th>rain</th>\n",
       "      <th>dayofweek_Friday</th>\n",
       "      <th>dayofweek_Monday</th>\n",
       "      <th>dayofweek_Saturday</th>\n",
       "      <th>dayofweek_Sunday</th>\n",
       "      <th>dayofweek_Thursday</th>\n",
       "      <th>dayofweek_Tuesday</th>\n",
       "    </tr>\n",
       "  </thead>\n",
       "  <tbody>\n",
       "    <tr>\n",
       "      <th>0</th>\n",
       "      <td>328_1443</td>\n",
       "      <td>132.621983</td>\n",
       "      <td>0.000372</td>\n",
       "      <td>-1.012906</td>\n",
       "      <td>1.844373</td>\n",
       "      <td>-1.666448</td>\n",
       "      <td>-5.032170</td>\n",
       "      <td>-3.358479</td>\n",
       "      <td>-0.482329</td>\n",
       "      <td>-0.020099</td>\n",
       "    </tr>\n",
       "    <tr>\n",
       "      <th>1</th>\n",
       "      <td>783_784</td>\n",
       "      <td>40.640856</td>\n",
       "      <td>0.000006</td>\n",
       "      <td>0.866560</td>\n",
       "      <td>-0.809178</td>\n",
       "      <td>-2.476708</td>\n",
       "      <td>-8.547565</td>\n",
       "      <td>-10.007176</td>\n",
       "      <td>-0.638526</td>\n",
       "      <td>-0.218791</td>\n",
       "    </tr>\n",
       "    <tr>\n",
       "      <th>2</th>\n",
       "      <td>7586_7587</td>\n",
       "      <td>122.372920</td>\n",
       "      <td>0.000147</td>\n",
       "      <td>0.237121</td>\n",
       "      <td>0.438237</td>\n",
       "      <td>-4.404150</td>\n",
       "      <td>-16.039802</td>\n",
       "      <td>-18.645662</td>\n",
       "      <td>-1.922852</td>\n",
       "      <td>0.211988</td>\n",
       "    </tr>\n",
       "    <tr>\n",
       "      <th>3</th>\n",
       "      <td>775_776</td>\n",
       "      <td>78.305410</td>\n",
       "      <td>-0.000352</td>\n",
       "      <td>0.489834</td>\n",
       "      <td>0.179928</td>\n",
       "      <td>-4.515035</td>\n",
       "      <td>-3.676717</td>\n",
       "      <td>-7.138404</td>\n",
       "      <td>-3.106753</td>\n",
       "      <td>-1.760917</td>\n",
       "    </tr>\n",
       "    <tr>\n",
       "      <th>4</th>\n",
       "      <td>779_780</td>\n",
       "      <td>45.017656</td>\n",
       "      <td>-0.000158</td>\n",
       "      <td>0.639585</td>\n",
       "      <td>-0.397866</td>\n",
       "      <td>-0.665312</td>\n",
       "      <td>-4.545622</td>\n",
       "      <td>-5.479638</td>\n",
       "      <td>-0.478755</td>\n",
       "      <td>-0.075373</td>\n",
       "    </tr>\n",
       "  </tbody>\n",
       "</table>\n",
       "</div>"
      ],
      "text/plain": [
       "     segment   intercept  arrivaltime      rain  dayofweek_Friday  \\\n",
       "0   328_1443  132.621983     0.000372 -1.012906          1.844373   \n",
       "1    783_784   40.640856     0.000006  0.866560         -0.809178   \n",
       "2  7586_7587  122.372920     0.000147  0.237121          0.438237   \n",
       "3    775_776   78.305410    -0.000352  0.489834          0.179928   \n",
       "4    779_780   45.017656    -0.000158  0.639585         -0.397866   \n",
       "\n",
       "   dayofweek_Monday  dayofweek_Saturday  dayofweek_Sunday  dayofweek_Thursday  \\\n",
       "0         -1.666448           -5.032170         -3.358479           -0.482329   \n",
       "1         -2.476708           -8.547565        -10.007176           -0.638526   \n",
       "2         -4.404150          -16.039802        -18.645662           -1.922852   \n",
       "3         -4.515035           -3.676717         -7.138404           -3.106753   \n",
       "4         -0.665312           -4.545622         -5.479638           -0.478755   \n",
       "\n",
       "   dayofweek_Tuesday  \n",
       "0          -0.020099  \n",
       "1          -0.218791  \n",
       "2           0.211988  \n",
       "3          -1.760917  \n",
       "4          -0.075373  "
      ]
     },
     "execution_count": 173,
     "metadata": {},
     "output_type": "execute_result"
    }
   ],
   "source": [
    "coefficients.head(5)"
   ]
  },
  {
   "cell_type": "code",
   "execution_count": 174,
   "metadata": {},
   "outputs": [
    {
     "data": {
      "text/html": [
       "<div>\n",
       "<style>\n",
       "    .dataframe thead tr:only-child th {\n",
       "        text-align: right;\n",
       "    }\n",
       "\n",
       "    .dataframe thead th {\n",
       "        text-align: left;\n",
       "    }\n",
       "\n",
       "    .dataframe tbody tr th {\n",
       "        vertical-align: top;\n",
       "    }\n",
       "</style>\n",
       "<table border=\"1\" class=\"dataframe\">\n",
       "  <thead>\n",
       "    <tr style=\"text-align: right;\">\n",
       "      <th></th>\n",
       "      <th>segment</th>\n",
       "      <th>intercept</th>\n",
       "      <th>arrivaltime</th>\n",
       "      <th>rain</th>\n",
       "      <th>dayofweek_Friday</th>\n",
       "      <th>dayofweek_Monday</th>\n",
       "      <th>dayofweek_Saturday</th>\n",
       "      <th>dayofweek_Sunday</th>\n",
       "      <th>dayofweek_Thursday</th>\n",
       "      <th>dayofweek_Tuesday</th>\n",
       "    </tr>\n",
       "  </thead>\n",
       "  <tbody>\n",
       "    <tr>\n",
       "      <th>11</th>\n",
       "      <td>767_768</td>\n",
       "      <td>123.285491</td>\n",
       "      <td>-0.000179</td>\n",
       "      <td>1.266745</td>\n",
       "      <td>-2.018558</td>\n",
       "      <td>0.834109</td>\n",
       "      <td>-10.095867</td>\n",
       "      <td>-10.386478</td>\n",
       "      <td>-1.594662</td>\n",
       "      <td>-2.440293</td>\n",
       "    </tr>\n",
       "    <tr>\n",
       "      <th>22</th>\n",
       "      <td>768_769</td>\n",
       "      <td>70.940947</td>\n",
       "      <td>0.000006</td>\n",
       "      <td>0.853329</td>\n",
       "      <td>-0.247459</td>\n",
       "      <td>-4.777141</td>\n",
       "      <td>-12.717419</td>\n",
       "      <td>-19.586873</td>\n",
       "      <td>-3.682586</td>\n",
       "      <td>-2.967836</td>\n",
       "    </tr>\n",
       "    <tr>\n",
       "      <th>16</th>\n",
       "      <td>769_770</td>\n",
       "      <td>70.868285</td>\n",
       "      <td>-0.000202</td>\n",
       "      <td>0.290486</td>\n",
       "      <td>-1.482873</td>\n",
       "      <td>-2.142149</td>\n",
       "      <td>-10.079057</td>\n",
       "      <td>-11.424488</td>\n",
       "      <td>-2.165400</td>\n",
       "      <td>-1.492595</td>\n",
       "    </tr>\n",
       "    <tr>\n",
       "      <th>25</th>\n",
       "      <td>770_771</td>\n",
       "      <td>34.436680</td>\n",
       "      <td>-0.000044</td>\n",
       "      <td>-0.081414</td>\n",
       "      <td>-0.369489</td>\n",
       "      <td>-1.599961</td>\n",
       "      <td>-2.655441</td>\n",
       "      <td>-3.580868</td>\n",
       "      <td>-0.951509</td>\n",
       "      <td>-0.013504</td>\n",
       "    </tr>\n",
       "    <tr>\n",
       "      <th>30</th>\n",
       "      <td>771_772</td>\n",
       "      <td>60.742119</td>\n",
       "      <td>-0.000327</td>\n",
       "      <td>1.154692</td>\n",
       "      <td>0.668076</td>\n",
       "      <td>-0.813195</td>\n",
       "      <td>-7.692121</td>\n",
       "      <td>-6.731297</td>\n",
       "      <td>0.148827</td>\n",
       "      <td>-0.540391</td>\n",
       "    </tr>\n",
       "  </tbody>\n",
       "</table>\n",
       "</div>"
      ],
      "text/plain": [
       "    segment   intercept  arrivaltime      rain  dayofweek_Friday  \\\n",
       "11  767_768  123.285491    -0.000179  1.266745         -2.018558   \n",
       "22  768_769   70.940947     0.000006  0.853329         -0.247459   \n",
       "16  769_770   70.868285    -0.000202  0.290486         -1.482873   \n",
       "25  770_771   34.436680    -0.000044 -0.081414         -0.369489   \n",
       "30  771_772   60.742119    -0.000327  1.154692          0.668076   \n",
       "\n",
       "    dayofweek_Monday  dayofweek_Saturday  dayofweek_Sunday  \\\n",
       "11          0.834109          -10.095867        -10.386478   \n",
       "22         -4.777141          -12.717419        -19.586873   \n",
       "16         -2.142149          -10.079057        -11.424488   \n",
       "25         -1.599961           -2.655441         -3.580868   \n",
       "30         -0.813195           -7.692121         -6.731297   \n",
       "\n",
       "    dayofweek_Thursday  dayofweek_Tuesday  \n",
       "11           -1.594662          -2.440293  \n",
       "22           -3.682586          -2.967836  \n",
       "16           -2.165400          -1.492595  \n",
       "25           -0.951509          -0.013504  \n",
       "30            0.148827          -0.540391  "
      ]
     },
     "execution_count": 174,
     "metadata": {},
     "output_type": "execute_result"
    }
   ],
   "source": [
    "# Sort values by journey_segment segmentid\n",
    "\n",
    "coefficients['segment'] = coefficients['segment'].astype(\"category\")\n",
    "coefficients['segment'].cat.set_categories(journey_segments, inplace=True)\n",
    "coefficients = coefficients.sort_values([\"segment\"])\n",
    "coefficients.head(5)"
   ]
  },
  {
   "cell_type": "code",
   "execution_count": 175,
   "metadata": {},
   "outputs": [
    {
     "data": {
      "text/html": [
       "<div>\n",
       "<style>\n",
       "    .dataframe thead tr:only-child th {\n",
       "        text-align: right;\n",
       "    }\n",
       "\n",
       "    .dataframe thead th {\n",
       "        text-align: left;\n",
       "    }\n",
       "\n",
       "    .dataframe tbody tr th {\n",
       "        vertical-align: top;\n",
       "    }\n",
       "</style>\n",
       "<table border=\"1\" class=\"dataframe\">\n",
       "  <thead>\n",
       "    <tr style=\"text-align: right;\">\n",
       "      <th></th>\n",
       "      <th>intercept</th>\n",
       "      <th>arrivaltime</th>\n",
       "      <th>rain</th>\n",
       "      <th>dayofweek_Monday</th>\n",
       "      <th>dayofweek_Tuesday</th>\n",
       "      <th>dayofweek_Thursday</th>\n",
       "      <th>dayofweek_Friday</th>\n",
       "      <th>dayofweek_Saturday</th>\n",
       "      <th>dayofweek_Sunday</th>\n",
       "    </tr>\n",
       "    <tr>\n",
       "      <th>segment</th>\n",
       "      <th></th>\n",
       "      <th></th>\n",
       "      <th></th>\n",
       "      <th></th>\n",
       "      <th></th>\n",
       "      <th></th>\n",
       "      <th></th>\n",
       "      <th></th>\n",
       "      <th></th>\n",
       "    </tr>\n",
       "  </thead>\n",
       "  <tbody>\n",
       "    <tr>\n",
       "      <th>767_768</th>\n",
       "      <td>123.285491</td>\n",
       "      <td>-0.000179</td>\n",
       "      <td>1.266745</td>\n",
       "      <td>0.834109</td>\n",
       "      <td>-2.440293</td>\n",
       "      <td>-1.594662</td>\n",
       "      <td>-2.018558</td>\n",
       "      <td>-10.095867</td>\n",
       "      <td>-10.386478</td>\n",
       "    </tr>\n",
       "    <tr>\n",
       "      <th>768_769</th>\n",
       "      <td>70.940947</td>\n",
       "      <td>0.000006</td>\n",
       "      <td>0.853329</td>\n",
       "      <td>-4.777141</td>\n",
       "      <td>-2.967836</td>\n",
       "      <td>-3.682586</td>\n",
       "      <td>-0.247459</td>\n",
       "      <td>-12.717419</td>\n",
       "      <td>-19.586873</td>\n",
       "    </tr>\n",
       "    <tr>\n",
       "      <th>769_770</th>\n",
       "      <td>70.868285</td>\n",
       "      <td>-0.000202</td>\n",
       "      <td>0.290486</td>\n",
       "      <td>-2.142149</td>\n",
       "      <td>-1.492595</td>\n",
       "      <td>-2.165400</td>\n",
       "      <td>-1.482873</td>\n",
       "      <td>-10.079057</td>\n",
       "      <td>-11.424488</td>\n",
       "    </tr>\n",
       "    <tr>\n",
       "      <th>770_771</th>\n",
       "      <td>34.436680</td>\n",
       "      <td>-0.000044</td>\n",
       "      <td>-0.081414</td>\n",
       "      <td>-1.599961</td>\n",
       "      <td>-0.013504</td>\n",
       "      <td>-0.951509</td>\n",
       "      <td>-0.369489</td>\n",
       "      <td>-2.655441</td>\n",
       "      <td>-3.580868</td>\n",
       "    </tr>\n",
       "    <tr>\n",
       "      <th>771_772</th>\n",
       "      <td>60.742119</td>\n",
       "      <td>-0.000327</td>\n",
       "      <td>1.154692</td>\n",
       "      <td>-0.813195</td>\n",
       "      <td>-0.540391</td>\n",
       "      <td>0.148827</td>\n",
       "      <td>0.668076</td>\n",
       "      <td>-7.692121</td>\n",
       "      <td>-6.731297</td>\n",
       "    </tr>\n",
       "  </tbody>\n",
       "</table>\n",
       "</div>"
      ],
      "text/plain": [
       "          intercept  arrivaltime      rain  dayofweek_Monday  \\\n",
       "segment                                                        \n",
       "767_768  123.285491    -0.000179  1.266745          0.834109   \n",
       "768_769   70.940947     0.000006  0.853329         -4.777141   \n",
       "769_770   70.868285    -0.000202  0.290486         -2.142149   \n",
       "770_771   34.436680    -0.000044 -0.081414         -1.599961   \n",
       "771_772   60.742119    -0.000327  1.154692         -0.813195   \n",
       "\n",
       "         dayofweek_Tuesday  dayofweek_Thursday  dayofweek_Friday  \\\n",
       "segment                                                            \n",
       "767_768          -2.440293           -1.594662         -2.018558   \n",
       "768_769          -2.967836           -3.682586         -0.247459   \n",
       "769_770          -1.492595           -2.165400         -1.482873   \n",
       "770_771          -0.013504           -0.951509         -0.369489   \n",
       "771_772          -0.540391            0.148827          0.668076   \n",
       "\n",
       "         dayofweek_Saturday  dayofweek_Sunday  \n",
       "segment                                        \n",
       "767_768          -10.095867        -10.386478  \n",
       "768_769          -12.717419        -19.586873  \n",
       "769_770          -10.079057        -11.424488  \n",
       "770_771           -2.655441         -3.580868  \n",
       "771_772           -7.692121         -6.731297  "
      ]
     },
     "execution_count": 175,
     "metadata": {},
     "output_type": "execute_result"
    }
   ],
   "source": [
    "# Rearrange columns and set segment id as index\n",
    "\n",
    "coefficients = coefficients[[\"segment\", \"intercept\", \"arrivaltime\", \"rain\", \"dayofweek_Monday\", \"dayofweek_Tuesday\", \n",
    "                        \"dayofweek_Thursday\", \"dayofweek_Friday\", \"dayofweek_Saturday\", \"dayofweek_Sunday\"]]\n",
    "coefficients = coefficients.set_index('segment')\n",
    "coefficients.head(5)"
   ]
  },
  {
   "cell_type": "code",
   "execution_count": 178,
   "metadata": {},
   "outputs": [
    {
     "name": "stdout",
     "output_type": "stream",
     "text": [
      "Arrival Time: 42907\n",
      "Total Travel Time: 2507\n"
     ]
    },
    {
     "data": {
      "text/plain": [
       "[('767_768', 118.0),\n",
       " ('768_769', 67.0),\n",
       " ('769_770', 61.0),\n",
       " ('770_771', 31.0),\n",
       " ('771_772', 47.0),\n",
       " ('772_773', 56.0),\n",
       " ('773_774', 63.0),\n",
       " ('774_775', 59.0),\n",
       " ('775_776', 60.0),\n",
       " ('776_777', 45.0),\n",
       " ('777_779', 74.0),\n",
       " ('779_780', 38.0),\n",
       " ('780_781', 36.0),\n",
       " ('781_782', 67.0),\n",
       " ('782_783', 81.0),\n",
       " ('783_784', 39.0),\n",
       " ('784_785', 65.0),\n",
       " ('785_786', 102.0),\n",
       " ('786_793', 154.0),\n",
       " ('793_7576', 43.0),\n",
       " ('7576_7586', 98.0),\n",
       " ('7586_7587', 124.0),\n",
       " ('7587_7588', 37.0),\n",
       " ('7588_328', 157.0),\n",
       " ('328_1443', 146.0),\n",
       " ('1443_1444', 66.0),\n",
       " ('1444_1445', 79.0),\n",
       " ('1445_1647', 133.0),\n",
       " ('1647_1648', 96.0),\n",
       " ('1648_1649', 52.0),\n",
       " ('1649_1911', 89.0),\n",
       " ('1911_1913', 96.0),\n",
       " ('1913_1914', 30.0)]"
      ]
     },
     "execution_count": 178,
     "metadata": {},
     "output_type": "execute_result"
    }
   ],
   "source": [
    "arrivaltime = model_inputs[0]\n",
    "totaltraveltime = 0\n",
    "segment_times = []\n",
    "\n",
    "for i, rows in coefficients.iterrows():\n",
    "    traveltime = (rows['intercept']\n",
    "                  +(rows['arrivaltime']*arrivaltime)\n",
    "                  +(rows['rain']*model_inputs[1])\n",
    "                  +(rows['dayofweek_Friday']*model_inputs[2])\n",
    "                  +(rows['dayofweek_Monday']*model_inputs[3])\n",
    "                  +(rows['dayofweek_Saturday']*model_inputs[4])\n",
    "                  +(rows['dayofweek_Sunday']*model_inputs[5])\n",
    "                  +(rows['dayofweek_Thursday']*model_inputs[6])\n",
    "                  +(rows['dayofweek_Tuesday']*model_inputs[7]))\n",
    "    \n",
    "    segment_times.append((i, round(traveltime)))\n",
    "    totaltraveltime += traveltime\n",
    "    arrivaltime = model_inputs[0] + totaltraveltime # initial start time + sum of previous segment times\n",
    "        \n",
    "print('Arrival Time:', int(arrivaltime))\n",
    "print('Total Travel Time:', int(totaltraveltime))\n",
    "#print('Segment Times:', segment_times)\n",
    "segment_times"
   ]
  },
  {
   "cell_type": "code",
   "execution_count": 179,
   "metadata": {},
   "outputs": [
    {
     "name": "stdout",
     "output_type": "stream",
     "text": [
      "2509.0\n"
     ]
    }
   ],
   "source": [
    "total = 0\n",
    "for i in segment_times:\n",
    "    total += i[1]\n",
    "    \n",
    "print(total)"
   ]
  },
  {
   "cell_type": "code",
   "execution_count": 180,
   "metadata": {},
   "outputs": [],
   "source": [
    "# Construct json\n",
    "\n",
    "json_dict = {}\n",
    "json_dict['arrivaltime'] = round(arrivaltime)\n",
    "json_dict['totaltraveltime'] = round(totaltraveltime)\n",
    "json_dict['segment_times'] = {}\n",
    "\n",
    "for i in segment_times:\n",
    "    json_dict['segment_times'][i[0]] = i[1]"
   ]
  },
  {
   "cell_type": "code",
   "execution_count": 181,
   "metadata": {},
   "outputs": [
    {
     "data": {
      "text/plain": [
       "{'arrivaltime': 42907.0,\n",
       " 'segment_times': {'1443_1444': 66.0,\n",
       "  '1444_1445': 79.0,\n",
       "  '1445_1647': 133.0,\n",
       "  '1647_1648': 96.0,\n",
       "  '1648_1649': 52.0,\n",
       "  '1649_1911': 89.0,\n",
       "  '1911_1913': 96.0,\n",
       "  '1913_1914': 30.0,\n",
       "  '328_1443': 146.0,\n",
       "  '7576_7586': 98.0,\n",
       "  '7586_7587': 124.0,\n",
       "  '7587_7588': 37.0,\n",
       "  '7588_328': 157.0,\n",
       "  '767_768': 118.0,\n",
       "  '768_769': 67.0,\n",
       "  '769_770': 61.0,\n",
       "  '770_771': 31.0,\n",
       "  '771_772': 47.0,\n",
       "  '772_773': 56.0,\n",
       "  '773_774': 63.0,\n",
       "  '774_775': 59.0,\n",
       "  '775_776': 60.0,\n",
       "  '776_777': 45.0,\n",
       "  '777_779': 74.0,\n",
       "  '779_780': 38.0,\n",
       "  '780_781': 36.0,\n",
       "  '781_782': 67.0,\n",
       "  '782_783': 81.0,\n",
       "  '783_784': 39.0,\n",
       "  '784_785': 65.0,\n",
       "  '785_786': 102.0,\n",
       "  '786_793': 154.0,\n",
       "  '793_7576': 43.0},\n",
       " 'totaltraveltime': 2507.0}"
      ]
     },
     "execution_count": 181,
     "metadata": {},
     "output_type": "execute_result"
    }
   ],
   "source": [
    "json_dict "
   ]
  },
  {
   "cell_type": "code",
   "execution_count": null,
   "metadata": {},
   "outputs": [],
   "source": []
  }
 ],
 "metadata": {
  "kernelspec": {
   "display_name": "Python 3",
   "language": "python",
   "name": "python3"
  },
  "language_info": {
   "codemirror_mode": {
    "name": "ipython",
    "version": 3
   },
   "file_extension": ".py",
   "mimetype": "text/x-python",
   "name": "python",
   "nbconvert_exporter": "python",
   "pygments_lexer": "ipython3",
   "version": "3.6.3"
  }
 },
 "nbformat": 4,
 "nbformat_minor": 2
}
