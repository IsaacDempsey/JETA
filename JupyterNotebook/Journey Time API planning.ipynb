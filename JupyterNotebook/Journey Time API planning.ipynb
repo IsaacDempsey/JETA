{
 "cells": [
  {
   "cell_type": "code",
   "execution_count": 1,
   "metadata": {},
   "outputs": [],
   "source": [
    "import pandas as pd\n",
    "import json"
   ]
  },
  {
   "cell_type": "code",
   "execution_count": 2,
   "metadata": {},
   "outputs": [
    {
     "name": "stderr",
     "output_type": "stream",
     "text": [
      "/home/isaac/anaconda3/lib/python3.6/site-packages/psycopg2/__init__.py:144: UserWarning: The psycopg2 wheel package will be renamed from release 2.8; in order to keep installing from binary please use \"pip install psycopg2-binary\" instead. For details see: <http://initd.org/psycopg/docs/install.html#binary-install-from-pypi>.\n",
      "  \"\"\")\n"
     ]
    }
   ],
   "source": [
    "# Connect to database\n",
    "\n",
    "from sqlalchemy import create_engine\n",
    "\n",
    "URI=\"localhost\"\n",
    "PORT=\"5433\"\n",
    "DB = \"jetaDb\"\n",
    "USER = \"postgres\"\n",
    "PASSWORD = \"00001234\"\n",
    "  \n",
    "engine = create_engine(\"postgresql://{}:{}@{}:{}/{}\".format(USER, PASSWORD, URI, PORT, DB), echo=True)"
   ]
  },
  {
   "cell_type": "code",
   "execution_count": 3,
   "metadata": {},
   "outputs": [],
   "source": [
    "# Variables from query\n",
    "\n",
    "start = \"767\"\n",
    "destination = \"770\"\n",
    "lineid = \"39A\"\n",
    "start_time = \"1532018880\"\n",
    "\n",
    "# http://localhost:8000/main/journeytime?source=767&destination=1914&lineid=39A&time=1530008000\n",
    "# http://localhost:8000/main/journeytime?source=719&destination=603&lineid=31B&time=1532018880\n",
    "# Rain should be gotten from api or else table\n",
    "\n",
    "rain = 0.5"
   ]
  },
  {
   "cell_type": "code",
   "execution_count": 4,
   "metadata": {},
   "outputs": [
    {
     "name": "stdout",
     "output_type": "stream",
     "text": [
      "Irish Standard Time:  Europe/Dublin\n",
      "Datetime:  2018-07-19 17:48:00+01:00\n",
      "Weekday:  3\n",
      "Week dummies:  [0, 0, 1, 0, 0, 0]\n",
      "Seconds since midnight (arrival time):  64080\n"
     ]
    }
   ],
   "source": [
    "# Transform time into variables required from model\n",
    "\n",
    "import time\n",
    "from datetime import datetime, timedelta\n",
    "from pytz import timezone\n",
    "\n",
    "# Get Irish timezone (utc + daylight saving time (DST))\n",
    "irish_time = timezone('Europe/Dublin')\n",
    "print(\"Irish Standard Time: \", irish_time)\n",
    "\n",
    "# Get unixtime as datetime object\n",
    "dt_time = datetime.fromtimestamp(int(start_time), irish_time)\n",
    "print(\"Datetime: \", dt_time)\n",
    "\n",
    "# Get day of week -> Mon: 0, Sun: 6\n",
    "weekday = dt_time.weekday()\n",
    "print(\"Weekday: \", weekday)\n",
    "\n",
    "# Create list with desired weekday filled.\n",
    "week_dummies = [0] * 7\n",
    "week_dummies[weekday] = 1\n",
    "del week_dummies[2] # Delete wednesday - not included in model due to dummy var trap\n",
    "print(\"Week dummies: \", week_dummies)\n",
    "\n",
    "# Get arrivaltime in seconds\n",
    "date = dt_time.date()\n",
    "date_unixtime = time.mktime(date.timetuple())\n",
    "seconds_since_midnight = int(time.mktime((dt_time - timedelta(seconds = date_unixtime)).timetuple()))\n",
    "print(\"Seconds since midnight (arrival time): \", seconds_since_midnight)\n"
   ]
  },
  {
   "cell_type": "code",
   "execution_count": 5,
   "metadata": {},
   "outputs": [
    {
     "data": {
      "text/plain": [
       "[64080, 0.5, 0, 0, 1, 0, 0, 0]"
      ]
     },
     "execution_count": 5,
     "metadata": {},
     "output_type": "execute_result"
    }
   ],
   "source": [
    "# Model inputs\n",
    "\n",
    "model_inputs = [seconds_since_midnight, rain] + week_dummies\n",
    "model_inputs"
   ]
  },
  {
   "cell_type": "code",
   "execution_count": 6,
   "metadata": {},
   "outputs": [
    {
     "name": "stdout",
     "output_type": "stream",
     "text": [
      "2018-07-22 15:07:32,095 INFO sqlalchemy.engine.base.Engine select version()\n",
      "2018-07-22 15:07:32,098 INFO sqlalchemy.engine.base.Engine {}\n",
      "2018-07-22 15:07:32,195 INFO sqlalchemy.engine.base.Engine select current_schema()\n",
      "2018-07-22 15:07:32,197 INFO sqlalchemy.engine.base.Engine {}\n",
      "2018-07-22 15:07:32,292 INFO sqlalchemy.engine.base.Engine SELECT CAST('test plain returns' AS VARCHAR(60)) AS anon_1\n",
      "2018-07-22 15:07:32,294 INFO sqlalchemy.engine.base.Engine {}\n",
      "2018-07-22 15:07:32,352 INFO sqlalchemy.engine.base.Engine SELECT CAST('test unicode returns' AS VARCHAR(60)) AS anon_1\n",
      "2018-07-22 15:07:32,354 INFO sqlalchemy.engine.base.Engine {}\n",
      "2018-07-22 15:07:32,455 INFO sqlalchemy.engine.base.Engine show standard_conforming_strings\n",
      "2018-07-22 15:07:32,457 INFO sqlalchemy.engine.base.Engine {}\n",
      "2018-07-22 15:07:32,602 INFO sqlalchemy.engine.base.Engine select relname from pg_class c join pg_namespace n on n.oid=c.relnamespace where pg_catalog.pg_table_is_visible(c.oid) and relname=%(name)s\n",
      "2018-07-22 15:07:32,605 INFO sqlalchemy.engine.base.Engine {'name': \"\\n\\nSELECT * \\nFROM main_routes \\nWHERE routeid IN (\\n    SELECT UNNEST(routes) \\n    FROM main_lines \\n    WHERE main_lines.lineid = '39A'\\n) \\nAND '767' = ANY(main_routes.stopids) \\nAND '770' = ANY(main_routes.stopids) \\n;\\n\\n\"}\n",
      "2018-07-22 15:07:32,696 INFO sqlalchemy.engine.base.Engine \n",
      "\n",
      "SELECT * \n",
      "FROM main_routes \n",
      "WHERE routeid IN (\n",
      "    SELECT UNNEST(routes) \n",
      "    FROM main_lines \n",
      "    WHERE main_lines.lineid = '39A'\n",
      ") \n",
      "AND '767' = ANY(main_routes.stopids) \n",
      "AND '770' = ANY(main_routes.stopids) \n",
      ";\n",
      "\n",
      "\n",
      "2018-07-22 15:07:32,699 INFO sqlalchemy.engine.base.Engine {}\n"
     ]
    }
   ],
   "source": [
    "# Get stop lists associated with this lineid, start stop and end stop\n",
    "\n",
    "sql = \"\"\"\n",
    "\n",
    "SELECT * \n",
    "FROM main_routes \n",
    "WHERE routeid IN (\n",
    "    SELECT UNNEST(routes) \n",
    "    FROM main_lines \n",
    "    WHERE main_lines.lineid = '{0}'\n",
    ") \n",
    "AND '{1}' = ANY(main_routes.stopids) \n",
    "AND '{2}' = ANY(main_routes.stopids) \n",
    ";\n",
    "\n",
    "\"\"\".format(lineid, start, destination)\n",
    "\n",
    "routes = pd.read_sql(sql, engine)\n",
    "\n",
    "# Lines.objects.all\n",
    "# Routes.objects.all(routeid )"
   ]
  },
  {
   "cell_type": "code",
   "execution_count": 7,
   "metadata": {},
   "outputs": [
    {
     "data": {
      "text/html": [
       "<div>\n",
       "<style>\n",
       "    .dataframe thead tr:only-child th {\n",
       "        text-align: right;\n",
       "    }\n",
       "\n",
       "    .dataframe thead th {\n",
       "        text-align: left;\n",
       "    }\n",
       "\n",
       "    .dataframe tbody tr th {\n",
       "        vertical-align: top;\n",
       "    }\n",
       "</style>\n",
       "<table border=\"1\" class=\"dataframe\">\n",
       "  <thead>\n",
       "    <tr style=\"text-align: right;\">\n",
       "      <th></th>\n",
       "      <th>routeid</th>\n",
       "      <th>direction</th>\n",
       "      <th>stopids</th>\n",
       "      <th>lineid</th>\n",
       "    </tr>\n",
       "  </thead>\n",
       "  <tbody>\n",
       "    <tr>\n",
       "      <th>0</th>\n",
       "      <td>39A_40</td>\n",
       "      <td>1</td>\n",
       "      <td>[767, 768, 769, 770, 771, 772, 773, 774, 775, ...</td>\n",
       "      <td>39A</td>\n",
       "    </tr>\n",
       "    <tr>\n",
       "      <th>1</th>\n",
       "      <td>39A_41</td>\n",
       "      <td>1</td>\n",
       "      <td>[767, 768, 769, 770, 771, 772, 773, 774, 775, ...</td>\n",
       "      <td>39A</td>\n",
       "    </tr>\n",
       "  </tbody>\n",
       "</table>\n",
       "</div>"
      ],
      "text/plain": [
       "  routeid  direction                                            stopids lineid\n",
       "0  39A_40          1  [767, 768, 769, 770, 771, 772, 773, 774, 775, ...    39A\n",
       "1  39A_41          1  [767, 768, 769, 770, 771, 772, 773, 774, 775, ...    39A"
      ]
     },
     "execution_count": 7,
     "metadata": {},
     "output_type": "execute_result"
    }
   ],
   "source": [
    "routes"
   ]
  },
  {
   "cell_type": "code",
   "execution_count": 8,
   "metadata": {},
   "outputs": [
    {
     "name": "stdout",
     "output_type": "stream",
     "text": [
      "Error: multiple possible routes.\n",
      "  routeid  direction                                            stopids lineid\n",
      "0  39A_40          1  [767, 768, 769, 770, 771, 772, 773, 774, 775, ...    39A\n",
      "1  39A_41          1  [767, 768, 769, 770, 771, 772, 773, 774, 775, ...    39A\n"
     ]
    }
   ],
   "source": [
    "if routes.shape[0] > 1:\n",
    "    print(\"Error: multiple possible routes.\")\n",
    "    print(routes)"
   ]
  },
  {
   "cell_type": "code",
   "execution_count": 9,
   "metadata": {},
   "outputs": [
    {
     "name": "stdout",
     "output_type": "stream",
     "text": [
      "[767, 768, 769, 770, 771, 772, 773, 774, 775, 776, 777, 779, 780, 781, 782, 783, 784, 785, 786, 793, 7576, 7586, 7587, 7588, 328, 1443, 1444, 1445, 1647, 1648, 1649, 1911, 1913, 1914, 1805, 1806, 1660, 1661, 1662, 1664, 1665, 1666, 1807, 7167, 1808, 7389, 7025, 4464, 1869, 1870, 1871, 1872, 1873, 1874, 1875, 1876, 1877, 1878, 1879, 1899, 6107, 6108, 6109, 6110, 7020, 7029, 7038, 7011, 2171, 7160, 7047, 7161, 7162]\n"
     ]
    }
   ],
   "source": [
    "# Convert list of stopids to list\n",
    "\n",
    "stop_list = routes['stopids'].tolist()[0]\n",
    "print(stop_list)"
   ]
  },
  {
   "cell_type": "code",
   "execution_count": 10,
   "metadata": {},
   "outputs": [
    {
     "name": "stdout",
     "output_type": "stream",
     "text": [
      "[767, 768, 769, 770]\n"
     ]
    }
   ],
   "source": [
    "# Slice list by start and destination stop\n",
    "\n",
    "journey_stops = stop_list[stop_list.index(int(start)):(stop_list.index(int(destination))+1)]\n",
    "print(journey_stops)"
   ]
  },
  {
   "cell_type": "code",
   "execution_count": 11,
   "metadata": {},
   "outputs": [
    {
     "name": "stdout",
     "output_type": "stream",
     "text": [
      "[767, 768, 769, 770]\n"
     ]
    }
   ],
   "source": [
    "# Remove duplicate values from list, while maintaining stop order.\n",
    "\n",
    "from more_itertools import unique_everseen\n",
    "\n",
    "journey_stops = list(unique_everseen(journey_stops))\n",
    "print(journey_stops)"
   ]
  },
  {
   "cell_type": "code",
   "execution_count": 12,
   "metadata": {},
   "outputs": [
    {
     "name": "stdout",
     "output_type": "stream",
     "text": [
      "['767_768', '768_769', '769_770']\n"
     ]
    }
   ],
   "source": [
    "# Change each stopid into string\n",
    "stringified = list(map(str, journey_stops))\n",
    "\n",
    "# Zip ['0', .. 'n'] and ['1', .., 'n'] into list [('0', '1'), .., ('n - 1', 'n')]\n",
    "# Join tuples to make ['1_2', .., 'n-1_n']\n",
    "journey_segments = [ '_'.join(x) for x in zip(stringified[0:], stringified[1:])]\n",
    "print(journey_segments)"
   ]
  },
  {
   "cell_type": "code",
   "execution_count": 13,
   "metadata": {},
   "outputs": [
    {
     "data": {
      "text/plain": [
       "['767_768', '768_769', '769_770']"
      ]
     },
     "execution_count": 13,
     "metadata": {},
     "output_type": "execute_result"
    }
   ],
   "source": [
    "journey_segments"
   ]
  },
  {
   "cell_type": "code",
   "execution_count": 14,
   "metadata": {},
   "outputs": [
    {
     "name": "stdout",
     "output_type": "stream",
     "text": [
      "2018-07-22 15:07:56,800 INFO sqlalchemy.engine.base.Engine select relname from pg_class c join pg_namespace n on n.oid=c.relnamespace where pg_catalog.pg_table_is_visible(c.oid) and relname=%(name)s\n",
      "2018-07-22 15:07:56,802 INFO sqlalchemy.engine.base.Engine {'name': \"\\n\\nSELECT *\\nFROM main_coefficients\\nWHERE segment = ANY(ARRAY['767_768', '768_769', '769_770'])\\n\\n\"}\n",
      "2018-07-22 15:07:57,542 INFO sqlalchemy.engine.base.Engine \n",
      "\n",
      "SELECT *\n",
      "FROM main_coefficients\n",
      "WHERE segment = ANY(ARRAY['767_768', '768_769', '769_770'])\n",
      "\n",
      "\n",
      "2018-07-22 15:07:57,546 INFO sqlalchemy.engine.base.Engine {}\n"
     ]
    }
   ],
   "source": [
    "# Select coefficient rows with these segment ids\n",
    "\n",
    "sql2 = \"\"\"\n",
    "\n",
    "SELECT *\n",
    "FROM main_coefficients\n",
    "WHERE segment = ANY(ARRAY{0})\n",
    "\n",
    "\"\"\".format(journey_segments)\n",
    "\n",
    "coefficients = pd.read_sql(sql2, engine)"
   ]
  },
  {
   "cell_type": "code",
   "execution_count": 15,
   "metadata": {},
   "outputs": [
    {
     "data": {
      "text/html": [
       "<div>\n",
       "<style>\n",
       "    .dataframe thead tr:only-child th {\n",
       "        text-align: right;\n",
       "    }\n",
       "\n",
       "    .dataframe thead th {\n",
       "        text-align: left;\n",
       "    }\n",
       "\n",
       "    .dataframe tbody tr th {\n",
       "        vertical-align: top;\n",
       "    }\n",
       "</style>\n",
       "<table border=\"1\" class=\"dataframe\">\n",
       "  <thead>\n",
       "    <tr style=\"text-align: right;\">\n",
       "      <th></th>\n",
       "      <th>segment</th>\n",
       "      <th>intercept</th>\n",
       "      <th>arrivaltime</th>\n",
       "      <th>rain</th>\n",
       "      <th>fri</th>\n",
       "      <th>mon</th>\n",
       "      <th>sat</th>\n",
       "      <th>sun</th>\n",
       "      <th>thu</th>\n",
       "      <th>tue</th>\n",
       "    </tr>\n",
       "  </thead>\n",
       "  <tbody>\n",
       "    <tr>\n",
       "      <th>0</th>\n",
       "      <td>767_768</td>\n",
       "      <td>123.285491</td>\n",
       "      <td>-0.000179</td>\n",
       "      <td>1.266745</td>\n",
       "      <td>-2.018558</td>\n",
       "      <td>0.834109</td>\n",
       "      <td>-10.095867</td>\n",
       "      <td>-10.386478</td>\n",
       "      <td>-1.594662</td>\n",
       "      <td>-2.440293</td>\n",
       "    </tr>\n",
       "    <tr>\n",
       "      <th>1</th>\n",
       "      <td>769_770</td>\n",
       "      <td>70.868285</td>\n",
       "      <td>-0.000202</td>\n",
       "      <td>0.290486</td>\n",
       "      <td>-1.482873</td>\n",
       "      <td>-2.142149</td>\n",
       "      <td>-10.079057</td>\n",
       "      <td>-11.424488</td>\n",
       "      <td>-2.165400</td>\n",
       "      <td>-1.492595</td>\n",
       "    </tr>\n",
       "    <tr>\n",
       "      <th>2</th>\n",
       "      <td>768_769</td>\n",
       "      <td>70.940947</td>\n",
       "      <td>0.000006</td>\n",
       "      <td>0.853329</td>\n",
       "      <td>-0.247459</td>\n",
       "      <td>-4.777141</td>\n",
       "      <td>-12.717419</td>\n",
       "      <td>-19.586873</td>\n",
       "      <td>-3.682586</td>\n",
       "      <td>-2.967836</td>\n",
       "    </tr>\n",
       "  </tbody>\n",
       "</table>\n",
       "</div>"
      ],
      "text/plain": [
       "   segment   intercept  arrivaltime      rain       fri       mon        sat  \\\n",
       "0  767_768  123.285491    -0.000179  1.266745 -2.018558  0.834109 -10.095867   \n",
       "1  769_770   70.868285    -0.000202  0.290486 -1.482873 -2.142149 -10.079057   \n",
       "2  768_769   70.940947     0.000006  0.853329 -0.247459 -4.777141 -12.717419   \n",
       "\n",
       "         sun       thu       tue  \n",
       "0 -10.386478 -1.594662 -2.440293  \n",
       "1 -11.424488 -2.165400 -1.492595  \n",
       "2 -19.586873 -3.682586 -2.967836  "
      ]
     },
     "execution_count": 15,
     "metadata": {},
     "output_type": "execute_result"
    }
   ],
   "source": [
    "coefficients"
   ]
  },
  {
   "cell_type": "code",
   "execution_count": 16,
   "metadata": {},
   "outputs": [
    {
     "data": {
      "text/html": [
       "<div>\n",
       "<style>\n",
       "    .dataframe thead tr:only-child th {\n",
       "        text-align: right;\n",
       "    }\n",
       "\n",
       "    .dataframe thead th {\n",
       "        text-align: left;\n",
       "    }\n",
       "\n",
       "    .dataframe tbody tr th {\n",
       "        vertical-align: top;\n",
       "    }\n",
       "</style>\n",
       "<table border=\"1\" class=\"dataframe\">\n",
       "  <thead>\n",
       "    <tr style=\"text-align: right;\">\n",
       "      <th></th>\n",
       "      <th>segment</th>\n",
       "      <th>intercept</th>\n",
       "      <th>arrivaltime</th>\n",
       "      <th>rain</th>\n",
       "      <th>fri</th>\n",
       "      <th>mon</th>\n",
       "      <th>sat</th>\n",
       "      <th>sun</th>\n",
       "      <th>thu</th>\n",
       "      <th>tue</th>\n",
       "    </tr>\n",
       "  </thead>\n",
       "  <tbody>\n",
       "    <tr>\n",
       "      <th>0</th>\n",
       "      <td>767_768</td>\n",
       "      <td>123.285491</td>\n",
       "      <td>-0.000179</td>\n",
       "      <td>1.266745</td>\n",
       "      <td>-2.018558</td>\n",
       "      <td>0.834109</td>\n",
       "      <td>-10.095867</td>\n",
       "      <td>-10.386478</td>\n",
       "      <td>-1.594662</td>\n",
       "      <td>-2.440293</td>\n",
       "    </tr>\n",
       "    <tr>\n",
       "      <th>2</th>\n",
       "      <td>768_769</td>\n",
       "      <td>70.940947</td>\n",
       "      <td>0.000006</td>\n",
       "      <td>0.853329</td>\n",
       "      <td>-0.247459</td>\n",
       "      <td>-4.777141</td>\n",
       "      <td>-12.717419</td>\n",
       "      <td>-19.586873</td>\n",
       "      <td>-3.682586</td>\n",
       "      <td>-2.967836</td>\n",
       "    </tr>\n",
       "    <tr>\n",
       "      <th>1</th>\n",
       "      <td>769_770</td>\n",
       "      <td>70.868285</td>\n",
       "      <td>-0.000202</td>\n",
       "      <td>0.290486</td>\n",
       "      <td>-1.482873</td>\n",
       "      <td>-2.142149</td>\n",
       "      <td>-10.079057</td>\n",
       "      <td>-11.424488</td>\n",
       "      <td>-2.165400</td>\n",
       "      <td>-1.492595</td>\n",
       "    </tr>\n",
       "  </tbody>\n",
       "</table>\n",
       "</div>"
      ],
      "text/plain": [
       "   segment   intercept  arrivaltime      rain       fri       mon        sat  \\\n",
       "0  767_768  123.285491    -0.000179  1.266745 -2.018558  0.834109 -10.095867   \n",
       "2  768_769   70.940947     0.000006  0.853329 -0.247459 -4.777141 -12.717419   \n",
       "1  769_770   70.868285    -0.000202  0.290486 -1.482873 -2.142149 -10.079057   \n",
       "\n",
       "         sun       thu       tue  \n",
       "0 -10.386478 -1.594662 -2.440293  \n",
       "2 -19.586873 -3.682586 -2.967836  \n",
       "1 -11.424488 -2.165400 -1.492595  "
      ]
     },
     "execution_count": 16,
     "metadata": {},
     "output_type": "execute_result"
    }
   ],
   "source": [
    "# Sort values by journey_segment segmentid\n",
    "\n",
    "coefficients['segment'] = coefficients['segment'].astype(\"category\")\n",
    "coefficients['segment'].cat.set_categories(journey_segments, inplace=True)\n",
    "coefficients = coefficients.sort_values([\"segment\"])\n",
    "coefficients"
   ]
  },
  {
   "cell_type": "code",
   "execution_count": 17,
   "metadata": {},
   "outputs": [
    {
     "data": {
      "text/html": [
       "<div>\n",
       "<style>\n",
       "    .dataframe thead tr:only-child th {\n",
       "        text-align: right;\n",
       "    }\n",
       "\n",
       "    .dataframe thead th {\n",
       "        text-align: left;\n",
       "    }\n",
       "\n",
       "    .dataframe tbody tr th {\n",
       "        vertical-align: top;\n",
       "    }\n",
       "</style>\n",
       "<table border=\"1\" class=\"dataframe\">\n",
       "  <thead>\n",
       "    <tr style=\"text-align: right;\">\n",
       "      <th></th>\n",
       "      <th>intercept</th>\n",
       "      <th>arrivaltime</th>\n",
       "      <th>rain</th>\n",
       "      <th>mon</th>\n",
       "      <th>tue</th>\n",
       "      <th>thu</th>\n",
       "      <th>fri</th>\n",
       "      <th>sat</th>\n",
       "      <th>sun</th>\n",
       "    </tr>\n",
       "    <tr>\n",
       "      <th>segment</th>\n",
       "      <th></th>\n",
       "      <th></th>\n",
       "      <th></th>\n",
       "      <th></th>\n",
       "      <th></th>\n",
       "      <th></th>\n",
       "      <th></th>\n",
       "      <th></th>\n",
       "      <th></th>\n",
       "    </tr>\n",
       "  </thead>\n",
       "  <tbody>\n",
       "    <tr>\n",
       "      <th>767_768</th>\n",
       "      <td>123.285491</td>\n",
       "      <td>-0.000179</td>\n",
       "      <td>1.266745</td>\n",
       "      <td>0.834109</td>\n",
       "      <td>-2.440293</td>\n",
       "      <td>-1.594662</td>\n",
       "      <td>-2.018558</td>\n",
       "      <td>-10.095867</td>\n",
       "      <td>-10.386478</td>\n",
       "    </tr>\n",
       "    <tr>\n",
       "      <th>768_769</th>\n",
       "      <td>70.940947</td>\n",
       "      <td>0.000006</td>\n",
       "      <td>0.853329</td>\n",
       "      <td>-4.777141</td>\n",
       "      <td>-2.967836</td>\n",
       "      <td>-3.682586</td>\n",
       "      <td>-0.247459</td>\n",
       "      <td>-12.717419</td>\n",
       "      <td>-19.586873</td>\n",
       "    </tr>\n",
       "    <tr>\n",
       "      <th>769_770</th>\n",
       "      <td>70.868285</td>\n",
       "      <td>-0.000202</td>\n",
       "      <td>0.290486</td>\n",
       "      <td>-2.142149</td>\n",
       "      <td>-1.492595</td>\n",
       "      <td>-2.165400</td>\n",
       "      <td>-1.482873</td>\n",
       "      <td>-10.079057</td>\n",
       "      <td>-11.424488</td>\n",
       "    </tr>\n",
       "  </tbody>\n",
       "</table>\n",
       "</div>"
      ],
      "text/plain": [
       "          intercept  arrivaltime      rain       mon       tue       thu  \\\n",
       "segment                                                                    \n",
       "767_768  123.285491    -0.000179  1.266745  0.834109 -2.440293 -1.594662   \n",
       "768_769   70.940947     0.000006  0.853329 -4.777141 -2.967836 -3.682586   \n",
       "769_770   70.868285    -0.000202  0.290486 -2.142149 -1.492595 -2.165400   \n",
       "\n",
       "              fri        sat        sun  \n",
       "segment                                  \n",
       "767_768 -2.018558 -10.095867 -10.386478  \n",
       "768_769 -0.247459 -12.717419 -19.586873  \n",
       "769_770 -1.482873 -10.079057 -11.424488  "
      ]
     },
     "execution_count": 17,
     "metadata": {},
     "output_type": "execute_result"
    }
   ],
   "source": [
    "# Rearrange columns and set segment id as index\n",
    "\n",
    "coefficients = coefficients[[\"segment\", \"intercept\", \"arrivaltime\", \"rain\", \"mon\", \"tue\", \"thu\", \"fri\", \"sat\", \"sun\"]]\n",
    "coefficients = coefficients.set_index('segment')\n",
    "coefficients.head(5)"
   ]
  },
  {
   "cell_type": "code",
   "execution_count": 18,
   "metadata": {},
   "outputs": [
    {
     "name": "stdout",
     "output_type": "stream",
     "text": [
      "Arrival Time: 64289\n",
      "Total Travel Time: 209\n"
     ]
    },
    {
     "data": {
      "text/plain": [
       "[('767_768', 102.0), ('768_769', 59.0), ('769_770', 48.0)]"
      ]
     },
     "execution_count": 18,
     "metadata": {},
     "output_type": "execute_result"
    }
   ],
   "source": [
    "arrivaltime = model_inputs[0]\n",
    "totaltraveltime = 0\n",
    "segment_times = []\n",
    "\n",
    "for i, rows in coefficients.iterrows():\n",
    "    traveltime = (rows['intercept']\n",
    "                  +(rows['arrivaltime']*arrivaltime)\n",
    "                  +(rows['rain']*model_inputs[1])\n",
    "                  +(rows['fri']*model_inputs[2])\n",
    "                  +(rows['mon']*model_inputs[3])\n",
    "                  +(rows['sat']*model_inputs[4])\n",
    "                  +(rows['sun']*model_inputs[5])\n",
    "                  +(rows['thu']*model_inputs[6])\n",
    "                  +(rows['fri']*model_inputs[7]))\n",
    "    \n",
    "    segment_times.append((i, round(traveltime)))\n",
    "    totaltraveltime += traveltime\n",
    "    arrivaltime = model_inputs[0] + totaltraveltime # initial start time + sum of previous segment times\n",
    "        \n",
    "print('Arrival Time:', int(arrivaltime))\n",
    "print('Total Travel Time:', int(totaltraveltime))\n",
    "#print('Segment Times:', segment_times)\n",
    "segment_times"
   ]
  },
  {
   "cell_type": "code",
   "execution_count": 19,
   "metadata": {},
   "outputs": [
    {
     "name": "stdout",
     "output_type": "stream",
     "text": [
      "209.0\n"
     ]
    }
   ],
   "source": [
    "total = 0\n",
    "for i in segment_times:\n",
    "    total += i[1]\n",
    "    \n",
    "print(total)"
   ]
  },
  {
   "cell_type": "code",
   "execution_count": 20,
   "metadata": {},
   "outputs": [],
   "source": [
    "# Construct json\n",
    "\n",
    "json_dict = {}\n",
    "json_dict['arrivaltime'] = round(arrivaltime)\n",
    "json_dict['totaltraveltime'] = round(totaltraveltime)\n",
    "json_dict['segment_times'] = {i[0]:i[1] for i in segment_times}\n",
    "\n",
    "# for i in segment_times:\n",
    "#     json_dict['segment_times'][i[0]] = i[1]"
   ]
  },
  {
   "cell_type": "code",
   "execution_count": 26,
   "metadata": {},
   "outputs": [
    {
     "data": {
      "text/plain": [
       "'{\"arrivaltime\": 64939.0, \"totaltraveltime\": 859.0, \"segment_times\": {\"719_720\": 35.0, \"720_721\": 32.0, \"721_693\": 40.0, \"693_585\": 82.0, \"585_586\": 52.0, \"586_587\": 60.0, \"587_588\": 32.0, \"588_589\": 41.0, \"589_590\": 24.0, \"590_591\": 62.0, \"591_592\": 35.0, \"592_593\": 38.0, \"593_594\": 33.0, \"594_595\": 25.0, \"595_596\": 24.0, \"596_597\": 32.0, \"597_598\": 31.0, \"598_599\": 29.0, \"599_600\": 52.0, \"600_601\": 47.0, \"601_602\": 25.0, \"602_603\": 29.0}}'"
      ]
     },
     "execution_count": 26,
     "metadata": {},
     "output_type": "execute_result"
    }
   ],
   "source": [
    "json.dumps(json_dict)"
   ]
  },
  {
   "cell_type": "code",
   "execution_count": null,
   "metadata": {},
   "outputs": [],
   "source": []
  }
 ],
 "metadata": {
  "kernelspec": {
   "display_name": "Python 3",
   "language": "python",
   "name": "python3"
  },
  "language_info": {
   "codemirror_mode": {
    "name": "ipython",
    "version": 3
   },
   "file_extension": ".py",
   "mimetype": "text/x-python",
   "name": "python",
   "nbconvert_exporter": "python",
   "pygments_lexer": "ipython3",
   "version": "3.6.3"
  }
 },
 "nbformat": 4,
 "nbformat_minor": 2
}
