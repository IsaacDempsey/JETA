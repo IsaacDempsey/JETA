{
 "cells": [
  {
   "cell_type": "code",
   "execution_count": 200,
   "metadata": {},
   "outputs": [],
   "source": [
    "import pandas as pd"
   ]
  },
  {
   "cell_type": "code",
   "execution_count": 201,
   "metadata": {},
   "outputs": [],
   "source": [
    "# Connect to database\n",
    "\n",
    "from sqlalchemy import create_engine\n",
    "\n",
    "URI=\"localhost\"\n",
    "PORT=\"5433\"\n",
    "DB = \"jetaDb\"\n",
    "USER = \"postgres\"\n",
    "PASSWORD = \"00001234\"\n",
    "  \n",
    "engine = create_engine(\"postgresql://{}:{}@{}:{}/{}\".format(USER, PASSWORD, URI, PORT, DB), echo=True)"
   ]
  },
  {
   "cell_type": "code",
   "execution_count": 203,
   "metadata": {},
   "outputs": [],
   "source": [
    "# Variables from query\n",
    "\n",
    "start = \"765\"\n",
    "destination = \"1035\"\n",
    "lineid = \"17\"\n",
    "start_time = \"1530008000\"\n",
    "\n",
    "# http://localhost:8000/main/journeytime?source=767&destination=1914&lineid=39A&time=1530008000\n",
    "\n",
    "# Rain should be gotten from api or else table\n",
    "\n",
    "rain = 0.5"
   ]
  },
  {
   "cell_type": "code",
   "execution_count": 204,
   "metadata": {},
   "outputs": [
    {
     "name": "stdout",
     "output_type": "stream",
     "text": [
      "Irish Standard Time:  Europe/Dublin\n",
      "Datetime:  2018-06-26 11:13:20+01:00\n",
      "Weekday:  1\n",
      "Week dummies:  [0, 1, 0, 0, 0, 0]\n",
      "Seconds since midnight (arrival time):  40400\n"
     ]
    }
   ],
   "source": [
    "# Transform time into variables required from model\n",
    "\n",
    "import time\n",
    "from datetime import datetime, timedelta\n",
    "from pytz import timezone\n",
    "\n",
    "# Get Irish timezone (utc + daylight saving time (DST))\n",
    "irish_time = timezone('Europe/Dublin')\n",
    "print(\"Irish Standard Time: \", irish_time)\n",
    "\n",
    "# Get unixtime as datetime object\n",
    "dt_time = datetime.fromtimestamp(int(start_time), irish_time)\n",
    "print(\"Datetime: \", dt_time)\n",
    "\n",
    "# Get day of week -> Mon: 0, Sun: 6\n",
    "weekday = dt_time.weekday()\n",
    "print(\"Weekday: \", weekday)\n",
    "\n",
    "# Create list with desired weekday filled.\n",
    "week_dummies = [0] * 7\n",
    "week_dummies[weekday] = 1\n",
    "del week_dummies[2] # Delete wednesday - not included in model due to dummy var trap\n",
    "print(\"Week dummies: \", week_dummies)\n",
    "\n",
    "# Get arrivaltime in seconds\n",
    "date = dt_time.date()\n",
    "date_unixtime = time.mktime(date.timetuple())\n",
    "seconds_since_midnight = int(time.mktime((dt_time - timedelta(seconds = date_unixtime)).timetuple()))\n",
    "print(\"Seconds since midnight (arrival time): \", seconds_since_midnight)\n"
   ]
  },
  {
   "cell_type": "code",
   "execution_count": 205,
   "metadata": {},
   "outputs": [
    {
     "data": {
      "text/plain": [
       "[40400, 0.5, 0, 1, 0, 0, 0, 0]"
      ]
     },
     "execution_count": 205,
     "metadata": {},
     "output_type": "execute_result"
    }
   ],
   "source": [
    "# Model inputs\n",
    "\n",
    "model_inputs = [seconds_since_midnight, rain] + week_dummies\n",
    "model_inputs"
   ]
  },
  {
   "cell_type": "code",
   "execution_count": 206,
   "metadata": {},
   "outputs": [
    {
     "name": "stdout",
     "output_type": "stream",
     "text": [
      "2018-07-09 13:55:02,793 INFO sqlalchemy.engine.base.Engine select version()\n",
      "2018-07-09 13:55:02,796 INFO sqlalchemy.engine.base.Engine {}\n",
      "2018-07-09 13:55:02,809 INFO sqlalchemy.engine.base.Engine select current_schema()\n",
      "2018-07-09 13:55:02,811 INFO sqlalchemy.engine.base.Engine {}\n",
      "2018-07-09 13:55:02,818 INFO sqlalchemy.engine.base.Engine SELECT CAST('test plain returns' AS VARCHAR(60)) AS anon_1\n",
      "2018-07-09 13:55:02,820 INFO sqlalchemy.engine.base.Engine {}\n",
      "2018-07-09 13:55:02,824 INFO sqlalchemy.engine.base.Engine SELECT CAST('test unicode returns' AS VARCHAR(60)) AS anon_1\n",
      "2018-07-09 13:55:02,826 INFO sqlalchemy.engine.base.Engine {}\n",
      "2018-07-09 13:55:02,832 INFO sqlalchemy.engine.base.Engine show standard_conforming_strings\n",
      "2018-07-09 13:55:02,834 INFO sqlalchemy.engine.base.Engine {}\n",
      "2018-07-09 13:55:02,844 INFO sqlalchemy.engine.base.Engine select relname from pg_class c join pg_namespace n on n.oid=c.relnamespace where pg_catalog.pg_table_is_visible(c.oid) and relname=%(name)s\n",
      "2018-07-09 13:55:02,847 INFO sqlalchemy.engine.base.Engine {'name': \"\\n\\nSELECT * \\nFROM main_routes \\nWHERE routeid IN (\\n    SELECT UNNEST(routes) \\n    FROM main_lines \\n    WHERE main_lines.lineid = '17'\\n) \\nAND '765' = ANY(main_routes.stopids) \\nAND '1035' = ANY(main_routes.stopids) \\n;\\n\\n\"}\n",
      "2018-07-09 13:55:02,853 INFO sqlalchemy.engine.base.Engine \n",
      "\n",
      "SELECT * \n",
      "FROM main_routes \n",
      "WHERE routeid IN (\n",
      "    SELECT UNNEST(routes) \n",
      "    FROM main_lines \n",
      "    WHERE main_lines.lineid = '17'\n",
      ") \n",
      "AND '765' = ANY(main_routes.stopids) \n",
      "AND '1035' = ANY(main_routes.stopids) \n",
      ";\n",
      "\n",
      "\n",
      "2018-07-09 13:55:02,854 INFO sqlalchemy.engine.base.Engine {}\n"
     ]
    }
   ],
   "source": [
    "# Get stop lists associated with this lineid, start stop and end stop\n",
    "\n",
    "sql = \"\"\"\n",
    "\n",
    "SELECT * \n",
    "FROM main_routes \n",
    "WHERE routeid IN (\n",
    "    SELECT UNNEST(routes) \n",
    "    FROM main_lines \n",
    "    WHERE main_lines.lineid = '{0}'\n",
    ") \n",
    "AND '{1}' = ANY(main_routes.stopids) \n",
    "AND '{2}' = ANY(main_routes.stopids) \n",
    ";\n",
    "\n",
    "\"\"\".format(lineid, start, destination)\n",
    "\n",
    "routes = pd.read_sql(sql, engine)\n",
    "\n",
    "# Lines.objects.all\n",
    "# Routes.objects.all(routeid )"
   ]
  },
  {
   "cell_type": "code",
   "execution_count": 207,
   "metadata": {},
   "outputs": [
    {
     "data": {
      "text/html": [
       "<div>\n",
       "<style>\n",
       "    .dataframe thead tr:only-child th {\n",
       "        text-align: right;\n",
       "    }\n",
       "\n",
       "    .dataframe thead th {\n",
       "        text-align: left;\n",
       "    }\n",
       "\n",
       "    .dataframe tbody tr th {\n",
       "        vertical-align: top;\n",
       "    }\n",
       "</style>\n",
       "<table border=\"1\" class=\"dataframe\">\n",
       "  <thead>\n",
       "    <tr style=\"text-align: right;\">\n",
       "      <th></th>\n",
       "      <th>routeid</th>\n",
       "      <th>direction</th>\n",
       "      <th>stopids</th>\n",
       "    </tr>\n",
       "  </thead>\n",
       "  <tbody>\n",
       "    <tr>\n",
       "      <th>0</th>\n",
       "      <td>17_15</td>\n",
       "      <td>2</td>\n",
       "      <td>[3085, 3082, 3083, 430, 431, 432, 433, 434, 20...</td>\n",
       "    </tr>\n",
       "    <tr>\n",
       "      <th>1</th>\n",
       "      <td>17_17</td>\n",
       "      <td>2</td>\n",
       "      <td>[4391, 765, 867, 869, 870, 873, 874, 875, 876,...</td>\n",
       "    </tr>\n",
       "    <tr>\n",
       "      <th>2</th>\n",
       "      <td>17_18</td>\n",
       "      <td>2</td>\n",
       "      <td>[4391, 765, 867, 869, 870, 873, 874, 875, 876,...</td>\n",
       "    </tr>\n",
       "  </tbody>\n",
       "</table>\n",
       "</div>"
      ],
      "text/plain": [
       "  routeid  direction                                            stopids\n",
       "0   17_15          2  [3085, 3082, 3083, 430, 431, 432, 433, 434, 20...\n",
       "1   17_17          2  [4391, 765, 867, 869, 870, 873, 874, 875, 876,...\n",
       "2   17_18          2  [4391, 765, 867, 869, 870, 873, 874, 875, 876,..."
      ]
     },
     "execution_count": 207,
     "metadata": {},
     "output_type": "execute_result"
    }
   ],
   "source": [
    "routes"
   ]
  },
  {
   "cell_type": "code",
   "execution_count": 208,
   "metadata": {},
   "outputs": [
    {
     "name": "stdout",
     "output_type": "stream",
     "text": [
      "Error: multiple possible routes.\n",
      "  routeid  direction                                            stopids\n",
      "0   17_15          2  [3085, 3082, 3083, 430, 431, 432, 433, 434, 20...\n",
      "1   17_17          2  [4391, 765, 867, 869, 870, 873, 874, 875, 876,...\n",
      "2   17_18          2  [4391, 765, 867, 869, 870, 873, 874, 875, 876,...\n"
     ]
    }
   ],
   "source": [
    "if routes.shape[0] > 1:\n",
    "    print(\"Error: multiple possible routes.\")\n",
    "    print(routes)"
   ]
  },
  {
   "cell_type": "code",
   "execution_count": 209,
   "metadata": {},
   "outputs": [
    {
     "name": "stdout",
     "output_type": "stream",
     "text": [
      "[3085, 3082, 3083, 430, 431, 432, 433, 434, 2068, 2069, 2070, 2084, 4391, 765, 867, 869, 870, 873, 874, 875, 876, 3011, 2820, 2822, 2823, 5032, 2867, 1035, 1314, 1316, 1315, 1317, 1318, 1319, 1281, 1329, 1330, 1331, 1332, 1333, 1334, 1335, 1336, 1086, 1087, 1088, 1089, 1090, 2413, 2414, 2415, 2327, 2464, 2465, 2466, 3360, 1392, 1394, 1395, 3361, 3362, 1436, 3952, 2190, 1366, 1367]\n"
     ]
    }
   ],
   "source": [
    "# Convert list of stopids to list\n",
    "\n",
    "stop_list = routes['stopids'].tolist()[0]\n",
    "print(stop_list)"
   ]
  },
  {
   "cell_type": "code",
   "execution_count": 210,
   "metadata": {},
   "outputs": [
    {
     "name": "stdout",
     "output_type": "stream",
     "text": [
      "[765, 867, 869, 870, 873, 874, 875, 876, 3011, 2820, 2822, 2823, 5032, 2867, 1035]\n"
     ]
    }
   ],
   "source": [
    "# Slice list by start and destination stop\n",
    "\n",
    "journey_stops = stop_list[stop_list.index(int(start)):(stop_list.index(int(destination))+1)]\n",
    "print(journey_stops)"
   ]
  },
  {
   "cell_type": "code",
   "execution_count": 211,
   "metadata": {},
   "outputs": [
    {
     "name": "stdout",
     "output_type": "stream",
     "text": [
      "['765_867', '867_869', '869_870', '870_873', '873_874', '874_875', '875_876', '876_3011', '3011_2820', '2820_2822', '2822_2823', '2823_5032', '5032_2867', '2867_1035']\n"
     ]
    }
   ],
   "source": [
    "# Change each stopid into string\n",
    "stringified = list(map(str, journey_stops))\n",
    "\n",
    "# Zip ['0', .. 'n'] and ['1', .., 'n'] into list [('0', '1'), .., ('n - 1', 'n')]\n",
    "# Join tuples to make ['1_2', .., 'n-1_n']\n",
    "journey_segments = [ '_'.join(x) for x in zip(stringified[0:], stringified[1:])]\n",
    "print(journey_segments)"
   ]
  },
  {
   "cell_type": "code",
   "execution_count": 212,
   "metadata": {},
   "outputs": [
    {
     "name": "stdout",
     "output_type": "stream",
     "text": [
      "2018-07-09 13:55:46,722 INFO sqlalchemy.engine.base.Engine select relname from pg_class c join pg_namespace n on n.oid=c.relnamespace where pg_catalog.pg_table_is_visible(c.oid) and relname=%(name)s\n",
      "2018-07-09 13:55:46,723 INFO sqlalchemy.engine.base.Engine {'name': \"\\n\\nSELECT *\\nFROM main_coefficients\\nWHERE segment = ANY(ARRAY['765_867', '867_869', '869_870', '870_873', '873_874', '874_875', '875_876', '876_3011', '3011_2820', '2820_2822', '2822_2823', '2823_5032', '5032_2867', '2867_1035'])\\n\\n\"}\n",
      "2018-07-09 13:55:46,735 INFO sqlalchemy.engine.base.Engine \n",
      "\n",
      "SELECT *\n",
      "FROM main_coefficients\n",
      "WHERE segment = ANY(ARRAY['765_867', '867_869', '869_870', '870_873', '873_874', '874_875', '875_876', '876_3011', '3011_2820', '2820_2822', '2822_2823', '2823_5032', '5032_2867', '2867_1035'])\n",
      "\n",
      "\n",
      "2018-07-09 13:55:46,736 INFO sqlalchemy.engine.base.Engine {}\n"
     ]
    }
   ],
   "source": [
    "# Select coefficient rows with these segment ids\n",
    "\n",
    "sql2 = \"\"\"\n",
    "\n",
    "SELECT *\n",
    "FROM main_coefficients\n",
    "WHERE segment = ANY(ARRAY{0})\n",
    "\n",
    "\"\"\".format(journey_segments)\n",
    "\n",
    "coefficients = pd.read_sql(sql2, engine)"
   ]
  },
  {
   "cell_type": "code",
   "execution_count": 213,
   "metadata": {},
   "outputs": [
    {
     "data": {
      "text/html": [
       "<div>\n",
       "<style>\n",
       "    .dataframe thead tr:only-child th {\n",
       "        text-align: right;\n",
       "    }\n",
       "\n",
       "    .dataframe thead th {\n",
       "        text-align: left;\n",
       "    }\n",
       "\n",
       "    .dataframe tbody tr th {\n",
       "        vertical-align: top;\n",
       "    }\n",
       "</style>\n",
       "<table border=\"1\" class=\"dataframe\">\n",
       "  <thead>\n",
       "    <tr style=\"text-align: right;\">\n",
       "      <th></th>\n",
       "      <th>segment</th>\n",
       "      <th>intercept</th>\n",
       "      <th>arrivaltime</th>\n",
       "      <th>rain</th>\n",
       "      <th>dayofweek_Friday</th>\n",
       "      <th>dayofweek_Monday</th>\n",
       "      <th>dayofweek_Saturday</th>\n",
       "      <th>dayofweek_Sunday</th>\n",
       "      <th>dayofweek_Thursday</th>\n",
       "      <th>dayofweek_Tuesday</th>\n",
       "    </tr>\n",
       "  </thead>\n",
       "  <tbody>\n",
       "    <tr>\n",
       "      <th>0</th>\n",
       "      <td>5032_2867</td>\n",
       "      <td>147.715267</td>\n",
       "      <td>-0.000223</td>\n",
       "      <td>1.381925</td>\n",
       "      <td>0.100805</td>\n",
       "      <td>-1.800103</td>\n",
       "      <td>-14.525151</td>\n",
       "      <td>-15.889108</td>\n",
       "      <td>-3.611345</td>\n",
       "      <td>-0.004672</td>\n",
       "    </tr>\n",
       "    <tr>\n",
       "      <th>1</th>\n",
       "      <td>870_873</td>\n",
       "      <td>30.550306</td>\n",
       "      <td>-0.000047</td>\n",
       "      <td>0.258867</td>\n",
       "      <td>-1.686536</td>\n",
       "      <td>0.070722</td>\n",
       "      <td>-3.083970</td>\n",
       "      <td>-1.879405</td>\n",
       "      <td>0.007767</td>\n",
       "      <td>-0.377671</td>\n",
       "    </tr>\n",
       "    <tr>\n",
       "      <th>2</th>\n",
       "      <td>874_875</td>\n",
       "      <td>78.153434</td>\n",
       "      <td>-0.000397</td>\n",
       "      <td>2.809119</td>\n",
       "      <td>-1.631592</td>\n",
       "      <td>-0.130980</td>\n",
       "      <td>-20.270857</td>\n",
       "      <td>-18.347582</td>\n",
       "      <td>-1.072653</td>\n",
       "      <td>-7.381753</td>\n",
       "    </tr>\n",
       "    <tr>\n",
       "      <th>3</th>\n",
       "      <td>867_869</td>\n",
       "      <td>43.829241</td>\n",
       "      <td>0.000031</td>\n",
       "      <td>-0.536599</td>\n",
       "      <td>-5.059220</td>\n",
       "      <td>-0.482129</td>\n",
       "      <td>-8.837530</td>\n",
       "      <td>-4.597139</td>\n",
       "      <td>-2.126799</td>\n",
       "      <td>-1.798628</td>\n",
       "    </tr>\n",
       "    <tr>\n",
       "      <th>4</th>\n",
       "      <td>2823_5032</td>\n",
       "      <td>30.768614</td>\n",
       "      <td>0.000134</td>\n",
       "      <td>1.205180</td>\n",
       "      <td>-1.167154</td>\n",
       "      <td>-3.805998</td>\n",
       "      <td>-12.434130</td>\n",
       "      <td>-13.667080</td>\n",
       "      <td>-3.629655</td>\n",
       "      <td>-2.244374</td>\n",
       "    </tr>\n",
       "  </tbody>\n",
       "</table>\n",
       "</div>"
      ],
      "text/plain": [
       "     segment   intercept  arrivaltime      rain  dayofweek_Friday  \\\n",
       "0  5032_2867  147.715267    -0.000223  1.381925          0.100805   \n",
       "1    870_873   30.550306    -0.000047  0.258867         -1.686536   \n",
       "2    874_875   78.153434    -0.000397  2.809119         -1.631592   \n",
       "3    867_869   43.829241     0.000031 -0.536599         -5.059220   \n",
       "4  2823_5032   30.768614     0.000134  1.205180         -1.167154   \n",
       "\n",
       "   dayofweek_Monday  dayofweek_Saturday  dayofweek_Sunday  dayofweek_Thursday  \\\n",
       "0         -1.800103          -14.525151        -15.889108           -3.611345   \n",
       "1          0.070722           -3.083970         -1.879405            0.007767   \n",
       "2         -0.130980          -20.270857        -18.347582           -1.072653   \n",
       "3         -0.482129           -8.837530         -4.597139           -2.126799   \n",
       "4         -3.805998          -12.434130        -13.667080           -3.629655   \n",
       "\n",
       "   dayofweek_Tuesday  \n",
       "0          -0.004672  \n",
       "1          -0.377671  \n",
       "2          -7.381753  \n",
       "3          -1.798628  \n",
       "4          -2.244374  "
      ]
     },
     "execution_count": 213,
     "metadata": {},
     "output_type": "execute_result"
    }
   ],
   "source": [
    "coefficients.head(5)"
   ]
  },
  {
   "cell_type": "code",
   "execution_count": 214,
   "metadata": {},
   "outputs": [
    {
     "data": {
      "text/html": [
       "<div>\n",
       "<style>\n",
       "    .dataframe thead tr:only-child th {\n",
       "        text-align: right;\n",
       "    }\n",
       "\n",
       "    .dataframe thead th {\n",
       "        text-align: left;\n",
       "    }\n",
       "\n",
       "    .dataframe tbody tr th {\n",
       "        vertical-align: top;\n",
       "    }\n",
       "</style>\n",
       "<table border=\"1\" class=\"dataframe\">\n",
       "  <thead>\n",
       "    <tr style=\"text-align: right;\">\n",
       "      <th></th>\n",
       "      <th>segment</th>\n",
       "      <th>intercept</th>\n",
       "      <th>arrivaltime</th>\n",
       "      <th>rain</th>\n",
       "      <th>dayofweek_Friday</th>\n",
       "      <th>dayofweek_Monday</th>\n",
       "      <th>dayofweek_Saturday</th>\n",
       "      <th>dayofweek_Sunday</th>\n",
       "      <th>dayofweek_Thursday</th>\n",
       "      <th>dayofweek_Tuesday</th>\n",
       "    </tr>\n",
       "  </thead>\n",
       "  <tbody>\n",
       "    <tr>\n",
       "      <th>9</th>\n",
       "      <td>765_867</td>\n",
       "      <td>156.686976</td>\n",
       "      <td>-0.000134</td>\n",
       "      <td>-2.035997</td>\n",
       "      <td>-0.152052</td>\n",
       "      <td>-1.243961</td>\n",
       "      <td>-14.716208</td>\n",
       "      <td>-11.773520</td>\n",
       "      <td>0.277127</td>\n",
       "      <td>0.202350</td>\n",
       "    </tr>\n",
       "    <tr>\n",
       "      <th>3</th>\n",
       "      <td>867_869</td>\n",
       "      <td>43.829241</td>\n",
       "      <td>0.000031</td>\n",
       "      <td>-0.536599</td>\n",
       "      <td>-5.059220</td>\n",
       "      <td>-0.482129</td>\n",
       "      <td>-8.837530</td>\n",
       "      <td>-4.597139</td>\n",
       "      <td>-2.126799</td>\n",
       "      <td>-1.798628</td>\n",
       "    </tr>\n",
       "    <tr>\n",
       "      <th>10</th>\n",
       "      <td>869_870</td>\n",
       "      <td>28.661684</td>\n",
       "      <td>0.000004</td>\n",
       "      <td>0.131681</td>\n",
       "      <td>-0.660243</td>\n",
       "      <td>-0.223720</td>\n",
       "      <td>-2.750362</td>\n",
       "      <td>-4.323592</td>\n",
       "      <td>1.036157</td>\n",
       "      <td>-1.407403</td>\n",
       "    </tr>\n",
       "    <tr>\n",
       "      <th>1</th>\n",
       "      <td>870_873</td>\n",
       "      <td>30.550306</td>\n",
       "      <td>-0.000047</td>\n",
       "      <td>0.258867</td>\n",
       "      <td>-1.686536</td>\n",
       "      <td>0.070722</td>\n",
       "      <td>-3.083970</td>\n",
       "      <td>-1.879405</td>\n",
       "      <td>0.007767</td>\n",
       "      <td>-0.377671</td>\n",
       "    </tr>\n",
       "    <tr>\n",
       "      <th>8</th>\n",
       "      <td>873_874</td>\n",
       "      <td>76.985275</td>\n",
       "      <td>-0.000387</td>\n",
       "      <td>4.333352</td>\n",
       "      <td>-5.395845</td>\n",
       "      <td>-4.786822</td>\n",
       "      <td>-14.946799</td>\n",
       "      <td>-10.594033</td>\n",
       "      <td>-4.262079</td>\n",
       "      <td>-6.799442</td>\n",
       "    </tr>\n",
       "  </tbody>\n",
       "</table>\n",
       "</div>"
      ],
      "text/plain": [
       "    segment   intercept  arrivaltime      rain  dayofweek_Friday  \\\n",
       "9   765_867  156.686976    -0.000134 -2.035997         -0.152052   \n",
       "3   867_869   43.829241     0.000031 -0.536599         -5.059220   \n",
       "10  869_870   28.661684     0.000004  0.131681         -0.660243   \n",
       "1   870_873   30.550306    -0.000047  0.258867         -1.686536   \n",
       "8   873_874   76.985275    -0.000387  4.333352         -5.395845   \n",
       "\n",
       "    dayofweek_Monday  dayofweek_Saturday  dayofweek_Sunday  \\\n",
       "9          -1.243961          -14.716208        -11.773520   \n",
       "3          -0.482129           -8.837530         -4.597139   \n",
       "10         -0.223720           -2.750362         -4.323592   \n",
       "1           0.070722           -3.083970         -1.879405   \n",
       "8          -4.786822          -14.946799        -10.594033   \n",
       "\n",
       "    dayofweek_Thursday  dayofweek_Tuesday  \n",
       "9             0.277127           0.202350  \n",
       "3            -2.126799          -1.798628  \n",
       "10            1.036157          -1.407403  \n",
       "1             0.007767          -0.377671  \n",
       "8            -4.262079          -6.799442  "
      ]
     },
     "execution_count": 214,
     "metadata": {},
     "output_type": "execute_result"
    }
   ],
   "source": [
    "# Sort values by journey_segment segmentid\n",
    "\n",
    "coefficients['segment'] = coefficients['segment'].astype(\"category\")\n",
    "coefficients['segment'].cat.set_categories(journey_segments, inplace=True)\n",
    "coefficients = coefficients.sort_values([\"segment\"])\n",
    "coefficients.head(5)"
   ]
  },
  {
   "cell_type": "code",
   "execution_count": 215,
   "metadata": {},
   "outputs": [
    {
     "data": {
      "text/html": [
       "<div>\n",
       "<style>\n",
       "    .dataframe thead tr:only-child th {\n",
       "        text-align: right;\n",
       "    }\n",
       "\n",
       "    .dataframe thead th {\n",
       "        text-align: left;\n",
       "    }\n",
       "\n",
       "    .dataframe tbody tr th {\n",
       "        vertical-align: top;\n",
       "    }\n",
       "</style>\n",
       "<table border=\"1\" class=\"dataframe\">\n",
       "  <thead>\n",
       "    <tr style=\"text-align: right;\">\n",
       "      <th></th>\n",
       "      <th>intercept</th>\n",
       "      <th>arrivaltime</th>\n",
       "      <th>rain</th>\n",
       "      <th>dayofweek_Monday</th>\n",
       "      <th>dayofweek_Tuesday</th>\n",
       "      <th>dayofweek_Thursday</th>\n",
       "      <th>dayofweek_Friday</th>\n",
       "      <th>dayofweek_Saturday</th>\n",
       "      <th>dayofweek_Sunday</th>\n",
       "    </tr>\n",
       "    <tr>\n",
       "      <th>segment</th>\n",
       "      <th></th>\n",
       "      <th></th>\n",
       "      <th></th>\n",
       "      <th></th>\n",
       "      <th></th>\n",
       "      <th></th>\n",
       "      <th></th>\n",
       "      <th></th>\n",
       "      <th></th>\n",
       "    </tr>\n",
       "  </thead>\n",
       "  <tbody>\n",
       "    <tr>\n",
       "      <th>765_867</th>\n",
       "      <td>156.686976</td>\n",
       "      <td>-0.000134</td>\n",
       "      <td>-2.035997</td>\n",
       "      <td>-1.243961</td>\n",
       "      <td>0.202350</td>\n",
       "      <td>0.277127</td>\n",
       "      <td>-0.152052</td>\n",
       "      <td>-14.716208</td>\n",
       "      <td>-11.773520</td>\n",
       "    </tr>\n",
       "    <tr>\n",
       "      <th>867_869</th>\n",
       "      <td>43.829241</td>\n",
       "      <td>0.000031</td>\n",
       "      <td>-0.536599</td>\n",
       "      <td>-0.482129</td>\n",
       "      <td>-1.798628</td>\n",
       "      <td>-2.126799</td>\n",
       "      <td>-5.059220</td>\n",
       "      <td>-8.837530</td>\n",
       "      <td>-4.597139</td>\n",
       "    </tr>\n",
       "    <tr>\n",
       "      <th>869_870</th>\n",
       "      <td>28.661684</td>\n",
       "      <td>0.000004</td>\n",
       "      <td>0.131681</td>\n",
       "      <td>-0.223720</td>\n",
       "      <td>-1.407403</td>\n",
       "      <td>1.036157</td>\n",
       "      <td>-0.660243</td>\n",
       "      <td>-2.750362</td>\n",
       "      <td>-4.323592</td>\n",
       "    </tr>\n",
       "    <tr>\n",
       "      <th>870_873</th>\n",
       "      <td>30.550306</td>\n",
       "      <td>-0.000047</td>\n",
       "      <td>0.258867</td>\n",
       "      <td>0.070722</td>\n",
       "      <td>-0.377671</td>\n",
       "      <td>0.007767</td>\n",
       "      <td>-1.686536</td>\n",
       "      <td>-3.083970</td>\n",
       "      <td>-1.879405</td>\n",
       "    </tr>\n",
       "    <tr>\n",
       "      <th>873_874</th>\n",
       "      <td>76.985275</td>\n",
       "      <td>-0.000387</td>\n",
       "      <td>4.333352</td>\n",
       "      <td>-4.786822</td>\n",
       "      <td>-6.799442</td>\n",
       "      <td>-4.262079</td>\n",
       "      <td>-5.395845</td>\n",
       "      <td>-14.946799</td>\n",
       "      <td>-10.594033</td>\n",
       "    </tr>\n",
       "  </tbody>\n",
       "</table>\n",
       "</div>"
      ],
      "text/plain": [
       "          intercept  arrivaltime      rain  dayofweek_Monday  \\\n",
       "segment                                                        \n",
       "765_867  156.686976    -0.000134 -2.035997         -1.243961   \n",
       "867_869   43.829241     0.000031 -0.536599         -0.482129   \n",
       "869_870   28.661684     0.000004  0.131681         -0.223720   \n",
       "870_873   30.550306    -0.000047  0.258867          0.070722   \n",
       "873_874   76.985275    -0.000387  4.333352         -4.786822   \n",
       "\n",
       "         dayofweek_Tuesday  dayofweek_Thursday  dayofweek_Friday  \\\n",
       "segment                                                            \n",
       "765_867           0.202350            0.277127         -0.152052   \n",
       "867_869          -1.798628           -2.126799         -5.059220   \n",
       "869_870          -1.407403            1.036157         -0.660243   \n",
       "870_873          -0.377671            0.007767         -1.686536   \n",
       "873_874          -6.799442           -4.262079         -5.395845   \n",
       "\n",
       "         dayofweek_Saturday  dayofweek_Sunday  \n",
       "segment                                        \n",
       "765_867          -14.716208        -11.773520  \n",
       "867_869           -8.837530         -4.597139  \n",
       "869_870           -2.750362         -4.323592  \n",
       "870_873           -3.083970         -1.879405  \n",
       "873_874          -14.946799        -10.594033  "
      ]
     },
     "execution_count": 215,
     "metadata": {},
     "output_type": "execute_result"
    }
   ],
   "source": [
    "# Rearrange columns and set segment id as index\n",
    "\n",
    "coefficients = coefficients[[\"segment\", \"intercept\", \"arrivaltime\", \"rain\", \"dayofweek_Monday\", \"dayofweek_Tuesday\", \n",
    "                        \"dayofweek_Thursday\", \"dayofweek_Friday\", \"dayofweek_Saturday\", \"dayofweek_Sunday\"]]\n",
    "coefficients = coefficients.set_index('segment')\n",
    "coefficients.head(5)"
   ]
  },
  {
   "cell_type": "code",
   "execution_count": 216,
   "metadata": {},
   "outputs": [
    {
     "name": "stdout",
     "output_type": "stream",
     "text": [
      "Arrival Time: 41261\n",
      "Total Travel Time: 861\n"
     ]
    },
    {
     "data": {
      "text/plain": [
       "[('765_867', 149.0),\n",
       " ('867_869', 44.0),\n",
       " ('869_870', 29.0),\n",
       " ('870_873', 29.0),\n",
       " ('873_874', 59.0),\n",
       " ('874_875', 63.0),\n",
       " ('875_876', 55.0),\n",
       " ('876_3011', 68.0),\n",
       " ('3011_2820', 44.0),\n",
       " ('2820_2822', 39.0),\n",
       " ('2822_2823', 51.0),\n",
       " ('2823_5032', 33.0),\n",
       " ('5032_2867', 137.0),\n",
       " ('2867_1035', 61.0)]"
      ]
     },
     "execution_count": 216,
     "metadata": {},
     "output_type": "execute_result"
    }
   ],
   "source": [
    "arrivaltime = model_inputs[0]\n",
    "totaltraveltime = 0\n",
    "segment_times = []\n",
    "\n",
    "for i, rows in coefficients.iterrows():\n",
    "    traveltime = (rows['intercept']\n",
    "                  +(rows['arrivaltime']*arrivaltime)\n",
    "                  +(rows['rain']*model_inputs[1])\n",
    "                  +(rows['dayofweek_Friday']*model_inputs[2])\n",
    "                  +(rows['dayofweek_Monday']*model_inputs[3])\n",
    "                  +(rows['dayofweek_Saturday']*model_inputs[4])\n",
    "                  +(rows['dayofweek_Sunday']*model_inputs[5])\n",
    "                  +(rows['dayofweek_Thursday']*model_inputs[6])\n",
    "                  +(rows['dayofweek_Tuesday']*model_inputs[7]))\n",
    "    \n",
    "    segment_times.append((i, round(traveltime)))\n",
    "    totaltraveltime += traveltime\n",
    "    arrivaltime = model_inputs[0] + totaltraveltime # initial start time + sum of previous segment times\n",
    "        \n",
    "print('Arrival Time:', int(arrivaltime))\n",
    "print('Total Travel Time:', int(totaltraveltime))\n",
    "#print('Segment Times:', segment_times)\n",
    "segment_times"
   ]
  },
  {
   "cell_type": "code",
   "execution_count": 217,
   "metadata": {},
   "outputs": [
    {
     "name": "stdout",
     "output_type": "stream",
     "text": [
      "861.0\n"
     ]
    }
   ],
   "source": [
    "total = 0\n",
    "for i in segment_times:\n",
    "    total += i[1]\n",
    "    \n",
    "print(total)"
   ]
  },
  {
   "cell_type": "code",
   "execution_count": 218,
   "metadata": {},
   "outputs": [],
   "source": [
    "# Construct json\n",
    "\n",
    "json_dict = {}\n",
    "json_dict['arrivaltime'] = round(arrivaltime)\n",
    "json_dict['totaltraveltime'] = round(totaltraveltime)\n",
    "json_dict['segment_times'] = {i[0]:i[1] for i in segment_times}\n",
    "\n",
    "# for i in segment_times:\n",
    "#     json_dict['segment_times'][i[0]] = i[1]"
   ]
  },
  {
   "cell_type": "code",
   "execution_count": 219,
   "metadata": {},
   "outputs": [
    {
     "data": {
      "text/plain": [
       "'{\"arrivaltime\": 41261.0, \"totaltraveltime\": 861.0, \"segment_times\": {\"765_867\": 149.0, \"867_869\": 44.0, \"869_870\": 29.0, \"870_873\": 29.0, \"873_874\": 59.0, \"874_875\": 63.0, \"875_876\": 55.0, \"876_3011\": 68.0, \"3011_2820\": 44.0, \"2820_2822\": 39.0, \"2822_2823\": 51.0, \"2823_5032\": 33.0, \"5032_2867\": 137.0, \"2867_1035\": 61.0}}'"
      ]
     },
     "execution_count": 219,
     "metadata": {},
     "output_type": "execute_result"
    }
   ],
   "source": [
    "json.dumps(json_dict)"
   ]
  },
  {
   "cell_type": "code",
   "execution_count": null,
   "metadata": {},
   "outputs": [],
   "source": []
  }
 ],
 "metadata": {
  "kernelspec": {
   "display_name": "Python 3",
   "language": "python",
   "name": "python3"
  },
  "language_info": {
   "codemirror_mode": {
    "name": "ipython",
    "version": 3
   },
   "file_extension": ".py",
   "mimetype": "text/x-python",
   "name": "python",
   "nbconvert_exporter": "python",
   "pygments_lexer": "ipython3",
   "version": "3.6.3"
  }
 },
 "nbformat": 4,
 "nbformat_minor": 2
}
