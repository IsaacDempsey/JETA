{
 "cells": [
  {
   "cell_type": "code",
   "execution_count": 67,
   "metadata": {
    "collapsed": true
   },
   "outputs": [],
   "source": [
    "import pandas as pd\n",
    "import numpy as np\n",
    "from sqlalchemy import create_engine"
   ]
  },
  {
   "cell_type": "code",
   "execution_count": 68,
   "metadata": {},
   "outputs": [],
   "source": [
    "# Read weather data into dataframe\n",
    "\n",
    "URI=\"localhost\"\n",
    "PORT=\"5433\"\n",
    "DB=\"jetaDb\"\n",
    "PORT=\"5433\"\n",
    "USER=\"postgres\"\n",
    "PASSWORD='00001234'\n",
    "\n",
    "engine = create_engine(\"postgresql://{}:{}@{}:{}/{}\".format(USER,PASSWORD,URI,PORT,DB), echo=True)"
   ]
  },
  {
   "cell_type": "code",
   "execution_count": 69,
   "metadata": {},
   "outputs": [
    {
     "name": "stdout",
     "output_type": "stream",
     "text": [
      "2018-07-18 13:51:31,889 INFO sqlalchemy.engine.base.Engine select version()\n",
      "2018-07-18 13:51:31,891 INFO sqlalchemy.engine.base.Engine {}\n",
      "2018-07-18 13:51:31,952 INFO sqlalchemy.engine.base.Engine select current_schema()\n",
      "2018-07-18 13:51:31,954 INFO sqlalchemy.engine.base.Engine {}\n",
      "2018-07-18 13:51:32,024 INFO sqlalchemy.engine.base.Engine SELECT CAST('test plain returns' AS VARCHAR(60)) AS anon_1\n",
      "2018-07-18 13:51:32,033 INFO sqlalchemy.engine.base.Engine {}\n",
      "2018-07-18 13:51:32,159 INFO sqlalchemy.engine.base.Engine SELECT CAST('test unicode returns' AS VARCHAR(60)) AS anon_1\n",
      "2018-07-18 13:51:32,162 INFO sqlalchemy.engine.base.Engine {}\n",
      "2018-07-18 13:51:32,376 INFO sqlalchemy.engine.base.Engine show standard_conforming_strings\n",
      "2018-07-18 13:51:32,379 INFO sqlalchemy.engine.base.Engine {}\n",
      "2018-07-18 13:51:32,450 INFO sqlalchemy.engine.base.Engine select relname from pg_class c join pg_namespace n on n.oid=c.relnamespace where pg_catalog.pg_table_is_visible(c.oid) and relname=%(name)s\n",
      "2018-07-18 13:51:32,454 INFO sqlalchemy.engine.base.Engine {'name': 'SELECT * FROM main_stops'}\n",
      "2018-07-18 13:51:32,510 INFO sqlalchemy.engine.base.Engine SELECT * FROM main_stops\n",
      "2018-07-18 13:51:32,515 INFO sqlalchemy.engine.base.Engine {}\n"
     ]
    }
   ],
   "source": [
    "sql = \"SELECT * FROM main_stops\"\n",
    "\n",
    "stops = pd.read_sql(sql, engine)"
   ]
  },
  {
   "cell_type": "code",
   "execution_count": 70,
   "metadata": {},
   "outputs": [
    {
     "data": {
      "text/html": [
       "<div>\n",
       "<style scoped>\n",
       "    .dataframe tbody tr th:only-of-type {\n",
       "        vertical-align: middle;\n",
       "    }\n",
       "\n",
       "    .dataframe tbody tr th {\n",
       "        vertical-align: top;\n",
       "    }\n",
       "\n",
       "    .dataframe thead th {\n",
       "        text-align: right;\n",
       "    }\n",
       "</style>\n",
       "<table border=\"1\" class=\"dataframe\">\n",
       "  <thead>\n",
       "    <tr style=\"text-align: right;\">\n",
       "      <th></th>\n",
       "      <th>stopid</th>\n",
       "      <th>address</th>\n",
       "      <th>lat</th>\n",
       "      <th>lng</th>\n",
       "      <th>lines</th>\n",
       "      <th>city_centre</th>\n",
       "    </tr>\n",
       "  </thead>\n",
       "  <tbody>\n",
       "    <tr>\n",
       "      <th>0</th>\n",
       "      <td>2</td>\n",
       "      <td>Rotunda, Parnell Square West</td>\n",
       "      <td>53.352241</td>\n",
       "      <td>-6.263695</td>\n",
       "      <td>[38B, 38D, 38, 38A, 46A, 46E]</td>\n",
       "      <td>0</td>\n",
       "    </tr>\n",
       "    <tr>\n",
       "      <th>1</th>\n",
       "      <td>3</td>\n",
       "      <td>Rotunda, Granby Place</td>\n",
       "      <td>53.352307</td>\n",
       "      <td>-6.263783</td>\n",
       "      <td>[122, 120]</td>\n",
       "      <td>0</td>\n",
       "    </tr>\n",
       "    <tr>\n",
       "      <th>2</th>\n",
       "      <td>4</td>\n",
       "      <td>Rotunda, Rotunda Hospital</td>\n",
       "      <td>53.352567</td>\n",
       "      <td>-6.264166</td>\n",
       "      <td>[7, 7B, 9, 7D, 7A]</td>\n",
       "      <td>0</td>\n",
       "    </tr>\n",
       "    <tr>\n",
       "      <th>3</th>\n",
       "      <td>6</td>\n",
       "      <td>Rotunda, Saint Martin's Chapel</td>\n",
       "      <td>53.352744</td>\n",
       "      <td>-6.264443</td>\n",
       "      <td>[4]</td>\n",
       "      <td>0</td>\n",
       "    </tr>\n",
       "    <tr>\n",
       "      <th>4</th>\n",
       "      <td>7</td>\n",
       "      <td>Rotunda, Rotunda Hospital</td>\n",
       "      <td>53.352836</td>\n",
       "      <td>-6.264562</td>\n",
       "      <td>[40, 140, 40D, 40B, 13]</td>\n",
       "      <td>0</td>\n",
       "    </tr>\n",
       "  </tbody>\n",
       "</table>\n",
       "</div>"
      ],
      "text/plain": [
       "   stopid                         address        lat       lng  \\\n",
       "0       2    Rotunda, Parnell Square West  53.352241 -6.263695   \n",
       "1       3           Rotunda, Granby Place  53.352307 -6.263783   \n",
       "2       4       Rotunda, Rotunda Hospital  53.352567 -6.264166   \n",
       "3       6  Rotunda, Saint Martin's Chapel  53.352744 -6.264443   \n",
       "4       7       Rotunda, Rotunda Hospital  53.352836 -6.264562   \n",
       "\n",
       "                           lines  city_centre  \n",
       "0  [38B, 38D, 38, 38A, 46A, 46E]            0  \n",
       "1                     [122, 120]            0  \n",
       "2             [7, 7B, 9, 7D, 7A]            0  \n",
       "3                            [4]            0  \n",
       "4        [40, 140, 40D, 40B, 13]            0  "
      ]
     },
     "execution_count": 70,
     "metadata": {},
     "output_type": "execute_result"
    }
   ],
   "source": [
    "stops.head(5)\n",
    "# Add city centre column, 0 will mean NOT in city centre\n",
    "stops['city_centre'] = 0\n",
    "stops.head(5)"
   ]
  },
  {
   "cell_type": "code",
   "execution_count": 71,
   "metadata": {},
   "outputs": [],
   "source": [
    "# df = pd.read_csv('/Users/ozmatron/Desktop/Analytics/summer/bus_stop_coord_clean.csv')\n",
    "# # Add city centre column, 0 will mean NOT in city centre\n",
    "# df['city_centre'] = 0\n",
    "# df.head(5)"
   ]
  },
  {
   "cell_type": "code",
   "execution_count": 72,
   "metadata": {},
   "outputs": [],
   "source": [
    "# A rectangle is chosen that contains all bus stops in the city centre, \n",
    "# roughly drawn between the Royal and Grand canals, coordinats are:\n",
    "\n",
    "bottom_left = [53.331986, -6.292722]\n",
    "bottom_right = [53.334034, -6.245183]\n",
    "\n",
    "top_left = [53.361551, -6.298236]\n",
    "top_right = [53.361860, -6.242419]\n",
    "\n",
    "# I ran tests with this on the Liffey coords:\n",
    "# bridge = [53.3537456234947, -6.2625054539801]\n"
   ]
  },
  {
   "cell_type": "code",
   "execution_count": 73,
   "metadata": {},
   "outputs": [
    {
     "name": "stderr",
     "output_type": "stream",
     "text": [
      "/anaconda3/lib/python3.6/site-packages/ipykernel_launcher.py:3: FutureWarning: set_value is deprecated and will be removed in a future release. Please use .at[] or .iat[] accessors instead\n",
      "  This is separate from the ipykernel package so we can avoid doing imports until\n"
     ]
    }
   ],
   "source": [
    "for index, row in stops.iterrows():\n",
    "    if (row['lat'] > bottom_left[0] and row['lat'] < top_left[0]) and (row['lng'] < bottom_right[1] and row['lng'] > top_left[1]):\n",
    "        stops.set_value(index, 'city_centre', 1)\n"
   ]
  },
  {
   "cell_type": "code",
   "execution_count": 79,
   "metadata": {},
   "outputs": [
    {
     "data": {
      "text/plain": [
       "(355, 6)"
      ]
     },
     "execution_count": 79,
     "metadata": {},
     "output_type": "execute_result"
    }
   ],
   "source": [
    "centre_stops = stops['city_centre'] == 1\n",
    "centre_stops = stops[centre_stops]\n",
    "centre_stops.shape"
   ]
  },
  {
   "cell_type": "code",
   "execution_count": 75,
   "metadata": {},
   "outputs": [
    {
     "data": {
      "text/plain": [
       "(4681, 6)"
      ]
     },
     "execution_count": 75,
     "metadata": {},
     "output_type": "execute_result"
    }
   ],
   "source": [
    "stops.shape"
   ]
  },
  {
   "cell_type": "code",
   "execution_count": null,
   "metadata": {},
   "outputs": [],
   "source": []
  },
  {
   "cell_type": "code",
   "execution_count": null,
   "metadata": {
    "collapsed": true
   },
   "outputs": [],
   "source": []
  }
 ],
 "metadata": {
  "kernelspec": {
   "display_name": "Python 3",
   "language": "python",
   "name": "python3"
  },
  "language_info": {
   "codemirror_mode": {
    "name": "ipython",
    "version": 3
   },
   "file_extension": ".py",
   "mimetype": "text/x-python",
   "name": "python",
   "nbconvert_exporter": "python",
   "pygments_lexer": "ipython3",
   "version": "3.6.3"
  }
 },
 "nbformat": 4,
 "nbformat_minor": 2
}
